{
 "cells": [
  {
   "cell_type": "markdown",
   "metadata": {},
   "source": [
    "# Find Subgraphs of NDEx Networks with Neighborhood Queries"
   ]
  },
  {
   "cell_type": "markdown",
   "metadata": {},
   "source": [
    "You can find subgraphs of NDEx networks based on queries in which a list of strings is applied to a network. The result returned is a CX network containing nodes whose names match one of the strings and nodes that are \"nearby\" in the network, the \"neighborhood\" subgraph. A common use for these queries is to find subgraphs of an interactome based on a list of gene names.\n",
    "\n",
    "This tutorial requires Python 3.6+ and the ndex2 module. \n",
    "\n",
    "See [the NDEx2 Client](https://github.com/ndexbio/ndex2-client) for installation instructions."
   ]
  },
  {
   "cell_type": "markdown",
   "metadata": {},
   "source": [
    "## Modules Required for this Tutorial"
   ]
  },
  {
   "cell_type": "code",
   "execution_count": null,
   "metadata": {},
   "outputs": [],
   "source": [
    "import ndex2.client as nc\n",
    "import ndex2\n",
    "import io\n",
    "import json\n",
    "from IPython.display import HTML\n",
    "from time import sleep"
   ]
  },
  {
   "cell_type": "markdown",
   "metadata": {},
   "source": [
    "## Configure an Anonymous NDEx Client\n",
    "We create an NDEx client object to access the NDEx public server anonymously, then test the client by getting the current server status."
   ]
  },
  {
   "cell_type": "code",
   "execution_count": null,
   "metadata": {},
   "outputs": [],
   "source": [
    "anon_ndex=nc.Ndex2(\"http://public.ndexbio.org\")\n",
    "anon_ndex.update_status()\n",
    "networks = anon_ndex.status.get(\"networkCount\")\n",
    "users = anon_ndex.status.get(\"userCount\")\n",
    "groups = anon_ndex.status.get(\"groupCount\")\n",
    "print(\"anon client: %s networks, %s users, %s groups\" % (networks, users, groups))"
   ]
  },
  {
   "cell_type": "markdown",
   "metadata": {},
   "source": [
    "### Load a Utility to Display Networks in the Notebook\n",
    "The cytoscape-jupyter-widget can display the query result networks.\n",
    "See [Cytoscape-jupyter-widget](https://github.com/cytoscape/cytoscape-jupyter-widget/blob/develop/examples/WidgetDemo1.ipynb) for installation instructions."
   ]
  },
  {
   "cell_type": "code",
   "execution_count": null,
   "metadata": {},
   "outputs": [],
   "source": [
    "from cyjupyter import Cytoscape"
   ]
  },
  {
   "cell_type": "code",
   "execution_count": null,
   "metadata": {},
   "outputs": [],
   "source": [
    "# A convenience function to summarize the CX returned by queries\n",
    "def print_cx_summary(cx):\n",
    "    number_of_nodes=0\n",
    "    number_of_edges=0\n",
    "    for aspect in cx:\n",
    "        if 'nodes' in aspect:\n",
    "            number_of_nodes = len(aspect['nodes'])\n",
    "        if 'edges' in aspect:\n",
    "            number_of_edges = len(aspect['edges'])\n",
    "\n",
    "    print(\"the network contains %s nodes and %s edges.\" % (number_of_nodes, number_of_edges))"
   ]
  },
  {
   "cell_type": "markdown",
   "metadata": {},
   "source": [
    "## Query Types\n",
    "The NDEx query service supports 5 types of query\n",
    "![Query Types](images/query-types.png)"
   ]
  },
  {
   "cell_type": "markdown",
   "metadata": {},
   "source": [
    "### Find a Reference Network to Query\n",
    "Search for networks in NDEx from the STRING database\n",
    "\n",
    "We will use the [STRING - Human Protein Links - High Confidence (Score > 0.7)](http://public.ndexbio.org/#/network/275bd84e-3d18-11e8-a935-0ac135e8bacf) as our example network\n"
   ]
  },
  {
   "cell_type": "code",
   "execution_count": null,
   "metadata": {},
   "outputs": [],
   "source": [
    "result_networks=anon_ndex.search_networks(search_string='STRING AND owner:\"string\"', size=10)\n",
    "print(\"%s networks found\" % (len(result_networks.get('networks'))))\n",
    "print(\"\\nNetworks:\\n\")\n",
    "for ns in result_networks.get('networks'): print(\"  %s \\t %s \\t %s\" % (ns.get('externalId'),ns.get('name'), ns.get('owner')) )"
   ]
  },
  {
   "cell_type": "markdown",
   "metadata": {},
   "source": [
    "### Neighborhood Query\n",
    "\n",
    "You can retrieve a ‘neighborhood’ subnetwork of a network as a CX object. The query finds the subnetwork by first \n",
    "identifying nodes that are associated with identifiers in the search_string, then traversing a specified number of \n",
    "edges starting from those nodes.  The **search_depth** parameter controls the search, defaults to 1 edge and can be no more than 3 edges. "
   ]
  },
  {
   "cell_type": "code",
   "execution_count": null,
   "metadata": {},
   "outputs": [],
   "source": [
    "neighborhood_cx=anon_ndex.get_neighborhood('275bd84e-3d18-11e8-a935-0ac135e8bacf', 'XRN1',1, 6000)\n",
    "print_cx_summary(neighborhood_cx)"
   ]
  },
  {
   "cell_type": "code",
   "execution_count": null,
   "metadata": {},
   "outputs": [],
   "source": [
    "Cytoscape(data=neighborhood_cx, format='cx')"
   ]
  },
  {
   "cell_type": "markdown",
   "metadata": {},
   "source": [
    "### Interconnect Query\n",
    "The interconnect query is only available in NDEx2 client version 3.2.0 and above."
   ]
  },
  {
   "cell_type": "code",
   "execution_count": null,
   "metadata": {},
   "outputs": [],
   "source": [
    "interconnect_cx=anon_ndex.get_interconnectquery('275bd84e-3d18-11e8-a935-0ac135e8bacf', \n",
    "                                                         'XRN1 MDM2 CDK2 CDK6 HIF1A RAD51 BRCA1 TP53',1, 6000)\n",
    "\n",
    "print_cx_summary(interconnect_cx)"
   ]
  },
  {
   "cell_type": "code",
   "execution_count": null,
   "metadata": {
    "scrolled": true
   },
   "outputs": [],
   "source": [
    "Cytoscape(data=interconnect_cx, format='cx')"
   ]
  }
 ],
 "metadata": {
  "anaconda-cloud": {},
  "kernelspec": {
   "display_name": "Python 3",
   "language": "python",
   "name": "python3"
  },
  "language_info": {
   "codemirror_mode": {
    "name": "ipython",
    "version": 3
   },
   "file_extension": ".py",
   "mimetype": "text/x-python",
   "name": "python",
   "nbconvert_exporter": "python",
   "pygments_lexer": "ipython3",
   "version": "3.7.4"
  }
 },
 "nbformat": 4,
 "nbformat_minor": 1
}
