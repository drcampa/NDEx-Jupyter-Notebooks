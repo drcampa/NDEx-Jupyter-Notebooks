{
 "cells": [
  {
   "cell_type": "markdown",
   "metadata": {},
   "source": [
    "# Find Subgraphs of NDEx Networks with Neighborhood Queries"
   ]
  },
  {
   "cell_type": "markdown",
   "metadata": {},
   "source": [
    "You can find subgraphs of NDEx networks based on queries in which a list of strings is applied to a network. The result returned is a CX network containing nodes whose names match one of the strings and nodes that are \"nearby\" in the network, the \"neighborhood\" subgraph. A common use for these queries is to find subgraphs of an interactome based on a list of gene names.\n",
    "\n",
    "This tutorial requires Python 3.6+ and the ndex2 module. \n",
    "\n",
    "See [the NDEx2 Client](https://github.com/ndexbio/ndex2-client) for installation instructions."
   ]
  },
  {
   "cell_type": "markdown",
   "metadata": {},
   "source": [
    "## Modules Required for this Tutorial"
   ]
  },
  {
   "cell_type": "code",
   "execution_count": 1,
   "metadata": {},
   "outputs": [],
   "source": [
    "import ndex2.client as nc\n",
    "import ndex2\n",
    "import io\n",
    "import json\n",
    "from IPython.display import HTML\n",
    "from time import sleep"
   ]
  },
  {
   "cell_type": "markdown",
   "metadata": {},
   "source": [
    "## Configure an Anonymous NDEx Client\n",
    "We create an NDEx client object to access the NDEx public server anonymously, then test the client by getting the current server status."
   ]
  },
  {
   "cell_type": "code",
   "execution_count": 2,
   "metadata": {},
   "outputs": [
    {
     "name": "stdout",
     "output_type": "stream",
     "text": [
      "anon client: 191553 networks, 2781 users, 190 groups\n"
     ]
    }
   ],
   "source": [
    "anon_ndex=nc.Ndex2(\"http://public.ndexbio.org\")\n",
    "anon_ndex.update_status()\n",
    "networks = anon_ndex.status.get(\"networkCount\")\n",
    "users = anon_ndex.status.get(\"userCount\")\n",
    "groups = anon_ndex.status.get(\"groupCount\")\n",
    "print(\"anon client: %s networks, %s users, %s groups\" % (networks, users, groups))"
   ]
  },
  {
   "cell_type": "markdown",
   "metadata": {},
   "source": [
    "### Load a Utility to Display Networks in the Notebook\n",
    "The cytoscape-jupyter-widget can display the query result networks.\n",
    "See [Cytoscape-jupyter-widget](https://github.com/cytoscape/cytoscape-jupyter-widget/blob/develop/examples/WidgetDemo1.ipynb) for installation instructions."
   ]
  },
  {
   "cell_type": "code",
   "execution_count": 13,
   "metadata": {},
   "outputs": [],
   "source": [
    "from cyjupyter import Cytoscape"
   ]
  },
  {
   "cell_type": "code",
   "execution_count": 37,
   "metadata": {},
   "outputs": [],
   "source": [
    "# A convenience function to summarize the CX returned by queries\n",
    "def print_cx_summary(cx):\n",
    "    number_of_nodes=0\n",
    "    number_of_edges=0\n",
    "    for aspect in cx:\n",
    "        if 'nodes' in aspect:\n",
    "            number_of_nodes = len(aspect['nodes'])\n",
    "        if 'edges' in aspect:\n",
    "            number_of_edges = len(aspect['edges'])\n",
    "\n",
    "    print(\"the network contains %s nodes and %s edges.\" % (number_of_nodes, number_of_edges))"
   ]
  },
  {
   "cell_type": "markdown",
   "metadata": {},
   "source": [
    "## Query Types\n",
    "The NDEx query service supports 5 types of query\n",
    "![Query Types](images/query-types.png)"
   ]
  },
  {
   "cell_type": "markdown",
   "metadata": {},
   "source": [
    "### Find a Reference Network to Query\n",
    "Search for networks in NDEx from the STRING database\n",
    "\n",
    "We will use the [STRING - Human Protein Links - High Confidence (Score > 0.7)](http://public.ndexbio.org/#/network/275bd84e-3d18-11e8-a935-0ac135e8bacf) as our example network\n"
   ]
  },
  {
   "cell_type": "code",
   "execution_count": 3,
   "metadata": {},
   "outputs": [
    {
     "name": "stdout",
     "output_type": "stream",
     "text": [
      "2 networks found\n",
      "\n",
      "Networks:\n",
      "\n",
      "  d14db454-3d18-11e8-a935-0ac135e8bacf \t STRING - Human Protein Links \t string\n",
      "  275bd84e-3d18-11e8-a935-0ac135e8bacf \t STRING - Human Protein Links - High Confidence (Score >= 0.7) \t string\n"
     ]
    }
   ],
   "source": [
    "result_networks=anon_ndex.search_networks(search_string='STRING AND owner:\"string\"', size=10)\n",
    "print(\"%s networks found\" % (len(result_networks.get('networks'))))\n",
    "print(\"\\nNetworks:\\n\")\n",
    "for ns in result_networks.get('networks'): print(\"  %s \\t %s \\t %s\" % (ns.get('externalId'),ns.get('name'), ns.get('owner')) )"
   ]
  },
  {
   "cell_type": "markdown",
   "metadata": {},
   "source": [
    "### Neighborhood Query\n",
    "\n",
    "You can retrieve a ‘neighborhood’ subnetwork of a network as a CX object. The query finds the subnetwork by first \n",
    "identifying nodes that are associated with identifiers in the search_string, then traversing a specified number of \n",
    "edges starting from those nodes.  The **search_depth** parameter controls the search, defaults to 1 edge and can be no more than 3 edges. "
   ]
  },
  {
   "cell_type": "code",
   "execution_count": 20,
   "metadata": {},
   "outputs": [
    {
     "name": "stdout",
     "output_type": "stream",
     "text": [
      "the network contains 76 nodes and 621 edges.\n"
     ]
    }
   ],
   "source": [
    "neighborhood_cx=anon_ndex.get_neighborhood('275bd84e-3d18-11e8-a935-0ac135e8bacf', 'XRN1',1, 6000)\n",
    "print_cx_summary(neighborhood_cx)"
   ]
  },
  {
   "cell_type": "code",
   "execution_count": 21,
   "metadata": {},
   "outputs": [
    {
     "data": {
      "application/vnd.jupyter.widget-view+json": {
       "model_id": "3ec79565709f4d8f9387a5d190df055b",
       "version_major": 2,
       "version_minor": 0
      },
      "text/plain": [
       "Cytoscape(data=[{'numberVerification': [{'longNumber': 281474976710655}]}, {'metaData': [{'name': 'cyHiddenAtt…"
      ]
     },
     "metadata": {},
     "output_type": "display_data"
    }
   ],
   "source": [
    "Cytoscape(data=neighborhood_cx, format='cx')"
   ]
  },
  {
   "cell_type": "markdown",
   "metadata": {},
   "source": [
    "### Interconnect Query\n",
    "The interconnect query is only available in NDEx2 client version 3.2.0 and above."
   ]
  },
  {
   "cell_type": "code",
   "execution_count": 39,
   "metadata": {},
   "outputs": [
    {
     "name": "stdout",
     "output_type": "stream",
     "text": [
      "the network contains 8 nodes and 13 edges.\n"
     ]
    }
   ],
   "source": [
    "interconnect_cx=anon_ndex.get_interconnectquery('275bd84e-3d18-11e8-a935-0ac135e8bacf', \n",
    "                                                         'XRN1 MDM2 CDK2 CDK6 HIF1A RAD51 BRCA1 TP53',1, 6000)\n",
    "\n",
    "print_cx_summary(interconnect_cx)"
   ]
  },
  {
   "cell_type": "code",
   "execution_count": 35,
   "metadata": {
    "scrolled": true
   },
   "outputs": [
    {
     "data": {
      "application/vnd.jupyter.widget-view+json": {
       "model_id": "78ba03530f804d9d8f81fed8542471fe",
       "version_major": 2,
       "version_minor": 0
      },
      "text/plain": [
       "Cytoscape(data=[{'numberVerification': [{'longNumber': 281474976710655}]}, {'metaData': [{'name': 'cyHiddenAtt…"
      ]
     },
     "metadata": {},
     "output_type": "display_data"
    }
   ],
   "source": [
    "Cytoscape(data=interconnect_cx, format='cx')"
   ]
  },
  {
   "cell_type": "markdown",
   "metadata": {},
   "source": [
    "## Examples of Using Query Result Networks\n",
    "We start by creating a NiceCX object from the CX.\n",
    "NiceCX supports basic operations on the networks and conversion to other formats."
   ]
  },
  {
   "cell_type": "code",
   "execution_count": 28,
   "metadata": {},
   "outputs": [
    {
     "name": "stdout",
     "output_type": "stream",
     "text": [
      "Name: Direct query result on network - STRING - Human Protein Links - High Confidence (Score >= 0.7)\n",
      "Nodes: 22\n",
      "Edges: 42\n",
      "Node Attributes: 66\n",
      "Edge Attributes: 630\n",
      "\n"
     ]
    }
   ],
   "source": [
    "niceCX=ndex2.create_nice_cx_from_raw_cx(interconnect_cx)\n",
    "niceCX.print_summary()"
   ]
  },
  {
   "cell_type": "markdown",
   "metadata": {},
   "source": [
    "## Convert the Network to a Pandas Dataframe"
   ]
  },
  {
   "cell_type": "code",
   "execution_count": 29,
   "metadata": {},
   "outputs": [
    {
     "data": {
      "text/html": [
       "<div>\n",
       "<style scoped>\n",
       "    .dataframe tbody tr th:only-of-type {\n",
       "        vertical-align: middle;\n",
       "    }\n",
       "\n",
       "    .dataframe tbody tr th {\n",
       "        vertical-align: top;\n",
       "    }\n",
       "\n",
       "    .dataframe thead th {\n",
       "        text-align: right;\n",
       "    }\n",
       "</style>\n",
       "<table border=\"1\" class=\"dataframe\">\n",
       "  <thead>\n",
       "    <tr style=\"text-align: right;\">\n",
       "      <th></th>\n",
       "      <th>source</th>\n",
       "      <th>interaction</th>\n",
       "      <th>target</th>\n",
       "    </tr>\n",
       "  </thead>\n",
       "  <tbody>\n",
       "    <tr>\n",
       "      <th>0</th>\n",
       "      <td>ARFGEF2</td>\n",
       "      <td>interacts-with</td>\n",
       "      <td>ARF1</td>\n",
       "    </tr>\n",
       "    <tr>\n",
       "      <th>1</th>\n",
       "      <td>ARFGEF1</td>\n",
       "      <td>interacts-with</td>\n",
       "      <td>ARF1</td>\n",
       "    </tr>\n",
       "    <tr>\n",
       "      <th>2</th>\n",
       "      <td>FOXO4</td>\n",
       "      <td>interacts-with</td>\n",
       "      <td>FOXO3</td>\n",
       "    </tr>\n",
       "    <tr>\n",
       "      <th>3</th>\n",
       "      <td>FOXO4</td>\n",
       "      <td>interacts-with</td>\n",
       "      <td>FOXO1</td>\n",
       "    </tr>\n",
       "    <tr>\n",
       "      <th>4</th>\n",
       "      <td>BRCA2</td>\n",
       "      <td>interacts-with</td>\n",
       "      <td>BRCA1</td>\n",
       "    </tr>\n",
       "    <tr>\n",
       "      <th>5</th>\n",
       "      <td>TP53</td>\n",
       "      <td>interacts-with</td>\n",
       "      <td>FOXO4</td>\n",
       "    </tr>\n",
       "    <tr>\n",
       "      <th>6</th>\n",
       "      <td>TP53</td>\n",
       "      <td>interacts-with</td>\n",
       "      <td>BRCA1</td>\n",
       "    </tr>\n",
       "    <tr>\n",
       "      <th>7</th>\n",
       "      <td>TP53</td>\n",
       "      <td>interacts-with</td>\n",
       "      <td>FOXO3</td>\n",
       "    </tr>\n",
       "    <tr>\n",
       "      <th>8</th>\n",
       "      <td>TP53</td>\n",
       "      <td>interacts-with</td>\n",
       "      <td>BRCA2</td>\n",
       "    </tr>\n",
       "    <tr>\n",
       "      <th>9</th>\n",
       "      <td>ARF6</td>\n",
       "      <td>interacts-with</td>\n",
       "      <td>ARFIP1</td>\n",
       "    </tr>\n",
       "    <tr>\n",
       "      <th>10</th>\n",
       "      <td>ARF6</td>\n",
       "      <td>interacts-with</td>\n",
       "      <td>ARFIP2</td>\n",
       "    </tr>\n",
       "    <tr>\n",
       "      <th>11</th>\n",
       "      <td>ARF6</td>\n",
       "      <td>interacts-with</td>\n",
       "      <td>ARF1</td>\n",
       "    </tr>\n",
       "    <tr>\n",
       "      <th>12</th>\n",
       "      <td>ARF6</td>\n",
       "      <td>interacts-with</td>\n",
       "      <td>ARFGAP1</td>\n",
       "    </tr>\n",
       "    <tr>\n",
       "      <th>13</th>\n",
       "      <td>FOXO1</td>\n",
       "      <td>interacts-with</td>\n",
       "      <td>FOXO3</td>\n",
       "    </tr>\n",
       "    <tr>\n",
       "      <th>14</th>\n",
       "      <td>M6PR</td>\n",
       "      <td>interacts-with</td>\n",
       "      <td>ARF1</td>\n",
       "    </tr>\n",
       "    <tr>\n",
       "      <th>15</th>\n",
       "      <td>ARFGAP3</td>\n",
       "      <td>interacts-with</td>\n",
       "      <td>ARFGAP2</td>\n",
       "    </tr>\n",
       "    <tr>\n",
       "      <th>16</th>\n",
       "      <td>ARFGAP3</td>\n",
       "      <td>interacts-with</td>\n",
       "      <td>ARF4</td>\n",
       "    </tr>\n",
       "    <tr>\n",
       "      <th>17</th>\n",
       "      <td>ARFGAP3</td>\n",
       "      <td>interacts-with</td>\n",
       "      <td>ARF1</td>\n",
       "    </tr>\n",
       "    <tr>\n",
       "      <th>18</th>\n",
       "      <td>ARFGAP3</td>\n",
       "      <td>interacts-with</td>\n",
       "      <td>ARFGAP1</td>\n",
       "    </tr>\n",
       "    <tr>\n",
       "      <th>19</th>\n",
       "      <td>ARFGAP2</td>\n",
       "      <td>interacts-with</td>\n",
       "      <td>ARF1</td>\n",
       "    </tr>\n",
       "    <tr>\n",
       "      <th>20</th>\n",
       "      <td>ARFIP1</td>\n",
       "      <td>interacts-with</td>\n",
       "      <td>ARF1</td>\n",
       "    </tr>\n",
       "    <tr>\n",
       "      <th>21</th>\n",
       "      <td>ARF4</td>\n",
       "      <td>interacts-with</td>\n",
       "      <td>ARFGAP2</td>\n",
       "    </tr>\n",
       "    <tr>\n",
       "      <th>22</th>\n",
       "      <td>ARF4</td>\n",
       "      <td>interacts-with</td>\n",
       "      <td>ARF1</td>\n",
       "    </tr>\n",
       "    <tr>\n",
       "      <th>23</th>\n",
       "      <td>ARF4</td>\n",
       "      <td>interacts-with</td>\n",
       "      <td>ARFGAP1</td>\n",
       "    </tr>\n",
       "    <tr>\n",
       "      <th>24</th>\n",
       "      <td>ARF3</td>\n",
       "      <td>interacts-with</td>\n",
       "      <td>ARFGAP3</td>\n",
       "    </tr>\n",
       "    <tr>\n",
       "      <th>25</th>\n",
       "      <td>ARF3</td>\n",
       "      <td>interacts-with</td>\n",
       "      <td>ARFGAP2</td>\n",
       "    </tr>\n",
       "    <tr>\n",
       "      <th>26</th>\n",
       "      <td>ARF3</td>\n",
       "      <td>interacts-with</td>\n",
       "      <td>ARFIP1</td>\n",
       "    </tr>\n",
       "    <tr>\n",
       "      <th>27</th>\n",
       "      <td>ARF3</td>\n",
       "      <td>interacts-with</td>\n",
       "      <td>ARF4</td>\n",
       "    </tr>\n",
       "    <tr>\n",
       "      <th>28</th>\n",
       "      <td>ARF3</td>\n",
       "      <td>interacts-with</td>\n",
       "      <td>ARFIP2</td>\n",
       "    </tr>\n",
       "    <tr>\n",
       "      <th>29</th>\n",
       "      <td>ARF3</td>\n",
       "      <td>interacts-with</td>\n",
       "      <td>ARF1</td>\n",
       "    </tr>\n",
       "    <tr>\n",
       "      <th>30</th>\n",
       "      <td>ARF3</td>\n",
       "      <td>interacts-with</td>\n",
       "      <td>ARFGAP1</td>\n",
       "    </tr>\n",
       "    <tr>\n",
       "      <th>31</th>\n",
       "      <td>ARF1</td>\n",
       "      <td>interacts-with</td>\n",
       "      <td>ARFIP2</td>\n",
       "    </tr>\n",
       "    <tr>\n",
       "      <th>32</th>\n",
       "      <td>ARFGAP1</td>\n",
       "      <td>interacts-with</td>\n",
       "      <td>ARFGAP2</td>\n",
       "    </tr>\n",
       "    <tr>\n",
       "      <th>33</th>\n",
       "      <td>ARFGAP1</td>\n",
       "      <td>interacts-with</td>\n",
       "      <td>ARF1</td>\n",
       "    </tr>\n",
       "    <tr>\n",
       "      <th>34</th>\n",
       "      <td>ARF5</td>\n",
       "      <td>interacts-with</td>\n",
       "      <td>ARFGAP3</td>\n",
       "    </tr>\n",
       "    <tr>\n",
       "      <th>35</th>\n",
       "      <td>ARF5</td>\n",
       "      <td>interacts-with</td>\n",
       "      <td>ARFGAP2</td>\n",
       "    </tr>\n",
       "    <tr>\n",
       "      <th>36</th>\n",
       "      <td>ARF5</td>\n",
       "      <td>interacts-with</td>\n",
       "      <td>ARFIP1</td>\n",
       "    </tr>\n",
       "    <tr>\n",
       "      <th>37</th>\n",
       "      <td>ARF5</td>\n",
       "      <td>interacts-with</td>\n",
       "      <td>ARF4</td>\n",
       "    </tr>\n",
       "    <tr>\n",
       "      <th>38</th>\n",
       "      <td>ARF5</td>\n",
       "      <td>interacts-with</td>\n",
       "      <td>ARFIP2</td>\n",
       "    </tr>\n",
       "    <tr>\n",
       "      <th>39</th>\n",
       "      <td>ARF5</td>\n",
       "      <td>interacts-with</td>\n",
       "      <td>ARF3</td>\n",
       "    </tr>\n",
       "    <tr>\n",
       "      <th>40</th>\n",
       "      <td>ARF5</td>\n",
       "      <td>interacts-with</td>\n",
       "      <td>ARF1</td>\n",
       "    </tr>\n",
       "    <tr>\n",
       "      <th>41</th>\n",
       "      <td>ARF5</td>\n",
       "      <td>interacts-with</td>\n",
       "      <td>ARFGAP1</td>\n",
       "    </tr>\n",
       "  </tbody>\n",
       "</table>\n",
       "</div>"
      ],
      "text/plain": [
       "     source     interaction   target\n",
       "0   ARFGEF2  interacts-with     ARF1\n",
       "1   ARFGEF1  interacts-with     ARF1\n",
       "2     FOXO4  interacts-with    FOXO3\n",
       "3     FOXO4  interacts-with    FOXO1\n",
       "4     BRCA2  interacts-with    BRCA1\n",
       "5      TP53  interacts-with    FOXO4\n",
       "6      TP53  interacts-with    BRCA1\n",
       "7      TP53  interacts-with    FOXO3\n",
       "8      TP53  interacts-with    BRCA2\n",
       "9      ARF6  interacts-with   ARFIP1\n",
       "10     ARF6  interacts-with   ARFIP2\n",
       "11     ARF6  interacts-with     ARF1\n",
       "12     ARF6  interacts-with  ARFGAP1\n",
       "13    FOXO1  interacts-with    FOXO3\n",
       "14     M6PR  interacts-with     ARF1\n",
       "15  ARFGAP3  interacts-with  ARFGAP2\n",
       "16  ARFGAP3  interacts-with     ARF4\n",
       "17  ARFGAP3  interacts-with     ARF1\n",
       "18  ARFGAP3  interacts-with  ARFGAP1\n",
       "19  ARFGAP2  interacts-with     ARF1\n",
       "20   ARFIP1  interacts-with     ARF1\n",
       "21     ARF4  interacts-with  ARFGAP2\n",
       "22     ARF4  interacts-with     ARF1\n",
       "23     ARF4  interacts-with  ARFGAP1\n",
       "24     ARF3  interacts-with  ARFGAP3\n",
       "25     ARF3  interacts-with  ARFGAP2\n",
       "26     ARF3  interacts-with   ARFIP1\n",
       "27     ARF3  interacts-with     ARF4\n",
       "28     ARF3  interacts-with   ARFIP2\n",
       "29     ARF3  interacts-with     ARF1\n",
       "30     ARF3  interacts-with  ARFGAP1\n",
       "31     ARF1  interacts-with   ARFIP2\n",
       "32  ARFGAP1  interacts-with  ARFGAP2\n",
       "33  ARFGAP1  interacts-with     ARF1\n",
       "34     ARF5  interacts-with  ARFGAP3\n",
       "35     ARF5  interacts-with  ARFGAP2\n",
       "36     ARF5  interacts-with   ARFIP1\n",
       "37     ARF5  interacts-with     ARF4\n",
       "38     ARF5  interacts-with   ARFIP2\n",
       "39     ARF5  interacts-with     ARF3\n",
       "40     ARF5  interacts-with     ARF1\n",
       "41     ARF5  interacts-with  ARFGAP1"
      ]
     },
     "execution_count": 29,
     "metadata": {},
     "output_type": "execute_result"
    }
   ],
   "source": [
    "niceCX.to_pandas_dataframe()"
   ]
  },
  {
   "cell_type": "code",
   "execution_count": null,
   "metadata": {},
   "outputs": [],
   "source": []
  }
 ],
 "metadata": {
  "anaconda-cloud": {},
  "kernelspec": {
   "display_name": "Python 3",
   "language": "python",
   "name": "python3"
  },
  "language_info": {
   "codemirror_mode": {
    "name": "ipython",
    "version": 3
   },
   "file_extension": ".py",
   "mimetype": "text/x-python",
   "name": "python",
   "nbconvert_exporter": "python",
   "pygments_lexer": "ipython3",
   "version": "3.8.8"
  }
 },
 "nbformat": 4,
 "nbformat_minor": 1
}
