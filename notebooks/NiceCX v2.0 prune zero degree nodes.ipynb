{
 "cells": [
  {
   "cell_type": "markdown",
   "metadata": {},
   "source": [
    "# NiceCX v2.0 networkx conversion, remove 0 degree nodes upload"
   ]
  },
  {
   "cell_type": "markdown",
   "metadata": {},
   "source": [
    "In this tutorial we will be downloading a network from NDEx, converting that network to networkx `Graph()` \n",
    "object via the `to_networkx()` method, removing 0 degree nodes, and uploading the new network\n",
    "back to NDEx. "
   ]
  },
  {
   "cell_type": "markdown",
   "metadata": {},
   "source": [
    "# Import modules\n",
    "\n",
    "Import needed modules. If there is an error with matplotlib run:\n",
    "\n",
    "`conda install -c conda-forge matplotlib`"
   ]
  },
  {
   "cell_type": "code",
   "execution_count": null,
   "metadata": {},
   "outputs": [],
   "source": [
    "import matplotlib\n",
    "# this matplotlib inline enables the matplotlib plots to be displayed in the Jupyter notebook\n",
    "%matplotlib inline\n",
    "\n",
    "import matplotlib.pyplot as plt\n",
    "import ndex2\n",
    "import networkx\n",
    "\n",
    "# used to prompt user for NDEx password in this notebook\n",
    "import getpass\n"
   ]
  },
  {
   "cell_type": "markdown",
   "metadata": {},
   "source": [
    "# Download network from NDEx\n",
    "\n",
    "Using the `create_nice_cx_from_user()` the following line of code downloads the network from NDEx and creates a `NiceCXNetwork` object named `nice_cx_network`. \n",
    "\n",
    "For help on function names try running `help(nice_cx_network)`"
   ]
  },
  {
   "cell_type": "code",
   "execution_count": null,
   "metadata": {},
   "outputs": [],
   "source": [
    "# EXAMPLE NETWORK FROM NDEx CIViC Variant-Drug Associations\n",
    "# Viewable in a browser here: http://ndexbio.org/#/network/b9705e4f-57ef-11e9-9f06-0ac135e8bacf\n",
    "\n",
    "nice_cx_network = ndex2.create_nice_cx_from_server(server='public.ndexbio.org', \n",
    "                                                   uuid='b9705e4f-57ef-11e9-9f06-0ac135e8bacf')\n",
    "\n",
    "\n"
   ]
  },
  {
   "cell_type": "markdown",
   "metadata": {},
   "source": [
    "# Convert and print information about network\n",
    "\n",
    "This fragment of code uses `to_networkx()` to convert the network to a networkx `Graph()` object. \n",
    "\n",
    "**NOTE:** The `to_networkx()` method creates a networkx `Graph()` object which does NOT allow\n",
    "          multiple edges so in the conversion extra edges are lost."
   ]
  },
  {
   "cell_type": "code",
   "execution_count": null,
   "metadata": {},
   "outputs": [],
   "source": [
    "\n",
    "g = nice_cx_network.to_networkx()\n",
    "\n",
    "\n",
    "print('NiceCXNetwork number of nodes: ' + str(len(nice_cx_network.get_nodes())) + \n",
    "      ' vs Networkx: ' + str(len(list(g))))\n",
    "print('NiceCXNetwork number of edges: ' + str(len(nice_cx_network.get_edges())) +\n",
    "      ' vs Networkx: ' + str(g.number_of_edges()))"
   ]
  },
  {
   "cell_type": "markdown",
   "metadata": {},
   "source": [
    "# Plot network in notebook\n",
    "\n",
    "If the following fails, the issue might be due to installation of older version of networkx (1.11) \n",
    "\n",
    "To fix this, exit jupyter and run the following in the terminal:\n",
    "\n",
    "`pip install networkx --upgrade`\n",
    "\n",
    "Then restart jupyter notebook (ie `jupyter notebook`) "
   ]
  },
  {
   "cell_type": "code",
   "execution_count": null,
   "metadata": {},
   "outputs": [],
   "source": [
    "networkx.draw(g)"
   ]
  },
  {
   "cell_type": "markdown",
   "metadata": {},
   "source": [
    "# Get list of zero degree nodes\n",
    "\n",
    "Using the networkx method `isolates()` get a list of all zero degree nodes and store them in the variable `isolatelist`"
   ]
  },
  {
   "cell_type": "code",
   "execution_count": null,
   "metadata": {},
   "outputs": [],
   "source": [
    "isolatelist = list(networkx.isolates(g))\n",
    "\n",
    "print('Number of zero degree nodes: ' + str(len(isolatelist)))\n"
   ]
  },
  {
   "cell_type": "markdown",
   "metadata": {},
   "source": [
    "# Remove the zero degree nodes by iterating through list\n",
    "\n",
    "Iterate through list and remove the zero degree nodes."
   ]
  },
  {
   "cell_type": "code",
   "execution_count": null,
   "metadata": {},
   "outputs": [],
   "source": [
    "print('Number of nodes before removal: ' + str(len(list(g))))\n",
    "\n",
    "for entry in isolatelist:\n",
    "    g.remove_node(entry)\n",
    "\n",
    "print('Number of nodes after removal: ' + str(len(list(g))))"
   ]
  },
  {
   "cell_type": "markdown",
   "metadata": {},
   "source": [
    "# Convert networkx object back to NDEx NiceCXNetwork object\n",
    "\n",
    "The following code converts the networkx graph object `g` back to a \n",
    "`NiceCXNetwork` object using `create_nice_cx_from_networkx()`\n",
    "\n",
    "Additional calls below set the name of the network as well as the description. \n",
    "\n",
    "Finally for debugging the number of nodes and edges is output"
   ]
  },
  {
   "cell_type": "code",
   "execution_count": null,
   "metadata": {},
   "outputs": [],
   "source": [
    "# takes a networkx object, g in this case, and creates NiceCXNetwork object (netty)\n",
    "newnetwork = ndex2.create_nice_cx_from_networkx(g)\n",
    "\n",
    "# sets the name of the network\n",
    "newnetwork.set_name(nice_cx_network.get_name() + ' 0 degree nodes removed')\n",
    "\n",
    "# remove the coordinates for now\n",
    "newnetwork.remove_opaque_aspect('cartesianLayout')\n",
    "\n",
    "# sets the description for the network\n",
    "newnetwork.set_network_attribute('description', values='my network with 0 degree nodes removed')\n",
    "\n",
    "print('NiceCXNetwork from networkx number of nodes: ' + str(len(newnetwork.get_nodes())) + \n",
    "      ' vs Networkx: ' + str(len(list(g))))\n",
    "print('NiceCXNetwork from networkx number of edges: ' + str(len(newnetwork.get_edges())) +\n",
    "      ' vs Networkx: ' + str(g.number_of_edges()))"
   ]
  },
  {
   "cell_type": "markdown",
   "metadata": {},
   "source": [
    "# Prompt for NDEx username \n",
    "\n",
    "Be sure to hit enter in the field to set the value!!"
   ]
  },
  {
   "cell_type": "code",
   "execution_count": null,
   "metadata": {},
   "outputs": [],
   "source": [
    "ndexuser = getpass.getpass()"
   ]
  },
  {
   "cell_type": "markdown",
   "metadata": {},
   "source": [
    "# Prompt user for NDEx password \n",
    "\n",
    "Be sure to hit enter in the field to set the value!!"
   ]
  },
  {
   "cell_type": "code",
   "execution_count": null,
   "metadata": {},
   "outputs": [],
   "source": [
    "ndexpassword = getpass.getpass()"
   ]
  },
  {
   "cell_type": "markdown",
   "metadata": {},
   "source": [
    "# Upload network to NDEx"
   ]
  },
  {
   "cell_type": "code",
   "execution_count": null,
   "metadata": {},
   "outputs": [],
   "source": [
    "res = newnetwork.upload_to('public.ndexbio.org', ndexuser, ndexpassword)\n",
    "\n",
    "print('URL returned by upload_to call: ' + res)\n",
    "justuuid = res.split('/')[-1]\n",
    "\n",
    "print('Network UUID: ' + justuuid)"
   ]
  },
  {
   "cell_type": "markdown",
   "metadata": {},
   "source": [
    "# Apply the style from the original network\n",
    "\n",
    "When converting to/from networkx Graph() the style on the original network is lost. The `apply_template()` method\n",
    "retreives the style from a network in NDEx and applies it to the current network. "
   ]
  },
  {
   "cell_type": "code",
   "execution_count": null,
   "metadata": {},
   "outputs": [],
   "source": [
    "newnetwork.apply_template('public.ndexbio.org', 'b9705e4f-57ef-11e9-9f06-0ac135e8bacf')"
   ]
  },
  {
   "cell_type": "markdown",
   "metadata": {},
   "source": [
    "# Update existing network on NDEx\n",
    "\n",
    "Rather then uploading a new network the following `update_to()` method replaces the existing network. This method requires the Network UUID to be set as the first argument."
   ]
  },
  {
   "cell_type": "code",
   "execution_count": null,
   "metadata": {},
   "outputs": [],
   "source": [
    "newnetwork.update_to(justuuid, 'public.ndexbio.org', ndexuser, ndexpassword)"
   ]
  },
  {
   "cell_type": "code",
   "execution_count": null,
   "metadata": {},
   "outputs": [],
   "source": [
    "print('Tutorial complete. Have a nice day!')"
   ]
  },
  {
   "cell_type": "code",
   "execution_count": null,
   "metadata": {},
   "outputs": [],
   "source": []
  }
 ],
 "metadata": {
  "kernelspec": {
   "display_name": "Python 3",
   "language": "python",
   "name": "python3"
  },
  "language_info": {
   "codemirror_mode": {
    "name": "ipython",
    "version": 3
   },
   "file_extension": ".py",
   "mimetype": "text/x-python",
   "name": "python",
   "nbconvert_exporter": "python",
   "pygments_lexer": "ipython3",
   "version": "3.7.1"
  }
 },
 "nbformat": 4,
 "nbformat_minor": 2
}
