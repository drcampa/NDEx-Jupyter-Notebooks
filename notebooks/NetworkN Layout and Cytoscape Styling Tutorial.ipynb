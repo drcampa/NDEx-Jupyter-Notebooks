{
 "cells": [
  {
   "cell_type": "markdown",
   "metadata": {
    "collapsed": true
   },
   "source": [
    "# NetworkN Layout Tutorial"
   ]
  },
  {
   "cell_type": "markdown",
   "metadata": {},
   "source": [
    "In this tutorial, we will show you to use the NetworkN toolbox. The toolbox allows you to load information from a text file and convert it to a network, add information to a network, and change its layout based off of a Cytoscape Styling. NetworkN's toolbox requires Python 2.7.9 and the latest version of the PIP Python package manager for installation. For further details on installing and using the NDEx module, see the NDEx Client Tutorial."
   ]
  },
  {
   "cell_type": "markdown",
   "metadata": {},
   "source": [
    "## Importing Packages"
   ]
  },
  {
   "cell_type": "markdown",
   "metadata": {},
   "source": [
    "With the NDex module installed, start Python and import NdexGraph."
   ]
  },
  {
   "cell_type": "code",
   "execution_count": 1,
   "metadata": {
    "collapsed": true
   },
   "outputs": [],
   "source": [
    "import ndex.beta.toolbox as toolbox\n",
    "from ndex.networkn import NdexGraph"
   ]
  },
  {
   "cell_type": "markdown",
   "metadata": {},
   "source": [
    "## Loading Networks"
   ]
  },
  {
   "cell_type": "markdown",
   "metadata": {},
   "source": [
    "In order to load a network using a textfile, you must first create an empty graph. For further information about creating graphs, please view the NetworkN Tutorial."
   ]
  },
  {
   "cell_type": "code",
   "execution_count": 2,
   "metadata": {
    "collapsed": false
   },
   "outputs": [],
   "source": [
    "G = NdexGraph()"
   ]
  },
  {
   "cell_type": "markdown",
   "metadata": {},
   "source": [
    "Using the method load(graph, filename,edge_attributes,header), you can input information into the graph. \"graph\" should contain the empty graph, filename should be the text file, edge_attributes (optional) contains a list of all the attribute keys for the edges, and header is a true/false value depending on if there is a header in the text. The text file should be arranged so that the first column contains the source, the second contains the target, and any other columns contains an attribute that the edges have.\n",
    "Shown below is an example text file. It has a header (first row), a row of source nodes, a row of target nodes, and one attribute called strength."
   ]
  },
  {
   "cell_type": "code",
   "execution_count": null,
   "metadata": {
    "collapsed": true
   },
   "outputs": [],
   "source": [
    "regulator\ttarget\tstrength\n",
    "CREM\tZAP70\t-0.37040301976\n",
    "CREM\tCCNA2\t-0.17496355421\n",
    "CREM\tCCNA1\t0.554232166651\n",
    "CREM\tTBP\t-0.265943196526\n",
    "CREM\tACE\t0.695710985787\n",
    "CREM\tACR\t1.13920183687\n",
    "CREM\tTAF4\t-0.859300837898\n",
    "CREM\tG6PD\t0.860999972206\n",
    "CREM\tIL2\t0.260140346049\n",
    "CREM\tSLC5A5\t0.107905249465\n",
    "CREM\tTH\t0.225371693268\n",
    "CREM\tCCL4\t-0.131681869916\n",
    "CREM\tFOS\t0.123023055677\n",
    "CREM\tIL5RA\t0.608089767648\n",
    "CREM\tFASLG\t-0.28380247942\n",
    "CREM\tMC2R\t0.216722438426\n",
    "CREM\tGPX4\t1.1099598825\n",
    "KAT5\tE2F6\t0.266582098612\n",
    "KAT5\tHDC\t1.85870008491\n",
    "KAT5\tRAD21\t-0.190262435583"
   ]
  },
  {
   "cell_type": "markdown",
   "metadata": {},
   "source": [
    "We will call this file 'loadexample.txt'. Now we will use the load method to create a network."
   ]
  },
  {
   "cell_type": "code",
   "execution_count": 3,
   "metadata": {
    "collapsed": true
   },
   "outputs": [],
   "source": [
    "toolbox.load(G, 'loadexample.txt', edge_attributes=['strength'], header=True)"
   ]
  },
  {
   "cell_type": "markdown",
   "metadata": {},
   "source": [
    "You can choose to upload this graph to an ndex server. "
   ]
  },
  {
   "cell_type": "code",
   "execution_count": null,
   "metadata": {
    "collapsed": false
   },
   "outputs": [],
   "source": [
    "G.upload_to('http://public.ndexbio.org', 'your_username', 'your_password')"
   ]
  },
  {
   "cell_type": "markdown",
   "metadata": {},
   "source": [
    "## Annotating a Graph"
   ]
  },
  {
   "cell_type": "markdown",
   "metadata": {},
   "source": [
    "Whereas the load method created the nodes, edges, and edge attributes, the annotate method adds node attributes using annotate(graph, filename). "
   ]
  },
  {
   "cell_type": "markdown",
   "metadata": {},
   "source": [
    "In this example, we will use annotateexample.txt to add information about the color of each node. Note that these colors were randomly assigned and have no significance. Below is what the file looks like.\n",
    "Keep in mind that the first column's heading is in lower case. It will not work if you write it in upper case."
   ]
  },
  {
   "cell_type": "code",
   "execution_count": null,
   "metadata": {
    "collapsed": true
   },
   "outputs": [],
   "source": [
    "name\tColor\n",
    "CREM\tblue\n",
    "KAT5\tblue\n",
    "ZAP70\tblue\n",
    "CCNA2\tblue\n",
    "CCNA1\tblue\n",
    "TBP\tred\n",
    "ACE\tred\n",
    "ACR\tred\n",
    "TAF4\tred\n",
    "G6PD\tred\n",
    "IL2\tred\n",
    "SLC5A5\tgreen\n",
    "TH\tgreen\n",
    "CCL4\tgreen\n",
    "FOS\tgreen\n",
    "IL5RA\tgreen\n",
    "FASLG\tyellow\n",
    "MC2R\tyellow\n",
    "GPX4\tyellow\n",
    "E2F6\tyellow\n",
    "HDC\tyellow\n",
    "RAD21\tyellow"
   ]
  },
  {
   "cell_type": "markdown",
   "metadata": {},
   "source": [
    "Now we call on the annotate method and then we upload it to the NDEx server."
   ]
  },
  {
   "cell_type": "code",
   "execution_count": 5,
   "metadata": {
    "collapsed": true
   },
   "outputs": [],
   "source": [
    "toolbox.annotate(G,'annotateexample.txt');"
   ]
  },
  {
   "cell_type": "code",
   "execution_count": null,
   "metadata": {
    "collapsed": false
   },
   "outputs": [],
   "source": [
    "G.upload_to('http://public.ndexbio.org', 'your_username', 'your_password')"
   ]
  },
  {
   "cell_type": "markdown",
   "metadata": {
    "collapsed": true
   },
   "source": [
    "## Applying Cytoscape Style Template"
   ]
  },
  {
   "cell_type": "markdown",
   "metadata": {},
   "source": [
    "Cytoscape has options for styling your graph such as coloration, directional arrow design, etc. The toolbox allows you to use a \"template\" that is based off of a network's style of your choice. In order for a node or an edge to be stylized in a certain way, it must have an attribute that corresponds to the style. \n",
    "For this tutorial, we are primarily concerned with one kind of template: tutorial_template. You can view it on the NDEx public server.  "
   ]
  },
  {
   "cell_type": "markdown",
   "metadata": {},
   "source": [
    "tutorial_template uses the attribute 'st_layout' to determine the coloration and positioning of your nodes. Also, the edges are directed (there are arrows pointing in a direction) depending on how you created each edge. The first node that you list points to the second node. "
   ]
  },
  {
   "cell_type": "markdown",
   "metadata": {},
   "source": [
    "First we will create a new graph where we load the information from the text file below:"
   ]
  },
  {
   "cell_type": "markdown",
   "metadata": {},
   "source": [
    "Source is green. Target is blue. Forward has edges that go from the source to the target node. Reverse is purple and the edges go in an opposite direction. Both has edges going in both directions. Please not that although there are specifications for the node attribute, the toolbox will not check if the edges are going in the correct direction. "
   ]
  },
  {
   "cell_type": "code",
   "execution_count": null,
   "metadata": {
    "collapsed": true
   },
   "outputs": [],
   "source": [
    "name\ttarget\t\n",
    "Source\tF1\n",
    "Source\tF2\n",
    "Source\tF3\n",
    "Source\tB1\n",
    "Source\tB2\n",
    "R1\tSource\n",
    "R2\tSource\n",
    "R3\tSource\n",
    "B1\tTarget\n",
    "B2\tTarget\n",
    "F1\tTarget\n",
    "F2\tTarget\n",
    "F3\tTarget\n",
    "Target\tR1\n",
    "Target\tR2\n",
    "Target\tR3\n",
    "Target\tB1\n",
    "Target\tB2\n",
    "B1\tSource\n",
    "B2\tSource"
   ]
  },
  {
   "cell_type": "code",
   "execution_count": 7,
   "metadata": {
    "collapsed": false,
    "scrolled": true
   },
   "outputs": [],
   "source": [
    "M = NdexGraph()\n",
    "toolbox.load(M, 'templateexample.txt', header=True)"
   ]
  },
  {
   "cell_type": "markdown",
   "metadata": {},
   "source": [
    "Then we will annotate the graph according to the node's specifications:"
   ]
  },
  {
   "cell_type": "code",
   "execution_count": null,
   "metadata": {
    "collapsed": true
   },
   "outputs": [],
   "source": [
    "name\tst_layout\n",
    "Source\tSource\n",
    "F1\tForward\n",
    "F2\tForward\n",
    "F3\tForward\n",
    "B1\tBoth\n",
    "B2\tBoth\n",
    "R1\tReverse\n",
    "R2\tReverse\n",
    "R3\tReverse\n",
    "Target\tTarget"
   ]
  },
  {
   "cell_type": "markdown",
   "metadata": {},
   "source": [
    "Now we will apply the template. The method that you use is called apply_template(graph, template_id). The template_id is the UUID of a graph that you want to use the styling from."
   ]
  },
  {
   "cell_type": "code",
   "execution_count": 8,
   "metadata": {
    "collapsed": false
   },
   "outputs": [],
   "source": [
    "toolbox.annotate(M, \"templateannotate.txt\")"
   ]
  },
  {
   "cell_type": "code",
   "execution_count": 9,
   "metadata": {
    "collapsed": true
   },
   "outputs": [],
   "source": [
    "template_id = '4f53171c-600f-11e6-b0a6-06603eb7f303'\n",
    "toolbox.apply_template(M, template_id)"
   ]
  },
  {
   "cell_type": "code",
   "execution_count": null,
   "metadata": {
    "collapsed": true
   },
   "outputs": [],
   "source": [
    "M.upload_to('http://public.ndexbio.org', 'your_username', 'your_password')"
   ]
  }
 ],
 "metadata": {
  "kernelspec": {
   "display_name": "Python 2",
   "language": "python",
   "name": "python2"
  },
  "language_info": {
   "codemirror_mode": {
    "name": "ipython",
    "version": 2
   },
   "file_extension": ".py",
   "mimetype": "text/x-python",
   "name": "python",
   "nbconvert_exporter": "python",
   "pygments_lexer": "ipython2",
   "version": "2.7.11"
  }
 },
 "nbformat": 4,
 "nbformat_minor": 0
}
