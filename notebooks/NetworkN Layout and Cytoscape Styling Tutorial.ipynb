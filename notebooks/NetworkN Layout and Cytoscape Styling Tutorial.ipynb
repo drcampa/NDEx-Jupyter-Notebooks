{
 "cells": [
  {
   "cell_type": "markdown",
   "metadata": {
    "collapsed": true
   },
   "source": [
    "# NetworkN Layout Tutorial"
   ]
  },
  {
   "cell_type": "markdown",
   "metadata": {},
   "source": [
    "In this tutorial, we will show you to use the NetworkN toolbox. The toolbox allows you to load information from a text file and convert it to a network, add information to a network, and change its layout based off of a Cytoscape Styling. NetworkN's toolbox requires Python 2.7.9 and the latest version of the PIP Python package manager for installation. For further details on installing and using the NDEx module, see the NDEx Client Tutorial."
   ]
  },
  {
   "cell_type": "markdown",
   "metadata": {},
   "source": [
    "## Importing Packages"
   ]
  },
  {
   "cell_type": "markdown",
   "metadata": {},
   "source": [
    "With the NDex module installed, start Python and import NdexGraph."
   ]
  },
  {
   "cell_type": "code",
   "execution_count": 12,
   "metadata": {
    "collapsed": true
   },
   "outputs": [],
   "source": [
    "import ndex.beta.toolbox as toolbox\n",
    "from ndex.networkn import NdexGraph"
   ]
  },
  {
   "cell_type": "markdown",
   "metadata": {},
   "source": [
    "## Loading Networks"
   ]
  },
  {
   "cell_type": "markdown",
   "metadata": {},
   "source": [
    "In order to load a network using a textfile, you must first create an empty graph. For further information about creating graphs, please view the NetworkN Tutorial."
   ]
  },
  {
   "cell_type": "code",
   "execution_count": 4,
   "metadata": {
    "collapsed": false
   },
   "outputs": [],
   "source": [
    "G = NdexGraph()"
   ]
  },
  {
   "cell_type": "markdown",
   "metadata": {},
   "source": [
    "Using the method load(graph, filename,edge_attributes,header), you can input information into the graph. \"graph\" should contain the empty graph, filename should be the text file, edge_attributes (optional) contains a list of all the attribute keys for the edges, and header is a true/false value depending on if there is a header in the text. The text file should be arranged so that the first column contains the source, the second contains the target, and any other columns contains an attribute that the edges have.\n",
    "Shown below is an example text file. It has a header (first row), a row of source nodes, a row of target nodes, and one attribute: strength."
   ]
  },
  {
   "cell_type": "code",
   "execution_count": null,
   "metadata": {
    "collapsed": true
   },
   "outputs": [],
   "source": [
    "regulator\ttarget\tstrength\n",
    "CREM\tZAP70\t-0.37040301976\n",
    "CREM\tCCNA2\t-0.17496355421\n",
    "CREM\tCCNA1\t0.554232166651\n",
    "CREM\tTBP\t-0.265943196526\n",
    "CREM\tACE\t0.695710985787\n",
    "CREM\tACR\t1.13920183687\n",
    "CREM\tTAF4\t-0.859300837898\n",
    "CREM\tG6PD\t0.860999972206\n",
    "CREM\tIL2\t0.260140346049\n",
    "CREM\tSLC5A5\t0.107905249465\n",
    "CREM\tTH\t0.225371693268\n",
    "CREM\tCCL4\t-0.131681869916\n",
    "CREM\tFOS\t0.123023055677\n",
    "CREM\tIL5RA\t0.608089767648\n",
    "CREM\tFASLG\t-0.28380247942\n",
    "CREM\tMC2R\t0.216722438426\n",
    "CREM\tGPX4\t1.1099598825\n",
    "KAT5\tE2F6\t0.266582098612\n",
    "KAT5\tHDC\t1.85870008491\n",
    "KAT5\tRAD21\t-0.190262435583"
   ]
  },
  {
   "cell_type": "markdown",
   "metadata": {},
   "source": [
    "We will call this file 'loadexample.txt'. Now we will use the load method to create a network."
   ]
  },
  {
   "cell_type": "code",
   "execution_count": 5,
   "metadata": {
    "collapsed": true
   },
   "outputs": [],
   "source": [
    "toolbox.load(G, 'loadexample.txt', edge_attributes=['strength'], header=True)"
   ]
  },
  {
   "cell_type": "markdown",
   "metadata": {},
   "source": [
    "You can choose to upload this graph to an ndex server. "
   ]
  },
  {
   "cell_type": "code",
   "execution_count": 6,
   "metadata": {
    "collapsed": false
   },
   "outputs": [
    {
     "data": {
      "text/plain": [
       "u'4da654aa-60d7-11e6-b0a6-06603eb7f303'"
      ]
     },
     "execution_count": 6,
     "metadata": {},
     "output_type": "execute_result"
    }
   ],
   "source": [
    "G.upload_to('http://public.ndexbio.org', 'cc.zhang', 'piggyzhang')"
   ]
  },
  {
   "cell_type": "code",
   "execution_count": null,
   "metadata": {
    "collapsed": true
   },
   "outputs": [],
   "source": [
    "G.upload_to('http://public.ndexbio.org', 'your_username', 'your_password')"
   ]
  },
  {
   "cell_type": "markdown",
   "metadata": {},
   "source": [
    "If you do, the graph would look something like this: "
   ]
  },
  {
   "cell_type": "markdown",
   "metadata": {},
   "source": []
  },
  {
   "cell_type": "markdown",
   "metadata": {},
   "source": [
    "## Annotating a Graph"
   ]
  },
  {
   "cell_type": "markdown",
   "metadata": {},
   "source": [
    "Whereas the load method created the nodes, edges, and edge attributes, the annotate method adds node attributes using annotate(graph, filename). "
   ]
  },
  {
   "cell_type": "markdown",
   "metadata": {},
   "source": [
    "In this example, we will use annotateexample.txt to add information about the color of each node. Note that these colors were randomly assigned and have no significance. Below is what the file looks like."
   ]
  },
  {
   "cell_type": "code",
   "execution_count": null,
   "metadata": {
    "collapsed": true
   },
   "outputs": [],
   "source": [
    "Name\tColor\n",
    "CREM\tblue\n",
    "KAT5\tblue\n",
    "ZAP70\tblue\n",
    "CCNA2\tblue\n",
    "CCNA1\tblue\n",
    "TBP\tred\n",
    "ACE\tred\n",
    "ACR\tred\n",
    "TAF4\tred\n",
    "G6PD\tred\n",
    "IL2\tred\n",
    "SLC5A5\tgreen\n",
    "TH\tgreen\n",
    "CCL4\tgreen\n",
    "FOS\tgreen\n",
    "IL5RA\tgreen\n",
    "FASLG\tyellow\n",
    "MC2R\tyellow\n",
    "GPX4\tyellow\n",
    "E2F6\tyellow\n",
    "HDC\tyellow\n",
    "RAD21\tyellow"
   ]
  },
  {
   "cell_type": "code",
   "execution_count": 24,
   "metadata": {
    "collapsed": true
   },
   "outputs": [],
   "source": [
    "toolbox.annotate(G,'annotateexample.txt');"
   ]
  },
  {
   "cell_type": "code",
   "execution_count": 25,
   "metadata": {
    "collapsed": false
   },
   "outputs": [
    {
     "data": {
      "text/plain": [
       "u'60c689cf-60e5-11e6-b0a6-06603eb7f303'"
      ]
     },
     "execution_count": 25,
     "metadata": {},
     "output_type": "execute_result"
    }
   ],
   "source": [
    "G.upload_to('http://public.ndexbio.org', 'cc.zhang', 'piggyzhang')"
   ]
  },
  {
   "cell_type": "code",
   "execution_count": null,
   "metadata": {
    "collapsed": true
   },
   "outputs": [],
   "source": [
    "G.upload_to('http://public.ndexbio.org', 'your_username', 'your_password')"
   ]
  }
 ],
 "metadata": {
  "kernelspec": {
   "display_name": "Python 2",
   "language": "python",
   "name": "python2"
  },
  "language_info": {
   "codemirror_mode": {
    "name": "ipython",
    "version": 2
   },
   "file_extension": ".py",
   "mimetype": "text/x-python",
   "name": "python",
   "nbconvert_exporter": "python",
   "pygments_lexer": "ipython2",
   "version": "2.7.11"
  }
 },
 "nbformat": 4,
 "nbformat_minor": 0
}
