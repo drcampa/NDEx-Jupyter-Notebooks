{
 "cells": [
  {
   "cell_type": "markdown",
   "metadata": {},
   "source": [
    "## Normalization of Node Identifiers "
   ]
  },
  {
   "cell_type": "markdown",
   "metadata": {},
   "source": [
    "This notebook demonstrates the normalization of the node identifiers in a set of networks. A set of example networks is cloned to your account and then each network is updated in turn. The normalization of the identifiers is performed using the mygene.info resource. The example networks are copies of selected NCI-PID networks, made in 2017.\n",
    "\n",
    "The tutorial demonstrates\n",
    "* Using Network Sets\n",
    "* Cloning networks\n",
    "* Using the mygene.info resource\n",
    "* Updating networks\n",
    "* Use of the @context aspect of a network\n",
    "\n",
    "#### Updates to Each Node:\n",
    "\n",
    "Identifiers are formatted using standard prefixes and the namespaces used are defined in the @context aspect of the network. \n",
    "* Node \"name\" = HGNC gene symbol (without prefix) i.e. **TP53**\n",
    "* Node \"represents\" = NCBI gene id, i.e. **ncbigene:7689**\n",
    "* The *former* node name is added to the values of the node attribute \"alias\" (i.e. the aliases)\n",
    "* The HGNC gene symbol *with* prefix is added the aliases\n",
    "* Uniprot identifiers in the aliases are updated to use the standard \"uniprot\" prefix\n"
   ]
  },
  {
   "cell_type": "markdown",
   "metadata": {},
   "source": [
    "### Import Packages"
   ]
  },
  {
   "cell_type": "code",
   "execution_count": null,
   "metadata": {
    "collapsed": false
   },
   "outputs": [],
   "source": [
    "import ndex2\n",
    "import json\n",
    "import requests\n",
    "from os.path import isfile, expanduser\n"
   ]
  },
  {
   "cell_type": "markdown",
   "metadata": {},
   "source": [
    "### NDEx Credentials\n",
    "\n",
    "Get the username and password to access your account from ndex_tutorial_config.json in your home directory. This file should have the following structure:\n",
    "\n",
    "    {\n",
    "      \"username\" : \"<my_username>\",\n",
    "      \"password\" : \"<my_password>\"\n",
    "    }\n"
   ]
  },
  {
   "cell_type": "code",
   "execution_count": null,
   "metadata": {
    "collapsed": false
   },
   "outputs": [],
   "source": [
    "config_file = expanduser(\"~/ndex_tutorial_config.json\")\n",
    "my_username = None\n",
    "my_password = None\n",
    "my_server = 'public.ndexbio.org'\n",
    "\n",
    "if(isfile(config_file)):\n",
    "    file = open(config_file, \"r\")\n",
    "    data = json.load(file)\n",
    "    file.close()\n",
    "    if data.get(\"password\") and data.get(\"username\"):\n",
    "        my_username = data.get(\"username\")\n",
    "        my_password = data.get(\"password\")\n",
    "    else:\n",
    "        print(\"Error: \" + config_file + \" does not define username and password\")\n",
    "else:\n",
    "    print(\"Error: \" + config_file + \" was not found\")"
   ]
  },
  {
   "cell_type": "markdown",
   "metadata": {},
   "source": [
    "### Get the Example Network Set by UUID"
   ]
  },
  {
   "cell_type": "code",
   "execution_count": null,
   "metadata": {
    "collapsed": true
   },
   "outputs": [],
   "source": [
    "set_uuid = None # get uuids from set\n",
    "\n",
    "network_set = ndex2.get_network_set(set_uuid)\n",
    "\n",
    "uuids = [\"6e798e11-6186-11e5-8ac5-06603eb7f303\"] # for one or more individually specified networks\n",
    "\n",
    "# if set_uuid: --- TBD when \n",
    "\n",
    "    "
   ]
  },
  {
   "cell_type": "markdown",
   "metadata": {},
   "source": [
    "### Functions to Access mygene.info and Update Nodes"
   ]
  },
  {
   "cell_type": "code",
   "execution_count": null,
   "metadata": {
    "collapsed": true
   },
   "outputs": [],
   "source": [
    "def query_mygene_x(q, tax_id='9606', entrezonly=True):\n",
    "    if entrezonly:\n",
    "        r = requests.get('http://mygene.info/v3/query?q='+q+'&species='+tax_id+'&entrezonly=true')\n",
    "    else:\n",
    "        r = requests.get('http://mygene.info/v3/query?q='+q+'&species='+tax_id)\n",
    "    result = r.json()\n",
    "    hits = result.get(\"hits\")\n",
    "    if hits and len(hits) > 0:\n",
    "        return hits[0]\n",
    "    return False\n",
    "\n",
    "def query_batch(query_string, tax_id='9606', scopes=\"symbol, entrezgene, alias, uniprot\", fields=\"symbol, entrezgene\"):\n",
    "    data = {'species': tax_id,\n",
    "            'scopes': scopes,\n",
    "            'fields': fields,\n",
    "            'q': query_string}\n",
    "    r = requests.post('http://mygene.info/v3/query', data)\n",
    "    json = r.json()\n",
    "    return json\n",
    "\n",
    "def query_mygene(q):\n",
    "    hits = query_batch(q)\n",
    "    for hit in hits:\n",
    "        symbol = hit.get('symbol')\n",
    "        id = hit.get('entrezgene')\n",
    "        if symbol and id:\n",
    "            return (symbol, id)\n",
    "    return None\n",
    "\n",
    "# per node update method\n",
    "def update_node (node, nicecx):\n",
    "    print(\"\\nnode %s\" % node.get_name())\n",
    "    aliases = nicecx.get_node_attribute(node, \"alias\")\n",
    "    #print(\"aliases: %s\" % aliases)\n",
    "    # if aliases:\n",
    "        # aliases.push(name)\n",
    "    # else:\n",
    "        # aliases = [name]\n",
    "    \n",
    "    hit = query_mygene(node.get_name())\n",
    "    if hit:\n",
    "        print(\"hit: %s\" % json.dumps(hit, indent=4))\n",
    "    else:\n",
    "        succeed = False\n",
    "        for alias in aliases:\n",
    "            # assume uniprot\n",
    "            id = alias.split(':')[-1]\n",
    "            hit = query_mygene(id)\n",
    "            if hit:\n",
    "                print(\"hit: %s\" % json.dumps(hit, indent=4))\n",
    "                succeed = True\n",
    "                break\n",
    "        if not succeed:\n",
    "            print(\"no gene hit for node %s \" % node.get_name())"
   ]
  },
  {
   "cell_type": "code",
   "execution_count": null,
   "metadata": {
    "collapsed": false
   },
   "outputs": [],
   "source": [
    "# TBD: create output network set\n",
    "\n",
    "# iteration over networks\n",
    "for network_uuid in uuids:\n",
    "    # load network in NiceCX\n",
    "    ncx = ndex2.create_nice_cx_from_server(server=my_server, uuid=network_uuid)\n",
    "    for id, node in ncx.get_nodes():\n",
    "        update_node(node, ncx)\n",
    "    # output network (TBD: in output set)\n",
    "    #print(\"writing %s \" % ncx.get_name())\n",
    "    #ncx.upload_to(my_server, my_username, my_password)\n",
    "    "
   ]
  },
  {
   "cell_type": "code",
   "execution_count": null,
   "metadata": {
    "collapsed": true
   },
   "outputs": [],
   "source": []
  }
 ],
 "metadata": {
  "kernelspec": {
   "display_name": "Python [py36]",
   "language": "python",
   "name": "Python [py36]"
  },
  "language_info": {
   "codemirror_mode": {
    "name": "ipython",
    "version": 3
   },
   "file_extension": ".py",
   "mimetype": "text/x-python",
   "name": "python",
   "nbconvert_exporter": "python",
   "pygments_lexer": "ipython3",
   "version": "3.6.1"
  }
 },
 "nbformat": 4,
 "nbformat_minor": 1
}
