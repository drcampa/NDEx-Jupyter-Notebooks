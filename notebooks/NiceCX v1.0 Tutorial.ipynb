{
 "cells": [
  {
   "cell_type": "markdown",
   "metadata": {},
   "source": [
    "# NiceCX v1.0 Tutorial"
   ]
  },
  {
   "cell_type": "markdown",
   "metadata": {},
   "source": [
    "In this tutorial you will learn to use NiceCX, a simple data model that is part of the ndex2 NDEx Client module.\n",
    "NiceCX facilitates creating and working with networks, including interfaces to NetworkX and Pandas.\n",
    "This tutorial requires Python 3.6+ and the ndex2 module, see the NDEx Client Tutorial for installation instructions."
   ]
  },
  {
   "cell_type": "markdown",
   "metadata": {},
   "source": [
    "### Import Packages Required for this Tutorial"
   ]
  },
  {
   "cell_type": "code",
   "execution_count": 8,
   "metadata": {
    "collapsed": true
   },
   "outputs": [],
   "source": [
    "from nicecxModel.NiceCXNetwork import NiceCXNetwork\n",
    "from nicecxModel.cx.aspects.NodesElement import NodesElement\n",
    "from nicecxModel.cx.aspects.EdgesElement import EdgesElement\n",
    "from nicecxModel.cx.aspects.NodeAttributesElement import NodeAttributesElement\n",
    "from nicecxModel.cx.aspects.EdgeAttributesElement import EdgeAttributesElement\n",
    "import ndex2.client as nc\n",
    "import networkx as nx\n",
    "import pandas as pd"
   ]
  },
  {
   "cell_type": "markdown",
   "metadata": {},
   "source": [
    "# Five Ways to Work with NiceCX networks:"
   ]
  },
  {
   "cell_type": "markdown",
   "metadata": {},
   "source": [
    "- Starting with an Empty Network\n",
    "- CX Files\n",
    "- NDEx Networks\n",
    "- NetworkX Networks\n",
    "- Pandas DataFrames"
   ]
  },
  {
   "cell_type": "markdown",
   "metadata": {},
   "source": [
    "## Starting with an Empty Network"
   ]
  },
  {
   "cell_type": "markdown",
   "metadata": {},
   "source": [
    "**Create an empty niceCx network**"
   ]
  },
  {
   "cell_type": "code",
   "execution_count": 2,
   "metadata": {
    "collapsed": true
   },
   "outputs": [],
   "source": [
    "niceCx_creatures = NiceCXNetwork()"
   ]
  },
  {
   "cell_type": "markdown",
   "metadata": {},
   "source": [
    "**Name the Network**"
   ]
  },
  {
   "cell_type": "markdown",
   "metadata": {},
   "source": [
    "The _niceCx_creatures_ will now be populated with data in which each node represents a species and has a color attribute. Each edge will specify a relationship between the two species. First, we will set the name of the network:  "
   ]
  },
  {
   "cell_type": "code",
   "execution_count": 3,
   "metadata": {
    "collapsed": true
   },
   "outputs": [],
   "source": [
    "niceCx_creatures.setName(\"Food Web\")"
   ]
  },
  {
   "cell_type": "markdown",
   "metadata": {},
   "source": [
    "**Add Nodes and Edges**"
   ]
  },
  {
   "cell_type": "code",
   "execution_count": 4,
   "metadata": {
    "collapsed": true
   },
   "outputs": [],
   "source": [
    "fox_node = niceCx_creatures.addNode(node_name='Fox')\n",
    "mouse_node = niceCx_creatures.addNode(node_name='Mouse')\n",
    "bird_node = niceCx_creatures.addNode(node_name='Bird')\n",
    "\n",
    "fox_bird_edge = niceCx_creatures.addEdge(edge_source=fox_node, edge_target=bird_node, edge_interaction='interacts-with')\n",
    "\n",
    "fox_mouse_edge = niceCx_creatures.addEdge(edge_source=fox_node, edge_target=mouse_node, edge_interaction='interacts-with')\n"
   ]
  },
  {
   "cell_type": "markdown",
   "metadata": {},
   "source": [
    "The addNode and addEdge methods return the unique ID assigned to the new node or edge. In CX, IDs are always assigned in an ascending order, although they may not always be sequential In this case, the node with the name \"Fox\" will have an ID of 0, \"Mouse\" will have 1, and so on. The edge between \"Fox\" and \"Bird\" will have the ID of 0, the next will be 1, and so on. "
   ]
  },
  {
   "cell_type": "markdown",
   "metadata": {},
   "source": [
    "**Add Attributes**"
   ]
  },
  {
   "cell_type": "markdown",
   "metadata": {},
   "source": [
    "The addNodeAttribute and addEdgeAttribute require the ID in the \"property_of\" field and the property \"name\" and \"values\" in their respective fields."
   ]
  },
  {
   "cell_type": "code",
   "execution_count": 5,
   "metadata": {
    "collapsed": true
   },
   "outputs": [],
   "source": [
    "niceCx_creatures.addNodeAttribute(property_of=fox_node, name='Color', values='Red')\n",
    "\n",
    "niceCx_creatures.addNodeAttribute(property_of=mouse_node, name='Color', values='Gray')\n",
    "\n",
    "niceCx_creatures.addNodeAttribute(property_of=bird_node, name='Color', values='Blue')"
   ]
  },
  {
   "cell_type": "code",
   "execution_count": 6,
   "metadata": {
    "collapsed": true
   },
   "outputs": [],
   "source": [
    "niceCx_creatures.addEdgeAttribute(property_of=fox_mouse_edge, name='Hunted', values='On the ground')"
   ]
  },
  {
   "cell_type": "markdown",
   "metadata": {},
   "source": [
    "We can now print a summary of niceCX_creatures. The returned value of the getSummary() method is structured in the same format as NetworkSummary objects returned by NDEx network search methods."
   ]
  },
  {
   "cell_type": "code",
   "execution_count": 7,
   "metadata": {
    "collapsed": false
   },
   "outputs": [
    {
     "name": "stdout",
     "output_type": "stream",
     "text": [
      "Name: Food Web\n",
      "Nodes: 3\n",
      "Edges: 2\n",
      "Node Attributes: 3\n",
      "Edge Attributes: 1\n",
      "\n"
     ]
    }
   ],
   "source": [
    "print(niceCx_creatures.getSummary())"
   ]
  },
  {
   "cell_type": "markdown",
   "metadata": {},
   "source": [
    "## CX Files"
   ]
  },
  {
   "cell_type": "code",
   "execution_count": 8,
   "metadata": {
    "collapsed": false
   },
   "outputs": [
    {
     "name": "stdout",
     "output_type": "stream",
     "text": [
      "Name: \n",
      "Nodes: 2\n",
      "Edges: 1\n",
      "Node Attributes: 0\n",
      "Edge Attributes: 0\n",
      "\n"
     ]
    }
   ],
   "source": [
    "niceCx_from_cx_file = NiceCXNetwork(filename='SimpleNetwork.cx')\n",
    "print(niceCx_from_cx_file.getSummary())"
   ]
  },
  {
   "cell_type": "markdown",
   "metadata": {},
   "source": [
    "## NDEx Networks"
   ]
  },
  {
   "cell_type": "code",
   "execution_count": 3,
   "metadata": {
    "collapsed": false
   },
   "outputs": [
    {
     "name": "stdout",
     "output_type": "stream",
     "text": [
      "http://public.ndexbio.org/v2/network/f1dd6cc3-0007-11e6-b550-06603eb7f303/aspect\n",
      "Name: CoCaNet2\n",
      "Nodes: 36\n",
      "Edges: 37\n",
      "Node Attributes: 778\n",
      "Edge Attributes: 659\n",
      "\n"
     ]
    }
   ],
   "source": [
    "niceCx_from_server = NiceCXNetwork(server='public.ndexbio.org', uuid='f1dd6cc3-0007-11e6-b550-06603eb7f303')\n",
    "print(niceCx_from_server.getSummary())"
   ]
  },
  {
   "cell_type": "markdown",
   "metadata": {},
   "source": [
    "## NetworkX Networks"
   ]
  },
  {
   "cell_type": "markdown",
   "metadata": {},
   "source": [
    "Networks can be manipulated using NetworkX facilities and then used to create a NiceCx network. Here we create a NetworkX network from scratch:"
   ]
  },
  {
   "cell_type": "code",
   "execution_count": 13,
   "metadata": {
    "collapsed": true,
    "scrolled": true
   },
   "outputs": [],
   "source": [
    "G = nx.Graph()\n",
    "G.add_node('ABC')\n",
    "G.add_node('DEF')\n",
    "G.add_node('GHI')\n",
    "G.add_node('JKL')\n",
    "G.add_node('MNO')\n",
    "G.add_node('PQR')\n",
    "G.add_node('XYZ')\n",
    "G.add_edges_from([('ABC','DEF'), ('DEF', 'GHI'),('GHI', 'JKL'), \n",
    "                  ('DEF', 'JKL'), ('JKL', 'MNO'), ('DEF', 'MNO'),\n",
    "                 ('MNO', 'XYZ'), ('DEF', 'PQR')])"
   ]
  },
  {
   "cell_type": "markdown",
   "metadata": {},
   "source": [
    "We now use NetworkX to find the shortest path between nodes ABC and MNO and then create a subgraph from that path."
   ]
  },
  {
   "cell_type": "code",
   "execution_count": 14,
   "metadata": {
    "collapsed": true
   },
   "outputs": [],
   "source": [
    "short_path = nx.shortest_path(G,source='ABC',target=\"MNO\")\n",
    "\n",
    "path_subgraph = G.subgraph(short_path)"
   ]
  },
  {
   "cell_type": "markdown",
   "metadata": {},
   "source": [
    "Finally, NiceCx objects are created from both *G* and *path_subgraph*."
   ]
  },
  {
   "cell_type": "code",
   "execution_count": 15,
   "metadata": {
    "collapsed": false
   },
   "outputs": [
    {
     "name": "stdout",
     "output_type": "stream",
     "text": [
      "Name: Created from NetworkX (full)\n",
      "Nodes: 7\n",
      "Edges: 8\n",
      "Node Attributes: 0\n",
      "Edge Attributes: 0\n",
      "\n",
      "[('ABC', 'DEF'), ('DEF', 'GHI'), ('DEF', 'JKL'), ('DEF', 'MNO'), ('DEF', 'PQR'), ('GHI', 'JKL'), ('JKL', 'MNO'), ('MNO', 'XYZ')]\n",
      "\n",
      "Name: Created from NetworkX (shortest path)\n",
      "Nodes: 3\n",
      "Edges: 2\n",
      "Node Attributes: 0\n",
      "Edge Attributes: 0\n",
      "\n",
      "[('ABC', 'DEF'), ('DEF', 'MNO')]\n"
     ]
    }
   ],
   "source": [
    "niceCx_full = NiceCXNetwork(networkx_G=G)\n",
    "niceCx_full.setName('Created from NetworkX (full)')\n",
    "\n",
    "niceCx_short = NiceCXNetwork(networkx_G=path_subgraph)\n",
    "niceCx_short.setName('Created from NetworkX (shortest path)')\n",
    "                       \n",
    "print(niceCx_full.getSummary())\n",
    "print(G.edges())\n",
    "print('')\n",
    "\n",
    "print(niceCx_short.getSummary())\n",
    "print(path_subgraph.edges())"
   ]
  },
  {
   "cell_type": "markdown",
   "metadata": {},
   "source": [
    "NetworkX networks can be created from NiceCX. Only the "
   ]
  },
  {
   "cell_type": "markdown",
   "metadata": {},
   "source": [
    "## Pandas DataFrames"
   ]
  },
  {
   "cell_type": "markdown",
   "metadata": {},
   "source": [
    "### 2 Column DataFrame with No Headers:"
   ]
  },
  {
   "cell_type": "code",
   "execution_count": 16,
   "metadata": {
    "collapsed": false
   },
   "outputs": [
    {
     "name": "stdout",
     "output_type": "stream",
     "text": [
      "Name: Pandas Upload\n",
      "Nodes: 3\n",
      "Edges: 2\n",
      "Node Attributes: 0\n",
      "Edge Attributes: 0\n",
      "\n",
      "  source     interaction target\n",
      "0    ABC  interacts-with    DEF\n",
      "1    DEF  interacts-with    XYZ\n"
     ]
    }
   ],
   "source": [
    "data = [('ABC', 'DEF'), ('DEF', 'XYZ')]\n",
    "\n",
    "df = pd.DataFrame.from_records(data)\n",
    "\n",
    "niceCx_df_2_column = NiceCXNetwork(pandas_df=df)\n",
    "\n",
    "print(niceCx_df_2_column.getSummary())\n",
    "\n",
    "df_2_col_from_niceCx = niceCx_df_2_column.to_pandas()\n",
    "print(df_2_col_from_niceCx)"
   ]
  },
  {
   "cell_type": "markdown",
   "metadata": {},
   "source": [
    "### 3 Column DataFrame with No Headers:"
   ]
  },
  {
   "cell_type": "code",
   "execution_count": 17,
   "metadata": {
    "collapsed": false
   },
   "outputs": [
    {
     "name": "stdout",
     "output_type": "stream",
     "text": [
      "Name: Pandas Upload\n",
      "Nodes: 3\n",
      "Edges: 2\n",
      "Node Attributes: 0\n",
      "Edge Attributes: 0\n",
      "\n",
      "  source     interaction target\n",
      "0    ABC  interacts-with    DEF\n",
      "1    DEF     neighbor-of    XYZ\n"
     ]
    }
   ],
   "source": [
    "data = [('ABC', 'DEF', 'interacts-with'), ('DEF', 'XYZ', 'neighbor-of')]\n",
    "\n",
    "df = pd.DataFrame.from_records(data)\n",
    "\n",
    "niceCx_df_3_column = NiceCXNetwork(pandas_df=df)\n",
    "\n",
    "print(niceCx_df_3_column.getSummary())\n",
    "\n",
    "df_3_col_from_niceCx = niceCx_df_3_column.to_pandas()\n",
    "print(df_3_col_from_niceCx)"
   ]
  },
  {
   "cell_type": "markdown",
   "metadata": {},
   "source": [
    "### 3+ Column DataFrame with Headers to Specify Attribute Columns"
   ]
  },
  {
   "cell_type": "code",
   "execution_count": 18,
   "metadata": {
    "collapsed": false
   },
   "outputs": [
    {
     "name": "stdout",
     "output_type": "stream",
     "text": [
      "0\n",
      "Name: Pandas Upload\n",
      "Nodes: 3\n",
      "Edges: 2\n",
      "Node Attributes: 0\n",
      "Edge Attributes: 2\n",
      "\n",
      "  source     interaction target         EdgeProp\n",
      "0    ABC  interacts-with    DEF  Edge property 1\n",
      "1    DEF     neighbor-of    XYZ  Edge property 2\n"
     ]
    }
   ],
   "source": [
    "df = pd.DataFrame.from_items([('Source', ['ABC', 'DEF']),\n",
    "                              ('Target', ['DEF', 'XYZ']),\n",
    "                              ('Interaction', ['interacts-with', 'neighbor-of']),\n",
    "                              ('EdgeProp', ['Edge property 1', 'Edge property 2'])])\n",
    "\n",
    "niceCx_df_with_headers = NiceCXNetwork()\n",
    "\n",
    "niceCx_df_with_headers.create_from_pandas(df, source_field='Source', target_field='Target', \n",
    "                          edge_attr=['EdgeProp'], edge_interaction='Interaction')\n",
    "\n",
    "print(niceCx_df_with_headers.getSummary())\n",
    "\n",
    "df_headers_from_niceCx = niceCx_df_with_headers.to_pandas()\n",
    "print(df_headers_from_niceCx)"
   ]
  },
  {
   "cell_type": "markdown",
   "metadata": {
    "collapsed": true
   },
   "source": [
    "### Exporting a Larger and More Complex Network"
   ]
  },
  {
   "cell_type": "markdown",
   "metadata": {
    "collapsed": true
   },
   "source": [
    "More complex networks can be output to a Pandas DataFrame as well. In the following example we convert the example network we loaded from the server."
   ]
  },
  {
   "cell_type": "code",
   "execution_count": 19,
   "metadata": {
    "collapsed": false
   },
   "outputs": [
    {
     "name": "stdout",
     "output_type": "stream",
     "text": [
      "            source interaction          target IsBidirectional   yeast1  \\\n",
      "0      DHFR (DFR1)          pp    MAPK1 (FUS3)                  YOR236W   \n",
      "1     CHEK1 (CHK1)          pp      BLM (SGS1)                  YBR274W   \n",
      "2    IMPDH1 (IMD4)          pp    MTIF2 (IFM1)                  YML056C   \n",
      "3    IMPDH1 (IMD4)          pp    ING5 (PHO23)                  YML056C   \n",
      "4    IMPDH1 (IMD4)          pp    ING4 (PHO23)                  YML056C   \n",
      "5     MAPK1 (FUS3)          pp      NF1 (IRA1)                  YBL016W   \n",
      "6     HDAC2 (RPD3)          pp     WEE1 (SWE1)             yes  YNL330C   \n",
      "7     HDAC1 (RPD3)          pp     WEE1 (SWE1)             yes  YNL330C   \n",
      "8   CSNK1G1 (YCK2)          pp   SH3GL1 (NBP2)                  YNL154C   \n",
      "9   CSNK1G1 (YCK2)          pp     FZR1 (CDH1)                  YNL154C   \n",
      "10   MAP2K1 (PBS2)          pp    MAPK1 (FUS3)                  YJL128C   \n",
      "11   MAP2K1 (PBS2)          pp   RAD52 (RAD52)                  YJL128C   \n",
      "12    HDAC6 (HDA1)          pp   XRCC3 (RAD57)                  YNL021W   \n",
      "13    HDAC6 (HDA1)          pp    TCEA1 (DST1)                  YNL021W   \n",
      "14   TUBA1A (TUB3)          pp    ING5 (PHO23)                  YML124C   \n",
      "15   TUBA1A (TUB3)          pp    ING4 (PHO23)                  YML124C   \n",
      "16   TUBA1A (TUB3)          pp     BRD4 (BDF1)                  YML124C   \n",
      "17      ADA (AAH1)          pp     BRD4 (BDF1)                  YNL141W   \n",
      "18    TOP3A (TOP3)          pp   MAP3K4 (SSK2)                  YLR234W   \n",
      "19    TOP3A (TOP3)          pp     FZR1 (CDH1)                  YLR234W   \n",
      "20  RABGGTB (BET2)          pp  PPP2CB (PPH22)                  YPR176C   \n",
      "21  RABGGTB (BET2)          pp   XRCC3 (RAD57)                  YPR176C   \n",
      "22  RABGGTB (BET2)          pp  RAD23B (RAD23)                  YPR176C   \n",
      "23  RABGGTB (BET2)          pp     BRD4 (BDF1)                  YPR176C   \n",
      "24  RABGGTB (BET2)          pp      BLM (SGS1)                  YPR176C   \n",
      "25     TOP1 (TOP1)          pp   SH3GL1 (NBP2)                  YOL006C   \n",
      "26     TOP1 (TOP1)          pp   LLGL1 (SRO77)                  YOL006C   \n",
      "27     TOP1 (TOP1)          pp   RAD17 (RAD24)                  YOL006C   \n",
      "28     WEE1 (SWE1)          pp    ING4 (PHO23)                  YJL187C   \n",
      "29     WEE1 (SWE1)          pp     FZR1 (CDH1)                  YJL187C   \n",
      "30    CHEK2 (DUN1)          pp  RPS10 (RPS10A)                  YDL101C   \n",
      "31    CHEK2 (DUN1)          pp     FZR1 (CDH1)                  YDL101C   \n",
      "32    CHEK2 (DUN1)          pp     WEE1 (SWE1)             yes  YDL101C   \n",
      "33    CHEK2 (DUN1)          pp      WRN (SGS1)                  YDL101C   \n",
      "34    CHEK2 (DUN1)          pp      BLM (SGS1)                  YDL101C   \n",
      "35    CHEK2 (DUN1)          pp   RAD17 (RAD24)                  YDL101C   \n",
      "36       druggable          pp              TS                            \n",
      "\n",
      "     yeast2      TS      Product   T-stat                 name  \\\n",
      "0   YBL016W   MAPK1  3.286424129   -2.595      DHFR (pp) MAPK1   \n",
      "1   YMR190C     BLM  102.1888489   -12.57       CHEK1 (pp) BLM   \n",
      "2   YOL023W   MTIF2  14.57859102   -4.555    IMPDH1 (pp) MTIF2   \n",
      "3   YNL097C    ING5  14.54198374   -4.477     IMPDH1 (pp) ING5   \n",
      "4   YNL097C    ING4  17.13545278   -4.859     IMPDH1 (pp) ING4   \n",
      "5   YBR140C     NF1  3.045795613   -2.524       MAPK1 (pp) NF1   \n",
      "6   YJL187C    WEE1  7.525579831   -3.336      HDAC2 (pp) WEE1   \n",
      "7   YJL187C    WEE1  7.224496828   -3.336      HDAC1 (pp) WEE1   \n",
      "8   YDR162C  SH3GL1  6.519802301   -3.358  CSNK1G1 (pp) SH3GL1   \n",
      "9   YGL003C    FZR1    10.466722    -4.03    CSNK1G1 (pp) FZR1   \n",
      "10  YBL016W   MAPK1  2.660014701   -3.025    MAP2K1 (pp) MAPK1   \n",
      "11  YML032C   RAD52  3.495852536   -3.349    MAP2K1 (pp) RAD52   \n",
      "12  YDR004W   XRCC3  7.679038187   -3.795     HDAC6 (pp) XRCC3   \n",
      "13  YGL043W   TCEA1  1.458900274    -3.42     HDAC6 (pp) TCEA1   \n",
      "14  YNL097C    ING5  56.37888802   -8.031     TUBA1A (pp) ING5   \n",
      "15  YNL097C    ING4  65.55056172   -8.472     TUBA1A (pp) ING4   \n",
      "16  YLR399C    BRD4  7.838381895   -3.487     TUBA1A (pp) BRD4   \n",
      "17  YLR399C    BRD4  8.085672183   -3.637        ADA (pp) BRD4   \n",
      "18  YNR031C  MAP3K4  26.41252472   -5.771    TOP3A (pp) MAP3K4   \n",
      "19  YGL003C    FZR1  11.49011449   -4.147      TOP3A (pp) FZR1   \n",
      "20  YDL188C  PPP2CB  5.543098291   -3.031  RABGGTB (pp) PPP2CB   \n",
      "21  YDR004W   XRCC3  53.24507753   -7.768   RABGGTB (pp) XRCC3   \n",
      "22  YEL037C  RAD23B   10.9022544   -3.794  RABGGTB (pp) RAD23B   \n",
      "23  YLR399C    BRD4  8.257773521   -3.624    RABGGTB (pp) BRD4   \n",
      "24  YMR190C     BLM  45.13644727   -7.195     RABGGTB (pp) BLM   \n",
      "25  YDR162C  SH3GL1  4.607236142   -2.917     TOP1 (pp) SH3GL1   \n",
      "26  YBL106C   LLGL1  36.14235314    -6.51      TOP1 (pp) LLGL1   \n",
      "27  YER173W   RAD17  67.10977666   -8.531      TOP1 (pp) RAD17   \n",
      "28  YNL097C    ING4  72.50106801   -8.875       WEE1 (pp) ING4   \n",
      "29  YGL003C    FZR1  69.51713962   -8.667       WEE1 (pp) FZR1   \n",
      "30  YOR293W   RPS10  28.72874771   -5.956     CHEK2 (pp) RPS10   \n",
      "31  YGL003C    FZR1  79.65248357    -9.21      CHEK2 (pp) FZR1   \n",
      "32  YJL187C    WEE1   218.823445  -22.268      CHEK2 (pp) WEE1   \n",
      "33  YMR190C     WRN  25.24743097   -5.589       CHEK2 (pp) WRN   \n",
      "34  YMR190C     BLM   150.287835   -12.57       CHEK2 (pp) BLM   \n",
      "35  YER173W   RAD17  80.45314045   -9.274     CHEK2 (pp) RAD17   \n",
      "36                           NaN      NaN    druggable (pp) TS   \n",
      "\n",
      "                      ...                    source_Yeast (systematic)  \\\n",
      "0                     ...                                      YOR236W   \n",
      "1                     ...                                      YBR274W   \n",
      "2                     ...                                      YML056C   \n",
      "3                     ...                                      YML056C   \n",
      "4                     ...                                      YML056C   \n",
      "5                     ...                                      YBL016W   \n",
      "6                     ...                                      YNL330C   \n",
      "7                     ...                                      YNL330C   \n",
      "8                     ...                                      YNL154C   \n",
      "9                     ...                                      YNL154C   \n",
      "10                    ...                                      YJL128C   \n",
      "11                    ...                                      YJL128C   \n",
      "12                    ...                                      YNL021W   \n",
      "13                    ...                                      YNL021W   \n",
      "14                    ...                                      YML124C   \n",
      "15                    ...                                      YML124C   \n",
      "16                    ...                                      YML124C   \n",
      "17                    ...                                      YNL141W   \n",
      "18                    ...                                      YLR234W   \n",
      "19                    ...                                      YLR234W   \n",
      "20                    ...                                      YPR176C   \n",
      "21                    ...                                      YPR176C   \n",
      "22                    ...                                      YPR176C   \n",
      "23                    ...                                      YPR176C   \n",
      "24                    ...                                      YPR176C   \n",
      "25                    ...                                      YOL006C   \n",
      "26                    ...                                      YOL006C   \n",
      "27                    ...                                      YOL006C   \n",
      "28                    ...                                      YJL187C   \n",
      "29                    ...                                      YJL187C   \n",
      "30                    ...                                      YDL101C   \n",
      "31                    ...                                      YDL101C   \n",
      "32                    ...                                      YDL101C   \n",
      "33                    ...                                      YDL101C   \n",
      "34                    ...                                      YDL101C   \n",
      "35                    ...                                      YDL101C   \n",
      "36                    ...                                                \n",
      "\n",
      "   target_Yeast (systematic) source_selected target_selected  \\\n",
      "0                    YBL016W           false           false   \n",
      "1                    YMR190C           false           false   \n",
      "2                    YOL023W           false           false   \n",
      "3                    YNL097C           false           false   \n",
      "4                    YNL097C           false           false   \n",
      "5                    YBR140C           false           false   \n",
      "6                    YJL187C           false           false   \n",
      "7                    YJL187C           false           false   \n",
      "8                    YDR162C           false           false   \n",
      "9                    YGL003C           false           false   \n",
      "10                   YBL016W           false           false   \n",
      "11                   YML032C           false           false   \n",
      "12                   YDR004W           false           false   \n",
      "13                   YGL043W           false           false   \n",
      "14                   YNL097C           false           false   \n",
      "15                   YNL097C           false           false   \n",
      "16                   YLR399C           false           false   \n",
      "17                   YLR399C           false           false   \n",
      "18                   YNR031C           false           false   \n",
      "19                   YGL003C           false           false   \n",
      "20                   YDL188C            true           false   \n",
      "21                   YDR004W            true           false   \n",
      "22                   YEL037C            true           false   \n",
      "23                   YLR399C            true           false   \n",
      "24                   YMR190C            true           false   \n",
      "25                   YDR162C           false           false   \n",
      "26                   YBL106C           false           false   \n",
      "27                   YER173W           false           false   \n",
      "28                   YNL097C           false           false   \n",
      "29                   YGL003C           false           false   \n",
      "30                   YOR293W           false           false   \n",
      "31                   YGL003C           false           false   \n",
      "32                   YJL187C           false           false   \n",
      "33                   YMR190C           false           false   \n",
      "34                   YMR190C           false           false   \n",
      "35                   YER173W           false           false   \n",
      "36                                     false           false   \n",
      "\n",
      "                            source_molecular function  \\\n",
      "0                                                       \n",
      "1                 protein kinase activity|ATP binding   \n",
      "2        IMP dehydrogenase activity|metal ion binding   \n",
      "3        IMP dehydrogenase activity|metal ion binding   \n",
      "4        IMP dehydrogenase activity|metal ion binding   \n",
      "5                                                       \n",
      "6                        histone deacetylase activity   \n",
      "7                        histone deacetylase activity   \n",
      "8   protein serine/threonine kinase activity|prote...   \n",
      "9   protein serine/threonine kinase activity|prote...   \n",
      "10  protein kinase activity|protein serine/threoni...   \n",
      "11  protein kinase activity|protein serine/threoni...   \n",
      "12  core promoter binding|actin binding|histone de...   \n",
      "13  core promoter binding|actin binding|histone de...   \n",
      "14  GTPase activity|structural molecule activity|s...   \n",
      "15  GTPase activity|structural molecule activity|s...   \n",
      "16  GTPase activity|structural molecule activity|s...   \n",
      "17  purine nucleoside binding|adenosine deaminase ...   \n",
      "18      DNA binding|DNA topoisomerase type I activity   \n",
      "19      DNA binding|DNA topoisomerase type I activity   \n",
      "20  Rab geranylgeranyltransferase activity|protein...   \n",
      "21  Rab geranylgeranyltransferase activity|protein...   \n",
      "22  Rab geranylgeranyltransferase activity|protein...   \n",
      "23  Rab geranylgeranyltransferase activity|protein...   \n",
      "24  Rab geranylgeranyltransferase activity|protein...   \n",
      "25  core promoter sequence-specific DNA binding|DN...   \n",
      "26  core promoter sequence-specific DNA binding|DN...   \n",
      "27  core promoter sequence-specific DNA binding|DN...   \n",
      "28                protein kinase activity|ATP binding   \n",
      "29                protein kinase activity|ATP binding   \n",
      "30                                                      \n",
      "31                                                      \n",
      "32                                                      \n",
      "33                                                      \n",
      "34                                                      \n",
      "35                                                      \n",
      "36                                                      \n",
      "\n",
      "                            target_molecular function source_mut/length ratio  \\\n",
      "0                                                                       0.004   \n",
      "1   bubble DNA binding|p53 binding|single-stranded...                   0.011   \n",
      "2   translation initiation factor activity|GTPase ...                   0.015   \n",
      "3   chromatin binding|protein binding|zinc ion bin...                   0.015   \n",
      "4                          methylated histone binding                   0.015   \n",
      "5                                                                       0.005   \n",
      "6                 protein kinase activity|ATP binding                   0.007   \n",
      "7                 protein kinase activity|ATP binding                   0.013   \n",
      "8   protein binding|lipid binding|phosphatase bind...                   0.005   \n",
      "9                                     protein binding                   0.005   \n",
      "10                                                                      0.024   \n",
      "11                                                                      0.024   \n",
      "12  protein binding|ATP binding|DNA-dependent ATPa...                   0.017   \n",
      "13                                                                      0.017   \n",
      "14  chromatin binding|protein binding|zinc ion bin...                   0.013   \n",
      "15                         methylated histone binding                   0.013   \n",
      "16  p53 binding|DNA binding|chromatin binding|prot...                   0.013   \n",
      "17  p53 binding|DNA binding|chromatin binding|prot...                   0.016   \n",
      "18             MAP kinase kinase activity|ATP binding                   0.017   \n",
      "19                                    protein binding                   0.017   \n",
      "20                                                                       0.02   \n",
      "21  protein binding|ATP binding|DNA-dependent ATPa...                    0.02   \n",
      "22                                                                       0.02   \n",
      "23  p53 binding|DNA binding|chromatin binding|prot...                    0.02   \n",
      "24  bubble DNA binding|p53 binding|single-stranded...                    0.02   \n",
      "25  protein binding|lipid binding|phosphatase bind...                   0.016   \n",
      "26  GTPase activator activity|structural molecule ...                   0.016   \n",
      "27  DNA clamp loader activity|protein binding|ATP ...                   0.016   \n",
      "28                         methylated histone binding                   0.008   \n",
      "29                                    protein binding                   0.008   \n",
      "30  structural constituent of ribosome|protein bin...                   0.075   \n",
      "31                                    protein binding                   0.075   \n",
      "32                protein kinase activity|ATP binding                   0.075   \n",
      "33  magnesium ion binding|Y-form DNA binding|bubbl...                   0.075   \n",
      "34  bubble DNA binding|p53 binding|single-stranded...                   0.075   \n",
      "35  DNA clamp loader activity|protein binding|ATP ...                   0.075   \n",
      "36                                                                        NaN   \n",
      "\n",
      "   target_mut/length ratio source_EnrichedFunction2  \\\n",
      "0                    0.005                            \n",
      "1                    0.023                            \n",
      "2                     0.02                            \n",
      "3                    0.003                            \n",
      "4                    0.014                            \n",
      "5                    0.029                            \n",
      "6                    0.008                            \n",
      "7                    0.008                            \n",
      "8                    0.011                            \n",
      "9                    0.011                            \n",
      "10                   0.005                            \n",
      "11                   0.012                            \n",
      "12                   0.003                            \n",
      "13                   0.008                            \n",
      "14                   0.003                            \n",
      "15                   0.014                            \n",
      "16                   0.018                            \n",
      "17                   0.018                            \n",
      "18                   0.027                            \n",
      "19                   0.011                            \n",
      "20                   0.012                            \n",
      "21                   0.003                            \n",
      "22                   0.009                            \n",
      "23                   0.018                            \n",
      "24                   0.023                            \n",
      "25                   0.011     chormatin remodeling   \n",
      "26                   0.011     chormatin remodeling   \n",
      "27                   0.016     chormatin remodeling   \n",
      "28                   0.014                            \n",
      "29                   0.011                            \n",
      "30                    0.01                            \n",
      "31                   0.011                            \n",
      "32                   0.008                            \n",
      "33                    0.02                            \n",
      "34                   0.023                            \n",
      "35                   0.016                            \n",
      "36                     NaN                            \n",
      "\n",
      "                    target_EnrichedFunction2  \n",
      "0                                             \n",
      "1   cellular response to DNA damage stimulus  \n",
      "2                                             \n",
      "3                                             \n",
      "4                                             \n",
      "5                                             \n",
      "6                                             \n",
      "7                                             \n",
      "8                                             \n",
      "9                                             \n",
      "10                                            \n",
      "11                                            \n",
      "12  cellular response to DNA damage stimulus  \n",
      "13                                            \n",
      "14                                            \n",
      "15                                            \n",
      "16  cellular response to DNA damage stimulus  \n",
      "17  cellular response to DNA damage stimulus  \n",
      "18                                            \n",
      "19                                            \n",
      "20                                            \n",
      "21  cellular response to DNA damage stimulus  \n",
      "22                                            \n",
      "23  cellular response to DNA damage stimulus  \n",
      "24  cellular response to DNA damage stimulus  \n",
      "25                                            \n",
      "26                                            \n",
      "27  cellular response to DNA damage stimulus  \n",
      "28                                            \n",
      "29                                            \n",
      "30                                            \n",
      "31                                            \n",
      "32                                            \n",
      "33  cellular response to DNA damage stimulus  \n",
      "34  cellular response to DNA damage stimulus  \n",
      "35  cellular response to DNA damage stimulus  \n",
      "36                                            \n",
      "\n",
      "[37 rows x 65 columns]\n"
     ]
    }
   ],
   "source": [
    "niceCx_from_server = niceCx_from_server.to_pandas()\n",
    "print(niceCx_from_server)"
   ]
  },
  {
   "cell_type": "markdown",
   "metadata": {},
   "source": [
    "Likewise, networks can be output as a networkx graph."
   ]
  },
  {
   "cell_type": "code",
   "execution_count": 5,
   "metadata": {
    "collapsed": false
   },
   "outputs": [
    {
     "name": "stdout",
     "output_type": "stream",
     "text": [
      "CoCaNet2\n"
     ]
    }
   ],
   "source": [
    "niceCx_from_server_to_netx = niceCx_from_server.to_networkx()\n",
    "print(niceCx_from_server_to_netx)"
   ]
  },
  {
   "cell_type": "markdown",
   "metadata": {},
   "source": [
    "**To continue with the tutorial, you must edit the following cell to replace the values of the ‘my_account’ and ‘my_password’ variables with a real NDEx account name and password.**"
   ]
  },
  {
   "cell_type": "code",
   "execution_count": 9,
   "metadata": {
    "collapsed": false
   },
   "outputs": [
    {
     "name": "stdout",
     "output_type": "stream",
     "text": [
      "Could not access account my_account with password my_password\n",
      "(u'401 Client Error:  for url: http://public.ndexbio.org/v2/admin/status',)\n"
     ]
    }
   ],
   "source": [
    "my_account=\"my_account\"\n",
    "my_password=\"my_password\"\n",
    "my_server=\"http://public.ndexbio.org\"\n",
    "try:\n",
    "    my_ndex=nc.Ndex2(my_server, my_account, my_password)\n",
    "    my_ndex.update_status()\n",
    "    print(\"Success.  Please continue.\")\n",
    "except Exception as inst:\n",
    "    print(\"Could not access account %s with password %s\" % (my_account, my_password))\n",
    "    print(inst.args)"
   ]
  },
  {
   "cell_type": "markdown",
   "metadata": {},
   "source": [
    "NiceCx networks can be saved to the NDEx server by calling **upload_to()**"
   ]
  },
  {
   "cell_type": "code",
   "execution_count": null,
   "metadata": {
    "collapsed": true
   },
   "outputs": [],
   "source": [
    "upload_message = niceCx_df_with_headers.upload_to(my_server, my_account, my_password)\n",
    "print(upload_message)"
   ]
  }
 ],
 "metadata": {
  "anaconda-cloud": {},
  "kernelspec": {
   "display_name": "Python 2",
   "language": "python",
   "name": "python2"
  },
  "language_info": {
   "codemirror_mode": {
    "name": "ipython",
    "version": 2
   },
   "file_extension": ".py",
   "mimetype": "text/x-python",
   "name": "python",
   "nbconvert_exporter": "python",
   "pygments_lexer": "ipython2",
   "version": "2.7.13"
  }
 },
 "nbformat": 4,
 "nbformat_minor": 1
}
