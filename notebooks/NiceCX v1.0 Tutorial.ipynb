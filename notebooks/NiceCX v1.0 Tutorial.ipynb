{
 "cells": [
  {
   "cell_type": "markdown",
   "metadata": {},
   "source": [
    "# NiceCX v1.0 Tutorial"
   ]
  },
  {
   "cell_type": "markdown",
   "metadata": {},
   "source": [
    "In this tutorial you will learn to use NiceCX, a simple data model that is part of the ndex2 NDEx Client module.\n",
    "NiceCX facilitates creating and working with networks, including interfaces to NetworkX and Pandas.\n",
    "This tutorial requires Python 3.6+ and the ndex2 module, see the NDEx Client Tutorial for installation instructions."
   ]
  },
  {
   "cell_type": "markdown",
   "metadata": {},
   "source": [
    "### Import Packages Required for this Tutorial"
   ]
  },
  {
   "cell_type": "code",
   "execution_count": null,
   "metadata": {},
   "outputs": [],
   "source": [
    "from ndex2.niceCXNetwork import NiceCXNetwork\n",
    "from ndex2.cx.aspects.NodeElement import NodeElement\n",
    "from ndex2.cx.aspects.EdgeElement import EdgeElement\n",
    "from ndex2.cx.aspects.NodeAttributesElement import NodeAttributesElement\n",
    "from ndex2.cx.aspects.EdgeAttributesElement import EdgeAttributesElement\n",
    "import ndex2.client as nc\n",
    "import networkx as nx\n",
    "import pandas as pd\n",
    "import os"
   ]
  },
  {
   "cell_type": "markdown",
   "metadata": {},
   "source": [
    "# Five Ways to Work with NiceCX networks:"
   ]
  },
  {
   "cell_type": "markdown",
   "metadata": {},
   "source": [
    "- Starting with an Empty Network\n",
    "- CX Files\n",
    "- NDEx Networks\n",
    "- NetworkX Networks\n",
    "- Pandas DataFrames"
   ]
  },
  {
   "cell_type": "markdown",
   "metadata": {},
   "source": [
    "## Starting with an Empty Network"
   ]
  },
  {
   "cell_type": "markdown",
   "metadata": {},
   "source": [
    "**Create an empty niceCx network**"
   ]
  },
  {
   "cell_type": "code",
   "execution_count": null,
   "metadata": {
    "collapsed": true
   },
   "outputs": [],
   "source": [
    "niceCx_creatures = NiceCXNetwork()"
   ]
  },
  {
   "cell_type": "markdown",
   "metadata": {},
   "source": [
    "**Name the Network**"
   ]
  },
  {
   "cell_type": "markdown",
   "metadata": {},
   "source": [
    "The _niceCx_creatures_ will now be populated with data in which each node represents a species and has a color attribute. Each edge will specify a relationship between the two species. First, we will set the name of the network:  "
   ]
  },
  {
   "cell_type": "code",
   "execution_count": null,
   "metadata": {},
   "outputs": [],
   "source": [
    "niceCx_creatures.set_name(\"Food Web\")"
   ]
  },
  {
   "cell_type": "markdown",
   "metadata": {},
   "source": [
    "**Add Nodes and Edges**"
   ]
  },
  {
   "cell_type": "code",
   "execution_count": null,
   "metadata": {},
   "outputs": [],
   "source": [
    "fox_node = niceCx_creatures.create_node(node_name='Fox')\n",
    "mouse_node = niceCx_creatures.create_node(node_name='Mouse')\n",
    "bird_node = niceCx_creatures.create_node(node_name='Bird')\n",
    "\n",
    "fox_bird_edge = niceCx_creatures.create_edge(edge_source=fox_node, edge_target=bird_node, edge_interaction='interacts-with')\n",
    "\n",
    "fox_mouse_edge = niceCx_creatures.create_edge(edge_source=fox_node, edge_target=mouse_node, edge_interaction='interacts-with')\n"
   ]
  },
  {
   "cell_type": "markdown",
   "metadata": {},
   "source": [
    "The addNode and addEdge methods return the unique ID assigned to the new node or edge. In CX, IDs are always assigned in an ascending order, although they may not always be sequential In this case, the node with the name \"Fox\" will have an ID of 0, \"Mouse\" will have 1, and so on. The edge between \"Fox\" and \"Bird\" will have the ID of 0, the next will be 1, and so on. "
   ]
  },
  {
   "cell_type": "markdown",
   "metadata": {},
   "source": [
    "**Add Attributes**"
   ]
  },
  {
   "cell_type": "markdown",
   "metadata": {},
   "source": [
    "The addNodeAttribute and addEdgeAttribute require the ID in the \"property_of\" field and the property \"name\" and \"values\" in their respective fields."
   ]
  },
  {
   "cell_type": "code",
   "execution_count": null,
   "metadata": {},
   "outputs": [],
   "source": [
    "print(niceCx_creatures)\n",
    "niceCx_creatures.add_node_attribute(property_of=fox_node, name='Color', values='Red')\n",
    "\n",
    "niceCx_creatures.add_node_attribute(property_of=mouse_node, name='Color', values='Gray')\n",
    "\n",
    "niceCx_creatures.add_node_attribute(property_of=bird_node, name='Color', values='Blue')"
   ]
  },
  {
   "cell_type": "code",
   "execution_count": null,
   "metadata": {},
   "outputs": [],
   "source": [
    "niceCx_creatures.add_edge_attribute(property_of=fox_mouse_edge, name='Hunted', values='On the ground')"
   ]
  },
  {
   "cell_type": "markdown",
   "metadata": {},
   "source": [
    "We can now print a summary of niceCX_creatures. The returned value of the getSummary() method is structured in the same format as NetworkSummary objects returned by NDEx network search methods."
   ]
  },
  {
   "cell_type": "code",
   "execution_count": null,
   "metadata": {},
   "outputs": [],
   "source": [
    "print(niceCx_creatures.get_summary())"
   ]
  },
  {
   "cell_type": "markdown",
   "metadata": {},
   "source": [
    "## CX Files"
   ]
  },
  {
   "cell_type": "code",
   "execution_count": null,
   "metadata": {
    "collapsed": true
   },
   "outputs": [],
   "source": [
    "import ndex2"
   ]
  },
  {
   "cell_type": "code",
   "execution_count": null,
   "metadata": {},
   "outputs": [],
   "source": [
    "niceCx_from_cx_file = ndex2.create_nice_cx_from_file('SimpleNetwork.cx')\n",
    "\n",
    "print(niceCx_from_cx_file.get_summary())"
   ]
  },
  {
   "cell_type": "markdown",
   "metadata": {},
   "source": [
    "## NDEx Networks"
   ]
  },
  {
   "cell_type": "code",
   "execution_count": null,
   "metadata": {},
   "outputs": [],
   "source": [
    "niceCx_from_server = ndex2.create_nice_cx_from_server(server='public.ndexbio.org', uuid='f1dd6cc3-0007-11e6-b550-06603eb7f303')\n",
    "\n",
    "print(niceCx_from_server.get_summary())"
   ]
  },
  {
   "cell_type": "markdown",
   "metadata": {},
   "source": [
    "## NetworkX Networks"
   ]
  },
  {
   "cell_type": "markdown",
   "metadata": {},
   "source": [
    "Networks can be manipulated using NetworkX facilities and then used to create a NiceCx network. Here we create a NetworkX network from scratch:"
   ]
  },
  {
   "cell_type": "code",
   "execution_count": null,
   "metadata": {
    "collapsed": true,
    "scrolled": true
   },
   "outputs": [],
   "source": [
    "G = nx.Graph()\n",
    "G.add_node('ABC')\n",
    "G.add_node('DEF')\n",
    "G.add_node('GHI')\n",
    "G.add_node('JKL')\n",
    "G.add_node('MNO')\n",
    "G.add_node('PQR')\n",
    "G.add_node('XYZ')\n",
    "G.add_edges_from([('ABC','DEF'), ('DEF', 'GHI'),('GHI', 'JKL'), \n",
    "                  ('DEF', 'JKL'), ('JKL', 'MNO'), ('DEF', 'MNO'),\n",
    "                 ('MNO', 'XYZ'), ('DEF', 'PQR')])"
   ]
  },
  {
   "cell_type": "markdown",
   "metadata": {},
   "source": [
    "We now use NetworkX to find the shortest path between nodes ABC and MNO and then create a subgraph from that path."
   ]
  },
  {
   "cell_type": "code",
   "execution_count": null,
   "metadata": {
    "collapsed": true
   },
   "outputs": [],
   "source": [
    "short_path = nx.shortest_path(G,source='ABC',target=\"MNO\")\n",
    "\n",
    "path_subgraph = G.subgraph(short_path)"
   ]
  },
  {
   "cell_type": "markdown",
   "metadata": {},
   "source": [
    "Finally, NiceCx objects are created from both *G* and *path_subgraph*."
   ]
  },
  {
   "cell_type": "code",
   "execution_count": null,
   "metadata": {},
   "outputs": [],
   "source": [
    "niceCx_full = ndex2.create_nice_cx_from_networkx(G)\n",
    "niceCx_full.set_name('Created from NetworkX (full)')\n",
    "\n",
    "niceCx_short = ndex2.create_nice_cx_from_networkx(path_subgraph)\n",
    "niceCx_short.set_name('Created from NetworkX (shortest path)')\n",
    "                       \n",
    "print(niceCx_full.get_summary())\n",
    "print(G.edges())\n",
    "print('')\n",
    "\n",
    "print(niceCx_short.get_summary())\n",
    "print(path_subgraph.edges())"
   ]
  },
  {
   "cell_type": "markdown",
   "metadata": {},
   "source": [
    "## Pandas DataFrames"
   ]
  },
  {
   "cell_type": "markdown",
   "metadata": {},
   "source": [
    "### 2 Column DataFrame with No Headers:"
   ]
  },
  {
   "cell_type": "code",
   "execution_count": null,
   "metadata": {},
   "outputs": [],
   "source": [
    "data = [('ABC', 'DEF'), ('DEF', 'XYZ')]\n",
    "\n",
    "df = pd.DataFrame.from_records(data)\n",
    "\n",
    "niceCx_df_2_column = ndex2.create_nice_cx_from_pandas(df)\n",
    "\n",
    "print(niceCx_df_2_column.get_summary())\n",
    "\n",
    "#===========================\n",
    "# CONVERT BACK TO DATAFRAME\n",
    "#===========================\n",
    "df_2_col_from_niceCx = niceCx_df_2_column.to_pandas_dataframe()\n",
    "print(df_2_col_from_niceCx)"
   ]
  },
  {
   "cell_type": "markdown",
   "metadata": {},
   "source": [
    "### 3 Column DataFrame with No Headers:"
   ]
  },
  {
   "cell_type": "code",
   "execution_count": null,
   "metadata": {},
   "outputs": [],
   "source": [
    "data = [('ABC', 'DEF', 'interacts-with'), ('DEF', 'XYZ', 'neighbor-of')]\n",
    "\n",
    "df = pd.DataFrame.from_records(data)\n",
    "\n",
    "niceCx_df_3_column = ndex2.create_nice_cx_from_pandas(df)\n",
    "\n",
    "print(niceCx_df_3_column.get_summary())\n",
    "\n",
    "#===========================\n",
    "# CONVERT BACK TO DATAFRAME\n",
    "#===========================\n",
    "df_3_col_from_niceCx = niceCx_df_3_column.to_pandas_dataframe()\n",
    "print(df_3_col_from_niceCx)"
   ]
  },
  {
   "cell_type": "markdown",
   "metadata": {},
   "source": [
    "### 3+ Column DataFrame with Headers to Specify Attribute Columns"
   ]
  },
  {
   "cell_type": "code",
   "execution_count": null,
   "metadata": {},
   "outputs": [],
   "source": [
    "df = pd.DataFrame.from_items([('Source', ['ABC', 'DEF']),\n",
    "                              ('Target', ['DEF', 'XYZ']),\n",
    "                              ('Interaction', ['interacts-with', 'neighbor-of']),\n",
    "                              ('EdgeProp', ['Edge property 1', 'Edge property 2'])])\n",
    "\n",
    "niceCx_df_with_headers = ndex2.create_nice_cx_from_pandas(df, source_field='Source', target_field='Target', \n",
    "                          edge_attr=['EdgeProp'], edge_interaction='Interaction')\n",
    "\n",
    "print(niceCx_df_with_headers.get_summary())\n",
    "\n",
    "#===========================\n",
    "# CONVERT BACK TO DATAFRAME\n",
    "#===========================\n",
    "df_headers_from_niceCx = niceCx_df_with_headers.to_pandas_dataframe()\n",
    "print(df_headers_from_niceCx)"
   ]
  },
  {
   "cell_type": "markdown",
   "metadata": {
    "collapsed": true
   },
   "source": [
    "### Exporting a Larger and More Complex Network"
   ]
  },
  {
   "cell_type": "markdown",
   "metadata": {
    "collapsed": true
   },
   "source": [
    "More complex networks can be output to a Pandas DataFrame as well. In the following example we convert the example network we loaded from the server."
   ]
  },
  {
   "cell_type": "code",
   "execution_count": null,
   "metadata": {},
   "outputs": [],
   "source": [
    "#======================\n",
    "# CONVERT TO DATAFRAME\n",
    "#======================\n",
    "niceCx_from_server_df = niceCx_from_server.to_pandas_dataframe()\n",
    "print(niceCx_from_server_df)"
   ]
  },
  {
   "cell_type": "markdown",
   "metadata": {},
   "source": [
    "Likewise, networks can be output as a networkx graph."
   ]
  },
  {
   "cell_type": "code",
   "execution_count": null,
   "metadata": {},
   "outputs": [],
   "source": [
    "#=====================\n",
    "# CONVERT TO NETWORKX\n",
    "#=====================\n",
    "niceCx_from_server_to_netx = niceCx_from_server.to_networkx()\n",
    "\n",
    "print(niceCx_from_server_to_netx)"
   ]
  },
  {
   "cell_type": "markdown",
   "metadata": {},
   "source": [
    "**To continue with the tutorial, you must edit the following cell to replace the values of the ‘my_account’ and ‘my_password’ variables with a real NDEx account name and password.**"
   ]
  },
  {
   "cell_type": "code",
   "execution_count": null,
   "metadata": {},
   "outputs": [],
   "source": [
    "my_account=\"my_account\"\n",
    "my_password=\"my_password\"\n",
    "my_server=\"http://public.ndexbio.org\"\n",
    "try:\n",
    "    my_ndex=nc.Ndex2(my_server, my_account, my_password)\n",
    "    my_ndex.update_status()\n",
    "    print(\"Success.  Please continue.\")\n",
    "except Exception as inst:\n",
    "    print(\"Could not access account %s with password %s\" % (my_account, my_password))\n",
    "    print(inst.args)"
   ]
  },
  {
   "cell_type": "markdown",
   "metadata": {},
   "source": [
    "NiceCx networks can be saved to the NDEx server by calling **upload_to()**"
   ]
  },
  {
   "cell_type": "code",
   "execution_count": null,
   "metadata": {},
   "outputs": [],
   "source": [
    "upload_message = niceCx_df_with_headers.upload_to(my_server, my_account, my_password)\n",
    "print(upload_message)"
   ]
  }
 ],
 "metadata": {
  "anaconda-cloud": {},
  "kernelspec": {
   "display_name": "Python [conda env:py36]",
   "language": "python",
   "name": "conda-env-py36-py"
  },
  "language_info": {
   "codemirror_mode": {
    "name": "ipython",
    "version": 3
   },
   "file_extension": ".py",
   "mimetype": "text/x-python",
   "name": "python",
   "nbconvert_exporter": "python",
   "pygments_lexer": "ipython3",
   "version": "3.6.1"
  }
 },
 "nbformat": 4,
 "nbformat_minor": 1
}
