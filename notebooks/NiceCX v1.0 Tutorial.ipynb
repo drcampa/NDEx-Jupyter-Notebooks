{
 "cells": [
  {
   "cell_type": "markdown",
   "metadata": {},
   "source": [
    "# NiceCX v1.0 Tutorial"
   ]
  },
  {
   "cell_type": "markdown",
   "metadata": {},
   "source": [
    "In this tutorial you will learn to use NiceCX, a simple data model that is part of the ndex2 NDEx Client module.\n",
    "NiceCX facilitates creating and working with networks, including interfaces to NetworkX and Pandas.\n",
    "This tutorial requires Python 3.6+ and the ndex2 module, see the NDEx Client Tutorial for installation instructions."
   ]
  },
  {
   "cell_type": "markdown",
   "metadata": {},
   "source": [
    "### Import Packages Required for this Tutorial"
   ]
  },
  {
   "cell_type": "code",
   "execution_count": 22,
   "metadata": {
    "collapsed": false
   },
   "outputs": [],
   "source": [
    "from ndex2.niceCXNetwork import NiceCXNetwork\n",
    "from ndex2.cx.aspects.NodeElement import NodeElement\n",
    "from ndex2.cx.aspects.EdgeElement import EdgeElement\n",
    "from ndex2.cx.aspects.NodeAttributesElement import NodeAttributesElement\n",
    "from ndex2.cx.aspects.EdgeAttributesElement import EdgeAttributesElement\n",
    "import ndex2.client as nc\n",
    "import networkx as nx\n",
    "import pandas as pd\n",
    "import os"
   ]
  },
  {
   "cell_type": "markdown",
   "metadata": {},
   "source": [
    "# Five Ways to Work with NiceCX networks:"
   ]
  },
  {
   "cell_type": "markdown",
   "metadata": {},
   "source": [
    "- Starting with an Empty Network\n",
    "- CX Files\n",
    "- NDEx Networks\n",
    "- NetworkX Networks\n",
    "- Pandas DataFrames"
   ]
  },
  {
   "cell_type": "markdown",
   "metadata": {},
   "source": [
    "## Starting with an Empty Network"
   ]
  },
  {
   "cell_type": "markdown",
   "metadata": {},
   "source": [
    "**Create an empty niceCx network**"
   ]
  },
  {
   "cell_type": "code",
   "execution_count": 3,
   "metadata": {
    "collapsed": true
   },
   "outputs": [],
   "source": [
    "niceCx_creatures = NiceCXNetwork()"
   ]
  },
  {
   "cell_type": "markdown",
   "metadata": {},
   "source": [
    "**Name the Network**"
   ]
  },
  {
   "cell_type": "markdown",
   "metadata": {},
   "source": [
    "The _niceCx_creatures_ will now be populated with data in which each node represents a species and has a color attribute. Each edge will specify a relationship between the two species. First, we will set the name of the network:  "
   ]
  },
  {
   "cell_type": "code",
   "execution_count": 4,
   "metadata": {
    "collapsed": false
   },
   "outputs": [],
   "source": [
    "niceCx_creatures.set_name(\"Food Web\")"
   ]
  },
  {
   "cell_type": "markdown",
   "metadata": {},
   "source": [
    "**Add Nodes and Edges**"
   ]
  },
  {
   "cell_type": "code",
   "execution_count": 5,
   "metadata": {
    "collapsed": false
   },
   "outputs": [],
   "source": [
    "fox_node = niceCx_creatures.create_node(node_name='Fox')\n",
    "mouse_node = niceCx_creatures.create_node(node_name='Mouse')\n",
    "bird_node = niceCx_creatures.create_node(node_name='Bird')\n",
    "\n",
    "fox_bird_edge = niceCx_creatures.create_edge(edge_source=fox_node, edge_target=bird_node, edge_interaction='interacts-with')\n",
    "\n",
    "fox_mouse_edge = niceCx_creatures.create_edge(edge_source=fox_node, edge_target=mouse_node, edge_interaction='interacts-with')\n"
   ]
  },
  {
   "cell_type": "markdown",
   "metadata": {},
   "source": [
    "The addNode and addEdge methods return the unique ID assigned to the new node or edge. In CX, IDs are always assigned in an ascending order, although they may not always be sequential In this case, the node with the name \"Fox\" will have an ID of 0, \"Mouse\" will have 1, and so on. The edge between \"Fox\" and \"Bird\" will have the ID of 0, the next will be 1, and so on. "
   ]
  },
  {
   "cell_type": "markdown",
   "metadata": {},
   "source": [
    "**Add Attributes**"
   ]
  },
  {
   "cell_type": "markdown",
   "metadata": {},
   "source": [
    "The addNodeAttribute and addEdgeAttribute require the ID in the \"property_of\" field and the property \"name\" and \"values\" in their respective fields."
   ]
  },
  {
   "cell_type": "code",
   "execution_count": 6,
   "metadata": {
    "collapsed": false
   },
   "outputs": [
    {
     "name": "stdout",
     "output_type": "stream",
     "text": [
      "[{\"numberVerification\": [{\"longNumber\": 281474976710655}]}, {\"nodes\": [{\"@id\": 0, \"n\": \"Mouse\"}, {\"@id\": 1, \"n\": \"Fox\"}, {\"@id\": 2, \"n\": \"Bird\"}]}, {\"edges\": [{\"i\": \"interacts-with\", \"s\": 1, \"@id\": 0, \"t\": 2}, {\"i\": \"interacts-with\", \"s\": 1, \"@id\": 1, \"t\": 0}]}, {\"networkAttributes\": [{\"v\": \"Food Web\", \"d\": \"string\", \"n\": \"name\"}]}, {\"metaData\": [{\"elementCount\": 1, \"version\": \"1.0\", \"consistencyGroup\": 1, \"name\": \"networkAttributes\"}, {\"idCounter\": 2, \"elementCount\": 3, \"version\": \"1.0\", \"consistencyGroup\": 1, \"name\": \"nodes\"}, {\"idCounter\": 1, \"elementCount\": 2, \"version\": \"1.0\", \"consistencyGroup\": 1, \"name\": \"edges\"}]}]\n"
     ]
    }
   ],
   "source": [
    "print(niceCx_creatures)\n",
    "niceCx_creatures.add_node_attribute(property_of=fox_node, name='Color', values='Red')\n",
    "\n",
    "niceCx_creatures.add_node_attribute(property_of=mouse_node, name='Color', values='Gray')\n",
    "\n",
    "niceCx_creatures.add_node_attribute(property_of=bird_node, name='Color', values='Blue')"
   ]
  },
  {
   "cell_type": "code",
   "execution_count": 7,
   "metadata": {
    "collapsed": false
   },
   "outputs": [],
   "source": [
    "niceCx_creatures.add_edge_attribute(property_of=fox_mouse_edge, name='Hunted', values='On the ground')"
   ]
  },
  {
   "cell_type": "markdown",
   "metadata": {},
   "source": [
    "We can now print a summary of niceCX_creatures. The returned value of the getSummary() method is structured in the same format as NetworkSummary objects returned by NDEx network search methods."
   ]
  },
  {
   "cell_type": "code",
   "execution_count": 8,
   "metadata": {
    "collapsed": false
   },
   "outputs": [
    {
     "name": "stdout",
     "output_type": "stream",
     "text": [
      "Name: Food Web\n",
      "Nodes: 3\n",
      "Edges: 2\n",
      "Node Attributes: 3\n",
      "Edge Attributes: 1\n",
      "\n"
     ]
    }
   ],
   "source": [
    "print(niceCx_creatures.get_summary())"
   ]
  },
  {
   "cell_type": "markdown",
   "metadata": {},
   "source": [
    "## CX Files"
   ]
  },
  {
   "cell_type": "code",
   "execution_count": 9,
   "metadata": {
    "collapsed": true
   },
   "outputs": [],
   "source": [
    "import ndex2"
   ]
  },
  {
   "cell_type": "code",
   "execution_count": 11,
   "metadata": {
    "collapsed": false
   },
   "outputs": [
    {
     "name": "stdout",
     "output_type": "stream",
     "text": [
      "Name: Untitled\n",
      "Nodes: 2\n",
      "Edges: 1\n",
      "Node Attributes: 0\n",
      "Edge Attributes: 0\n",
      "\n"
     ]
    }
   ],
   "source": [
    "niceCx_from_cx_file = ndex2.create_nice_cx_from_file('SimpleNetwork.cx')\n",
    "\n",
    "print(niceCx_from_cx_file.get_summary())"
   ]
  },
  {
   "cell_type": "markdown",
   "metadata": {},
   "source": [
    "## NDEx Networks"
   ]
  },
  {
   "cell_type": "code",
   "execution_count": 12,
   "metadata": {
    "collapsed": false
   },
   "outputs": [
    {
     "name": "stdout",
     "output_type": "stream",
     "text": [
      "Name: CoCaNet2\n",
      "Nodes: 36\n",
      "Edges: 37\n",
      "Node Attributes: 778\n",
      "Edge Attributes: 659\n",
      "\n"
     ]
    }
   ],
   "source": [
    "niceCx_from_server = ndex2.create_nice_cx_from_server(server='public.ndexbio.org', uuid='f1dd6cc3-0007-11e6-b550-06603eb7f303')\n",
    "\n",
    "print(niceCx_from_server.get_summary())"
   ]
  },
  {
   "cell_type": "markdown",
   "metadata": {},
   "source": [
    "## NetworkX Networks"
   ]
  },
  {
   "cell_type": "markdown",
   "metadata": {},
   "source": [
    "Networks can be manipulated using NetworkX facilities and then used to create a NiceCx network. Here we create a NetworkX network from scratch:"
   ]
  },
  {
   "cell_type": "code",
   "execution_count": 13,
   "metadata": {
    "collapsed": true,
    "scrolled": true
   },
   "outputs": [],
   "source": [
    "G = nx.Graph()\n",
    "G.add_node('ABC')\n",
    "G.add_node('DEF')\n",
    "G.add_node('GHI')\n",
    "G.add_node('JKL')\n",
    "G.add_node('MNO')\n",
    "G.add_node('PQR')\n",
    "G.add_node('XYZ')\n",
    "G.add_edges_from([('ABC','DEF'), ('DEF', 'GHI'),('GHI', 'JKL'), \n",
    "                  ('DEF', 'JKL'), ('JKL', 'MNO'), ('DEF', 'MNO'),\n",
    "                 ('MNO', 'XYZ'), ('DEF', 'PQR')])"
   ]
  },
  {
   "cell_type": "markdown",
   "metadata": {},
   "source": [
    "We now use NetworkX to find the shortest path between nodes ABC and MNO and then create a subgraph from that path."
   ]
  },
  {
   "cell_type": "code",
   "execution_count": 14,
   "metadata": {
    "collapsed": true
   },
   "outputs": [],
   "source": [
    "short_path = nx.shortest_path(G,source='ABC',target=\"MNO\")\n",
    "\n",
    "path_subgraph = G.subgraph(short_path)"
   ]
  },
  {
   "cell_type": "markdown",
   "metadata": {},
   "source": [
    "Finally, NiceCx objects are created from both *G* and *path_subgraph*."
   ]
  },
  {
   "cell_type": "code",
   "execution_count": 15,
   "metadata": {
    "collapsed": false
   },
   "outputs": [
    {
     "name": "stdout",
     "output_type": "stream",
     "text": [
      "Name: created from networkx\n",
      "Nodes: 7\n",
      "Edges: 8\n",
      "Node Attributes: 0\n",
      "Edge Attributes: 0\n",
      "\n",
      "[('ABC', 'DEF'), ('XYZ', 'MNO'), ('JKL', 'GHI'), ('JKL', 'DEF'), ('JKL', 'MNO'), ('PQR', 'DEF'), ('MNO', 'DEF'), ('GHI', 'DEF')]\n",
      "\n",
      "Name: created from networkx\n",
      "Nodes: 3\n",
      "Edges: 2\n",
      "Node Attributes: 0\n",
      "Edge Attributes: 0\n",
      "\n",
      "[('ABC', 'DEF'), ('DEF', 'MNO')]\n"
     ]
    }
   ],
   "source": [
    "niceCx_full = ndex2.create_nice_cx_from_networkx(G)\n",
    "niceCx_full.set_name('Created from NetworkX (full)')\n",
    "\n",
    "niceCx_short = ndex2.create_nice_cx_from_networkx(path_subgraph)\n",
    "niceCx_short.set_name('Created from NetworkX (shortest path)')\n",
    "                       \n",
    "print(niceCx_full.get_summary())\n",
    "print(G.edges())\n",
    "print('')\n",
    "\n",
    "print(niceCx_short.get_summary())\n",
    "print(path_subgraph.edges())"
   ]
  },
  {
   "cell_type": "code",
   "execution_count": 27,
   "metadata": {
    "collapsed": false
   },
   "outputs": [
    {
     "data": {
      "image/png": "[encoded data removed]",
      "text/plain": [
       "<matplotlib.figure.Figure at 0x10d378d10>"
      ]
     },
     "metadata": {},
     "output_type": "display_data"
    }
   ],
   "source": [
    "#===============================================\n",
    "# Plot using the networkx representation of cx\n",
    "#===============================================\n",
    "niceCx_full_networkx = niceCx_full.to_networkx()\n",
    "\n",
    "names = {} \n",
    "for n in niceCx_full_networkx.nodes():\n",
    "    names[n] = n\n",
    "\n",
    "nx.draw(niceCx_full_networkx, labels = names,with_labels=True)\n",
    "plt.show()"
   ]
  },
  {
   "cell_type": "markdown",
   "metadata": {},
   "source": [
    "## Pandas DataFrames"
   ]
  },
  {
   "cell_type": "markdown",
   "metadata": {},
   "source": [
    "### 2 Column DataFrame with No Headers:"
   ]
  },
  {
   "cell_type": "code",
   "execution_count": 16,
   "metadata": {
    "collapsed": false
   },
   "outputs": [
    {
     "name": "stdout",
     "output_type": "stream",
     "text": [
      "Name: Pandas Upload\n",
      "Nodes: 3\n",
      "Edges: 2\n",
      "Node Attributes: 0\n",
      "Edge Attributes: 0\n",
      "\n",
      "  source     interaction target\n",
      "0    ABC  interacts-with    DEF\n",
      "1    DEF  interacts-with    XYZ\n"
     ]
    }
   ],
   "source": [
    "data = [('ABC', 'DEF'), ('DEF', 'XYZ')]\n",
    "\n",
    "df = pd.DataFrame.from_records(data)\n",
    "\n",
    "niceCx_df_2_column = ndex2.create_nice_cx_from_pandas(df)\n",
    "\n",
    "print(niceCx_df_2_column.get_summary())\n",
    "\n",
    "#===========================\n",
    "# CONVERT BACK TO DATAFRAME\n",
    "#===========================\n",
    "df_2_col_from_niceCx = niceCx_df_2_column.to_pandas_dataframe()\n",
    "print(df_2_col_from_niceCx)"
   ]
  },
  {
   "cell_type": "markdown",
   "metadata": {},
   "source": [
    "### 3 Column DataFrame with No Headers:"
   ]
  },
  {
   "cell_type": "code",
   "execution_count": 17,
   "metadata": {
    "collapsed": false
   },
   "outputs": [
    {
     "name": "stdout",
     "output_type": "stream",
     "text": [
      "Name: Pandas Upload\n",
      "Nodes: 3\n",
      "Edges: 2\n",
      "Node Attributes: 0\n",
      "Edge Attributes: 0\n",
      "\n",
      "  source     interaction target\n",
      "0    ABC  interacts-with    DEF\n",
      "1    DEF     neighbor-of    XYZ\n"
     ]
    }
   ],
   "source": [
    "data = [('ABC', 'DEF', 'interacts-with'), ('DEF', 'XYZ', 'neighbor-of')]\n",
    "\n",
    "df = pd.DataFrame.from_records(data)\n",
    "\n",
    "niceCx_df_3_column = ndex2.create_nice_cx_from_pandas(df)\n",
    "\n",
    "print(niceCx_df_3_column.get_summary())\n",
    "\n",
    "#===========================\n",
    "# CONVERT BACK TO DATAFRAME\n",
    "#===========================\n",
    "df_3_col_from_niceCx = niceCx_df_3_column.to_pandas_dataframe()\n",
    "print(df_3_col_from_niceCx)"
   ]
  },
  {
   "cell_type": "markdown",
   "metadata": {},
   "source": [
    "### 3+ Column DataFrame with Headers to Specify Attribute Columns"
   ]
  },
  {
   "cell_type": "code",
   "execution_count": 18,
   "metadata": {
    "collapsed": false
   },
   "outputs": [
    {
     "name": "stdout",
     "output_type": "stream",
     "text": [
      "0\n",
      "Name: Pandas Upload\n",
      "Nodes: 3\n",
      "Edges: 2\n",
      "Node Attributes: 0\n",
      "Edge Attributes: 2\n",
      "\n",
      "  source     interaction target         EdgeProp\n",
      "0    ABC  interacts-with    DEF  Edge property 1\n",
      "1    DEF     neighbor-of    XYZ  Edge property 2\n"
     ]
    }
   ],
   "source": [
    "df = pd.DataFrame.from_items([('Source', ['ABC', 'DEF']),\n",
    "                              ('Target', ['DEF', 'XYZ']),\n",
    "                              ('Interaction', ['interacts-with', 'neighbor-of']),\n",
    "                              ('EdgeProp', ['Edge property 1', 'Edge property 2'])])\n",
    "\n",
    "niceCx_df_with_headers = ndex2.create_nice_cx_from_pandas(df, source_field='Source', target_field='Target', \n",
    "                          edge_attr=['EdgeProp'], edge_interaction='Interaction')\n",
    "\n",
    "print(niceCx_df_with_headers.get_summary())\n",
    "\n",
    "#===========================\n",
    "# CONVERT BACK TO DATAFRAME\n",
    "#===========================\n",
    "df_headers_from_niceCx = niceCx_df_with_headers.to_pandas_dataframe()\n",
    "print(df_headers_from_niceCx)"
   ]
  },
  {
   "cell_type": "markdown",
   "metadata": {
    "collapsed": true
   },
   "source": [
    "### Exporting a Larger and More Complex Network"
   ]
  },
  {
   "cell_type": "markdown",
   "metadata": {
    "collapsed": true
   },
   "source": [
    "More complex networks can be output to a Pandas DataFrame as well. In the following example we convert the example network we loaded from the server."
   ]
  },
  {
   "cell_type": "code",
   "execution_count": 19,
   "metadata": {
    "collapsed": false
   },
   "outputs": [
    {
     "name": "stdout",
     "output_type": "stream",
     "text": [
      "            source interaction          target      Product interaction  \\\n",
      "0     HDAC2 (RPD3)          pp     WEE1 (SWE1)  7.525579831          pp   \n",
      "1     MAPK1 (FUS3)          pp      NF1 (IRA1)  3.045795613          pp   \n",
      "2    IMPDH1 (IMD4)          pp    ING4 (PHO23)  17.13545278          pp   \n",
      "3    IMPDH1 (IMD4)          pp    ING5 (PHO23)  14.54198374          pp   \n",
      "4    IMPDH1 (IMD4)          pp    MTIF2 (IFM1)  14.57859102          pp   \n",
      "5     CHEK1 (CHK1)          pp      BLM (SGS1)  102.1888489          pp   \n",
      "6      DHFR (DFR1)          pp    MAPK1 (FUS3)  3.286424129          pp   \n",
      "7        druggable          pp              TS          NaN          pp   \n",
      "8     CHEK2 (DUN1)          pp   RAD17 (RAD24)  80.45314045          pp   \n",
      "9     CHEK2 (DUN1)          pp      BLM (SGS1)   150.287835          pp   \n",
      "10    CHEK2 (DUN1)          pp      WRN (SGS1)  25.24743097          pp   \n",
      "11    CHEK2 (DUN1)          pp     WEE1 (SWE1)   218.823445          pp   \n",
      "12    CHEK2 (DUN1)          pp     FZR1 (CDH1)  79.65248357          pp   \n",
      "13    CHEK2 (DUN1)          pp  RPS10 (RPS10A)  28.72874771          pp   \n",
      "14     WEE1 (SWE1)          pp     FZR1 (CDH1)  69.51713962          pp   \n",
      "15     WEE1 (SWE1)          pp    ING4 (PHO23)  72.50106801          pp   \n",
      "16     TOP1 (TOP1)          pp   RAD17 (RAD24)  67.10977666          pp   \n",
      "17     TOP1 (TOP1)          pp   LLGL1 (SRO77)  36.14235314          pp   \n",
      "18     TOP1 (TOP1)          pp   SH3GL1 (NBP2)  4.607236142          pp   \n",
      "19  RABGGTB (BET2)          pp      BLM (SGS1)  45.13644727          pp   \n",
      "20  RABGGTB (BET2)          pp     BRD4 (BDF1)  8.257773521          pp   \n",
      "21  RABGGTB (BET2)          pp  RAD23B (RAD23)   10.9022544          pp   \n",
      "22  RABGGTB (BET2)          pp   XRCC3 (RAD57)  53.24507753          pp   \n",
      "23  RABGGTB (BET2)          pp  PPP2CB (PPH22)  5.543098291          pp   \n",
      "24    TOP3A (TOP3)          pp     FZR1 (CDH1)  11.49011449          pp   \n",
      "25    TOP3A (TOP3)          pp   MAP3K4 (SSK2)  26.41252472          pp   \n",
      "26      ADA (AAH1)          pp     BRD4 (BDF1)  8.085672183          pp   \n",
      "27   TUBA1A (TUB3)          pp     BRD4 (BDF1)  7.838381895          pp   \n",
      "28   TUBA1A (TUB3)          pp    ING4 (PHO23)  65.55056172          pp   \n",
      "29   TUBA1A (TUB3)          pp    ING5 (PHO23)  56.37888802          pp   \n",
      "30    HDAC6 (HDA1)          pp    TCEA1 (DST1)  1.458900274          pp   \n",
      "31    HDAC6 (HDA1)          pp   XRCC3 (RAD57)  7.679038187          pp   \n",
      "32   MAP2K1 (PBS2)          pp   RAD52 (RAD52)  3.495852536          pp   \n",
      "33   MAP2K1 (PBS2)          pp    MAPK1 (FUS3)  2.660014701          pp   \n",
      "34  CSNK1G1 (YCK2)          pp     FZR1 (CDH1)    10.466722          pp   \n",
      "35  CSNK1G1 (YCK2)          pp   SH3GL1 (NBP2)  6.519802301          pp   \n",
      "36    HDAC1 (RPD3)          pp     WEE1 (SWE1)  7.224496828          pp   \n",
      "\n",
      "   druggable   T-stat ProductRanks known interaction selected  \\\n",
      "0      HDAC2   -3.336   0.85240267  synthetic lethal    false   \n",
      "1      MAPK1   -2.524  0.807583355                      false   \n",
      "2     IMPDH1   -4.859  0.838868385                      false   \n",
      "3     IMPDH1   -4.477   0.83011408                      false   \n",
      "4     IMPDH1   -4.555  0.820221604                      false   \n",
      "5      CHEK1   -12.57  0.824064069   phosphorylation    false   \n",
      "6       DHFR   -2.595  0.814070423                      false   \n",
      "7                 NaN          NaN                      false   \n",
      "8      CHEK2   -9.274  0.987835229  synthetic lethal    false   \n",
      "9      CHEK2   -12.57  0.969895632   phosphorylation    false   \n",
      "10     CHEK2   -5.589  0.930331125   phosphorylation    false   \n",
      "11     CHEK2  -22.268  0.915214866  synthetic lethal    false   \n",
      "12     CHEK2    -9.21  0.900429773                      false   \n",
      "13     CHEK2   -5.956  0.844652317                      false   \n",
      "14      WEE1   -8.667  0.975184839                      false   \n",
      "15      WEE1   -8.875  0.867276794                      false   \n",
      "16      TOP1   -8.531  0.923646437  synthetic lethal    false   \n",
      "17      TOP1    -6.51  0.916327745                      false   \n",
      "18      TOP1   -2.917  0.850329345                      false   \n",
      "19   RABGGTB   -7.195  0.913919881                      false   \n",
      "20   RABGGTB   -3.624  0.892481799                      false   \n",
      "21   RABGGTB   -3.794   0.87619803                      false   \n",
      "22   RABGGTB   -7.768  0.848417217                      false   \n",
      "23   RABGGTB   -3.031  0.826422022                      false   \n",
      "24     TOP3A   -4.147  0.902494331                      false   \n",
      "25     TOP3A   -5.771  0.886963947                      false   \n",
      "26       ADA   -3.637  0.881643714                      false   \n",
      "27    TUBA1A   -3.487  0.879969676                      false   \n",
      "28    TUBA1A   -8.472  0.858433796                      false   \n",
      "29    TUBA1A   -8.031  0.857927942                      false   \n",
      "30     HDAC6    -3.42  0.879610857                      false   \n",
      "31     HDAC6   -3.795  0.851372078                      false   \n",
      "32    MAP2K1   -3.349  0.865835448                      false   \n",
      "33    MAP2K1   -3.025  0.847916085                      false   \n",
      "34   CSNK1G1    -4.03   0.85309198                      false   \n",
      "35   CSNK1G1   -3.358  0.818718207                      false   \n",
      "36     HDAC1   -3.336   0.85240267  synthetic lethal    false   \n",
      "\n",
      "              ...             \\\n",
      "0             ...              \n",
      "1             ...              \n",
      "2             ...              \n",
      "3             ...              \n",
      "4             ...              \n",
      "5             ...              \n",
      "6             ...              \n",
      "7             ...              \n",
      "8             ...              \n",
      "9             ...              \n",
      "10            ...              \n",
      "11            ...              \n",
      "12            ...              \n",
      "13            ...              \n",
      "14            ...              \n",
      "15            ...              \n",
      "16            ...              \n",
      "17            ...              \n",
      "18            ...              \n",
      "19            ...              \n",
      "20            ...              \n",
      "21            ...              \n",
      "22            ...              \n",
      "23            ...              \n",
      "24            ...              \n",
      "25            ...              \n",
      "26            ...              \n",
      "27            ...              \n",
      "28            ...              \n",
      "29            ...              \n",
      "30            ...              \n",
      "31            ...              \n",
      "32            ...              \n",
      "33            ...              \n",
      "34            ...              \n",
      "35            ...              \n",
      "36            ...              \n",
      "\n",
      "                                source_DB_Object_Name  \\\n",
      "0                               Histone deacetylase 2   \n",
      "1                                                       \n",
      "2              Inosine-5'-monophosphate dehydrogenase   \n",
      "3              Inosine-5'-monophosphate dehydrogenase   \n",
      "4              Inosine-5'-monophosphate dehydrogenase   \n",
      "5                Serine/threonine-protein kinase Chk1   \n",
      "6                                                       \n",
      "7                                                       \n",
      "8                Serine/threonine-protein kinase Chk2   \n",
      "9                Serine/threonine-protein kinase Chk2   \n",
      "10               Serine/threonine-protein kinase Chk2   \n",
      "11               Serine/threonine-protein kinase Chk2   \n",
      "12               Serine/threonine-protein kinase Chk2   \n",
      "13               Serine/threonine-protein kinase Chk2   \n",
      "14                           Wee1-like protein kinase   \n",
      "15                           Wee1-like protein kinase   \n",
      "16                                DNA topoisomerase 1   \n",
      "17                                DNA topoisomerase 1   \n",
      "18                                DNA topoisomerase 1   \n",
      "19     Geranylgeranyl transferase type-2 subunit beta   \n",
      "20     Geranylgeranyl transferase type-2 subunit beta   \n",
      "21     Geranylgeranyl transferase type-2 subunit beta   \n",
      "22     Geranylgeranyl transferase type-2 subunit beta   \n",
      "23     Geranylgeranyl transferase type-2 subunit beta   \n",
      "24                          DNA topoisomerase 3-alpha   \n",
      "25                          DNA topoisomerase 3-alpha   \n",
      "26                                Adenosine deaminase   \n",
      "27                             Tubulin alpha-1A chain   \n",
      "28                             Tubulin alpha-1A chain   \n",
      "29                             Tubulin alpha-1A chain   \n",
      "30                              Histone deacetylase 6   \n",
      "31                              Histone deacetylase 6   \n",
      "32  Dual specificity mitogen-activated protein kin...   \n",
      "33  Dual specificity mitogen-activated protein kin...   \n",
      "34                    Casein kinase I isoform gamma-1   \n",
      "35                    Casein kinase I isoform gamma-1   \n",
      "36                              Histone deacetylase 1   \n",
      "\n",
      "                                target_DB_Object_Name source_entrezgene  \\\n",
      "0                            Wee1-like protein kinase              3066   \n",
      "1                                                                   NaN   \n",
      "2                       Inhibitor of growth protein 4              3614   \n",
      "3                       Inhibitor of growth protein 5              3614   \n",
      "4   Translation initiation factor IF-2, mitochondrial              3614   \n",
      "5                              Bloom syndrome protein              1111   \n",
      "6                                                                   NaN   \n",
      "7                                                                   NaN   \n",
      "8                 Cell cycle checkpoint protein RAD17             11200   \n",
      "9                              Bloom syndrome protein             11200   \n",
      "10             Werner syndrome ATP-dependent helicase             11200   \n",
      "11                           Wee1-like protein kinase             11200   \n",
      "12                      Fizzy-related protein homolog             11200   \n",
      "13                          40S ribosomal protein S10             11200   \n",
      "14                      Fizzy-related protein homolog              7465   \n",
      "15                      Inhibitor of growth protein 4              7465   \n",
      "16                Cell cycle checkpoint protein RAD17              7150   \n",
      "17           Lethal(2) giant larvae protein homolog 1              7150   \n",
      "18                                      Endophilin-A2              7150   \n",
      "19                             Bloom syndrome protein             26804   \n",
      "20                   Bromodomain-containing protein 4             26804   \n",
      "21         UV excision repair protein RAD23 homolog B             26804   \n",
      "22                           DNA repair protein XRCC3             26804   \n",
      "23                                                                26804   \n",
      "24                      Fizzy-related protein homolog              7156   \n",
      "25   Mitogen-activated protein kinase kinase kinase 4              7156   \n",
      "26                   Bromodomain-containing protein 4               100   \n",
      "27                   Bromodomain-containing protein 4              7846   \n",
      "28                      Inhibitor of growth protein 4              7846   \n",
      "29                      Inhibitor of growth protein 5              7846   \n",
      "30                                                                10013   \n",
      "31                           DNA repair protein XRCC3             10013   \n",
      "32                   DNA repair protein RAD52 homolog              5604   \n",
      "33                                                                 5604   \n",
      "34                      Fizzy-related protein homolog             53944   \n",
      "35                                      Endophilin-A2             53944   \n",
      "36                           Wee1-like protein kinase              3065   \n",
      "\n",
      "   target_entrezgene source_Yeast (systematic) target_Yeast (systematic)  \\\n",
      "0               7465                   YNL330C                   YJL187C   \n",
      "1                NaN                   YBL016W                   YBR140C   \n",
      "2              51147                   YML056C                   YNL097C   \n",
      "3              84289                   YML056C                   YNL097C   \n",
      "4               4528                   YML056C                   YOL023W   \n",
      "5                641                   YBR274W                   YMR190C   \n",
      "6                NaN                   YOR236W                   YBL016W   \n",
      "7                NaN                                                       \n",
      "8               5884                   YDL101C                   YER173W   \n",
      "9                641                   YDL101C                   YMR190C   \n",
      "10              7486                   YDL101C                   YMR190C   \n",
      "11              7465                   YDL101C                   YJL187C   \n",
      "12             51343                   YDL101C                   YGL003C   \n",
      "13              6204                   YDL101C                   YOR293W   \n",
      "14             51343                   YJL187C                   YGL003C   \n",
      "15             51147                   YJL187C                   YNL097C   \n",
      "16              5884                   YOL006C                   YER173W   \n",
      "17              3996                   YOL006C                   YBL106C   \n",
      "18              6455                   YOL006C                   YDR162C   \n",
      "19               641                   YPR176C                   YMR190C   \n",
      "20             23476                   YPR176C                   YLR399C   \n",
      "21              5887                   YPR176C                   YEL037C   \n",
      "22              7517                   YPR176C                   YDR004W   \n",
      "23               NaN                   YPR176C                   YDL188C   \n",
      "24             51343                   YLR234W                   YGL003C   \n",
      "25              4216                   YLR234W                   YNR031C   \n",
      "26             23476                   YNL141W                   YLR399C   \n",
      "27             23476                   YML124C                   YLR399C   \n",
      "28             51147                   YML124C                   YNL097C   \n",
      "29             84289                   YML124C                   YNL097C   \n",
      "30               NaN                   YNL021W                   YGL043W   \n",
      "31              7517                   YNL021W                   YDR004W   \n",
      "32              5893                   YJL128C                   YML032C   \n",
      "33               NaN                   YJL128C                   YBL016W   \n",
      "34             51343                   YNL154C                   YGL003C   \n",
      "35              6455                   YNL154C                   YDR162C   \n",
      "36              7465                   YNL330C                   YJL187C   \n",
      "\n",
      "   source_drug status target_drug status source_Mutation Frequency  \\\n",
      "0                 n/a            Phase 2                      0.01   \n",
      "1                Tool                n/a                     0.007   \n",
      "2                Tool                n/a                    0.0072   \n",
      "3                Tool                n/a                    0.0072   \n",
      "4                Tool                n/a                    0.0072   \n",
      "5             Phase 2                n/a                    0.0103   \n",
      "6            Approved               Tool                    0.0033   \n",
      "7                                                              NaN   \n",
      "8             Phase 1                n/a                    0.0345   \n",
      "9             Phase 1                n/a                    0.0345   \n",
      "10            Phase 1                n/a                    0.0345   \n",
      "11            Phase 1            Phase 2                    0.0345   \n",
      "12            Phase 1                n/a                    0.0345   \n",
      "13            Phase 1                n/a                    0.0345   \n",
      "14            Phase 2                n/a                    0.0061   \n",
      "15            Phase 2                n/a                    0.0061   \n",
      "16           Approved                n/a                    0.0117   \n",
      "17           Approved                n/a                    0.0117   \n",
      "18           Approved                n/a                    0.0117   \n",
      "19            Phase 2                n/a                    0.0064   \n",
      "20            Phase 2                n/a                    0.0064   \n",
      "21            Phase 2                n/a                    0.0064   \n",
      "22            Phase 2                n/a                    0.0064   \n",
      "23            Phase 2                n/a                    0.0064   \n",
      "24           Approved                n/a                    0.0137   \n",
      "25           Approved                n/a                    0.0137   \n",
      "26           Approved                n/a                    0.0073   \n",
      "27           Approved                n/a                    0.0084   \n",
      "28           Approved                n/a                    0.0084   \n",
      "29           Approved                n/a                    0.0084   \n",
      "30           Approved                n/a                    0.0157   \n",
      "31           Approved                n/a                    0.0157   \n",
      "32            Phase 2                n/a                    0.0112   \n",
      "33            Phase 2               Tool                    0.0112   \n",
      "34               Tool                n/a                    0.0072   \n",
      "35               Tool                n/a                    0.0072   \n",
      "36           Approved            Phase 2                    0.0059   \n",
      "\n",
      "   target_Mutation Frequency  \n",
      "0                     0.0061  \n",
      "1                        NaN  \n",
      "2                      0.004  \n",
      "3                     0.0037  \n",
      "4                      0.012  \n",
      "5                     0.0199  \n",
      "6                      0.007  \n",
      "7                        NaN  \n",
      "8                     0.0106  \n",
      "9                     0.0199  \n",
      "10                    0.0226  \n",
      "11                    0.0061  \n",
      "12                    0.0082  \n",
      "13                    0.0022  \n",
      "14                    0.0082  \n",
      "15                     0.004  \n",
      "16                    0.0106  \n",
      "17                    0.0087  \n",
      "18                    0.0061  \n",
      "19                    0.0199  \n",
      "20                    0.0182  \n",
      "21                    0.0073  \n",
      "22                     0.002  \n",
      "23                    0.0056  \n",
      "24                    0.0082  \n",
      "25                    0.0279  \n",
      "26                    0.0182  \n",
      "27                    0.0182  \n",
      "28                     0.004  \n",
      "29                    0.0037  \n",
      "30                    0.0056  \n",
      "31                     0.002  \n",
      "32                    0.0067  \n",
      "33                     0.007  \n",
      "34                    0.0082  \n",
      "35                    0.0061  \n",
      "36                    0.0061  \n",
      "\n",
      "[37 rows x 65 columns]\n"
     ]
    }
   ],
   "source": [
    "#======================\n",
    "# CONVERT TO DATAFRAME\n",
    "#======================\n",
    "niceCx_from_server_df = niceCx_from_server.to_pandas_dataframe()\n",
    "print(niceCx_from_server_df)"
   ]
  },
  {
   "cell_type": "markdown",
   "metadata": {},
   "source": [
    "Likewise, networks can be output as a networkx graph."
   ]
  },
  {
   "cell_type": "code",
   "execution_count": 20,
   "metadata": {
    "collapsed": false
   },
   "outputs": [
    {
     "name": "stdout",
     "output_type": "stream",
     "text": [
      "CoCaNet2\n"
     ]
    }
   ],
   "source": [
    "#=====================\n",
    "# CONVERT TO NETWORKX\n",
    "#=====================\n",
    "niceCx_from_server_to_netx = niceCx_from_server.to_networkx()\n",
    "\n",
    "print(niceCx_from_server_to_netx)"
   ]
  },
  {
   "cell_type": "markdown",
   "metadata": {},
   "source": [
    "**To continue with the tutorial, you must edit the following cell to replace the values of the ‘my_account’ and ‘my_password’ variables with a real NDEx account name and password.**"
   ]
  },
  {
   "cell_type": "code",
   "execution_count": 23,
   "metadata": {
    "collapsed": false
   },
   "outputs": [
    {
     "name": "stdout",
     "output_type": "stream",
     "text": [
      "Success.  Please continue.\n"
     ]
    }
   ],
   "source": [
    "my_account=\"enter_your_username\"\n",
    "my_password=\"enter_your_password\"\n",
    "my_server=\"http://public.ndexbio.org\"\n",
    "try:\n",
    "    my_ndex=nc.Ndex2(my_server, my_account, my_password)\n",
    "    my_ndex.update_status()\n",
    "    print(\"Success.  Please continue.\")\n",
    "except Exception as inst:\n",
    "    print(\"Could not access account %s with password %s\" % (my_account, my_password))\n",
    "    print(inst.args)"
   ]
  },
  {
   "cell_type": "markdown",
   "metadata": {},
   "source": [
    "NiceCx networks can be saved to the NDEx server by calling **upload_to()**"
   ]
  },
  {
   "cell_type": "code",
   "execution_count": 24,
   "metadata": {
    "collapsed": false
   },
   "outputs": [
    {
     "name": "stdout",
     "output_type": "stream",
     "text": [
      "http://public.ndexbio.org/v2/network/ac65b419-f23e-11e7-adc1-0ac135e8bacf\n"
     ]
    }
   ],
   "source": [
    "upload_message = niceCx_df_with_headers.upload_to(my_server, my_account, my_password)\n",
    "print(upload_message)"
   ]
  },
  {
   "cell_type": "code",
   "execution_count": 25,
   "metadata": {
    "collapsed": false
   },
   "outputs": [],
   "source": [
    "template_id = '4f53171c-600f-11e6-b0a6-06603eb7f303'\n",
    "niceCx_creatures.apply_template(username='scratch', password='scratch', server='dev2.ndexbio.org', uuid=template_id)"
   ]
  },
  {
   "cell_type": "code",
   "execution_count": 26,
   "metadata": {
    "collapsed": true
   },
   "outputs": [],
   "source": [
    "%matplotlib inline\n",
    "import matplotlib.pyplot as plt"
   ]
  },
  {
   "cell_type": "code",
   "execution_count": null,
   "metadata": {
    "collapsed": false
   },
   "outputs": [],
   "source": []
  },
  {
   "cell_type": "code",
   "execution_count": null,
   "metadata": {
    "collapsed": true
   },
   "outputs": [],
   "source": []
  }
 ],
 "metadata": {
  "anaconda-cloud": {},
  "kernelspec": {
   "display_name": "Python 2",
   "language": "python",
   "name": "python2"
  },
  "language_info": {
   "codemirror_mode": {
    "name": "ipython",
    "version": 2
   },
   "file_extension": ".py",
   "mimetype": "text/x-python",
   "name": "python",
   "nbconvert_exporter": "python",
   "pygments_lexer": "ipython2",
   "version": "2.7.13"
  }
 },
 "nbformat": 4,
 "nbformat_minor": 1
}
