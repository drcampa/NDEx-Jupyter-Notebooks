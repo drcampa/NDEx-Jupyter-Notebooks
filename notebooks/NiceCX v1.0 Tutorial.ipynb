{
 "cells": [
  {
   "cell_type": "markdown",
   "metadata": {},
   "source": [
    "# NiceCX v1.0 Tutorial"
   ]
  },
  {
   "cell_type": "markdown",
   "metadata": {},
   "source": [
    "In this tutorial you will learn to use NiceCX, a simple data model that is part of the ndex2 NDEx Client module.\n",
    "NiceCX facilitates creating and working with networks, including interfaces to NetworkX and Pandas.\n",
    "This tutorial requires Python 3.6+ and the ndex2 module, see the NDEx Client Tutorial for installation instructions."
   ]
  },
  {
   "cell_type": "markdown",
   "metadata": {},
   "source": [
    "### Import Packages Required for this Tutorial"
   ]
  },
  {
   "cell_type": "code",
   "execution_count": 1,
   "metadata": {
    "collapsed": false
   },
   "outputs": [],
   "source": [
    "from nicecxModel.NiceCXNetwork import NiceCXNetwork\n",
    "from nicecxModel.cx.aspects.NodeElement import NodeElement\n",
    "from nicecxModel.cx.aspects.EdgeElement import EdgeElement\n",
    "from nicecxModel.cx.aspects.NodeAttributesElement import NodeAttributesElement\n",
    "from nicecxModel.cx.aspects.EdgeAttributesElement import EdgeAttributesElement\n",
    "import networkx as nx\n",
    "import pandas as pd\n",
    "import os"
   ]
  },
  {
   "cell_type": "markdown",
   "metadata": {},
   "source": [
    "# Five Ways to Work with NiceCX networks:"
   ]
  },
  {
   "cell_type": "markdown",
   "metadata": {},
   "source": [
    "- Starting with an Empty Network\n",
    "- CX Files\n",
    "- NDEx Networks\n",
    "- NetworkX Networks\n",
    "- Pandas DataFrames"
   ]
  },
  {
   "cell_type": "markdown",
   "metadata": {},
   "source": [
    "## Starting with an Empty Network"
   ]
  },
  {
   "cell_type": "markdown",
   "metadata": {},
   "source": [
    "**Create an empty niceCx network**"
   ]
  },
  {
   "cell_type": "code",
   "execution_count": 2,
   "metadata": {
    "collapsed": true
   },
   "outputs": [],
   "source": [
    "niceCx_creatures = NiceCXNetwork()"
   ]
  },
  {
   "cell_type": "markdown",
   "metadata": {},
   "source": [
    "**Name the Network**"
   ]
  },
  {
   "cell_type": "markdown",
   "metadata": {},
   "source": [
    "The _niceCx_creatures_ will now be populated with data in which each node represents a species and has a color attribute. Each edge will specify a relationship between the two species. First, we will set the name of the network:  "
   ]
  },
  {
   "cell_type": "code",
   "execution_count": 3,
   "metadata": {
    "collapsed": false
   },
   "outputs": [],
   "source": [
    "niceCx_creatures.set_name(\"Food Web\")"
   ]
  },
  {
   "cell_type": "markdown",
   "metadata": {},
   "source": [
    "**Add Nodes and Edges**"
   ]
  },
  {
   "cell_type": "code",
   "execution_count": 4,
   "metadata": {
    "collapsed": false
   },
   "outputs": [],
   "source": [
    "fox_node = niceCx_creatures.create_node(node_name='Fox')\n",
    "mouse_node = niceCx_creatures.create_node(node_name='Mouse')\n",
    "bird_node = niceCx_creatures.create_node(node_name='Bird')\n",
    "\n",
    "fox_bird_edge = niceCx_creatures.create_edge(edge_source=fox_node, edge_target=bird_node, edge_interaction='interacts-with')\n",
    "\n",
    "fox_mouse_edge = niceCx_creatures.create_edge(edge_source=fox_node, edge_target=mouse_node, edge_interaction='interacts-with')\n"
   ]
  },
  {
   "cell_type": "markdown",
   "metadata": {},
   "source": [
    "The addNode and addEdge methods return the unique ID assigned to the new node or edge. In CX, IDs are always assigned in an ascending order, although they may not always be sequential In this case, the node with the name \"Fox\" will have an ID of 0, \"Mouse\" will have 1, and so on. The edge between \"Fox\" and \"Bird\" will have the ID of 0, the next will be 1, and so on. "
   ]
  },
  {
   "cell_type": "markdown",
   "metadata": {},
   "source": [
    "**Add Attributes**"
   ]
  },
  {
   "cell_type": "markdown",
   "metadata": {},
   "source": [
    "The addNodeAttribute and addEdgeAttribute require the ID in the \"property_of\" field and the property \"name\" and \"values\" in their respective fields."
   ]
  },
  {
   "cell_type": "code",
   "execution_count": 5,
   "metadata": {
    "collapsed": false
   },
   "outputs": [
    {
     "name": "stdout",
     "output_type": "stream",
     "text": [
      "[{\"numberVerification\": [{\"longNumber\": 281474976710655}]}, {\"nodes\": [{\"@id\": 0, \"n\": \"Fox\"}, {\"@id\": 1, \"n\": \"Mouse\"}, {\"@id\": 2, \"n\": \"Bird\"}]}, {\"edges\": [{\"@id\": 0, \"i\": \"interacts-with\"}, {\"@id\": 1, \"i\": \"interacts-with\"}]}, {\"networkAttributes\": [{\"n\": \"name\", \"d\": \"string\", \"v\": \"Food Web\"}]}, {\"metaData\": [{\"elementCount\": 3, \"version\": \"1.0\", \"consistencyGroup\": 1, \"name\": \"nodes\", \"idCounter\": 2}, {\"elementCount\": 2, \"version\": \"1.0\", \"consistencyGroup\": 1, \"name\": \"edges\", \"idCounter\": 1}, {\"elementCount\": 1, \"version\": \"1.0\", \"consistencyGroup\": 1, \"name\": \"networkAttributes\"}]}]\n"
     ]
    }
   ],
   "source": [
    "print(niceCx_creatures)\n",
    "niceCx_creatures.add_node_attribute(property_of=fox_node, name='Color', values='Red')\n",
    "\n",
    "niceCx_creatures.add_node_attribute(property_of=mouse_node, name='Color', values='Gray')\n",
    "\n",
    "niceCx_creatures.add_node_attribute(property_of=bird_node, name='Color', values='Blue')"
   ]
  },
  {
   "cell_type": "code",
   "execution_count": 6,
   "metadata": {
    "collapsed": false
   },
   "outputs": [],
   "source": [
    "niceCx_creatures.add_edge_attribute(property_of=fox_mouse_edge, name='Hunted', values='On the ground')"
   ]
  },
  {
   "cell_type": "markdown",
   "metadata": {},
   "source": [
    "We can now print a summary of niceCX_creatures. The returned value of the getSummary() method is structured in the same format as NetworkSummary objects returned by NDEx network search methods."
   ]
  },
  {
   "cell_type": "code",
   "execution_count": 7,
   "metadata": {
    "collapsed": false
   },
   "outputs": [
    {
     "name": "stdout",
     "output_type": "stream",
     "text": [
      "Name: Food Web\n",
      "Nodes: 3\n",
      "Edges: 2\n",
      "Node Attributes: 3\n",
      "Edge Attributes: 1\n",
      "\n"
     ]
    }
   ],
   "source": [
    "print(niceCx_creatures.get_summary())"
   ]
  },
  {
   "cell_type": "markdown",
   "metadata": {},
   "source": [
    "## CX Files"
   ]
  },
  {
   "cell_type": "code",
   "execution_count": 8,
   "metadata": {
    "collapsed": true
   },
   "outputs": [],
   "source": [
    "import ndex2"
   ]
  },
  {
   "cell_type": "code",
   "execution_count": 9,
   "metadata": {
    "collapsed": false
   },
   "outputs": [
    {
     "name": "stdout",
     "output_type": "stream",
     "text": [
      "Name: Untitled\n",
      "Nodes: 2\n",
      "Edges: 1\n",
      "Node Attributes: 0\n",
      "Edge Attributes: 0\n",
      "\n"
     ]
    }
   ],
   "source": [
    "niceCx_from_cx_file = ndex2.create_nice_cx_from_filename('SimpleNetwork.cx')\n",
    "\n",
    "print(niceCx_from_cx_file.get_summary())"
   ]
  },
  {
   "cell_type": "markdown",
   "metadata": {},
   "source": [
    "## NDEx Networks"
   ]
  },
  {
   "cell_type": "code",
   "execution_count": 10,
   "metadata": {
    "collapsed": false
   },
   "outputs": [
    {
     "name": "stdout",
     "output_type": "stream",
     "text": [
      "Name: CoCaNet2\n",
      "Nodes: 36\n",
      "Edges: 37\n",
      "Node Attributes: 778\n",
      "Edge Attributes: 659\n",
      "\n"
     ]
    }
   ],
   "source": [
    "niceCx_from_server = ndex2.create_nice_cx_from_server(server='public.ndexbio.org', uuid='f1dd6cc3-0007-11e6-b550-06603eb7f303')\n",
    "\n",
    "print(niceCx_from_server.get_summary())"
   ]
  },
  {
   "cell_type": "markdown",
   "metadata": {},
   "source": [
    "## NetworkX Networks"
   ]
  },
  {
   "cell_type": "markdown",
   "metadata": {},
   "source": [
    "Networks can be manipulated using NetworkX facilities and then used to create a NiceCx network. Here we create a NetworkX network from scratch:"
   ]
  },
  {
   "cell_type": "code",
   "execution_count": 11,
   "metadata": {
    "collapsed": true,
    "scrolled": true
   },
   "outputs": [],
   "source": [
    "G = nx.Graph()\n",
    "G.add_node('ABC')\n",
    "G.add_node('DEF')\n",
    "G.add_node('GHI')\n",
    "G.add_node('JKL')\n",
    "G.add_node('MNO')\n",
    "G.add_node('PQR')\n",
    "G.add_node('XYZ')\n",
    "G.add_edges_from([('ABC','DEF'), ('DEF', 'GHI'),('GHI', 'JKL'), \n",
    "                  ('DEF', 'JKL'), ('JKL', 'MNO'), ('DEF', 'MNO'),\n",
    "                 ('MNO', 'XYZ'), ('DEF', 'PQR')])"
   ]
  },
  {
   "cell_type": "markdown",
   "metadata": {},
   "source": [
    "We now use NetworkX to find the shortest path between nodes ABC and MNO and then create a subgraph from that path."
   ]
  },
  {
   "cell_type": "code",
   "execution_count": 12,
   "metadata": {
    "collapsed": true
   },
   "outputs": [],
   "source": [
    "short_path = nx.shortest_path(G,source='ABC',target=\"MNO\")\n",
    "\n",
    "path_subgraph = G.subgraph(short_path)"
   ]
  },
  {
   "cell_type": "markdown",
   "metadata": {},
   "source": [
    "Finally, NiceCx objects are created from both *G* and *path_subgraph*."
   ]
  },
  {
   "cell_type": "code",
   "execution_count": 13,
   "metadata": {
    "collapsed": false
   },
   "outputs": [
    {
     "name": "stdout",
     "output_type": "stream",
     "text": [
      "Name: created from networkx\n",
      "Nodes: 7\n",
      "Edges: 8\n",
      "Node Attributes: 0\n",
      "Edge Attributes: 0\n",
      "\n",
      "[('ABC', 'DEF'), ('DEF', 'GHI'), ('DEF', 'JKL'), ('DEF', 'MNO'), ('DEF', 'PQR'), ('GHI', 'JKL'), ('JKL', 'MNO'), ('MNO', 'XYZ')]\n",
      "\n",
      "Name: created from networkx\n",
      "Nodes: 3\n",
      "Edges: 2\n",
      "Node Attributes: 0\n",
      "Edge Attributes: 0\n",
      "\n",
      "[('ABC', 'DEF'), ('DEF', 'MNO')]\n"
     ]
    }
   ],
   "source": [
    "niceCx_full = ndex2.create_nice_cx_from_networkx(G)\n",
    "niceCx_full.set_name('Created from NetworkX (full)')\n",
    "\n",
    "niceCx_short = ndex2.create_nice_cx_from_networkx(path_subgraph)\n",
    "niceCx_short.set_name('Created from NetworkX (shortest path)')\n",
    "                       \n",
    "print(niceCx_full.get_summary())\n",
    "print(G.edges())\n",
    "print('')\n",
    "\n",
    "print(niceCx_short.get_summary())\n",
    "print(path_subgraph.edges())"
   ]
  },
  {
   "cell_type": "markdown",
   "metadata": {},
   "source": [
    "## Pandas DataFrames"
   ]
  },
  {
   "cell_type": "markdown",
   "metadata": {},
   "source": [
    "### 2 Column DataFrame with No Headers:"
   ]
  },
  {
   "cell_type": "code",
   "execution_count": 14,
   "metadata": {
    "collapsed": false
   },
   "outputs": [
    {
     "name": "stdout",
     "output_type": "stream",
     "text": [
      "Name: Pandas Upload\n",
      "Nodes: 3\n",
      "Edges: 2\n",
      "Node Attributes: 0\n",
      "Edge Attributes: 0\n",
      "\n",
      "  source     interaction target\n",
      "0    ABC  interacts-with    DEF\n",
      "1    DEF  interacts-with    XYZ\n"
     ]
    }
   ],
   "source": [
    "data = [('ABC', 'DEF'), ('DEF', 'XYZ')]\n",
    "\n",
    "df = pd.DataFrame.from_records(data)\n",
    "\n",
    "niceCx_df_2_column = ndex2.create_nice_cx_from_pandas(df)\n",
    "\n",
    "print(niceCx_df_2_column.get_summary())\n",
    "\n",
    "#===========================\n",
    "# CONVERT BACK TO DATAFRAME\n",
    "#===========================\n",
    "df_2_col_from_niceCx = niceCx_df_2_column.to_pandas_dataframe()\n",
    "print(df_2_col_from_niceCx)"
   ]
  },
  {
   "cell_type": "markdown",
   "metadata": {},
   "source": [
    "### 3 Column DataFrame with No Headers:"
   ]
  },
  {
   "cell_type": "code",
   "execution_count": 15,
   "metadata": {
    "collapsed": false
   },
   "outputs": [
    {
     "name": "stdout",
     "output_type": "stream",
     "text": [
      "Name: Pandas Upload\n",
      "Nodes: 3\n",
      "Edges: 2\n",
      "Node Attributes: 0\n",
      "Edge Attributes: 0\n",
      "\n",
      "  source     interaction target\n",
      "0    ABC  interacts-with    DEF\n",
      "1    DEF     neighbor-of    XYZ\n"
     ]
    }
   ],
   "source": [
    "data = [('ABC', 'DEF', 'interacts-with'), ('DEF', 'XYZ', 'neighbor-of')]\n",
    "\n",
    "df = pd.DataFrame.from_records(data)\n",
    "\n",
    "niceCx_df_3_column = ndex2.create_nice_cx_from_pandas(df)\n",
    "\n",
    "print(niceCx_df_3_column.get_summary())\n",
    "\n",
    "#===========================\n",
    "# CONVERT BACK TO DATAFRAME\n",
    "#===========================\n",
    "df_3_col_from_niceCx = niceCx_df_3_column.to_pandas_dataframe()\n",
    "print(df_3_col_from_niceCx)"
   ]
  },
  {
   "cell_type": "markdown",
   "metadata": {},
   "source": [
    "### 3+ Column DataFrame with Headers to Specify Attribute Columns"
   ]
  },
  {
   "cell_type": "code",
   "execution_count": 16,
   "metadata": {
    "collapsed": false
   },
   "outputs": [
    {
     "name": "stdout",
     "output_type": "stream",
     "text": [
      "0\n",
      "Name: Pandas Upload\n",
      "Nodes: 3\n",
      "Edges: 2\n",
      "Node Attributes: 0\n",
      "Edge Attributes: 2\n",
      "\n",
      "  source     interaction target         EdgeProp\n",
      "0    ABC  interacts-with    DEF  Edge property 1\n",
      "1    DEF     neighbor-of    XYZ  Edge property 2\n"
     ]
    }
   ],
   "source": [
    "df = pd.DataFrame.from_items([('Source', ['ABC', 'DEF']),\n",
    "                              ('Target', ['DEF', 'XYZ']),\n",
    "                              ('Interaction', ['interacts-with', 'neighbor-of']),\n",
    "                              ('EdgeProp', ['Edge property 1', 'Edge property 2'])])\n",
    "\n",
    "niceCx_df_with_headers = ndex2.create_nice_cx_from_pandas(df, source_field='Source', target_field='Target', \n",
    "                          edge_attr=['EdgeProp'], edge_interaction='Interaction')\n",
    "\n",
    "print(niceCx_df_with_headers.get_summary())\n",
    "\n",
    "#===========================\n",
    "# CONVERT BACK TO DATAFRAME\n",
    "#===========================\n",
    "df_headers_from_niceCx = niceCx_df_with_headers.to_pandas_dataframe()\n",
    "print(df_headers_from_niceCx)"
   ]
  },
  {
   "cell_type": "markdown",
   "metadata": {
    "collapsed": true
   },
   "source": [
    "### Exporting a Larger and More Complex Network"
   ]
  },
  {
   "cell_type": "markdown",
   "metadata": {
    "collapsed": true
   },
   "source": [
    "More complex networks can be output to a Pandas DataFrame as well. In the following example we convert the example network we loaded from the server."
   ]
  },
  {
   "cell_type": "code",
   "execution_count": 17,
   "metadata": {
    "collapsed": false
   },
   "outputs": [
    {
     "name": "stdout",
     "output_type": "stream",
     "text": [
      "            source interaction          target          shared name  \\\n",
      "0      DHFR (DFR1)          pp    MAPK1 (FUS3)      DHFR (pp) MAPK1   \n",
      "1     CHEK1 (CHK1)          pp      BLM (SGS1)       CHEK1 (pp) BLM   \n",
      "2    IMPDH1 (IMD4)          pp    MTIF2 (IFM1)    IMPDH1 (pp) MTIF2   \n",
      "3    IMPDH1 (IMD4)          pp    ING5 (PHO23)     IMPDH1 (pp) ING5   \n",
      "4    IMPDH1 (IMD4)          pp    ING4 (PHO23)     IMPDH1 (pp) ING4   \n",
      "5     MAPK1 (FUS3)          pp      NF1 (IRA1)       MAPK1 (pp) NF1   \n",
      "6     HDAC2 (RPD3)          pp     WEE1 (SWE1)      HDAC2 (pp) WEE1   \n",
      "7     HDAC1 (RPD3)          pp     WEE1 (SWE1)      HDAC1 (pp) WEE1   \n",
      "8   CSNK1G1 (YCK2)          pp   SH3GL1 (NBP2)  CSNK1G1 (pp) SH3GL1   \n",
      "9   CSNK1G1 (YCK2)          pp     FZR1 (CDH1)    CSNK1G1 (pp) FZR1   \n",
      "10   MAP2K1 (PBS2)          pp    MAPK1 (FUS3)    MAP2K1 (pp) MAPK1   \n",
      "11   MAP2K1 (PBS2)          pp   RAD52 (RAD52)    MAP2K1 (pp) RAD52   \n",
      "12    HDAC6 (HDA1)          pp   XRCC3 (RAD57)     HDAC6 (pp) XRCC3   \n",
      "13    HDAC6 (HDA1)          pp    TCEA1 (DST1)     HDAC6 (pp) TCEA1   \n",
      "14   TUBA1A (TUB3)          pp    ING5 (PHO23)     TUBA1A (pp) ING5   \n",
      "15   TUBA1A (TUB3)          pp    ING4 (PHO23)     TUBA1A (pp) ING4   \n",
      "16   TUBA1A (TUB3)          pp     BRD4 (BDF1)     TUBA1A (pp) BRD4   \n",
      "17      ADA (AAH1)          pp     BRD4 (BDF1)        ADA (pp) BRD4   \n",
      "18    TOP3A (TOP3)          pp   MAP3K4 (SSK2)    TOP3A (pp) MAP3K4   \n",
      "19    TOP3A (TOP3)          pp     FZR1 (CDH1)      TOP3A (pp) FZR1   \n",
      "20  RABGGTB (BET2)          pp  PPP2CB (PPH22)  RABGGTB (pp) PPP2CB   \n",
      "21  RABGGTB (BET2)          pp   XRCC3 (RAD57)   RABGGTB (pp) XRCC3   \n",
      "22  RABGGTB (BET2)          pp  RAD23B (RAD23)  RABGGTB (pp) RAD23B   \n",
      "23  RABGGTB (BET2)          pp     BRD4 (BDF1)    RABGGTB (pp) BRD4   \n",
      "24  RABGGTB (BET2)          pp      BLM (SGS1)     RABGGTB (pp) BLM   \n",
      "25     TOP1 (TOP1)          pp   SH3GL1 (NBP2)     TOP1 (pp) SH3GL1   \n",
      "26     TOP1 (TOP1)          pp   LLGL1 (SRO77)      TOP1 (pp) LLGL1   \n",
      "27     TOP1 (TOP1)          pp   RAD17 (RAD24)      TOP1 (pp) RAD17   \n",
      "28     WEE1 (SWE1)          pp    ING4 (PHO23)       WEE1 (pp) ING4   \n",
      "29     WEE1 (SWE1)          pp     FZR1 (CDH1)       WEE1 (pp) FZR1   \n",
      "30    CHEK2 (DUN1)          pp  RPS10 (RPS10A)     CHEK2 (pp) RPS10   \n",
      "31    CHEK2 (DUN1)          pp     FZR1 (CDH1)      CHEK2 (pp) FZR1   \n",
      "32    CHEK2 (DUN1)          pp     WEE1 (SWE1)      CHEK2 (pp) WEE1   \n",
      "33    CHEK2 (DUN1)          pp      WRN (SGS1)       CHEK2 (pp) WRN   \n",
      "34    CHEK2 (DUN1)          pp      BLM (SGS1)       CHEK2 (pp) BLM   \n",
      "35    CHEK2 (DUN1)          pp   RAD17 (RAD24)     CHEK2 (pp) RAD17   \n",
      "36       druggable          pp              TS    druggable (pp) TS   \n",
      "\n",
      "   humanFDRnegLog10 druggable IsBidirectional   yeast2      TS  \\\n",
      "0             1.267      DHFR                  YBL016W   MAPK1   \n",
      "1              8.13     CHEK1                  YMR190C     BLM   \n",
      "2               3.2    IMPDH1                  YOL023W   MTIF2   \n",
      "3             3.248    IMPDH1                  YNL097C    ING5   \n",
      "4             3.527    IMPDH1                  YNL097C    ING4   \n",
      "5             1.207     MAPK1                  YBR140C     NF1   \n",
      "6             2.256     HDAC2             yes  YJL187C    WEE1   \n",
      "7             2.166     HDAC1             yes  YJL187C    WEE1   \n",
      "8             1.942   CSNK1G1                  YDR162C  SH3GL1   \n",
      "9             2.597   CSNK1G1                  YGL003C    FZR1   \n",
      "10            0.879    MAP2K1                  YBL016W   MAPK1   \n",
      "11            1.044    MAP2K1                  YML032C   RAD52   \n",
      "12            2.023     HDAC6                  YDR004W   XRCC3   \n",
      "13            0.427     HDAC6                  YGL043W   TCEA1   \n",
      "14             7.02    TUBA1A                  YNL097C    ING5   \n",
      "15            7.737    TUBA1A                  YNL097C    ING4   \n",
      "16            2.248    TUBA1A                  YLR399C    BRD4   \n",
      "17            2.223       ADA                  YLR399C    BRD4   \n",
      "18            4.577     TOP3A                  YNR031C  MAP3K4   \n",
      "19            2.771     TOP3A                  YGL003C    FZR1   \n",
      "20            1.829   RABGGTB                  YDL188C  PPP2CB   \n",
      "21            6.854   RABGGTB                  YDR004W   XRCC3   \n",
      "22            2.874   RABGGTB                  YEL037C  RAD23B   \n",
      "23            2.279   RABGGTB                  YLR399C    BRD4   \n",
      "24            6.274   RABGGTB                  YMR190C     BLM   \n",
      "25            1.579      TOP1                  YDR162C  SH3GL1   \n",
      "26            5.552      TOP1                  YBL106C   LLGL1   \n",
      "27            7.866      TOP1                  YER173W   RAD17   \n",
      "28            8.169      WEE1                  YNL097C    ING4   \n",
      "29            8.021      WEE1                  YGL003C    FZR1   \n",
      "30            4.824     CHEK2                  YOR293W   RPS10   \n",
      "31            8.649     CHEK2                  YGL003C    FZR1   \n",
      "32            9.827     CHEK2             yes  YJL187C    WEE1   \n",
      "33            4.517     CHEK2                  YMR190C     WRN   \n",
      "34           11.956     CHEK2                  YMR190C     BLM   \n",
      "35            8.675     CHEK2                  YER173W   RAD17   \n",
      "36              NaN                                              \n",
      "\n",
      "   known interaction               ...                source_selected  \\\n",
      "0                                  ...                          false   \n",
      "1    phosphorylation               ...                          false   \n",
      "2                                  ...                          false   \n",
      "3                                  ...                          false   \n",
      "4                                  ...                          false   \n",
      "5                                  ...                          false   \n",
      "6   synthetic lethal               ...                          false   \n",
      "7   synthetic lethal               ...                          false   \n",
      "8                                  ...                          false   \n",
      "9                                  ...                          false   \n",
      "10                                 ...                          false   \n",
      "11                                 ...                          false   \n",
      "12                                 ...                          false   \n",
      "13                                 ...                          false   \n",
      "14                                 ...                          false   \n",
      "15                                 ...                          false   \n",
      "16                                 ...                          false   \n",
      "17                                 ...                          false   \n",
      "18                                 ...                          false   \n",
      "19                                 ...                          false   \n",
      "20                                 ...                           true   \n",
      "21                                 ...                           true   \n",
      "22                                 ...                           true   \n",
      "23                                 ...                           true   \n",
      "24                                 ...                           true   \n",
      "25                                 ...                          false   \n",
      "26                                 ...                          false   \n",
      "27  synthetic lethal               ...                          false   \n",
      "28                                 ...                          false   \n",
      "29                                 ...                          false   \n",
      "30                                 ...                          false   \n",
      "31                                 ...                          false   \n",
      "32  synthetic lethal               ...                          false   \n",
      "33   phosphorylation               ...                          false   \n",
      "34   phosphorylation               ...                          false   \n",
      "35  synthetic lethal               ...                          false   \n",
      "36                                 ...                          false   \n",
      "\n",
      "   target_selected                          source_biological process  \\\n",
      "0            false                                                      \n",
      "1            false                            protein phosphorylation   \n",
      "2            false  GMP biosynthetic process|oxidation-reduction p...   \n",
      "3            false  GMP biosynthetic process|oxidation-reduction p...   \n",
      "4            false  GMP biosynthetic process|oxidation-reduction p...   \n",
      "5            false                                                      \n",
      "6            false                              histone deacetylation   \n",
      "7            false                              histone deacetylation   \n",
      "8            false  endocytosis|regulation of cell shape|Wnt signa...   \n",
      "9            false  endocytosis|regulation of cell shape|Wnt signa...   \n",
      "10           false  MAPK cascade|activation of MAPKK activity|acti...   \n",
      "11           false  MAPK cascade|activation of MAPKK activity|acti...   \n",
      "12           false  protein polyubiquitination|transcription, DNA-...   \n",
      "13           false  protein polyubiquitination|transcription, DNA-...   \n",
      "14           false  G2/M transition of mitotic cell cycle|mitotic ...   \n",
      "15           false  G2/M transition of mitotic cell cycle|mitotic ...   \n",
      "16           false  G2/M transition of mitotic cell cycle|mitotic ...   \n",
      "17           false  response to hypoxia|histamine secretion|trophe...   \n",
      "18           false                             DNA topological change   \n",
      "19           false                             DNA topological change   \n",
      "20           false  cellular protein modification process|visual p...   \n",
      "21           false  cellular protein modification process|visual p...   \n",
      "22           false  cellular protein modification process|visual p...   \n",
      "23           false  cellular protein modification process|visual p...   \n",
      "24           false  cellular protein modification process|visual p...   \n",
      "25           false  DNA replication|DNA topological change|chromat...   \n",
      "26           false  DNA replication|DNA topological change|chromat...   \n",
      "27           false  DNA replication|DNA topological change|chromat...   \n",
      "28           false                            protein phosphorylation   \n",
      "29           false                            protein phosphorylation   \n",
      "30           false                                                      \n",
      "31           false                                                      \n",
      "32           false                                                      \n",
      "33           false                                                      \n",
      "34           false                                                      \n",
      "35           false                                                      \n",
      "36           false                                                      \n",
      "\n",
      "                            target_biological process  \\\n",
      "0                                                       \n",
      "1   regulation of cyclin-dependent protein serine/...   \n",
      "2   regulation of translational initiation|organel...   \n",
      "3   DNA replication|chromatin organization|transcr...   \n",
      "4   negative regulation of cell proliferation|hist...   \n",
      "5                                                       \n",
      "6                             protein phosphorylation   \n",
      "7                             protein phosphorylation   \n",
      "8   endocytosis|signal transduction|central nervou...   \n",
      "9   mitotic cell cycle|DNA repair|mitotic nuclear ...   \n",
      "10                                                      \n",
      "11  DNA recombinase assembly|double-strand break r...   \n",
      "12  double-strand break repair via homologous reco...   \n",
      "13                                                      \n",
      "14  DNA replication|chromatin organization|transcr...   \n",
      "15  negative regulation of cell proliferation|hist...   \n",
      "16  regulation of transcription involved in G1/S t...   \n",
      "17  regulation of transcription involved in G1/S t...   \n",
      "18           MAPK cascade|activation of MAPK activity   \n",
      "19  mitotic cell cycle|DNA repair|mitotic nuclear ...   \n",
      "20                                                      \n",
      "21  double-strand break repair via homologous reco...   \n",
      "22                                                      \n",
      "23  regulation of transcription involved in G1/S t...   \n",
      "24  regulation of cyclin-dependent protein serine/...   \n",
      "25  endocytosis|signal transduction|central nervou...   \n",
      "26  protein complex assembly|exocytosis|Golgi to p...   \n",
      "27  DNA replication checkpoint|DNA damage checkpoi...   \n",
      "28  negative regulation of cell proliferation|hist...   \n",
      "29  mitotic cell cycle|DNA repair|mitotic nuclear ...   \n",
      "30  ribosomal small subunit assembly|nuclear-trans...   \n",
      "31  mitotic cell cycle|DNA repair|mitotic nuclear ...   \n",
      "32                            protein phosphorylation   \n",
      "33  telomere maintenance|DNA synthesis involved in...   \n",
      "34  regulation of cyclin-dependent protein serine/...   \n",
      "35  DNA replication checkpoint|DNA damage checkpoi...   \n",
      "36                                                      \n",
      "\n",
      "   source_EnrichedFunction2                  target_EnrichedFunction2  \\\n",
      "0                                                                       \n",
      "1                            cellular response to DNA damage stimulus   \n",
      "2                                                                       \n",
      "3                                                                       \n",
      "4                                                                       \n",
      "5                                                                       \n",
      "6                                                                       \n",
      "7                                                                       \n",
      "8                                                                       \n",
      "9                                                                       \n",
      "10                                                                      \n",
      "11                                                                      \n",
      "12                           cellular response to DNA damage stimulus   \n",
      "13                                                                      \n",
      "14                                                                      \n",
      "15                                                                      \n",
      "16                           cellular response to DNA damage stimulus   \n",
      "17                           cellular response to DNA damage stimulus   \n",
      "18                                                                      \n",
      "19                                                                      \n",
      "20                                                                      \n",
      "21                           cellular response to DNA damage stimulus   \n",
      "22                                                                      \n",
      "23                           cellular response to DNA damage stimulus   \n",
      "24                           cellular response to DNA damage stimulus   \n",
      "25     chormatin remodeling                                             \n",
      "26     chormatin remodeling                                             \n",
      "27     chormatin remodeling  cellular response to DNA damage stimulus   \n",
      "28                                                                      \n",
      "29                                                                      \n",
      "30                                                                      \n",
      "31                                                                      \n",
      "32                                                                      \n",
      "33                           cellular response to DNA damage stimulus   \n",
      "34                           cellular response to DNA damage stimulus   \n",
      "35                           cellular response to DNA damage stimulus   \n",
      "36                                                                      \n",
      "\n",
      "            source_Functional Categor target_Functional Categor  \\\n",
      "0                  Genome Maintenance             Cell Survival   \n",
      "1                       Cell Survival        Genome Maintenance   \n",
      "2                           Cell Fate                 Cell Fate   \n",
      "3                           Cell Fate             Cell Survival   \n",
      "4                           Cell Fate             Cell Survival   \n",
      "5                       Cell Survival             Cell Survival   \n",
      "6                           Cell Fate             Cell Survival   \n",
      "7                           Cell Fate             Cell Survival   \n",
      "8                       Cell Survival             Cell Survival   \n",
      "9                       Cell Survival             Cell Survival   \n",
      "10                      Cell Survival             Cell Survival   \n",
      "11                      Cell Survival        Genome Maintenance   \n",
      "12                          Cell Fate        Genome Maintenance   \n",
      "13                          Cell Fate                 Cell Fate   \n",
      "14                      Cell Survival             Cell Survival   \n",
      "15                      Cell Survival             Cell Survival   \n",
      "16                      Cell Survival                 Cell Fate   \n",
      "17                 Genome Maintenance                 Cell Fate   \n",
      "18                          Cell Fate             Cell Survival   \n",
      "19                          Cell Fate             Cell Survival   \n",
      "20                      Cell Survival             Cell Survival   \n",
      "21                      Cell Survival        Genome Maintenance   \n",
      "22                      Cell Survival        Genome Maintenance   \n",
      "23                      Cell Survival                 Cell Fate   \n",
      "24                      Cell Survival        Genome Maintenance   \n",
      "25                          Cell Fate             Cell Survival   \n",
      "26                          Cell Fate             Cell Survival   \n",
      "27                          Cell Fate        Genome Maintenance   \n",
      "28                      Cell Survival             Cell Survival   \n",
      "29                      Cell Survival             Cell Survival   \n",
      "30  Genome Maintenance: Cell Survival                 Cell Fate   \n",
      "31  Genome Maintenance: Cell Survival             Cell Survival   \n",
      "32  Genome Maintenance: Cell Survival             Cell Survival   \n",
      "33  Genome Maintenance: Cell Survival        Genome Maintenance   \n",
      "34  Genome Maintenance: Cell Survival        Genome Maintenance   \n",
      "35  Genome Maintenance: Cell Survival        Genome Maintenance   \n",
      "36                                                                \n",
      "\n",
      "                  source_AltFnLabel                target_AltFnLabel  \n",
      "0              Nucleotide synthesis                   MAPK signaling  \n",
      "1             DNA damage checkpoint            DNA damage checkpoint  \n",
      "2              Nucleotide synthesis                      Translation  \n",
      "3              Nucleotide synthesis             Chromatin remodeling  \n",
      "4              Nucleotide synthesis             Chromatin remodeling  \n",
      "5                    MAPK signaling                   MAPK signaling  \n",
      "6              Chromatin remodeling            DNA damage checkpoint  \n",
      "7              Chromatin remodeling            DNA damage checkpoint  \n",
      "8             DNA damage checkpoint            DNA damage checkpoint  \n",
      "9             DNA damage checkpoint            DNA damage checkpoint  \n",
      "10                   MAPK signaling                   MAPK signaling  \n",
      "11                   MAPK signaling         Homologous recombination  \n",
      "12             Chromatin remodeling         Homologous recombination  \n",
      "13             Chromatin remodeling                      Translation  \n",
      "14                     Cytoskeleton             Chromatin remodeling  \n",
      "15                     Cytoskeleton             Chromatin remodeling  \n",
      "16                     Cytoskeleton             Chromatin remodeling  \n",
      "17             Nucleotide synthesis             Chromatin remodeling  \n",
      "18                   Topoisomerases                   MAPK signaling  \n",
      "19                   Topoisomerases            DNA damage checkpoint  \n",
      "20  Post-Translational Modification  Post-Translational Modification  \n",
      "21  Post-Translational Modification         Homologous recombination  \n",
      "22  Post-Translational Modification         Homologous recombination  \n",
      "23  Post-Translational Modification             Chromatin remodeling  \n",
      "24  Post-Translational Modification            DNA damage checkpoint  \n",
      "25                   Topoisomerases            DNA damage checkpoint  \n",
      "26                   Topoisomerases                     Cytoskeleton  \n",
      "27                   Topoisomerases            DNA damage checkpoint  \n",
      "28            DNA damage checkpoint             Chromatin remodeling  \n",
      "29            DNA damage checkpoint            DNA damage checkpoint  \n",
      "30            DNA damage checkpoint                      Translation  \n",
      "31            DNA damage checkpoint            DNA damage checkpoint  \n",
      "32            DNA damage checkpoint            DNA damage checkpoint  \n",
      "33            DNA damage checkpoint            DNA damage checkpoint  \n",
      "34            DNA damage checkpoint            DNA damage checkpoint  \n",
      "35            DNA damage checkpoint            DNA damage checkpoint  \n",
      "36                                                                    \n",
      "\n",
      "[37 rows x 65 columns]\n"
     ]
    }
   ],
   "source": [
    "#======================\n",
    "# CONVERT TO DATAFRAME\n",
    "#======================\n",
    "niceCx_from_server_df = niceCx_from_server.to_pandas_dataframe()\n",
    "print(niceCx_from_server_df)"
   ]
  },
  {
   "cell_type": "markdown",
   "metadata": {},
   "source": [
    "Likewise, networks can be output as a networkx graph."
   ]
  },
  {
   "cell_type": "code",
   "execution_count": 18,
   "metadata": {
    "collapsed": false
   },
   "outputs": [
    {
     "name": "stdout",
     "output_type": "stream",
     "text": [
      "CoCaNet2\n"
     ]
    }
   ],
   "source": [
    "#=====================\n",
    "# CONVERT TO NETWORKX\n",
    "#=====================\n",
    "niceCx_from_server_to_netx = niceCx_from_server.to_networkx()\n",
    "\n",
    "print(niceCx_from_server_to_netx)"
   ]
  },
  {
   "cell_type": "markdown",
   "metadata": {},
   "source": [
    "**To continue with the tutorial, you must edit the following cell to replace the values of the ‘my_account’ and ‘my_password’ variables with a real NDEx account name and password.**"
   ]
  },
  {
   "cell_type": "code",
   "execution_count": 21,
   "metadata": {
    "collapsed": false
   },
   "outputs": [],
   "source": [
    "my_account=\"my_account\"\n",
    "my_password=\"my_password\"\n",
    "my_server=\"http://public.ndexbio.org\""
   ]
  },
  {
   "cell_type": "markdown",
   "metadata": {},
   "source": [
    "NiceCx networks can be saved to the NDEx server by calling **upload_to()**"
   ]
  },
  {
   "cell_type": "code",
   "execution_count": 22,
   "metadata": {
    "collapsed": false
   },
   "outputs": [
    {
     "name": "stdout",
     "output_type": "stream",
     "text": [
      "http://public.ndexbio.org/v2/network/e3c1fa70-d467-11e7-adc1-0ac135e8bacf\n"
     ]
    }
   ],
   "source": [
    "upload_message = niceCx_df_with_headers.upload_to(my_server, my_account, my_password)\n",
    "print(upload_message)"
   ]
  },
  {
   "cell_type": "code",
   "execution_count": 23,
   "metadata": {
    "collapsed": false
   },
   "outputs": [],
   "source": [
    "template_id = '4f53171c-600f-11e6-b0a6-06603eb7f303'\n",
    "niceCx_creatures.apply_template(username='scratch', password='scratch', server='dev2.ndexbio.org', uuid=template_id)"
   ]
  },
  {
   "cell_type": "code",
   "execution_count": null,
   "metadata": {
    "collapsed": true
   },
   "outputs": [],
   "source": []
  }
 ],
 "metadata": {
  "anaconda-cloud": {},
  "kernelspec": {
   "display_name": "Python [py36]",
   "language": "python",
   "name": "Python [py36]"
  },
  "language_info": {
   "codemirror_mode": {
    "name": "ipython",
    "version": 3
   },
   "file_extension": ".py",
   "mimetype": "text/x-python",
   "name": "python",
   "nbconvert_exporter": "python",
   "pygments_lexer": "ipython3",
   "version": "3.6.1"
  }
 },
 "nbformat": 4,
 "nbformat_minor": 1
}
