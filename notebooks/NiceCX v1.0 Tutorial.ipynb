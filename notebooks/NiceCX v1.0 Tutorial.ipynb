{
 "cells": [
  {
   "cell_type": "markdown",
   "metadata": {},
   "source": [
    "# NiceCX v1.0 Tutorial"
   ]
  },
  {
   "cell_type": "markdown",
   "metadata": {},
   "source": [
    "In this tutorial you will learn to use NiceCX, a simple data model that is part of the ndex2 NDEx Client module.\n",
    "NiceCX facilitates creating and working with networks, including interfaces to NetworkX and Pandas.\n",
    "This tutorial requires Python 3.6+ and the ndex2 module, see the NDEx Client Tutorial for installation instructions."
   ]
  },
  {
   "cell_type": "markdown",
   "metadata": {},
   "source": [
    "### Import Packages Required for this Tutorial"
   ]
  },
  {
   "cell_type": "code",
   "execution_count": null,
   "metadata": {
    "collapsed": true
   },
   "outputs": [],
   "source": []
  },
  {
   "cell_type": "code",
   "execution_count": 1,
   "metadata": {
    "collapsed": false
   },
   "outputs": [],
   "source": [
    "from ndex2.niceCXNetwork import NiceCXNetwork\n",
    "import ndex2.client as nc\n",
    "import ndex2\n",
    "import networkx as nx\n",
    "import pandas as pd\n",
    "import os"
   ]
  },
  {
   "cell_type": "markdown",
   "metadata": {},
   "source": [
    "# Five Ways to Work with NiceCX networks:"
   ]
  },
  {
   "cell_type": "markdown",
   "metadata": {},
   "source": [
    "- Starting with an Empty Network\n",
    "- CX Files\n",
    "- NDEx Networks\n",
    "- NetworkX Networks\n",
    "- Pandas DataFrames"
   ]
  },
  {
   "cell_type": "markdown",
   "metadata": {},
   "source": [
    "## Starting with an Empty Network"
   ]
  },
  {
   "cell_type": "markdown",
   "metadata": {},
   "source": [
    "**Create an empty niceCx network**"
   ]
  },
  {
   "cell_type": "code",
   "execution_count": 2,
   "metadata": {
    "collapsed": true
   },
   "outputs": [],
   "source": [
    "niceCx_creatures = NiceCXNetwork()"
   ]
  },
  {
   "cell_type": "markdown",
   "metadata": {},
   "source": [
    "**Name the Network**"
   ]
  },
  {
   "cell_type": "markdown",
   "metadata": {},
   "source": [
    "The _niceCx_creatures_ will now be populated with data in which each node represents a species and has a color attribute. Each edge will specify a relationship between the two species. First, we will set the name of the network:  "
   ]
  },
  {
   "cell_type": "code",
   "execution_count": 3,
   "metadata": {
    "collapsed": true
   },
   "outputs": [],
   "source": [
    "niceCx_creatures.set_name(\"Food Web\")"
   ]
  },
  {
   "cell_type": "markdown",
   "metadata": {},
   "source": [
    "**Add Nodes and Edges**"
   ]
  },
  {
   "cell_type": "code",
   "execution_count": 4,
   "metadata": {
    "collapsed": true
   },
   "outputs": [],
   "source": [
    "fox_node = niceCx_creatures.create_node(node_name='Fox')\n",
    "mouse_node = niceCx_creatures.create_node(node_name='Mouse')\n",
    "bird_node = niceCx_creatures.create_node(node_name='Bird')\n",
    "\n",
    "fox_bird_edge = niceCx_creatures.create_edge(edge_source=fox_node, edge_target=bird_node, edge_interaction='interacts-with')\n",
    "\n",
    "fox_mouse_edge = niceCx_creatures.create_edge(edge_source=fox_node, edge_target=mouse_node, edge_interaction='interacts-with')\n"
   ]
  },
  {
   "cell_type": "markdown",
   "metadata": {},
   "source": [
    "The addNode and addEdge methods return the unique ID assigned to the new node or edge. In CX, IDs are always assigned in an ascending order, although they may not always be sequential In this case, the node with the name \"Fox\" will have an ID of 0, \"Mouse\" will have 1, and so on. The edge between \"Fox\" and \"Bird\" will have the ID of 0, the next will be 1, and so on. "
   ]
  },
  {
   "cell_type": "markdown",
   "metadata": {},
   "source": [
    "**Add Attributes**"
   ]
  },
  {
   "cell_type": "markdown",
   "metadata": {},
   "source": [
    "The addNodeAttribute and addEdgeAttribute require the ID in the \"property_of\" field and the property \"name\" and \"values\" in their respective fields."
   ]
  },
  {
   "cell_type": "code",
   "execution_count": 5,
   "metadata": {
    "collapsed": false
   },
   "outputs": [
    {
     "name": "stdout",
     "output_type": "stream",
     "text": [
      "[{\"numberVerification\": [{\"longNumber\": 281474976710655}]}, {\"nodes\": [{\"@id\": 0, \"n\": \"Fox\"}, {\"@id\": 2, \"n\": \"Mouse\"}, {\"@id\": 1, \"n\": \"Bird\"}]}, {\"edges\": [{\"@id\": 0, \"s\": 0, \"t\": 1, \"i\": \"interacts-with\"}, {\"@id\": 1, \"s\": 0, \"t\": 2, \"i\": \"interacts-with\"}]}, {\"networkAttributes\": [{\"n\": \"name\", \"d\": \"string\", \"v\": \"Food Web\"}]}, {\"metaData\": [{\"elementCount\": 3, \"version\": \"1.0\", \"consistencyGroup\": 1, \"name\": \"nodes\", \"idCounter\": 2}, {\"elementCount\": 2, \"version\": \"1.0\", \"consistencyGroup\": 1, \"name\": \"edges\", \"idCounter\": 1}, {\"elementCount\": 1, \"version\": \"1.0\", \"consistencyGroup\": 1, \"name\": \"networkAttributes\"}]}]\n"
     ]
    }
   ],
   "source": [
    "print(niceCx_creatures)\n",
    "niceCx_creatures.add_node_attribute(property_of=fox_node, name='Color', values='Red')\n",
    "\n",
    "niceCx_creatures.add_node_attribute(property_of=mouse_node, name='Color', values='Gray')\n",
    "\n",
    "niceCx_creatures.add_node_attribute(property_of=bird_node, name='Color', values='Blue')"
   ]
  },
  {
   "cell_type": "code",
   "execution_count": 6,
   "metadata": {
    "collapsed": true
   },
   "outputs": [],
   "source": [
    "niceCx_creatures.add_edge_attribute(property_of=fox_mouse_edge, name='Hunted', values='On the ground')"
   ]
  },
  {
   "cell_type": "markdown",
   "metadata": {},
   "source": [
    "We can now print a summary of niceCX_creatures. The returned value of the getSummary() method is structured in the same format as NetworkSummary objects returned by NDEx network search methods."
   ]
  },
  {
   "cell_type": "code",
   "execution_count": 7,
   "metadata": {
    "collapsed": false
   },
   "outputs": [
    {
     "name": "stdout",
     "output_type": "stream",
     "text": [
      "Name: Food Web\n",
      "Nodes: 3\n",
      "Edges: 2\n",
      "Node Attributes: 3\n",
      "Edge Attributes: 1\n",
      "\n"
     ]
    }
   ],
   "source": [
    "print(niceCx_creatures.get_summary())"
   ]
  },
  {
   "cell_type": "markdown",
   "metadata": {},
   "source": [
    "## CX Files"
   ]
  },
  {
   "cell_type": "code",
   "execution_count": 8,
   "metadata": {
    "collapsed": false
   },
   "outputs": [
    {
     "name": "stdout",
     "output_type": "stream",
     "text": [
      "Name: Untitled\n",
      "Nodes: 2\n",
      "Edges: 1\n",
      "Node Attributes: 0\n",
      "Edge Attributes: 0\n",
      "\n"
     ]
    }
   ],
   "source": [
    "niceCx_from_cx_file = ndex2.create_nice_cx_from_file('SimpleNetwork.cx')\n",
    "\n",
    "print(niceCx_from_cx_file.get_summary())"
   ]
  },
  {
   "cell_type": "markdown",
   "metadata": {},
   "source": [
    "## NDEx Networks"
   ]
  },
  {
   "cell_type": "code",
   "execution_count": 9,
   "metadata": {
    "collapsed": false
   },
   "outputs": [
    {
     "name": "stdout",
     "output_type": "stream",
     "text": [
      "Name: CoCaNet2\n",
      "Nodes: 36\n",
      "Edges: 37\n",
      "Node Attributes: 706\n",
      "Edge Attributes: 517\n",
      "\n"
     ]
    }
   ],
   "source": [
    "niceCx_from_server = ndex2.create_nice_cx_from_server(server='public.ndexbio.org', uuid='f1dd6cc3-0007-11e6-b550-06603eb7f303')\n",
    "\n",
    "print(niceCx_from_server.get_summary())"
   ]
  },
  {
   "cell_type": "markdown",
   "metadata": {},
   "source": [
    "## NetworkX Networks"
   ]
  },
  {
   "cell_type": "markdown",
   "metadata": {},
   "source": [
    "Networks can be manipulated using NetworkX facilities and then used to create a NiceCx network. Here we create a NetworkX network from scratch:"
   ]
  },
  {
   "cell_type": "code",
   "execution_count": 10,
   "metadata": {
    "collapsed": true,
    "scrolled": true
   },
   "outputs": [],
   "source": [
    "G = nx.Graph()\n",
    "G.add_node('ABC')\n",
    "G.add_node('DEF')\n",
    "G.add_node('GHI')\n",
    "G.add_node('JKL')\n",
    "G.add_node('MNO')\n",
    "G.add_node('PQR')\n",
    "G.add_node('XYZ')\n",
    "G.add_edges_from([('ABC','DEF'), ('DEF', 'GHI'),('GHI', 'JKL'), \n",
    "                  ('DEF', 'JKL'), ('JKL', 'MNO'), ('DEF', 'MNO'),\n",
    "                 ('MNO', 'XYZ'), ('DEF', 'PQR')])"
   ]
  },
  {
   "cell_type": "markdown",
   "metadata": {},
   "source": [
    "We now use NetworkX to find the shortest path between nodes ABC and MNO and then create a subgraph from that path."
   ]
  },
  {
   "cell_type": "code",
   "execution_count": 11,
   "metadata": {
    "collapsed": true
   },
   "outputs": [],
   "source": [
    "short_path = nx.shortest_path(G,source='ABC',target=\"MNO\")\n",
    "\n",
    "path_subgraph = G.subgraph(short_path)"
   ]
  },
  {
   "cell_type": "markdown",
   "metadata": {},
   "source": [
    "Finally, NiceCx objects are created from both *G* and *path_subgraph*."
   ]
  },
  {
   "cell_type": "code",
   "execution_count": 12,
   "metadata": {
    "collapsed": false
   },
   "outputs": [
    {
     "name": "stdout",
     "output_type": "stream",
     "text": [
      "Name: Created from NetworkX (full)\n",
      "Nodes: 7\n",
      "Edges: 8\n",
      "Node Attributes: 0\n",
      "Edge Attributes: 0\n",
      "\n",
      "[('ABC', 'DEF'), ('DEF', 'GHI'), ('DEF', 'JKL'), ('DEF', 'MNO'), ('DEF', 'PQR'), ('GHI', 'JKL'), ('JKL', 'MNO'), ('MNO', 'XYZ')]\n",
      "\n",
      "Name: Created from NetworkX (shortest path)\n",
      "Nodes: 3\n",
      "Edges: 2\n",
      "Node Attributes: 0\n",
      "Edge Attributes: 0\n",
      "\n",
      "[('ABC', 'DEF'), ('DEF', 'MNO')]\n"
     ]
    }
   ],
   "source": [
    "G.name = 'Created from NetworkX (full)'\n",
    "niceCx_full = ndex2.create_nice_cx_from_networkx(G)\n",
    "\n",
    "G.name = 'Created from NetworkX (shortest path)'\n",
    "niceCx_short = ndex2.create_nice_cx_from_networkx(path_subgraph)\n",
    "                       \n",
    "print(niceCx_full.get_summary())\n",
    "print(G.edges())\n",
    "print('')\n",
    "\n",
    "print(niceCx_short.get_summary())\n",
    "print(path_subgraph.edges())"
   ]
  },
  {
   "cell_type": "markdown",
   "metadata": {},
   "source": [
    "## Pandas DataFrames"
   ]
  },
  {
   "cell_type": "markdown",
   "metadata": {},
   "source": [
    "### 2 Column DataFrame with No Headers:"
   ]
  },
  {
   "cell_type": "code",
   "execution_count": 13,
   "metadata": {
    "collapsed": false
   },
   "outputs": [
    {
     "name": "stdout",
     "output_type": "stream",
     "text": [
      "Name: Pandas Upload\n",
      "Nodes: 3\n",
      "Edges: 2\n",
      "Node Attributes: 0\n",
      "Edge Attributes: 0\n",
      "\n",
      "  source     interaction target\n",
      "0    ABC  interacts-with    DEF\n",
      "1    DEF  interacts-with    XYZ\n"
     ]
    }
   ],
   "source": [
    "data = [('ABC', 'DEF'), ('DEF', 'XYZ')]\n",
    "\n",
    "df = pd.DataFrame.from_records(data)\n",
    "\n",
    "niceCx_df_2_column = ndex2.create_nice_cx_from_pandas(df)\n",
    "\n",
    "print(niceCx_df_2_column.get_summary())\n",
    "\n",
    "#===========================\n",
    "# CONVERT BACK TO DATAFRAME\n",
    "#===========================\n",
    "df_2_col_from_niceCx = niceCx_df_2_column.to_pandas_dataframe()\n",
    "print(df_2_col_from_niceCx)"
   ]
  },
  {
   "cell_type": "markdown",
   "metadata": {},
   "source": [
    "### 3 Column DataFrame with No Headers:"
   ]
  },
  {
   "cell_type": "code",
   "execution_count": 14,
   "metadata": {
    "collapsed": false
   },
   "outputs": [
    {
     "name": "stdout",
     "output_type": "stream",
     "text": [
      "Name: Pandas Upload\n",
      "Nodes: 3\n",
      "Edges: 2\n",
      "Node Attributes: 0\n",
      "Edge Attributes: 0\n",
      "\n",
      "  source     interaction target\n",
      "0    ABC  interacts-with    DEF\n",
      "1    DEF     neighbor-of    XYZ\n"
     ]
    }
   ],
   "source": [
    "data = [('ABC', 'DEF', 'interacts-with'), ('DEF', 'XYZ', 'neighbor-of')]\n",
    "\n",
    "df = pd.DataFrame.from_records(data)\n",
    "\n",
    "niceCx_df_3_column = ndex2.create_nice_cx_from_pandas(df)\n",
    "\n",
    "print(niceCx_df_3_column.get_summary())\n",
    "\n",
    "#===========================\n",
    "# CONVERT BACK TO DATAFRAME\n",
    "#===========================\n",
    "df_3_col_from_niceCx = niceCx_df_3_column.to_pandas_dataframe()\n",
    "print(df_3_col_from_niceCx)"
   ]
  },
  {
   "cell_type": "markdown",
   "metadata": {},
   "source": [
    "### 3+ Column DataFrame with Headers to Specify Attribute Columns"
   ]
  },
  {
   "cell_type": "code",
   "execution_count": 15,
   "metadata": {
    "collapsed": false
   },
   "outputs": [
    {
     "name": "stdout",
     "output_type": "stream",
     "text": [
      "Name: Pandas Upload\n",
      "Nodes: 3\n",
      "Edges: 2\n",
      "Node Attributes: 0\n",
      "Edge Attributes: 2\n",
      "\n",
      "  source     interaction target         EdgeProp\n",
      "0    ABC  interacts-with    DEF  Edge property 1\n",
      "1    DEF     neighbor-of    XYZ  Edge property 2\n"
     ]
    }
   ],
   "source": [
    "df = pd.DataFrame.from_items([('Source', ['ABC', 'DEF']),\n",
    "                              ('Target', ['DEF', 'XYZ']),\n",
    "                              ('Interaction', ['interacts-with', 'neighbor-of']),\n",
    "                              ('EdgeProp', ['Edge property 1', 'Edge property 2'])])\n",
    "\n",
    "niceCx_df_with_headers = ndex2.create_nice_cx_from_pandas(df, source_field='Source', target_field='Target', \n",
    "                          edge_attr=['EdgeProp'], edge_interaction='Interaction')\n",
    "\n",
    "print(niceCx_df_with_headers.get_summary())\n",
    "\n",
    "#===========================\n",
    "# CONVERT BACK TO DATAFRAME\n",
    "#===========================\n",
    "df_headers_from_niceCx = niceCx_df_with_headers.to_pandas_dataframe()\n",
    "print(df_headers_from_niceCx)"
   ]
  },
  {
   "cell_type": "markdown",
   "metadata": {
    "collapsed": true
   },
   "source": [
    "### Exporting a Larger and More Complex Network"
   ]
  },
  {
   "cell_type": "markdown",
   "metadata": {
    "collapsed": true
   },
   "source": [
    "More complex networks can be output to a Pandas DataFrame as well. In the following example we convert the example network we loaded from the server."
   ]
  },
  {
   "cell_type": "code",
   "execution_count": 16,
   "metadata": {
    "collapsed": false
   },
   "outputs": [
    {
     "name": "stdout",
     "output_type": "stream",
     "text": [
      "       source interaction  target druggable   yeast1 known interaction  \\\n",
      "0   druggable          pp      TS       NaN      NaN               NaN   \n",
      "1        DHFR          pp   MAPK1      DHFR  YOR236W               NaN   \n",
      "2       CHEK1          pp     BLM     CHEK1  YBR274W   phosphorylation   \n",
      "3      IMPDH1          pp   MTIF2    IMPDH1  YML056C               NaN   \n",
      "4      IMPDH1          pp    ING5    IMPDH1  YML056C               NaN   \n",
      "5      IMPDH1          pp    ING4    IMPDH1  YML056C               NaN   \n",
      "6       MAPK1          pp     NF1     MAPK1  YBL016W               NaN   \n",
      "7       HDAC2          pp    WEE1     HDAC2  YNL330C  synthetic lethal   \n",
      "8       HDAC1          pp    WEE1     HDAC1  YNL330C  synthetic lethal   \n",
      "9     CSNK1G1          pp  SH3GL1   CSNK1G1  YNL154C               NaN   \n",
      "10    CSNK1G1          pp    FZR1   CSNK1G1  YNL154C               NaN   \n",
      "11     MAP2K1          pp   MAPK1    MAP2K1  YJL128C               NaN   \n",
      "12     MAP2K1          pp   RAD52    MAP2K1  YJL128C               NaN   \n",
      "13      HDAC6          pp   XRCC3     HDAC6  YNL021W               NaN   \n",
      "14      HDAC6          pp   TCEA1     HDAC6  YNL021W               NaN   \n",
      "15     TUBA1A          pp    ING5    TUBA1A  YML124C               NaN   \n",
      "16     TUBA1A          pp    ING4    TUBA1A  YML124C               NaN   \n",
      "17     TUBA1A          pp    BRD4    TUBA1A  YML124C               NaN   \n",
      "18        ADA          pp    BRD4       ADA  YNL141W               NaN   \n",
      "19      TOP3A          pp  MAP3K4     TOP3A  YLR234W               NaN   \n",
      "20      TOP3A          pp    FZR1     TOP3A  YLR234W               NaN   \n",
      "21    RABGGTB          pp  PPP2CB   RABGGTB  YPR176C               NaN   \n",
      "22    RABGGTB          pp   XRCC3   RABGGTB  YPR176C               NaN   \n",
      "23    RABGGTB          pp  RAD23B   RABGGTB  YPR176C               NaN   \n",
      "24    RABGGTB          pp    BRD4   RABGGTB  YPR176C               NaN   \n",
      "25    RABGGTB          pp     BLM   RABGGTB  YPR176C               NaN   \n",
      "26       TOP1          pp  SH3GL1      TOP1  YOL006C               NaN   \n",
      "27       TOP1          pp   LLGL1      TOP1  YOL006C               NaN   \n",
      "28       TOP1          pp   RAD17      TOP1  YOL006C  synthetic lethal   \n",
      "29       WEE1          pp    ING4      WEE1  YJL187C               NaN   \n",
      "30       WEE1          pp    FZR1      WEE1  YJL187C               NaN   \n",
      "31      CHEK2          pp   RPS10     CHEK2  YDL101C               NaN   \n",
      "32      CHEK2          pp    FZR1     CHEK2  YDL101C               NaN   \n",
      "33      CHEK2          pp    WEE1     CHEK2  YDL101C  synthetic lethal   \n",
      "34      CHEK2          pp     WRN     CHEK2  YDL101C   phosphorylation   \n",
      "35      CHEK2          pp     BLM     CHEK2  YDL101C   phosphorylation   \n",
      "36      CHEK2          pp   RAD17     CHEK2  YDL101C  synthetic lethal   \n",
      "\n",
      "     T-stat HumanRanks interaction      Product  \\\n",
      "0       NaN        NaN          pp          NaN   \n",
      "1    -2.595       1425          pp  3.286424129   \n",
      "2    -12.57       1716          pp  102.1888489   \n",
      "3    -4.555       1615          pp  14.57859102   \n",
      "4    -4.477       1612          pp  14.54198374   \n",
      "5    -4.859       1629          pp  17.13545278   \n",
      "6    -2.524       1407          pp  3.045795613   \n",
      "7    -3.336       1519          pp  7.525579831   \n",
      "8    -3.336       1519          pp  7.224496828   \n",
      "9    -3.358       1524          pp  6.519802301   \n",
      "10    -4.03       1585          pp    10.466722   \n",
      "11   -3.025       1486          pp  2.660014701   \n",
      "12   -3.349       1521          pp  3.495852536   \n",
      "13   -3.795       1570          pp  7.679038187   \n",
      "14    -3.42       1528          pp  1.458900274   \n",
      "15   -8.031       1696          pp  56.37888802   \n",
      "16   -8.472       1697          pp  65.55056172   \n",
      "17   -3.487       1544          pp  7.838381895   \n",
      "18   -3.637       1558          pp  8.085672183   \n",
      "19   -5.771       1650          pp  26.41252472   \n",
      "20   -4.147       1592          pp  11.49011449   \n",
      "21   -3.031       1487          pp  5.543098291   \n",
      "22   -7.768       1693          pp  53.24507753   \n",
      "23   -3.794       1568          pp   10.9022544   \n",
      "24   -3.624       1554          pp  8.257773521   \n",
      "25   -7.195       1677          pp  45.13644727   \n",
      "26   -2.917       1478          pp  4.607236142   \n",
      "27    -6.51       1668          pp  36.14235314   \n",
      "28   -8.531       1698          pp  67.10977666   \n",
      "29   -8.875       1702          pp  72.50106801   \n",
      "30   -8.667       1701          pp  69.51713962   \n",
      "31   -5.956       1662          pp  28.72874771   \n",
      "32    -9.21       1705          pp  79.65248357   \n",
      "33  -22.268       1722          pp   218.823445   \n",
      "34   -5.589       1646          pp  25.24743097   \n",
      "35   -12.57       1716          pp   150.287835   \n",
      "36   -9.274       1707          pp  80.45314045   \n",
      "\n",
      "                          ...                          \\\n",
      "0                         ...                           \n",
      "1                         ...                           \n",
      "2                         ...                           \n",
      "3                         ...                           \n",
      "4                         ...                           \n",
      "5                         ...                           \n",
      "6                         ...                           \n",
      "7                         ...                           \n",
      "8                         ...                           \n",
      "9                         ...                           \n",
      "10                        ...                           \n",
      "11                        ...                           \n",
      "12                        ...                           \n",
      "13                        ...                           \n",
      "14                        ...                           \n",
      "15                        ...                           \n",
      "16                        ...                           \n",
      "17                        ...                           \n",
      "18                        ...                           \n",
      "19                        ...                           \n",
      "20                        ...                           \n",
      "21                        ...                           \n",
      "22                        ...                           \n",
      "23                        ...                           \n",
      "24                        ...                           \n",
      "25                        ...                           \n",
      "26                        ...                           \n",
      "27                        ...                           \n",
      "28                        ...                           \n",
      "29                        ...                           \n",
      "30                        ...                           \n",
      "31                        ...                           \n",
      "32                        ...                           \n",
      "33                        ...                           \n",
      "34                        ...                           \n",
      "35                        ...                           \n",
      "36                        ...                           \n",
      "\n",
      "                             source_Pathway  \\\n",
      "0                                             \n",
      "1                                 Metabolic   \n",
      "2                                Cell Cycle   \n",
      "3   Signal Transduction / Growth Regulation   \n",
      "4   Signal Transduction / Growth Regulation   \n",
      "5   Signal Transduction / Growth Regulation   \n",
      "6   Signal Transduction / Growth Regulation   \n",
      "7                    Chromatin Modification   \n",
      "8                    Chromatin Modification   \n",
      "9   Signal Transduction / Growth Regulation   \n",
      "10  Signal Transduction / Growth Regulation   \n",
      "11  Signal Transduction / Growth Regulation   \n",
      "12  Signal Transduction / Growth Regulation   \n",
      "13                   Chromatin Modification   \n",
      "14                   Chromatin Modification   \n",
      "15                               Structural   \n",
      "16                               Structural   \n",
      "17                               Structural   \n",
      "18                                Metabolic   \n",
      "19                       DNA Damage Control   \n",
      "20                       DNA Damage Control   \n",
      "21          Post-Translational Modification   \n",
      "22          Post-Translational Modification   \n",
      "23          Post-Translational Modification   \n",
      "24          Post-Translational Modification   \n",
      "25          Post-Translational Modification   \n",
      "26                       DNA Damage Control   \n",
      "27                       DNA Damage Control   \n",
      "28                       DNA Damage Control   \n",
      "29                               Cell Cycle   \n",
      "30                               Cell Cycle   \n",
      "31                       DNA Damage Control   \n",
      "32                       DNA Damage Control   \n",
      "33                       DNA Damage Control   \n",
      "34                       DNA Damage Control   \n",
      "35                       DNA Damage Control   \n",
      "36                       DNA Damage Control   \n",
      "\n",
      "                             target_Pathway                source_AltFnLabel  \\\n",
      "0                                                                              \n",
      "1   Signal Transduction / Growth Regulation             Nucleotide synthesis   \n",
      "2                        DNA Damage Control            DNA damage checkpoint   \n",
      "3                Transcriptional Regulation             Nucleotide synthesis   \n",
      "4   Signal Transduction / Growth Regulation             Nucleotide synthesis   \n",
      "5   Signal Transduction / Growth Regulation             Nucleotide synthesis   \n",
      "6   Signal Transduction / Growth Regulation                   MAPK signaling   \n",
      "7                                Cell Cycle             Chromatin remodeling   \n",
      "8                                Cell Cycle             Chromatin remodeling   \n",
      "9                                Cell Cycle            DNA damage checkpoint   \n",
      "10  Signal Transduction / Growth Regulation            DNA damage checkpoint   \n",
      "11  Signal Transduction / Growth Regulation                   MAPK signaling   \n",
      "12                       DNA Damage Control                   MAPK signaling   \n",
      "13                       DNA Damage Control             Chromatin remodeling   \n",
      "14               Transcriptional Regulation             Chromatin remodeling   \n",
      "15  Signal Transduction / Growth Regulation                     Cytoskeleton   \n",
      "16  Signal Transduction / Growth Regulation                     Cytoskeleton   \n",
      "17                   Chromatin Modification                     Cytoskeleton   \n",
      "18                   Chromatin Modification             Nucleotide synthesis   \n",
      "19  Signal Transduction / Growth Regulation                   Topoisomerases   \n",
      "20  Signal Transduction / Growth Regulation                   Topoisomerases   \n",
      "21  Signal Transduction / Growth Regulation  Post-Translational Modification   \n",
      "22                       DNA Damage Control  Post-Translational Modification   \n",
      "23                       DNA Damage Control  Post-Translational Modification   \n",
      "24                   Chromatin Modification  Post-Translational Modification   \n",
      "25                       DNA Damage Control  Post-Translational Modification   \n",
      "26                               Cell Cycle                   Topoisomerases   \n",
      "27                               Structural                   Topoisomerases   \n",
      "28                       DNA Damage Control                   Topoisomerases   \n",
      "29  Signal Transduction / Growth Regulation            DNA damage checkpoint   \n",
      "30  Signal Transduction / Growth Regulation            DNA damage checkpoint   \n",
      "31               Transcriptional Regulation            DNA damage checkpoint   \n",
      "32  Signal Transduction / Growth Regulation            DNA damage checkpoint   \n",
      "33                               Cell Cycle            DNA damage checkpoint   \n",
      "34                       DNA Damage Control            DNA damage checkpoint   \n",
      "35                       DNA Damage Control            DNA damage checkpoint   \n",
      "36                       DNA Damage Control            DNA damage checkpoint   \n",
      "\n",
      "                  target_AltFnLabel  \\\n",
      "0                                     \n",
      "1                    MAPK signaling   \n",
      "2             DNA damage checkpoint   \n",
      "3                       Translation   \n",
      "4              Chromatin remodeling   \n",
      "5              Chromatin remodeling   \n",
      "6                    MAPK signaling   \n",
      "7             DNA damage checkpoint   \n",
      "8             DNA damage checkpoint   \n",
      "9             DNA damage checkpoint   \n",
      "10            DNA damage checkpoint   \n",
      "11                   MAPK signaling   \n",
      "12         Homologous recombination   \n",
      "13         Homologous recombination   \n",
      "14                      Translation   \n",
      "15             Chromatin remodeling   \n",
      "16             Chromatin remodeling   \n",
      "17             Chromatin remodeling   \n",
      "18             Chromatin remodeling   \n",
      "19                   MAPK signaling   \n",
      "20            DNA damage checkpoint   \n",
      "21  Post-Translational Modification   \n",
      "22         Homologous recombination   \n",
      "23         Homologous recombination   \n",
      "24             Chromatin remodeling   \n",
      "25            DNA damage checkpoint   \n",
      "26            DNA damage checkpoint   \n",
      "27                     Cytoskeleton   \n",
      "28            DNA damage checkpoint   \n",
      "29             Chromatin remodeling   \n",
      "30            DNA damage checkpoint   \n",
      "31                      Translation   \n",
      "32            DNA damage checkpoint   \n",
      "33            DNA damage checkpoint   \n",
      "34            DNA damage checkpoint   \n",
      "35            DNA damage checkpoint   \n",
      "36            DNA damage checkpoint   \n",
      "\n",
      "                            source_biological process  \\\n",
      "0                                                       \n",
      "1                                                       \n",
      "2                             protein phosphorylation   \n",
      "3   GMP biosynthetic process|oxidation-reduction p...   \n",
      "4   GMP biosynthetic process|oxidation-reduction p...   \n",
      "5   GMP biosynthetic process|oxidation-reduction p...   \n",
      "6                                                       \n",
      "7                               histone deacetylation   \n",
      "8                               histone deacetylation   \n",
      "9   endocytosis|regulation of cell shape|Wnt signa...   \n",
      "10  endocytosis|regulation of cell shape|Wnt signa...   \n",
      "11  MAPK cascade|activation of MAPKK activity|acti...   \n",
      "12  MAPK cascade|activation of MAPKK activity|acti...   \n",
      "13  protein polyubiquitination|transcription, DNA-...   \n",
      "14  protein polyubiquitination|transcription, DNA-...   \n",
      "15  G2/M transition of mitotic cell cycle|mitotic ...   \n",
      "16  G2/M transition of mitotic cell cycle|mitotic ...   \n",
      "17  G2/M transition of mitotic cell cycle|mitotic ...   \n",
      "18  response to hypoxia|histamine secretion|trophe...   \n",
      "19                             DNA topological change   \n",
      "20                             DNA topological change   \n",
      "21  cellular protein modification process|visual p...   \n",
      "22  cellular protein modification process|visual p...   \n",
      "23  cellular protein modification process|visual p...   \n",
      "24  cellular protein modification process|visual p...   \n",
      "25  cellular protein modification process|visual p...   \n",
      "26  DNA replication|DNA topological change|chromat...   \n",
      "27  DNA replication|DNA topological change|chromat...   \n",
      "28  DNA replication|DNA topological change|chromat...   \n",
      "29                            protein phosphorylation   \n",
      "30                            protein phosphorylation   \n",
      "31                                                      \n",
      "32                                                      \n",
      "33                                                      \n",
      "34                                                      \n",
      "35                                                      \n",
      "36                                                      \n",
      "\n",
      "                            target_biological process  \\\n",
      "0                                                       \n",
      "1                                                       \n",
      "2   regulation of cyclin-dependent protein serine/...   \n",
      "3   regulation of translational initiation|organel...   \n",
      "4   DNA replication|chromatin organization|transcr...   \n",
      "5   negative regulation of cell proliferation|hist...   \n",
      "6                                                       \n",
      "7                             protein phosphorylation   \n",
      "8                             protein phosphorylation   \n",
      "9   endocytosis|signal transduction|central nervou...   \n",
      "10  mitotic cell cycle|DNA repair|mitotic nuclear ...   \n",
      "11                                                      \n",
      "12  DNA recombinase assembly|double-strand break r...   \n",
      "13  double-strand break repair via homologous reco...   \n",
      "14                                                      \n",
      "15  DNA replication|chromatin organization|transcr...   \n",
      "16  negative regulation of cell proliferation|hist...   \n",
      "17  regulation of transcription involved in G1/S t...   \n",
      "18  regulation of transcription involved in G1/S t...   \n",
      "19           MAPK cascade|activation of MAPK activity   \n",
      "20  mitotic cell cycle|DNA repair|mitotic nuclear ...   \n",
      "21                                                      \n",
      "22  double-strand break repair via homologous reco...   \n",
      "23                                                      \n",
      "24  regulation of transcription involved in G1/S t...   \n",
      "25  regulation of cyclin-dependent protein serine/...   \n",
      "26  endocytosis|signal transduction|central nervou...   \n",
      "27  protein complex assembly|exocytosis|Golgi to p...   \n",
      "28  DNA replication checkpoint|DNA damage checkpoi...   \n",
      "29  negative regulation of cell proliferation|hist...   \n",
      "30  mitotic cell cycle|DNA repair|mitotic nuclear ...   \n",
      "31  ribosomal small subunit assembly|nuclear-trans...   \n",
      "32  mitotic cell cycle|DNA repair|mitotic nuclear ...   \n",
      "33                            protein phosphorylation   \n",
      "34  telomere maintenance|DNA synthesis involved in...   \n",
      "35  regulation of cyclin-dependent protein serine/...   \n",
      "36  DNA replication checkpoint|DNA damage checkpoi...   \n",
      "\n",
      "            source_Functional Categor target_Functional Categor  \\\n",
      "0                                                                 \n",
      "1                  Genome Maintenance             Cell Survival   \n",
      "2                       Cell Survival        Genome Maintenance   \n",
      "3                           Cell Fate                 Cell Fate   \n",
      "4                           Cell Fate             Cell Survival   \n",
      "5                           Cell Fate             Cell Survival   \n",
      "6                       Cell Survival             Cell Survival   \n",
      "7                           Cell Fate             Cell Survival   \n",
      "8                           Cell Fate             Cell Survival   \n",
      "9                       Cell Survival             Cell Survival   \n",
      "10                      Cell Survival             Cell Survival   \n",
      "11                      Cell Survival             Cell Survival   \n",
      "12                      Cell Survival        Genome Maintenance   \n",
      "13                          Cell Fate        Genome Maintenance   \n",
      "14                          Cell Fate                 Cell Fate   \n",
      "15                      Cell Survival             Cell Survival   \n",
      "16                      Cell Survival             Cell Survival   \n",
      "17                      Cell Survival                 Cell Fate   \n",
      "18                 Genome Maintenance                 Cell Fate   \n",
      "19                          Cell Fate             Cell Survival   \n",
      "20                          Cell Fate             Cell Survival   \n",
      "21                      Cell Survival             Cell Survival   \n",
      "22                      Cell Survival        Genome Maintenance   \n",
      "23                      Cell Survival        Genome Maintenance   \n",
      "24                      Cell Survival                 Cell Fate   \n",
      "25                      Cell Survival        Genome Maintenance   \n",
      "26                          Cell Fate             Cell Survival   \n",
      "27                          Cell Fate             Cell Survival   \n",
      "28                          Cell Fate        Genome Maintenance   \n",
      "29                      Cell Survival             Cell Survival   \n",
      "30                      Cell Survival             Cell Survival   \n",
      "31  Genome Maintenance: Cell Survival                 Cell Fate   \n",
      "32  Genome Maintenance: Cell Survival             Cell Survival   \n",
      "33  Genome Maintenance: Cell Survival             Cell Survival   \n",
      "34  Genome Maintenance: Cell Survival        Genome Maintenance   \n",
      "35  Genome Maintenance: Cell Survival        Genome Maintenance   \n",
      "36  Genome Maintenance: Cell Survival        Genome Maintenance   \n",
      "\n",
      "                                   source_ProcessList  \\\n",
      "0                                                       \n",
      "1                                                       \n",
      "2   DNA damage checkpoint|G2/M transition of mitot...   \n",
      "3   purine nucleobase metabolic process|purine nuc...   \n",
      "4   purine nucleobase metabolic process|purine nuc...   \n",
      "5   purine nucleobase metabolic process|purine nuc...   \n",
      "6                                                       \n",
      "7   negative regulation of transcription from RNA ...   \n",
      "8   negative regulation of transcription from RNA ...   \n",
      "9   cellular protein modification process|protein ...   \n",
      "10  cellular protein modification process|protein ...   \n",
      "11  MAPK cascade|activation of MAPKK activity|cell...   \n",
      "12  MAPK cascade|activation of MAPKK activity|cell...   \n",
      "13  protein polyubiquitination|transcription, DNA-...   \n",
      "14  protein polyubiquitination|transcription, DNA-...   \n",
      "15  G2/M transition of mitotic cell cycle|mitotic ...   \n",
      "16  G2/M transition of mitotic cell cycle|mitotic ...   \n",
      "17  G2/M transition of mitotic cell cycle|mitotic ...   \n",
      "18  response to hypoxia|purine nucleobase metaboli...   \n",
      "19  DNA metabolic process|DNA topological change|c...   \n",
      "20  DNA metabolic process|DNA topological change|c...   \n",
      "21  cellular protein modification process|biologic...   \n",
      "22  cellular protein modification process|biologic...   \n",
      "23  cellular protein modification process|biologic...   \n",
      "24  cellular protein modification process|biologic...   \n",
      "25  cellular protein modification process|biologic...   \n",
      "26  DNA metabolic process|DNA replication|DNA topo...   \n",
      "27  DNA metabolic process|DNA replication|DNA topo...   \n",
      "28  DNA metabolic process|DNA replication|DNA topo...   \n",
      "29  G1/S transition of mitotic cell cycle|G2/M tra...   \n",
      "30  G1/S transition of mitotic cell cycle|G2/M tra...   \n",
      "31  DNA damage checkpoint|G2/M transition of mitot...   \n",
      "32  DNA damage checkpoint|G2/M transition of mitot...   \n",
      "33  DNA damage checkpoint|G2/M transition of mitot...   \n",
      "34  DNA damage checkpoint|G2/M transition of mitot...   \n",
      "35  DNA damage checkpoint|G2/M transition of mitot...   \n",
      "36  DNA damage checkpoint|G2/M transition of mitot...   \n",
      "\n",
      "                                   target_ProcessList  \n",
      "0                                                      \n",
      "1                                                      \n",
      "2   regulation of cyclin-dependent protein serine/...  \n",
      "3   translation|regulation of translational initia...  \n",
      "4   DNA metabolic process|DNA replication|chromati...  \n",
      "5   DNA metabolic process|DNA replication|chromati...  \n",
      "6                                                      \n",
      "7   G1/S transition of mitotic cell cycle|G2/M tra...  \n",
      "8   G1/S transition of mitotic cell cycle|G2/M tra...  \n",
      "9   transport|endocytosis|signal transduction|biol...  \n",
      "10  mitotic cell cycle|DNA metabolic process|DNA r...  \n",
      "11                                                     \n",
      "12  double-strand break repair via homologous reco...  \n",
      "13  double-strand break repair via homologous reco...  \n",
      "14                                                     \n",
      "15  DNA metabolic process|DNA replication|chromati...  \n",
      "16  DNA metabolic process|DNA replication|chromati...  \n",
      "17  regulation of transcription involved in G1/S t...  \n",
      "18  regulation of transcription involved in G1/S t...  \n",
      "19  MAPK cascade|activation of MAPKK activity|cell...  \n",
      "20  mitotic cell cycle|DNA metabolic process|DNA r...  \n",
      "21                                                     \n",
      "22  double-strand break repair via homologous reco...  \n",
      "23  nucleotide-excision repair, DNA damage recogni...  \n",
      "24  regulation of transcription involved in G1/S t...  \n",
      "25  regulation of cyclin-dependent protein serine/...  \n",
      "26  transport|endocytosis|signal transduction|biol...  \n",
      "27  cell morphogenesis|protein complex assembly|tr...  \n",
      "28  DNA replication checkpoint|DNA damage checkpoi...  \n",
      "29  DNA metabolic process|DNA replication|chromati...  \n",
      "30  mitotic cell cycle|DNA metabolic process|DNA r...  \n",
      "31  nuclear-transcribed mRNA catabolic process, no...  \n",
      "32  mitotic cell cycle|DNA metabolic process|DNA r...  \n",
      "33  G1/S transition of mitotic cell cycle|G2/M tra...  \n",
      "34  telomere maintenance|DNA synthesis involved in...  \n",
      "35  regulation of cyclin-dependent protein serine/...  \n",
      "36  DNA replication checkpoint|DNA damage checkpoi...  \n",
      "\n",
      "[37 rows x 59 columns]\n"
     ]
    }
   ],
   "source": [
    "#======================\n",
    "# CONVERT TO DATAFRAME\n",
    "#======================\n",
    "niceCx_from_server_df = niceCx_from_server.to_pandas_dataframe()\n",
    "print(niceCx_from_server_df)"
   ]
  },
  {
   "cell_type": "markdown",
   "metadata": {},
   "source": [
    "Likewise, networks can be output as a networkx graph."
   ]
  },
  {
   "cell_type": "code",
   "execution_count": 17,
   "metadata": {
    "collapsed": false
   },
   "outputs": [
    {
     "name": "stdout",
     "output_type": "stream",
     "text": [
      "CoCaNet2\n"
     ]
    }
   ],
   "source": [
    "#=====================\n",
    "# CONVERT TO NETWORKX\n",
    "#=====================\n",
    "niceCx_from_server_to_netx = niceCx_from_server.to_networkx()\n",
    "\n",
    "print(niceCx_from_server_to_netx)"
   ]
  },
  {
   "cell_type": "markdown",
   "metadata": {},
   "source": [
    "**To continue with the tutorial, you must edit the following cell to replace the values of the ‘my_account’ and ‘my_password’ variables with a real NDEx account name and password.**"
   ]
  },
  {
   "cell_type": "code",
   "execution_count": 18,
   "metadata": {
    "collapsed": false
   },
   "outputs": [
    {
     "name": "stdout",
     "output_type": "stream",
     "text": [
      "Success.  Please continue.\n"
     ]
    }
   ],
   "source": [
    "my_account=\"scratch\"\n",
    "my_password=\"scratch\"\n",
    "my_server=\"http://public.ndexbio.org\"\n",
    "try:\n",
    "    my_ndex=nc.Ndex2(my_server, my_account, my_password)\n",
    "    my_ndex.update_status()\n",
    "    print(\"Success.  Please continue.\")\n",
    "except Exception as inst:\n",
    "    print(\"Could not access account %s with password %s\" % (my_account, my_password))\n",
    "    print(inst.args)"
   ]
  },
  {
   "cell_type": "markdown",
   "metadata": {},
   "source": [
    "NiceCx networks can be saved to the NDEx server by calling **upload_to()**"
   ]
  },
  {
   "cell_type": "code",
   "execution_count": 19,
   "metadata": {
    "collapsed": false
   },
   "outputs": [
    {
     "name": "stdout",
     "output_type": "stream",
     "text": [
      "http://public.ndexbio.org/v2/network/81e31d0f-6f28-11e8-a4bf-0ac135e8bacf\n"
     ]
    }
   ],
   "source": [
    "upload_message = niceCx_df_with_headers.upload_to(my_server, my_account, my_password)\n",
    "print(upload_message)"
   ]
  },
  {
   "cell_type": "code",
   "execution_count": null,
   "metadata": {
    "collapsed": true
   },
   "outputs": [],
   "source": []
  }
 ],
 "metadata": {
  "anaconda-cloud": {},
  "kernelspec": {
   "display_name": "vpy36",
   "language": "python",
   "name": "vpy36"
  },
  "language_info": {
   "codemirror_mode": {
    "name": "ipython",
    "version": 3
   },
   "file_extension": ".py",
   "mimetype": "text/x-python",
   "name": "python",
   "nbconvert_exporter": "python",
   "pygments_lexer": "ipython3",
   "version": "3.6.4"
  }
 },
 "nbformat": 4,
 "nbformat_minor": 1
}
