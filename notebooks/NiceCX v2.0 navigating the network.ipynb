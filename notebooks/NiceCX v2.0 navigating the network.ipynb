{
 "cells": [
  {
   "cell_type": "markdown",
   "metadata": {},
   "source": [
    "# NiceCX v2.0 - Accessing nodes, edges, attributes, etc..."
   ]
  },
  {
   "cell_type": "code",
   "execution_count": 1,
   "metadata": {
    "collapsed": false
   },
   "outputs": [],
   "source": [
    "from ndex2.NiceCXNetwork import NiceCXNetwork\n",
    "import ndex2.client as nc\n",
    "import ndex2\n",
    "import networkx as nx\n",
    "import pandas as pd\n",
    "import os"
   ]
  },
  {
   "cell_type": "code",
   "execution_count": 2,
   "metadata": {
    "collapsed": true
   },
   "outputs": [],
   "source": [
    "# EXAMPLE NETWORK FROM NDEx\n",
    "nice_cx_network = ndex2.create_nice_cx_from_server(server='public.ndexbio.org', uuid='f1dd6cc3-0007-11e6-b550-06603eb7f303')"
   ]
  },
  {
   "cell_type": "markdown",
   "metadata": {},
   "source": [
    "### Nodes"
   ]
  },
  {
   "cell_type": "markdown",
   "metadata": {},
   "source": [
    "Loop through all **nodes** and print when we reach the RAD52 node"
   ]
  },
  {
   "cell_type": "code",
   "execution_count": 3,
   "metadata": {
    "collapsed": false
   },
   "outputs": [
    {
     "name": "stdout",
     "output_type": "stream",
     "text": [
      "{'@id': 1114201, 'n': 'RAD52'}\n"
     ]
    }
   ],
   "source": [
    "for node_id, node in nice_cx_network.get_nodes():\n",
    "    if node.get('n') == 'RAD52':\n",
    "        print(node)\n",
    "        break"
   ]
  },
  {
   "cell_type": "markdown",
   "metadata": {},
   "source": [
    "Nodes and edges are indexed by id (@id from the example above).  To look up a specific node by it's _name_ you can create a reverse look up index as follows"
   ]
  },
  {
   "cell_type": "code",
   "execution_count": 4,
   "metadata": {
    "collapsed": false
   },
   "outputs": [
    {
     "name": "stdout",
     "output_type": "stream",
     "text": [
      "{'@id': 1114200, 'n': 'MAP2K1'}\n"
     ]
    }
   ],
   "source": [
    "#============================\n",
    "# CREATE A NAME to ID LOOKUP \n",
    "#============================\n",
    "node_name_lookup = {node.get('n'): node.get('@id') for node_id, node in nice_cx_network.get_nodes()}\n",
    "\n",
    "#========================\n",
    "# GET THE 'MAP2K1' NODE\n",
    "#========================\n",
    "map2k1_node_id = node_name_lookup.get('MAP2K1')\n",
    "map2k1_node = nice_cx_network.get_node( map2k1_node_id )\n",
    "print(map2k1_node)"
   ]
  },
  {
   "cell_type": "markdown",
   "metadata": {},
   "source": [
    "### Node attributes\n",
    "\n",
    "Get the node attribute (Pathway) for MAP2K1"
   ]
  },
  {
   "cell_type": "code",
   "execution_count": 5,
   "metadata": {
    "collapsed": false
   },
   "outputs": [
    {
     "name": "stdout",
     "output_type": "stream",
     "text": [
      "{'po': 1114200, 'n': 'Pathway', 'v': 'Signal Transduction / Growth Regulation'}\n"
     ]
    }
   ],
   "source": [
    "map2k1_pathway_attribute = nice_cx_network.get_node_attribute(map2k1_node_id, 'Pathway')\n",
    "print(map2k1_pathway_attribute)"
   ]
  },
  {
   "cell_type": "markdown",
   "metadata": {},
   "source": [
    "### Edges\n",
    "\n",
    "Print all the **edges** where MAP2K1 is either a source or target"
   ]
  },
  {
   "cell_type": "code",
   "execution_count": 6,
   "metadata": {
    "collapsed": false
   },
   "outputs": [
    {
     "name": "stdout",
     "output_type": "stream",
     "text": [
      "{'@id': 1114251, 's': 1114200, 't': 1114208, 'i': 'pp'}\n",
      "{'@id': 1114250, 's': 1114200, 't': 1114201, 'i': 'pp'}\n"
     ]
    }
   ],
   "source": [
    "map2k1_edges = []\n",
    "\n",
    "for edge_id, edge in nice_cx_network.get_edges():\n",
    "    if edge.get('s') == map2k1_node_id or edge.get('t') == map2k1_node_id:\n",
    "        map2k1_edges.append(edge.get('@id'))\n",
    "\n",
    "        print(edge)\n"
   ]
  },
  {
   "cell_type": "markdown",
   "metadata": {},
   "source": [
    "Or, if you would like to see the node labels represented in these edges you can look up and print the node name"
   ]
  },
  {
   "cell_type": "code",
   "execution_count": 7,
   "metadata": {
    "collapsed": false
   },
   "outputs": [
    {
     "name": "stdout",
     "output_type": "stream",
     "text": [
      "Source: MAP2K1 Target: MAPK1 Interaction: pp\n",
      "Source: MAP2K1 Target: RAD52 Interaction: pp\n"
     ]
    }
   ],
   "source": [
    "for edge_id, edge in nice_cx_network.get_edges():\n",
    "    if edge.get('s') == map2k1_node_id or edge.get('t') == map2k1_node_id:\n",
    "        source_node = nice_cx_network.get_node( edge.get('s') )\n",
    "        target_node = nice_cx_network.get_node( edge.get('t') )\n",
    "        print('Source: %s Target: %s Interaction: %s' % (source_node.get('n'), target_node.get('n'), edge.get('i')))"
   ]
  },
  {
   "cell_type": "markdown",
   "metadata": {},
   "source": [
    "### Edge attributes\n",
    "\n",
    "Print the **edge attributes** (yeastSscore) for MAP2K1 edges"
   ]
  },
  {
   "cell_type": "code",
   "execution_count": 8,
   "metadata": {
    "collapsed": false
   },
   "outputs": [
    {
     "name": "stdout",
     "output_type": "stream",
     "text": [
      "{'po': 1114251, 'n': 'yeastSscore', 'v': '-4.896', 'd': 'double'}\n",
      "{'po': 1114250, 'n': 'yeastSscore', 'v': '-4.649', 'd': 'double'}\n"
     ]
    }
   ],
   "source": [
    "for edge_id in map2k1_edges:\n",
    "    print(nice_cx_network.get_edge_attribute(edge_id, 'yeastSscore'))\n"
   ]
  },
  {
   "cell_type": "markdown",
   "metadata": {},
   "source": [
    "### Network attributes\n",
    "\n",
    "Print the reference attribute for this network"
   ]
  },
  {
   "cell_type": "code",
   "execution_count": 9,
   "metadata": {
    "collapsed": false
   },
   "outputs": [
    {
     "data": {
      "text/plain": [
       "{'n': 'reference',\n",
       " 'v': '<div style=\"font-size: 12px;\"><i><span style=\"float: none;\">Srivas R, Shen JP, Yang CC, Sun SM, Li J,</span><br/></i><span style=\"float: none;\"><i>Gross AM, Jensen J, Licon K, Bojorquez-Gomez A, Klepper K, Huang J, Pekin D, Xu\\xa0JL, Yeerna H, Sivaganesh V, Kollenstart L, van Attikum H, Aza-Blanc P, Sobol\\xa0RW, Ideker T</i>.\\xa0</span><b><b>A network of conserved synthetic lethal interactions for exploration\\xa0</b></b><b><b>of precision cancer therapy</b></b><span style=\"float: none;\">.</span></div><div style=\"font-size: 12px;\"><span style=\"float: none;\">Mol Cell. 2016 Aug 4;63(3):514-25.</span><br/><a href=\"http://doi.org/10.1016/j.molcel.2016.06.022\" target=\"\">doi: 10.1016/j.molcel.2016.06.022</a></div>'}"
      ]
     },
     "execution_count": 9,
     "metadata": {},
     "output_type": "execute_result"
    }
   ],
   "source": [
    "nice_cx_network.get_network_attribute('reference')"
   ]
  },
  {
   "cell_type": "markdown",
   "metadata": {},
   "source": [
    "Or print the html content in the value field"
   ]
  },
  {
   "cell_type": "code",
   "execution_count": 10,
   "metadata": {
    "collapsed": false
   },
   "outputs": [
    {
     "data": {
      "text/html": [
       "<div style=\"font-size: 12px;\"><i><span style=\"float: none;\">Srivas R, Shen JP, Yang CC, Sun SM, Li J,</span><br/></i><span style=\"float: none;\"><i>Gross AM, Jensen J, Licon K, Bojorquez-Gomez A, Klepper K, Huang J, Pekin D, Xu JL, Yeerna H, Sivaganesh V, Kollenstart L, van Attikum H, Aza-Blanc P, Sobol RW, Ideker T</i>. </span><b><b>A network of conserved synthetic lethal interactions for exploration </b></b><b><b>of precision cancer therapy</b></b><span style=\"float: none;\">.</span></div><div style=\"font-size: 12px;\"><span style=\"float: none;\">Mol Cell. 2016 Aug 4;63(3):514-25.</span><br/><a href=\"http://doi.org/10.1016/j.molcel.2016.06.022\" target=\"\">doi: 10.1016/j.molcel.2016.06.022</a></div>"
      ],
      "text/plain": [
       "<IPython.core.display.HTML object>"
      ]
     },
     "metadata": {},
     "output_type": "display_data"
    }
   ],
   "source": [
    "from IPython.core.display import display, HTML\n",
    "\n",
    "display(HTML(nice_cx_network.get_network_attribute('reference').get('v')))"
   ]
  },
  {
   "cell_type": "code",
   "execution_count": null,
   "metadata": {
    "collapsed": true
   },
   "outputs": [],
   "source": []
  }
 ],
 "metadata": {
  "anaconda-cloud": {},
  "kernelspec": {
   "display_name": "vpy36",
   "language": "python",
   "name": "vpy36"
  },
  "language_info": {
   "codemirror_mode": {
    "name": "ipython",
    "version": 3
   },
   "file_extension": ".py",
   "mimetype": "text/x-python",
   "name": "python",
   "nbconvert_exporter": "python",
   "pygments_lexer": "ipython3",
   "version": "3.6.4"
  }
 },
 "nbformat": 4,
 "nbformat_minor": 1
}
