{
 "cells": [
  {
   "cell_type": "markdown",
   "metadata": {},
   "source": [
    "# NDEx2 Tutorial"
   ]
  },
  {
   "cell_type": "markdown",
   "metadata": {},
   "source": [
    "In this tutorial, we will first show you how to install the NDEx NiceCX module and use it to create a basic graph and to access one from the NDEx server. NiceCX requires Python 3.6+ and the latest version of the PIP Python package manager for installation. For further details on installing the NDEx module, see the NDEx Client Tutorial."
   ]
  },
  {
   "cell_type": "markdown",
   "metadata": {},
   "source": [
    "## Importing Packages"
   ]
  },
  {
   "cell_type": "markdown",
   "metadata": {},
   "source": [
    "With the NDEx module installed, start Python and import NDExGraph."
   ]
  },
  {
   "cell_type": "code",
   "execution_count": 1,
   "metadata": {
    "collapsed": false
   },
   "outputs": [],
   "source": [
    "from nicecxModel.NiceCXNetwork import NiceCXNetwork\n",
    "from nicecxModel.cx.aspects.NodesElement import NodesElement\n",
    "from nicecxModel.cx.aspects.EdgesElement import EdgesElement\n",
    "from nicecxModel.cx.aspects.NodeAttributesElement import NodeAttributesElement\n",
    "from nicecxModel.cx.aspects.EdgeAttributesElement import EdgeAttributesElement\n",
    "import networkx as nx\n",
    "import pandas as pd"
   ]
  },
  {
   "cell_type": "markdown",
   "metadata": {},
   "source": [
    "## Creating a NiceCX network"
   ]
  },
  {
   "cell_type": "markdown",
   "metadata": {},
   "source": [
    "There are generally five ways to create a NiceCX network.\n",
    "1. An empty network. \n",
    "          niceCx = NiceCXNetwork()\n",
    "2. Using a cx file. \n",
    "          niceCx = NiceCXNetwork(cx=cx)\n",
    "3. Loading it from an NDEx server.\n",
    "          niceCx = NiceCXNetwork(server='test.ndexbio.org', uuid='01c83ba5-0d90-11e6-b550-06603eb7f303')\n",
    "\n",
    "    #### NiceCx can also link to other data structures you may already be familiar with:\n",
    "    \n",
    "\n",
    "4. Using networkx.\n",
    "          niceCx = NiceCXNetwork(networkx_G=G)\n",
    "5. Using a Pandas DataFrame.\n",
    "          niceCx = NiceCXNetwork(pandas_df=df)\n",
    "\n"
   ]
  },
  {
   "cell_type": "markdown",
   "metadata": {},
   "source": [
    "## Create an empty NiceCx network\n",
    "\n",
    "We will call the graph niceCx. The nodes will contain the color of the animal and the edges will contain the way that they are related."
   ]
  },
  {
   "cell_type": "code",
   "execution_count": null,
   "metadata": {
    "collapsed": true
   },
   "outputs": [],
   "source": [
    "niceCx_full.upload_to('dev.ndexbio.org', 'scratch', 'scratch')"
   ]
  },
  {
   "cell_type": "markdown",
   "metadata": {},
   "source": [
    "### Filling the Graph With Data"
   ]
  },
  {
   "cell_type": "markdown",
   "metadata": {},
   "source": [
    "ndex2 is designed to be a simple network data model.  Nodes and edges can be added through the provided methods.  We will start by creating an empty network:  "
   ]
  },
  {
   "cell_type": "code",
   "execution_count": 2,
   "metadata": {
    "collapsed": false
   },
   "outputs": [],
   "source": [
    "#Create an empty niceCx network\n",
    "niceCx_from_empty = NiceCXNetwork()"
   ]
  },
  {
   "cell_type": "markdown",
   "metadata": {},
   "source": [
    "You can set the name of the graph by using \"setName(network_name)\". "
   ]
  },
  {
   "cell_type": "code",
   "execution_count": 3,
   "metadata": {
    "collapsed": true
   },
   "outputs": [],
   "source": [
    "niceCx_from_empty.setName(\"Food Web\")"
   ]
  },
  {
   "cell_type": "markdown",
   "metadata": {},
   "source": [
    "Add Nodes and Edges"
   ]
  },
  {
   "cell_type": "code",
   "execution_count": 4,
   "metadata": {
    "collapsed": false
   },
   "outputs": [],
   "source": [
    "fox_node = niceCx_from_empty.addNode(node_name='Fox')\n",
    "mouse_node = niceCx_from_empty.addNode(node_name='Mouse')\n",
    "bird_node = niceCx_from_empty.addNode(node_name='Bird')\n",
    "\n",
    "fox_bird_edge = niceCx_from_empty.addEdge(edge_source=fox_node, edge_target=bird_node, edge_interaction='interacts-with')\n",
    "\n",
    "fox_mouse_edge = niceCx_from_empty.addEdge(edge_source=fox_node, edge_target=mouse_node, edge_interaction='interacts-with')\n"
   ]
  },
  {
   "cell_type": "markdown",
   "metadata": {},
   "source": [
    "The edges and nodes that you create will have a unique ID in the order that they appear. For example, the node with the name \"Fox\" will have an ID of 0, \"Mouse\" will have 1, and so on. The edge between \"Fox\" and \"Bird\" will have the ID of 0, the next will be 1, and so on. Keep this in mind, because you will need these ID to access information about these nodes and edges. "
   ]
  },
  {
   "cell_type": "markdown",
   "metadata": {},
   "source": [
    "Add node attributes by specifying node ID in the \"property_of\" field then specify the property \"name\" and \"value\" in their respective fields."
   ]
  },
  {
   "cell_type": "code",
   "execution_count": 5,
   "metadata": {
    "collapsed": false
   },
   "outputs": [],
   "source": [
    "niceCx_from_empty.addNodeAttribute(property_of=fox_node, name='Color', values='Red')\n",
    "\n",
    "niceCx_from_empty.addNodeAttribute(property_of=mouse_node, name='Color', values='Gray')\n",
    "\n",
    "niceCx_from_empty.addNodeAttribute(property_of=bird_node, name='Color', values='Blue')"
   ]
  },
  {
   "cell_type": "markdown",
   "metadata": {},
   "source": [
    "Adding edge attributes is similar to adding node attributes."
   ]
  },
  {
   "cell_type": "code",
   "execution_count": 6,
   "metadata": {
    "collapsed": false
   },
   "outputs": [],
   "source": [
    "niceCx_from_empty.addEdgeAttribute(property_of=fox_mouse_edge, name='Hunted', values='On the ground')"
   ]
  },
  {
   "cell_type": "markdown",
   "metadata": {},
   "source": [
    "Print the network summary"
   ]
  },
  {
   "cell_type": "code",
   "execution_count": 7,
   "metadata": {
    "collapsed": false
   },
   "outputs": [
    {
     "name": "stdout",
     "output_type": "stream",
     "text": [
      "Name: Food Web\n",
      "Nodes: 3\n",
      "Edges: 2\n",
      "Node Attributes: 3\n",
      "Edge Attributes: 1\n",
      "\n"
     ]
    }
   ],
   "source": [
    "print(niceCx_from_empty.getSummary())"
   ]
  },
  {
   "cell_type": "markdown",
   "metadata": {},
   "source": [
    "# Create using CX file"
   ]
  },
  {
   "cell_type": "markdown",
   "metadata": {},
   "source": [
    "NiceCx can be created using a CX file."
   ]
  },
  {
   "cell_type": "code",
   "execution_count": 8,
   "metadata": {
    "collapsed": false
   },
   "outputs": [
    {
     "name": "stdout",
     "output_type": "stream",
     "text": [
      "Name: \n",
      "Nodes: 2\n",
      "Edges: 1\n",
      "Node Attributes: 0\n",
      "Edge Attributes: 0\n",
      "\n"
     ]
    }
   ],
   "source": [
    "niceCx = NiceCXNetwork(filename='SimpleNetwork.cx')\n",
    "print(niceCx.getSummary())"
   ]
  },
  {
   "cell_type": "markdown",
   "metadata": {},
   "source": [
    "# Create using Networkx"
   ]
  },
  {
   "cell_type": "markdown",
   "metadata": {},
   "source": [
    "The NiceCx model can be created using networkx as input"
   ]
  },
  {
   "cell_type": "code",
   "execution_count": 2,
   "metadata": {
    "collapsed": false,
    "scrolled": true
   },
   "outputs": [],
   "source": [
    "G = nx.Graph()\n",
    "G.add_node('ABC')\n",
    "G.add_node('DEF')\n",
    "G.add_node('GHI')\n",
    "G.add_node('JKL')\n",
    "G.add_node('MNO')\n",
    "G.add_node('PQR')\n",
    "G.add_node('XYZ')\n",
    "G.add_edges_from([('ABC','DEF'), ('DEF', 'GHI'),('GHI', 'JKL'), \n",
    "                  ('DEF', 'JKL'), ('JKL', 'MNO'), ('DEF', 'MNO'),\n",
    "                 ('MNO', 'XYZ'), ('DEF', 'PQR')])"
   ]
  },
  {
   "cell_type": "markdown",
   "metadata": {},
   "source": [
    "Using networkx, find the shortest path from node ABC to MNO and create a subgraph from the results"
   ]
  },
  {
   "cell_type": "code",
   "execution_count": 3,
   "metadata": {
    "collapsed": true
   },
   "outputs": [],
   "source": [
    "short_path = nx.shortest_path(G,source='ABC',target=\"MNO\")\n",
    "\n",
    "H = G.subgraph(short_path)"
   ]
  },
  {
   "cell_type": "markdown",
   "metadata": {},
   "source": [
    "Build a niceCx object from the full networkx graph and the sub-graph."
   ]
  },
  {
   "cell_type": "code",
   "execution_count": 4,
   "metadata": {
    "collapsed": false
   },
   "outputs": [
    {
     "name": "stdout",
     "output_type": "stream",
     "text": [
      "[{\"numberVerification\": [{\"longNumber\": 281474976710655}]}, {\"metaData\": [{\"version\": \"1.0\", \"consistencyGroup\": 1, \"name\": \"networkAttributes\"}, {\"version\": \"1.0\", \"consistencyGroup\": 1, \"name\": \"nodes\"}, {\"version\": \"1.0\", \"consistencyGroup\": 1, \"name\": \"edges\"}]}, {\"nodes\": [{\"r\": \"ABC\", \"@id\": 0, \"n\": \"ABC\"}, {\"r\": \"XYZ\", \"@id\": 1, \"n\": \"XYZ\"}, {\"r\": \"JKL\", \"@id\": 2, \"n\": \"JKL\"}, {\"r\": \"PQR\", \"@id\": 3, \"n\": \"PQR\"}, {\"r\": \"MNO\", \"@id\": 4, \"n\": \"MNO\"}, {\"r\": \"GHI\", \"@id\": 5, \"n\": \"GHI\"}, {\"r\": \"DEF\", \"@id\": 6, \"n\": \"DEF\"}]}, {\"edges\": [{\"s\": 0, \"@id\": 0, \"t\": 6}, {\"s\": 1, \"@id\": 1, \"t\": 4}, {\"s\": 2, \"@id\": 2, \"t\": 5}, {\"s\": 2, \"@id\": 3, \"t\": 6}, {\"s\": 2, \"@id\": 4, \"t\": 4}, {\"s\": 3, \"@id\": 5, \"t\": 6}, {\"s\": 4, \"@id\": 6, \"t\": 6}, {\"s\": 5, \"@id\": 7, \"t\": 6}]}, {\"networkAttributes\": [{\"v\": \"Created from networkx (full)\", \"d\": \"string\", \"n\": \"name\"}]}, {\"metaData\": [{\"elementCount\": 1, \"version\": \"1.0\", \"consistencyGroup\": 1, \"name\": \"networkAttributes\"}, {\"idCounter\": 6, \"elementCount\": 7, \"version\": \"1.0\", \"consistencyGroup\": 1, \"name\": \"nodes\"}, {\"idCounter\": 7, \"elementCount\": 8, \"version\": \"1.0\", \"consistencyGroup\": 1, \"name\": \"edges\"}]}]\n",
      "Name: Created from networkx (full)\n",
      "Nodes: 7\n",
      "Edges: 8\n",
      "Node Attributes: 0\n",
      "Edge Attributes: 0\n",
      "\n",
      "[('ABC', 'DEF'), ('XYZ', 'MNO'), ('JKL', 'GHI'), ('JKL', 'DEF'), ('JKL', 'MNO'), ('PQR', 'DEF'), ('MNO', 'DEF'), ('GHI', 'DEF')]\n",
      "\n",
      "Name: Created from networkx (shortest path)\n",
      "Nodes: 3\n",
      "Edges: 2\n",
      "Node Attributes: 0\n",
      "Edge Attributes: 0\n",
      "\n",
      "[('ABC', 'DEF'), ('DEF', 'MNO')]\n"
     ]
    }
   ],
   "source": [
    "#====================================\n",
    "# BUILD NICECX FROM NETWORKX GRAPHS\n",
    "#====================================\n",
    "niceCx_full = NiceCXNetwork(networkx_G=G)\n",
    "niceCx_full.setName('Created from networkx (full)')\n",
    "\n",
    "niceCx_short = NiceCXNetwork(networkx_G=H)\n",
    "niceCx_short.setName('Created from networkx (shortest path)')\n",
    "                       \n",
    "print(niceCx_full.getSummary())\n",
    "print(G.edges())\n",
    "print('')\n",
    "\n",
    "print(niceCx_short.getSummary())\n",
    "print(H.edges())"
   ]
  },
  {
   "cell_type": "code",
   "execution_count": null,
   "metadata": {
    "collapsed": true
   },
   "outputs": [],
   "source": []
  },
  {
   "cell_type": "markdown",
   "metadata": {},
   "source": [
    "SHOW EXAMPLE OF NETWORKX OPERATION (SHORTEST PATH) THAT CAN BE UPLOADED TO NDEX USING NiceCX"
   ]
  },
  {
   "cell_type": "markdown",
   "metadata": {},
   "source": [
    "# Create using Pandas DataFrame"
   ]
  },
  {
   "cell_type": "markdown",
   "metadata": {},
   "source": [
    "Create a NiceCx model using Pandas DataFrame"
   ]
  },
  {
   "cell_type": "markdown",
   "metadata": {},
   "source": [
    "### Using a 2 column dataframe with no headers:"
   ]
  },
  {
   "cell_type": "code",
   "execution_count": 9,
   "metadata": {
    "collapsed": false
   },
   "outputs": [
    {
     "name": "stdout",
     "output_type": "stream",
     "text": [
      "Nodes: 3\n",
      "Edges: 2\n",
      "Node Attributes: 0\n",
      "Edge Attributes: 0\n",
      "\n"
     ]
    }
   ],
   "source": [
    "data = [('ABC', 'DEF'), ('DEF', 'XYZ')]\n",
    "\n",
    "df = pd.DataFrame.from_records(data)\n",
    "\n",
    "#==============================================\n",
    "# BUILD NICECX FROM PANDAS DATAFRAME 2-Column\n",
    "#==============================================\n",
    "niceCx = NiceCXNetwork(pandas_df=df)\n",
    "\n",
    "print(niceCx.getSummary())"
   ]
  },
  {
   "cell_type": "markdown",
   "metadata": {},
   "source": [
    "### Using a 3 column dataframe with no headers:"
   ]
  },
  {
   "cell_type": "code",
   "execution_count": 10,
   "metadata": {
    "collapsed": false
   },
   "outputs": [
    {
     "name": "stdout",
     "output_type": "stream",
     "text": [
      "Nodes: 3\n",
      "Edges: 2\n",
      "Node Attributes: 0\n",
      "Edge Attributes: 0\n",
      "\n"
     ]
    }
   ],
   "source": [
    "data = [('ABC', 'DEF', 'interacts-with'), ('DEF', 'XYZ', 'neighbor-of')]\n",
    "\n",
    "df = pd.DataFrame.from_records(data)\n",
    "\n",
    "#==============================================\n",
    "# BUILD NICECX FROM PANDAS DATAFRAME 3-Column\n",
    "#==============================================\n",
    "niceCx = NiceCXNetwork(pandas_df=df)\n",
    "\n",
    "print(niceCx.getSummary())"
   ]
  },
  {
   "cell_type": "markdown",
   "metadata": {},
   "source": [
    "### Using 3+ columns plus headers to specify attributes columns"
   ]
  },
  {
   "cell_type": "code",
   "execution_count": 11,
   "metadata": {
    "collapsed": false
   },
   "outputs": [
    {
     "name": "stdout",
     "output_type": "stream",
     "text": [
      "0\n",
      "Nodes: 3\n",
      "Edges: 2\n",
      "Node Attributes: 0\n",
      "Edge Attributes: 2\n",
      "\n"
     ]
    }
   ],
   "source": [
    "df = pd.DataFrame.from_items([('Source', ['ABC', 'DEF']),\n",
    "                              ('Target', ['DEF', 'XYZ']),\n",
    "                              ('Interaction', ['interacts-with', 'neighbor-of']),\n",
    "                              ('EdgeProp', ['Edge property 1', 'Edge property 2'])])\n",
    "\n",
    "niceCx = NiceCXNetwork()\n",
    "#==================================================\n",
    "# BUILD NICECX FROM PANDAS DATAFRAME WITH HEADERS\n",
    "#==================================================\n",
    "niceCx.create_from_pandas(df, source_field='Source', target_field='Target', \n",
    "                          edge_attr=['EdgeProp'], edge_interaction='Interaction')\n",
    "\n",
    "print(niceCx.getSummary())"
   ]
  },
  {
   "cell_type": "markdown",
   "metadata": {},
   "source": [
    "# Create using network hosted on NDEx server"
   ]
  },
  {
   "cell_type": "code",
   "execution_count": 12,
   "metadata": {
    "collapsed": false
   },
   "outputs": [
    {
     "name": "stdout",
     "output_type": "stream",
     "text": [
      "http://public.ndexbio.org/v2/network/f1dd6cc3-0007-11e6-b550-06603eb7f303/aspect\n",
      "Nodes: 36\n",
      "Edges: 37\n",
      "Node Attributes: 778\n",
      "Edge Attributes: 659\n",
      "\n"
     ]
    }
   ],
   "source": [
    "niceCx = NiceCXNetwork(server='public.ndexbio.org', uuid='f1dd6cc3-0007-11e6-b550-06603eb7f303')\n",
    "print(niceCx.getSummary())\n"
   ]
  },
  {
   "cell_type": "code",
   "execution_count": null,
   "metadata": {
    "collapsed": true
   },
   "outputs": [],
   "source": []
  }
 ],
 "metadata": {
  "kernelspec": {
   "display_name": "Python 2",
   "language": "python",
   "name": "python2"
  },
  "language_info": {
   "codemirror_mode": {
    "name": "ipython",
    "version": 2
   },
   "file_extension": ".py",
   "mimetype": "text/x-python",
   "name": "python",
   "nbconvert_exporter": "python",
   "pygments_lexer": "ipython2",
   "version": "2.7.13"
  }
 },
 "nbformat": 4,
 "nbformat_minor": 0
}
