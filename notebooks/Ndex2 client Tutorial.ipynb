{
 "cells": [
  {
   "cell_type": "markdown",
   "metadata": {},
   "source": [
    "# NDEx2 Tutorial"
   ]
  },
  {
   "cell_type": "markdown",
   "metadata": {},
   "source": [
    "In this tutorial, we will first show you how to install the NDEx NiceCX module and use it to create a basic graph and to access one from the NDEx server. NiceCX requires Python 3.6+ and the latest version of the PIP Python package manager for installation. For further details on installing the NDEx module, see the NDEx Client Tutorial."
   ]
  },
  {
   "cell_type": "markdown",
   "metadata": {},
   "source": [
    "## Importing Packages"
   ]
  },
  {
   "cell_type": "markdown",
   "metadata": {},
   "source": [
    "With the NDEx module installed, start Python and import NDExGraph."
   ]
  },
  {
   "cell_type": "code",
   "execution_count": 1,
   "metadata": {
    "collapsed": false
   },
   "outputs": [],
   "source": [
    "from nicecxModel.NiceCXNetwork import NiceCXNetwork\n",
    "from nicecxModel.cx.aspects.NodesElement import NodesElement\n",
    "from nicecxModel.cx.aspects.EdgesElement import EdgesElement\n",
    "from nicecxModel.cx.aspects.NodeAttributesElement import NodeAttributesElement\n",
    "from nicecxModel.cx.aspects.EdgeAttributesElement import EdgeAttributesElement\n",
    "import networkx as nx\n",
    "import pandas as pd"
   ]
  },
  {
   "cell_type": "markdown",
   "metadata": {},
   "source": [
    "## Creating a NiceCX network"
   ]
  },
  {
   "cell_type": "markdown",
   "metadata": {},
   "source": [
    "There are generally five ways to create a NiceCX network.\n",
    "1. An empty network. \n",
    "          niceCx = NiceCXNetwork()\n",
    "2. Using a cx file. \n",
    "          niceCx = NiceCXNetwork(cx=cx)\n",
    "3. Loading it from an NDEx server.\n",
    "          niceCx = NiceCXNetwork(server='test.ndexbio.org', uuid='01c83ba5-0d90-11e6-b550-06603eb7f303')\n",
    "\n",
    "    #### NiceCx can also link to other data structures you may already be familiar with:\n",
    "    \n",
    "\n",
    "4. Using networkx.\n",
    "          niceCx = NiceCXNetwork(networkx_G=G)\n",
    "5. Using a Pandas DataFrame.\n",
    "          niceCx = NiceCXNetwork(pandas_df=df)\n",
    "\n"
   ]
  },
  {
   "cell_type": "markdown",
   "metadata": {},
   "source": [
    "## Create an empty NiceCx network\n",
    "\n",
    "We will call the graph niceCx. The nodes will contain the color of the animal/plant and the edges will contain the way that they are related."
   ]
  },
  {
   "cell_type": "markdown",
   "metadata": {},
   "source": [
    "### Naming the Graph"
   ]
  },
  {
   "cell_type": "markdown",
   "metadata": {},
   "source": [
    "### Filling the Graph With Data"
   ]
  },
  {
   "cell_type": "markdown",
   "metadata": {},
   "source": [
    "ndex2 is designed to be a simple data model.  To add a node to the network you need to build the NodesElement() object and then add it to the niceCx data model.  "
   ]
  },
  {
   "cell_type": "code",
   "execution_count": 4,
   "metadata": {
    "collapsed": false
   },
   "outputs": [],
   "source": [
    "#First option for creating a network\n",
    "niceCx = NiceCXNetwork()"
   ]
  },
  {
   "cell_type": "markdown",
   "metadata": {},
   "source": [
    "You can set the name of the graph by using \"setName(network_name)\". "
   ]
  },
  {
   "cell_type": "code",
   "execution_count": null,
   "metadata": {
    "collapsed": true
   },
   "outputs": [],
   "source": [
    "niceCx.setName(\"Food Web\")"
   ]
  },
  {
   "cell_type": "markdown",
   "metadata": {},
   "source": [
    "Add Nodes and Edges"
   ]
  },
  {
   "cell_type": "code",
   "execution_count": 2,
   "metadata": {
    "collapsed": false
   },
   "outputs": [],
   "source": [
    "fox_node = niceCx.addNode(node_name='Fox')\n",
    "mouse_node = niceCx.addNode(node_name='Mouse')\n",
    "bird_node = niceCx.addNode(node_name='Bird')\n",
    "\n",
    "fox_bird_edge = niceCx.addEdge(edge_source=fox_node, edge_target=bird_node, edge_interaction='interacts-with')\n",
    "\n",
    "fox_mouse_edge = niceCx.addEdge(edge_source=fox_node, edge_target=mouse_node, edge_interaction='interacts-with')\n"
   ]
  },
  {
   "cell_type": "markdown",
   "metadata": {},
   "source": [
    "The edges and nodes that you create will have a unique ID in the order that they appear. For example, the node with the name \"Fox\" will have an ID of 0, \"Mouse\" will have 1, and so on. The edge between \"Fox\" and \"Bird\" will have the ID of 0, the next will be 1, and so on. Keep this in mind, because you will need these ID to access information about these nodes and edges. "
   ]
  },
  {
   "cell_type": "markdown",
   "metadata": {},
   "source": [
    "Add attributes to nodes by specifying node ID in the property_of field then the property name and value in their respective fields."
   ]
  },
  {
   "cell_type": "code",
   "execution_count": 3,
   "metadata": {
    "collapsed": false
   },
   "outputs": [],
   "source": [
    "niceCx.addNodeAttribute(property_of=fox_node, name='Color', values='Red')\n",
    "\n",
    "niceCx.addNodeAttribute(property_of=mouse_node, name='Color', values='Gray')\n",
    "\n",
    "niceCx.addNodeAttribute(property_of=bird_node, name='Color', values='Blue')"
   ]
  },
  {
   "cell_type": "markdown",
   "metadata": {},
   "source": [
    "Adding edge attributes is similar to adding node attributes."
   ]
  },
  {
   "cell_type": "code",
   "execution_count": 4,
   "metadata": {
    "collapsed": false
   },
   "outputs": [],
   "source": [
    "niceCx.addEdgeAttribute(property_of=fox_mouse_edge, name='Hunted', values='On the ground')"
   ]
  },
  {
   "cell_type": "markdown",
   "metadata": {},
   "source": [
    "Print the network summary"
   ]
  },
  {
   "cell_type": "code",
   "execution_count": 5,
   "metadata": {
    "collapsed": false
   },
   "outputs": [
    {
     "name": "stdout",
     "output_type": "stream",
     "text": [
      "Nodes: 3\n",
      "Edges: 2\n",
      "Node Attributes: 3\n",
      "Edge Attributes: 1\n",
      "\n"
     ]
    }
   ],
   "source": [
    "print(niceCx.getSummary())"
   ]
  },
  {
   "cell_type": "markdown",
   "metadata": {},
   "source": [
    "# Create using CX file"
   ]
  },
  {
   "cell_type": "markdown",
   "metadata": {},
   "source": [
    "NiceCx can be created using a CX file."
   ]
  },
  {
   "cell_type": "code",
   "execution_count": 6,
   "metadata": {
    "collapsed": false
   },
   "outputs": [
    {
     "name": "stdout",
     "output_type": "stream",
     "text": [
      "Nodes: 2\n",
      "Edges: 1\n",
      "Node Attributes: 0\n",
      "Edge Attributes: 0\n",
      "\n"
     ]
    }
   ],
   "source": [
    "niceCx = NiceCXNetwork(filename='SimpleNetwork.cx')\n",
    "print(niceCx.getSummary())"
   ]
  },
  {
   "cell_type": "markdown",
   "metadata": {},
   "source": [
    "# Create using Networkx"
   ]
  },
  {
   "cell_type": "markdown",
   "metadata": {},
   "source": [
    "The NiceCx model can be created using networkx as input"
   ]
  },
  {
   "cell_type": "code",
   "execution_count": 8,
   "metadata": {
    "collapsed": false,
    "scrolled": true
   },
   "outputs": [
    {
     "name": "stdout",
     "output_type": "stream",
     "text": [
      "Nodes: 3\n",
      "Edges: 2\n",
      "Node Attributes: 0\n",
      "Edge Attributes: 0\n",
      "\n"
     ]
    }
   ],
   "source": [
    "G = nx.Graph()\n",
    "G.add_node('ABC')\n",
    "G.add_node('DEF')\n",
    "G.add_node('XYZ')\n",
    "G.add_edges_from([('ABC','DEF'), ('DEF', 'XYZ')])\n",
    "\n",
    "#====================================\n",
    "# BUILD NICECX FROM NETWORKX GRAPH\n",
    "#====================================\n",
    "niceCx = NiceCXNetwork(networkx_G=G)\n",
    "                       \n",
    "print(niceCx.getSummary())"
   ]
  },
  {
   "cell_type": "markdown",
   "metadata": {},
   "source": [
    "SHOW EXAMPLE OF NETWORKX OPERATION (SHORTEST PATH) THAT CAN BE UPLOADED TO NDEX USING NiceCX"
   ]
  },
  {
   "cell_type": "markdown",
   "metadata": {},
   "source": [
    "# Create using Pandas DataFrame"
   ]
  },
  {
   "cell_type": "markdown",
   "metadata": {},
   "source": [
    "Create a NiceCx model using Pandas DataFrame"
   ]
  },
  {
   "cell_type": "markdown",
   "metadata": {},
   "source": [
    "### Using a 2 column dataframe with no headers:"
   ]
  },
  {
   "cell_type": "code",
   "execution_count": 9,
   "metadata": {
    "collapsed": false
   },
   "outputs": [
    {
     "name": "stdout",
     "output_type": "stream",
     "text": [
      "Nodes: 3\n",
      "Edges: 2\n",
      "Node Attributes: 0\n",
      "Edge Attributes: 0\n",
      "\n"
     ]
    }
   ],
   "source": [
    "data = [('ABC', 'DEF'), ('DEF', 'XYZ')]\n",
    "\n",
    "df = pd.DataFrame.from_records(data)\n",
    "\n",
    "#==============================================\n",
    "# BUILD NICECX FROM PANDAS DATAFRAME 2-Column\n",
    "#==============================================\n",
    "niceCx = NiceCXNetwork(pandas_df=df)\n",
    "\n",
    "print(niceCx.getSummary())"
   ]
  },
  {
   "cell_type": "markdown",
   "metadata": {},
   "source": [
    "### Using a 3 column dataframe with no headers:"
   ]
  },
  {
   "cell_type": "code",
   "execution_count": 10,
   "metadata": {
    "collapsed": false
   },
   "outputs": [
    {
     "name": "stdout",
     "output_type": "stream",
     "text": [
      "Nodes: 3\n",
      "Edges: 2\n",
      "Node Attributes: 0\n",
      "Edge Attributes: 0\n",
      "\n"
     ]
    }
   ],
   "source": [
    "data = [('ABC', 'DEF', 'interacts-with'), ('DEF', 'XYZ', 'neighbor-of')]\n",
    "\n",
    "df = pd.DataFrame.from_records(data)\n",
    "\n",
    "#==============================================\n",
    "# BUILD NICECX FROM PANDAS DATAFRAME 3-Column\n",
    "#==============================================\n",
    "niceCx = NiceCXNetwork(pandas_df=df)\n",
    "\n",
    "print(niceCx.getSummary())"
   ]
  },
  {
   "cell_type": "markdown",
   "metadata": {},
   "source": [
    "### Using 3+ columns plus headers to specify attributes columns"
   ]
  },
  {
   "cell_type": "code",
   "execution_count": 11,
   "metadata": {
    "collapsed": false
   },
   "outputs": [
    {
     "name": "stdout",
     "output_type": "stream",
     "text": [
      "0\n",
      "Nodes: 3\n",
      "Edges: 2\n",
      "Node Attributes: 0\n",
      "Edge Attributes: 2\n",
      "\n"
     ]
    }
   ],
   "source": [
    "df = pd.DataFrame.from_items([('Source', ['ABC', 'DEF']),\n",
    "                              ('Target', ['DEF', 'XYZ']),\n",
    "                              ('Interaction', ['interacts-with', 'neighbor-of']),\n",
    "                              ('EdgeProp', ['Edge property 1', 'Edge property 2'])])\n",
    "\n",
    "niceCx = NiceCXNetwork()\n",
    "#==================================================\n",
    "# BUILD NICECX FROM PANDAS DATAFRAME WITH HEADERS\n",
    "#==================================================\n",
    "niceCx.create_from_pandas(df, source_field='Source', target_field='Target', \n",
    "                          edge_attr=['EdgeProp'], edge_interaction='Interaction')\n",
    "\n",
    "print(niceCx.getSummary())"
   ]
  },
  {
   "cell_type": "markdown",
   "metadata": {},
   "source": [
    "# Create using network hosted on NDEx server"
   ]
  },
  {
   "cell_type": "code",
   "execution_count": 12,
   "metadata": {
    "collapsed": false
   },
   "outputs": [
    {
     "name": "stdout",
     "output_type": "stream",
     "text": [
      "http://public.ndexbio.org/v2/network/f1dd6cc3-0007-11e6-b550-06603eb7f303/aspect\n",
      "Nodes: 36\n",
      "Edges: 37\n",
      "Node Attributes: 778\n",
      "Edge Attributes: 659\n",
      "\n"
     ]
    }
   ],
   "source": [
    "niceCx = NiceCXNetwork(server='public.ndexbio.org', uuid='f1dd6cc3-0007-11e6-b550-06603eb7f303')\n",
    "print(niceCx.getSummary())\n"
   ]
  },
  {
   "cell_type": "code",
   "execution_count": null,
   "metadata": {
    "collapsed": true
   },
   "outputs": [],
   "source": []
  }
 ],
 "metadata": {
  "kernelspec": {
   "display_name": "Python 2",
   "language": "python",
   "name": "python2"
  },
  "language_info": {
   "codemirror_mode": {
    "name": "ipython",
    "version": 2
   },
   "file_extension": ".py",
   "mimetype": "text/x-python",
   "name": "python",
   "nbconvert_exporter": "python",
   "pygments_lexer": "ipython2",
   "version": "2.7.13"
  }
 },
 "nbformat": 4,
 "nbformat_minor": 0
}
