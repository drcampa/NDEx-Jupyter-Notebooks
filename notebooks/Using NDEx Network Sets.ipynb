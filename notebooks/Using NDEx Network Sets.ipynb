{
 "cells": [
  {
   "cell_type": "markdown",
   "metadata": {},
   "source": [
    "## Overview\n",
    "Network Sets are used to group networks. They are essentially sets of \"bookmarks\", where a network can belong to many different sets, created by different users.\n",
    "\n",
    "This notebook demonstrates the following operations on Network Sets\n",
    "- Get a network set\n",
    "- Operate on the networks in a set\n",
    "- Create a network set\n",
    "- Add a network to a set\n",
    "- Remove a network from a set\n",
    "- Rename a network set\n",
    "- Delete a network set"
   ]
  },
  {
   "cell_type": "code",
   "execution_count": 24,
   "metadata": {},
   "outputs": [],
   "source": [
    "import ndex2\n",
    "import getpass\n",
    "from IPython.display import display, HTML\n"
   ]
  },
  {
   "cell_type": "code",
   "execution_count": 16,
   "metadata": {
    "tags": []
   },
   "outputs": [
    {
     "name": "stdout",
     "output_type": "stream",
     "text": [
      "········\n"
     ]
    }
   ],
   "source": [
    "# Watch out for typos and be sure to hit enter in the field to set the value!!!\n",
    "NDEXUSER = getpass.getpass()"
   ]
  },
  {
   "cell_type": "code",
   "execution_count": 17,
   "metadata": {},
   "outputs": [
    {
     "name": "stdout",
     "output_type": "stream",
     "text": [
      "········\n"
     ]
    }
   ],
   "source": [
    "# Watch out for typos and be sure to hit enter in the field to set the value!!!\n",
    "NDEXPASSWORD = getpass.getpass()"
   ]
  },
  {
   "cell_type": "code",
   "execution_count": 19,
   "metadata": {},
   "outputs": [
    {
     "data": {
      "text/plain": [
       "<ndex2.client.Ndex2 at 0x21f8564efd0>"
      ]
     },
     "execution_count": 19,
     "metadata": {},
     "output_type": "execute_result"
    }
   ],
   "source": [
    "ndx=ndex2.Ndex2(\"http://www.ndexbio.org\", NDEXUSER, NDEXPASSWORD)\n",
    "ndx"
   ]
  },
  {
   "cell_type": "markdown",
   "metadata": {},
   "source": [
    "## Get a Network Set from NDEx\n",
    "- Get the set\n",
    "- Print its name\n",
    "- Print its description\n",
    "- For each network in the set, \n",
    " - get its summary\n",
    " - print its name and description"
   ]
  },
  {
   "cell_type": "code",
   "execution_count": 28,
   "metadata": {},
   "outputs": [
    {
     "data": {
      "text/html": [
       "<h2>Airports example</h2>"
      ],
      "text/plain": [
       "<IPython.core.display.HTML object>"
      ]
     },
     "metadata": {},
     "output_type": "display_data"
    },
    {
     "data": {
      "text/html": [
       "Airport connectivity network<br/>The hierarchical model of airport communities (HiDeF, default settings)<div>One community of airports</div>"
      ],
      "text/plain": [
       "<IPython.core.display.HTML object>"
      ]
     },
     "metadata": {},
     "output_type": "display_data"
    },
    {
     "data": {
      "text/html": [
       "<h4>Airports.xnet</h4>"
      ],
      "text/plain": [
       "<IPython.core.display.HTML object>"
      ]
     },
     "metadata": {},
     "output_type": "display_data"
    },
    {
     "data": {
      "text/html": [
       "<h4>hidef_Airports.xnet</h4>"
      ],
      "text/plain": [
       "<IPython.core.display.HTML object>"
      ]
     },
     "metadata": {},
     "output_type": "display_data"
    },
    {
     "data": {
      "text/html": [
       "Original network: Airports.xnet\n",
       "Algorithm used for community detection: hidef\n",
       "Edge table column used as weight: (none)\n",
       "CustomParameters: {--maxres=50.0, --ct=75, --k=5, --alg=louvain}\n",
       "Original network's NDEx UUID: 64a54980-489a-11ec-b3be-0ac135e8bacf"
      ],
      "text/plain": [
       "<IPython.core.display.HTML object>"
      ]
     },
     "metadata": {},
     "output_type": "display_data"
    },
    {
     "data": {
      "text/html": [
       "<h4>C6231630_Airports.xnet</h4>"
      ],
      "text/plain": [
       "<IPython.core.display.HTML object>"
      ]
     },
     "metadata": {},
     "output_type": "display_data"
    }
   ],
   "source": [
    "airport_example_set_id = \"5a4d787c-489b-11ec-b3be-0ac135e8bacf\"\n",
    "def describe_network_set(set_id):\n",
    "    set = ndx.get_network_set(set_id)\n",
    "    display(HTML(\"<h2>\" + set.get(\"name\") + \"</h2>\"))\n",
    "    display(HTML(airport_example_set.get(\"description\")))\n",
    "    for network_id in airport_example_set.get(\"networks\"):\n",
    "        summary = ndx.get_network_summary(network_id)\n",
    "        display(HTML(\"<h4>\" + summary.get(\"name\") + \"</h4>\"))\n",
    "        if summary.get(\"description\"):\n",
    "            display(HTML(summary.get(\"description\")))\n",
    "    return set\n",
    "\n",
    "airport_example_set = describe_network_set(airport_example_set_id)"
   ]
  },
  {
   "cell_type": "markdown",
   "metadata": {},
   "source": [
    "## Create a Network Set\n",
    "- Create the set\n",
    "- Add two networks\n",
    "- "
   ]
  },
  {
   "cell_type": "code",
   "execution_count": null,
   "metadata": {},
   "outputs": [],
   "source": []
  },
  {
   "cell_type": "code",
   "execution_count": 7,
   "metadata": {},
   "outputs": [],
   "source": [
    "SERVER = 'http://ndexbio.org'\n",
    "NETWORK_UUID = 'cfd3528f-a7a4-11eb-9e72-0ac135e8bacf'\n",
    "\n",
    "#This is used to create clickable links to view the networks in NDEx\n",
    "NETWORK_BASE_URL = 'http://ndexbio.org/viewer/networks/'\n",
    "\n",
    "# Load a public network from NDEx\n",
    "nice_cx_network = ndex2.create_nice_cx_from_server(SERVER, uuid=NETWORK_UUID)"
   ]
  },
  {
   "cell_type": "code",
   "execution_count": 9,
   "metadata": {},
   "outputs": [
    {
     "data": {
      "text/plain": [
       "['Ndex2',\n",
       " 'NiceCXBuilder',\n",
       " 'NiceCXNetwork',\n",
       " '__builtins__',\n",
       " '__cached__',\n",
       " '__doc__',\n",
       " '__file__',\n",
       " '__get_v_from_aspect',\n",
       " '__loader__',\n",
       " '__name__',\n",
       " '__package__',\n",
       " '__path__',\n",
       " '__spec__',\n",
       " '__version__',\n",
       " '_create_cartesian_coordinates_aspect_from_networkx',\n",
       " 'base64',\n",
       " 'client',\n",
       " 'constants',\n",
       " 'create_empty_nice_cx',\n",
       " 'create_nice_cx_from_file',\n",
       " 'create_nice_cx_from_networkx',\n",
       " 'create_nice_cx_from_pandas',\n",
       " 'create_nice_cx_from_raw_cx',\n",
       " 'create_nice_cx_from_server',\n",
       " 'exceptions',\n",
       " 'get_logger',\n",
       " 'get_matrix_from_ndex',\n",
       " 'json',\n",
       " 'known_aspects',\n",
       " 'known_aspects_min',\n",
       " 'load_matrix_to_ndex',\n",
       " 'logging',\n",
       " 'nice_cx_network',\n",
       " 'np',\n",
       " 'os',\n",
       " 'version']"
      ]
     },
     "execution_count": 9,
     "metadata": {},
     "output_type": "execute_result"
    }
   ],
   "source": [
    "dir(ndex2)"
   ]
  },
  {
   "cell_type": "code",
   "execution_count": null,
   "metadata": {},
   "outputs": [],
   "source": []
  }
 ],
 "metadata": {
  "kernelspec": {
   "display_name": "Python 3",
   "language": "python",
   "name": "python3"
  },
  "language_info": {
   "codemirror_mode": {
    "name": "ipython",
    "version": 3
   },
   "file_extension": ".py",
   "mimetype": "text/x-python",
   "name": "python",
   "nbconvert_exporter": "python",
   "pygments_lexer": "ipython3",
   "version": "3.8.11"
  }
 },
 "nbformat": 4,
 "nbformat_minor": 4
}
