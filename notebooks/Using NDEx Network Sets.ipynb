{
 "cells": [
  {
   "cell_type": "markdown",
   "metadata": {},
   "source": [
    "## Overview\n",
    "Network Sets are used to group networks. They are essentially sets of \"bookmarks\", where a network can belong to many different sets, created by different users.\n",
    "\n",
    "This notebook demonstrates the following operations on Network Sets\n",
    "- Get a network set\n",
    "- Operate on the networks in a set\n",
    "- Create a network set\n",
    "- Add a network to a set\n",
    "- Remove a network from a set\n",
    "- Rename a network set\n",
    "- Delete a network set"
   ]
  },
  {
   "cell_type": "code",
   "execution_count": null,
   "metadata": {},
   "outputs": [],
   "source": [
    "import ndex2\n",
    "import getpass\n",
    "from IPython.display import display, HTML\n"
   ]
  },
  {
   "cell_type": "code",
   "execution_count": null,
   "metadata": {
    "tags": []
   },
   "outputs": [],
   "source": [
    "# Watch out for typos and be sure to hit enter in the field to set the value!!!\n",
    "NDEXUSER = getpass.getpass()\n",
    "print(NDEXUSER)"
   ]
  },
  {
   "cell_type": "code",
   "execution_count": null,
   "metadata": {},
   "outputs": [],
   "source": [
    "# Watch out for typos and be sure to hit enter in the field to set the value!!!\n",
    "NDEXPASSWORD = getpass.getpass()\n",
    "print(NDEXPASSWORD)"
   ]
  },
  {
   "cell_type": "code",
   "execution_count": null,
   "metadata": {},
   "outputs": [],
   "source": [
    "ndx=ndex2.Ndex2(\"http://www.ndexbio.org\", NDEXUSER, NDEXPASSWORD)\n",
    "ndx"
   ]
  },
  {
   "cell_type": "markdown",
   "metadata": {},
   "source": [
    "## Get a Network Set from NDEx\n",
    "- Get the set\n",
    "- Print its name\n",
    "- Print its description\n",
    "- For each network in the set, \n",
    " - get its summary\n",
    " - print its name and description"
   ]
  },
  {
   "cell_type": "code",
   "execution_count": null,
   "metadata": {},
   "outputs": [],
   "source": [
    "example_set_id = \"5a4d787c-489b-11ec-b3be-0ac135e8bacf\"\n",
    "def describe_network_set(set_id):\n",
    "    set = ndx.get_network_set(set_id)\n",
    "    display(HTML(\"<h2>\" + set.get(\"name\") + \"</h2>\"))\n",
    "    display(HTML(example_set.get(\"description\")))\n",
    "    for network_id in example_set.get(\"networks\"):\n",
    "        summary = ndx.get_network_summary(network_id)\n",
    "        display(HTML(\"<h4>\" + summary.get(\"name\") + \"</h4>\"))\n",
    "        if summary.get(\"description\"):\n",
    "            display(HTML(summary.get(\"description\")))\n",
    "    return set\n",
    "\n",
    "example_set = ndx.get_network_set(example_set_id)\n",
    "#airport_example_set = describe_network_set(airport_example_set_id)\n",
    "example_set"
   ]
  },
  {
   "cell_type": "code",
   "execution_count": null,
   "metadata": {},
   "outputs": [],
   "source": [
    "example_set_id = \"5a4d787c-489b-11ec-b3be-0ac135e8bacf\"\n",
    "def describe_network_set(set_id):\n",
    "    set = ndx.get_network_set(set_id)\n",
    "    display(HTML(\"<h2>\" + set.get(\"name\") + \"</h2>\"))\n",
    "    display(HTML(example_set.get(\"description\")))\n",
    "    for network_id in example_set.get(\"networks\"):\n",
    "        summary = ndx.get_network_summary(network_id)\n",
    "        display(HTML(\"<h4>\" + summary.get(\"name\") + \"</h4>\"))\n",
    "        if summary.get(\"description\"):\n",
    "            display(HTML(summary.get(\"description\")))\n",
    "    return set\n",
    "\n",
    "example_set = ndx.get_network_set(example_set_id)\n",
    "airport_example_set = describe_network_set(airport_example_set_id)\n",
    "example_set"
   ]
  },
  {
   "cell_type": "markdown",
   "metadata": {},
   "source": [
    "## Create a Network Set\n",
    "- Create the set\n",
    "- Add two networks\n",
    "- "
   ]
  },
  {
   "cell_type": "code",
   "execution_count": null,
   "metadata": {},
   "outputs": [],
   "source": []
  },
  {
   "cell_type": "code",
   "execution_count": null,
   "metadata": {},
   "outputs": [],
   "source": [
    "SERVER = 'http://ndexbio.org'\n",
    "NETWORK_UUID = 'cfd3528f-a7a4-11eb-9e72-0ac135e8bacf'\n",
    "\n",
    "#This is used to create clickable links to view the networks in NDEx\n",
    "NETWORK_BASE_URL = 'http://ndexbio.org/viewer/networks/'\n",
    "\n",
    "# Load a public network from NDEx\n",
    "nice_cx_network = ndex2.create_nice_cx_from_server(SERVER, uuid=NETWORK_UUID)"
   ]
  },
  {
   "cell_type": "code",
   "execution_count": null,
   "metadata": {},
   "outputs": [],
   "source": [
    "dir(ndex2)"
   ]
  },
  {
   "cell_type": "code",
   "execution_count": null,
   "metadata": {},
   "outputs": [],
   "source": []
  }
 ],
 "metadata": {
  "kernelspec": {
   "display_name": "Python 3",
   "language": "python",
   "name": "python3"
  },
  "language_info": {
   "codemirror_mode": {
    "name": "ipython",
    "version": 3
   },
   "file_extension": ".py",
   "mimetype": "text/x-python",
   "name": "python",
   "nbconvert_exporter": "python",
   "pygments_lexer": "ipython3",
   "version": "3.7.4"
  }
 },
 "nbformat": 4,
 "nbformat_minor": 4
}
