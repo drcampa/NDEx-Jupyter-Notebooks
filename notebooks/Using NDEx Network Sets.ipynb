{
 "cells": [
  {
   "cell_type": "markdown",
   "metadata": {},
   "source": [
    "## Overview\n",
    "Network Sets are used to group networks. They are essentially sets of \"bookmarks\", where a network can belong to many different sets, created by different users.\n",
    "\n",
    "This notebook demonstrates the following operations on Network Sets\n",
    "- Get a network set\n",
    "- Operate on the networks in a set\n",
    "- Create a network set\n",
    "- Add a network to a set\n",
    "- Remove a network from a set\n",
    "- Rename a network set\n",
    "- Delete a network set"
   ]
  },
  {
   "cell_type": "code",
   "execution_count": 1,
   "metadata": {},
   "outputs": [],
   "source": [
    "import ndex2"
   ]
  },
  {
   "cell_type": "code",
   "execution_count": 2,
   "metadata": {},
   "outputs": [
    {
     "ename": "AttributeError",
     "evalue": "module 'ndex2' has no attribute 'get_networkset'",
     "output_type": "error",
     "traceback": [
      "\u001b[0;31m---------------------------------------------------------------------------\u001b[0m",
      "\u001b[0;31mAttributeError\u001b[0m                            Traceback (most recent call last)",
      "\u001b[0;32m<ipython-input-2-340b95deb0b9>\u001b[0m in \u001b[0;36m<module>\u001b[0;34m\u001b[0m\n\u001b[1;32m      1\u001b[0m \u001b[0mnset_id\u001b[0m \u001b[0;34m=\u001b[0m \u001b[0;34m\"5a4d787c-489b-11ec-b3be-0ac135e8bacf\"\u001b[0m\u001b[0;34m\u001b[0m\u001b[0;34m\u001b[0m\u001b[0m\n\u001b[0;32m----> 2\u001b[0;31m \u001b[0mnset_info\u001b[0m \u001b[0;34m=\u001b[0m \u001b[0mndex2\u001b[0m\u001b[0;34m.\u001b[0m\u001b[0mget_networkset\u001b[0m\u001b[0;34m(\u001b[0m\u001b[0mnset_id\u001b[0m\u001b[0;34m)\u001b[0m\u001b[0;34m\u001b[0m\u001b[0;34m\u001b[0m\u001b[0m\n\u001b[0m\u001b[1;32m      3\u001b[0m \u001b[0mnset_info\u001b[0m\u001b[0;34m\u001b[0m\u001b[0;34m\u001b[0m\u001b[0m\n",
      "\u001b[0;31mAttributeError\u001b[0m: module 'ndex2' has no attribute 'get_networkset'"
     ]
    }
   ],
   "source": [
    "nset_id = \"5a4d787c-489b-11ec-b3be-0ac135e8bacf\"\n",
    "nset_info = ndex2.get_networkset(nset_id)\n",
    "nset_info"
   ]
  },
  {
   "cell_type": "code",
   "execution_count": null,
   "metadata": {},
   "outputs": [],
   "source": []
  }
 ],
 "metadata": {
  "kernelspec": {
   "display_name": "Python 3",
   "language": "python",
   "name": "python3"
  },
  "language_info": {
   "codemirror_mode": {
    "name": "ipython",
    "version": 3
   },
   "file_extension": ".py",
   "mimetype": "text/x-python",
   "name": "python",
   "nbconvert_exporter": "python",
   "pygments_lexer": "ipython3",
   "version": "3.8.8"
  }
 },
 "nbformat": 4,
 "nbformat_minor": 4
}
