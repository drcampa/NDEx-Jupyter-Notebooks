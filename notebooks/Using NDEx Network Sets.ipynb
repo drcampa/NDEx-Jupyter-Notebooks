{
 "cells": [
  {
   "cell_type": "markdown",
   "metadata": {},
   "source": [
    "## Overview\n",
    "Network Sets are used to group networks. They are essentially sets of \"bookmarks\", where a network can belong to many different sets, created by different users.\n",
    "\n",
    "This notebook demonstrates the following operations on Network Sets\n",
    "- Get a network set\n",
    "- Operate on the networks in a set\n",
    "- Create a network set\n",
    "- Add a network to a set\n",
    "- Remove a network from a set\n",
    "- Rename a network set\n",
    "- Delete a network set"
   ]
  },
  {
   "cell_type": "code",
   "execution_count": null,
   "metadata": {},
   "outputs": [],
   "source": [
    "import ndex2"
   ]
  },
  {
   "cell_type": "code",
   "execution_count": null,
   "metadata": {},
   "outputs": [],
   "source": [
    "nset_id = \"5a4d787c-489b-11ec-b3be-0ac135e8bacf\"\n",
    "nset_info = ndex2.get_networkset(nset_id)\n",
    "nset_info"
   ]
  },
  {
   "cell_type": "code",
   "execution_count": null,
   "metadata": {},
   "outputs": [],
   "source": []
  }
 ],
 "metadata": {
  "kernelspec": {
   "display_name": "Python 3",
   "language": "python",
   "name": "python3"
  },
  "language_info": {
   "codemirror_mode": {
    "name": "ipython",
    "version": 3
   },
   "file_extension": ".py",
   "mimetype": "text/x-python",
   "name": "python",
   "nbconvert_exporter": "python",
   "pygments_lexer": "ipython3",
   "version": "3.8.11"
  }
 },
 "nbformat": 4,
 "nbformat_minor": 4
}
