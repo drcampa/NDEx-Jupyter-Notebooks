{
 "cells": [
  {
   "cell_type": "markdown",
   "metadata": {},
   "source": [
    "## NCI-PID Node Identifier Reorganization"
   ]
  },
  {
   "cell_type": "markdown",
   "metadata": {},
   "source": [
    "This notebook modifies the nodes in a network (or networks) in a set of the NCI-PID pathway networks as they were structured in November 2017\n",
    "\n",
    "This task was motivated by the needs of the CRAVAT/MuPIT application and their copy of the NCI-PID pathways.\n",
    "\n",
    "(But it is a general improvement for these networks and probably for other PathwayCommons EBS derived networks)\n",
    "\n",
    "The changes for each node representing:\n",
    "\n",
    "* Node name = HUGO gene symbol\n",
    "* represents attribute = NCBI gene id\n",
    "* Make the former name be an alias\n"
   ]
  },
  {
   "cell_type": "markdown",
   "metadata": {},
   "source": [
    "<hr>\n",
    "Imports, username, password"
   ]
  },
  {
   "cell_type": "code",
   "execution_count": 1,
   "metadata": {
    "collapsed": false
   },
   "outputs": [],
   "source": [
    "import ndex2\n",
    "import json\n",
    "import requests\n",
    "import ndex2.client as nc\n",
    "\n",
    "my_username = \"drh\"\n",
    "my_password = \"drh\"\n",
    "my_server = 'public.ndexbio.org'"
   ]
  },
  {
   "cell_type": "markdown",
   "metadata": {},
   "source": [
    "Network or NetworkSet UUID"
   ]
  },
  {
   "cell_type": "code",
   "execution_count": 4,
   "metadata": {
    "collapsed": false
   },
   "outputs": [
    {
     "name": "stdout",
     "output_type": "stream",
     "text": [
      "GET route: http://public.ndexbio.org/v2/networkset/71cde621-deb7-11e7-adc1-0ac135e8bacf\n",
      "status code: 200\n"
     ]
    }
   ],
   "source": [
    "# TODO: get UUIDs from a network set \n",
    "\n",
    "# network set --> 71cde621-deb7-11e7-adc1-0ac135e8bacf\n",
    "# 26e3478c-deb7-11e7-adc1-0ac135e8bacf\n",
    "\n",
    "username = 'scratch'\n",
    "password = 'scratch'\n",
    "server = 'http://public.ndexbio.org'\n",
    "my_network_set = '71cde621-deb7-11e7-adc1-0ac135e8bacf'\n",
    "\n",
    "ndex2_client = nc.Ndex2(host=server, username=username, password=password, debug=True)\n",
    "set_response = ndex2_client.get_network_set(my_network_set)\n",
    "uuids = set_response.get('networks') # for one or more individually specified networks\n",
    "    "
   ]
  },
  {
   "cell_type": "markdown",
   "metadata": {},
   "source": [
    "mygene.info access function"
   ]
  },
  {
   "cell_type": "code",
   "execution_count": 10,
   "metadata": {
    "collapsed": true
   },
   "outputs": [],
   "source": [
    "def query_mygene_x(q, tax_id='9606', entrezonly=True):\n",
    "    if entrezonly:\n",
    "        r = requests.get('http://mygene.info/v3/query?q='+q+'&species='+tax_id+'&entrezonly=true')\n",
    "    else:\n",
    "        r = requests.get('http://mygene.info/v3/query?q='+q+'&species='+tax_id)\n",
    "    result = r.json()\n",
    "    hits = result.get(\"hits\")\n",
    "    if hits and len(hits) > 0:\n",
    "        return hits[0]\n",
    "    return False\n",
    "\n",
    "def query_batch(query_string, tax_id='9606', scopes=\"symbol, entrezgene, alias, uniprot\", fields=\"symbol, entrezgene\"):\n",
    "    data = {'species': tax_id,\n",
    "            'scopes': scopes,\n",
    "            'fields': fields,\n",
    "            'q': query_string}\n",
    "    r = requests.post('http://mygene.info/v3/query', data)\n",
    "    json = r.json()\n",
    "    return json\n",
    "\n",
    "def query_mygene(q):\n",
    "    hits = query_batch(q)\n",
    "    for hit in hits:\n",
    "        symbol = hit.get('symbol')\n",
    "        id = hit.get('entrezgene')\n",
    "        if symbol and id:\n",
    "            return (symbol, id)\n",
    "    return None\n",
    "\n",
    "# per node update method\n",
    "def update_node (node, nicecx):\n",
    "    print(\"\\nnode %s\" % node.get_name())\n",
    "    aliases = nicecx.get_node_attribute(node, \"alias\")\n",
    "    print(\"aliases: %s\" % aliases)\n",
    "    # if aliases:\n",
    "        # aliases.push(name)\n",
    "    # else:\n",
    "        # aliases = [name]\n",
    "    \n",
    "    hit = query_mygene(node.get_name())\n",
    "    if hit:\n",
    "        print(\"hit: %s\" % json.dumps(hit, indent=4))\n",
    "    else:\n",
    "        succeed = False\n",
    "        for alias in aliases:\n",
    "            # assume uniprot\n",
    "            id = alias.split(':')[-1]\n",
    "            symbol, gene_id = query_mygene(id)\n",
    "            if symbol:\n",
    "                print(\"hit: %s\" % json.dumps(hit, indent=4))\n",
    "                succeed = True\n",
    "                node.set_node_represents(symbol)\n",
    "                break\n",
    "        if not succeed:\n",
    "            print(\"no gene hit for node %s \" % node.get_name())"
   ]
  },
  {
   "cell_type": "code",
   "execution_count": 11,
   "metadata": {
    "collapsed": false
   },
   "outputs": [
    {
     "name": "stdout",
     "output_type": "stream",
     "text": [
      "\n",
      "node GTP\n",
      "aliases: [u'cas:86-01-1']\n",
      "hit: [\n",
      "    \"MTG1\", \n",
      "    92170\n",
      "]\n",
      "\n",
      "node RHOA\n",
      "aliases: [u'uniprot knowledgebase:P06749', u'uniprot knowledgebase:P61586', u'uniprot knowledgebase:Q53HM4', u'uniprot knowledgebase:Q5U024', u'uniprot knowledgebase:Q9UDJ0', u'uniprot knowledgebase:Q9UEJ4']\n",
      "hit: [\n",
      "    \"RHOA\", \n",
      "    387\n",
      "]\n",
      "\n",
      "node VCAM1\n",
      "aliases: [u'uniprot knowledgebase:A8K6R7', u'uniprot knowledgebase:B4DKS4', u'uniprot knowledgebase:E9PDD1', u'uniprot knowledgebase:P19320', u'uniprot knowledgebase:Q6NUP8']\n",
      "hit: [\n",
      "    \"VCAM1\", \n",
      "    7412\n",
      "]\n",
      "\n",
      "node FAK1\n",
      "aliases: [u'uniprot knowledgebase:B4E2N6', u'uniprot knowledgebase:F5H4S4', u'uniprot knowledgebase:J3QT16', u'uniprot knowledgebase:Q05397', u'uniprot knowledgebase:Q14291', u'uniprot knowledgebase:Q8IYN9', u'uniprot knowledgebase:Q9UD85']\n",
      "hit: [\n",
      "    \"PTK2\", \n",
      "    5747\n",
      "]\n",
      "\n",
      "node ITB1\n",
      "aliases: [u'uniprot knowledgebase:A8K6N2', u'uniprot knowledgebase:D3DRX9', u'uniprot knowledgebase:D3DRY3', u'uniprot knowledgebase:D3DRY4', u'uniprot knowledgebase:D3DRY5', u'uniprot knowledgebase:P05556', u'uniprot knowledgebase:P78466', u'uniprot knowledgebase:P78467', u'uniprot knowledgebase:Q13089', u'uniprot knowledgebase:Q13090', u'uniprot knowledgebase:Q13091', u'uniprot knowledgebase:Q13212', u'uniprot knowledgebase:Q14622', u'uniprot knowledgebase:Q14647', u'uniprot knowledgebase:Q29RW2', u'uniprot knowledgebase:Q7Z3V1', u'uniprot knowledgebase:Q8WUM6']\n"
     ]
    },
    {
     "ename": "TypeError",
     "evalue": "'NoneType' object is not iterable",
     "output_type": "error",
     "traceback": [
      "\u001b[0;31m---------------------------------------------------------------------------\u001b[0m",
      "\u001b[0;31mTypeError\u001b[0m                                 Traceback (most recent call last)",
      "\u001b[0;32m<ipython-input-11-d8743a9ac97d>\u001b[0m in \u001b[0;36m<module>\u001b[0;34m()\u001b[0m\n\u001b[1;32m      7\u001b[0m     \u001b[0mncx\u001b[0m \u001b[0;34m=\u001b[0m \u001b[0mndex2\u001b[0m\u001b[0;34m.\u001b[0m\u001b[0mcreate_nice_cx_from_server\u001b[0m\u001b[0;34m(\u001b[0m\u001b[0mserver\u001b[0m\u001b[0;34m=\u001b[0m\u001b[0mmy_server\u001b[0m\u001b[0;34m,\u001b[0m \u001b[0muuid\u001b[0m\u001b[0;34m=\u001b[0m\u001b[0mnetwork_uuid\u001b[0m\u001b[0;34m)\u001b[0m\u001b[0;34m\u001b[0m\u001b[0m\n\u001b[1;32m      8\u001b[0m     \u001b[0;32mfor\u001b[0m \u001b[0mid\u001b[0m\u001b[0;34m,\u001b[0m \u001b[0mnode\u001b[0m \u001b[0;32min\u001b[0m \u001b[0mncx\u001b[0m\u001b[0;34m.\u001b[0m\u001b[0mget_nodes\u001b[0m\u001b[0;34m(\u001b[0m\u001b[0;34m)\u001b[0m\u001b[0;34m:\u001b[0m\u001b[0;34m\u001b[0m\u001b[0m\n\u001b[0;32m----> 9\u001b[0;31m         \u001b[0mupdate_node\u001b[0m\u001b[0;34m(\u001b[0m\u001b[0mnode\u001b[0m\u001b[0;34m,\u001b[0m \u001b[0mncx\u001b[0m\u001b[0;34m)\u001b[0m\u001b[0;34m\u001b[0m\u001b[0m\n\u001b[0m\u001b[1;32m     10\u001b[0m     \u001b[0;31m# output network (TBD: in output set)\u001b[0m\u001b[0;34m\u001b[0m\u001b[0;34m\u001b[0m\u001b[0m\n\u001b[1;32m     11\u001b[0m     \u001b[0;31m#print(\"writing %s \" % ncx.get_name())\u001b[0m\u001b[0;34m\u001b[0m\u001b[0;34m\u001b[0m\u001b[0m\n",
      "\u001b[0;32m<ipython-input-10-d0ca440e8d73>\u001b[0m in \u001b[0;36mupdate_node\u001b[0;34m(node, nicecx)\u001b[0m\n\u001b[1;32m     46\u001b[0m             \u001b[0;31m# assume uniprot\u001b[0m\u001b[0;34m\u001b[0m\u001b[0;34m\u001b[0m\u001b[0m\n\u001b[1;32m     47\u001b[0m             \u001b[0mid\u001b[0m \u001b[0;34m=\u001b[0m \u001b[0malias\u001b[0m\u001b[0;34m.\u001b[0m\u001b[0msplit\u001b[0m\u001b[0;34m(\u001b[0m\u001b[0;34m':'\u001b[0m\u001b[0;34m)\u001b[0m\u001b[0;34m[\u001b[0m\u001b[0;34m-\u001b[0m\u001b[0;36m1\u001b[0m\u001b[0;34m]\u001b[0m\u001b[0;34m\u001b[0m\u001b[0m\n\u001b[0;32m---> 48\u001b[0;31m             \u001b[0msymbol\u001b[0m\u001b[0;34m,\u001b[0m \u001b[0mgene_id\u001b[0m \u001b[0;34m=\u001b[0m \u001b[0mquery_mygene\u001b[0m\u001b[0;34m(\u001b[0m\u001b[0mid\u001b[0m\u001b[0;34m)\u001b[0m\u001b[0;34m\u001b[0m\u001b[0m\n\u001b[0m\u001b[1;32m     49\u001b[0m             \u001b[0;32mif\u001b[0m \u001b[0msymbol\u001b[0m\u001b[0;34m:\u001b[0m\u001b[0;34m\u001b[0m\u001b[0m\n\u001b[1;32m     50\u001b[0m                 \u001b[0;32mprint\u001b[0m\u001b[0;34m(\u001b[0m\u001b[0;34m\"hit: %s\"\u001b[0m \u001b[0;34m%\u001b[0m \u001b[0mjson\u001b[0m\u001b[0;34m.\u001b[0m\u001b[0mdumps\u001b[0m\u001b[0;34m(\u001b[0m\u001b[0mhit\u001b[0m\u001b[0;34m,\u001b[0m \u001b[0mindent\u001b[0m\u001b[0;34m=\u001b[0m\u001b[0;36m4\u001b[0m\u001b[0;34m)\u001b[0m\u001b[0;34m)\u001b[0m\u001b[0;34m\u001b[0m\u001b[0m\n",
      "\u001b[0;31mTypeError\u001b[0m: 'NoneType' object is not iterable"
     ]
    }
   ],
   "source": [
    "# TBD: create output network set\n",
    "# HUGO example: hgnc.symbol:tp53\n",
    "# Entrez NCBI example: ncbigene:7157\n",
    "# iteration over networks\n",
    "for network_uuid in uuids:\n",
    "    # load network in NiceCX\n",
    "    ncx = ndex2.create_nice_cx_from_server(server=my_server, uuid=network_uuid)\n",
    "    for id, node in ncx.get_nodes():\n",
    "        update_node(node, ncx)\n",
    "    # output network (TBD: in output set)\n",
    "    #print(\"writing %s \" % ncx.get_name())\n",
    "    #ncx.upload_to(my_server, my_username, my_password)\n",
    "print(ncx.to_cx())\n",
    "    "
   ]
  },
  {
   "cell_type": "code",
   "execution_count": null,
   "metadata": {
    "collapsed": true
   },
   "outputs": [],
   "source": []
  }
 ],
 "metadata": {
  "kernelspec": {
   "display_name": "Python 2",
   "language": "python",
   "name": "python2"
  },
  "language_info": {
   "codemirror_mode": {
    "name": "ipython",
    "version": 2
   },
   "file_extension": ".py",
   "mimetype": "text/x-python",
   "name": "python",
   "nbconvert_exporter": "python",
   "pygments_lexer": "ipython2",
   "version": "2.7.13"
  }
 },
 "nbformat": 4,
 "nbformat_minor": 1
}
