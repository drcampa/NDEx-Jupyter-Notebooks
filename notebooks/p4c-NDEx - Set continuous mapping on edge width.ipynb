{
 "cells": [
  {
   "cell_type": "markdown",
   "metadata": {},
   "source": [
    "# USING PY4CYTOSCAPE TO RESET CONTINUOUS STYLE MAPPINGS\n",
    "\n",
    "#### The purpose of this notebook is to update an NDEx network that has continuous style mappings applied from a template network.\n",
    "\n",
    "This is necessary because the range of values used in the template might be different from the range of values present in the network data.\n",
    "\n",
    "Before moving forward, please make sure to **launch the Cytoscape application** on your computer.\n",
    "#### Link to docs: https://py4cytoscape.readthedocs.io/en/latest/reference/styles.html#module-py4cytoscape.style_auto_mappings"
   ]
  },
  {
   "cell_type": "code",
   "execution_count": null,
   "metadata": {},
   "outputs": [],
   "source": [
    "import py4cytoscape as p4c\n",
    "p4c.cytoscape_ping()\n",
    "p4c.cytoscape_version_info()"
   ]
  },
  {
   "cell_type": "code",
   "execution_count": null,
   "metadata": {},
   "outputs": [],
   "source": [
    "# This NDEx network is public(not searchable) and owned by user 'ndexbutler' and has the INDRA-GO Style applied.\n",
    "\n",
    "my_cy_net_SUID = p4c.import_network_from_ndex('35255b69-aa0d-11ec-b3be-0ac135e8bacf')"
   ]
  },
  {
   "cell_type": "code",
   "execution_count": null,
   "metadata": {},
   "outputs": [],
   "source": [
    "# Get the network's style name (you will need this later)\n",
    "\n",
    "current_style = p4c.get_current_style()\n",
    "print(current_style)"
   ]
  },
  {
   "attachments": {},
   "cell_type": "markdown",
   "metadata": {},
   "source": [
    "### Looking at the network in Cytoscape, you can see that the \"__relationship_score\" range of values used in the continuous mapping for Edge Width is: 0.3 >> 7.82 ...\n",
    "![ ](img/p4c_notebook_ss1.png)\n",
    "\n",
    "### However, the actual range of values in the data is 1.39 >> 5.86 as shown under *'table_column_values'* in the output of the generator function below:\n"
   ]
  },
  {
   "cell_type": "code",
   "execution_count": null,
   "metadata": {},
   "outputs": [],
   "source": [
    "edge_width_map = p4c.gen_edge_width_map('__relationship_score', p4c.scheme_c_number_continuous(1, 10))\n",
    "print(edge_width_map)"
   ]
  },
  {
   "cell_type": "markdown",
   "metadata": {},
   "source": [
    "### Let's now set the correct \"__relationship_score\" value range in our network..."
   ]
  },
  {
   "cell_type": "code",
   "execution_count": null,
   "metadata": {},
   "outputs": [],
   "source": [
    "# Set edge width based on __relationship_score\n",
    "\n",
    "p4c.set_edge_line_width_mapping(**p4c.gen_edge_width_map('__relationship_score', p4c.scheme_c_number_continuous(1, 10), style_name= current_style))"
   ]
  },
  {
   "cell_type": "markdown",
   "metadata": {},
   "source": [
    "### Although the cytoscape viz mapper still shows the old range of values (0.3 >> 7.82), the values have been correctly set. Now layout the network (optional), save it back to NDEx and clear Cytoscape."
   ]
  },
  {
   "cell_type": "code",
   "execution_count": null,
   "metadata": {},
   "outputs": [],
   "source": [
    "# Layout the network (optional)\n",
    "\n",
    "p4c.layout_network('force-directed')"
   ]
  },
  {
   "cell_type": "code",
   "execution_count": null,
   "metadata": {},
   "outputs": [],
   "source": [
    "# Update original network in NDEx and clear Cytoscape to prepare for next job.\n",
    "\n",
    "# NOTE: in order to do this, you must have EDIT permission on the network!\n",
    "#       Alternatively, you can save a new copy of the network to your NDEx account using the\n",
    "#       'export_network_to_ndex' function.\n",
    "\n",
    "res = p4c.update_network_in_ndex('Your NDEx userid', 'Your NDEx password', False)\n",
    "print(f'Updated NDEx network with UUID {res}')\n",
    "    \n",
    "p4c.delete_network()"
   ]
  },
  {
   "cell_type": "markdown",
   "metadata": {},
   "source": [
    "------------------------"
   ]
  },
  {
   "cell_type": "markdown",
   "metadata": {},
   "source": [
    "###### Questions/comments:   rpillich@ucsd.edu"
   ]
  }
 ],
 "metadata": {
  "kernelspec": {
   "display_name": "Python 3",
   "language": "python",
   "name": "python3"
  },
  "language_info": {
   "codemirror_mode": {
    "name": "ipython",
    "version": 3
   },
   "file_extension": ".py",
   "mimetype": "text/x-python",
   "name": "python",
   "nbconvert_exporter": "python",
   "pygments_lexer": "ipython3",
   "version": "3.7.3"
  }
 },
 "nbformat": 4,
 "nbformat_minor": 2
}
