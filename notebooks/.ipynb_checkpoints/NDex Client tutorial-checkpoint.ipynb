{
 "cells": [
  {
   "cell_type": "markdown",
   "metadata": {},
   "source": [
    "# NDEx Client Tutorial v3.0"
   ]
  },
  {
   "cell_type": "markdown",
   "metadata": {
    "collapsed": false
   },
   "source": [
    "\n",
    "## Overview\n",
    "\n",
    "The NDEx Python Client is a module that simplifies access to the NDEx Server API and provides convenience methods for common operations on networks.\n",
    "\n",
    "In this tutorial, we will first show how to install the NDEx Python Client module and use it for basic operations on networks stored on an NDEx server.\n",
    "\n",
    "### NDEx Client Objects\n",
    "\n",
    "The NDEx Python Client provides an interface to an NDEx server that is managed via a client object class.  An NDEx Client object can be used to access an NDEx server either anonymously or using a specific user account. For each NDEx server and user account that you want to use in your script or application, you create an instance of the NDEx Client.\n",
    "\n",
    "**This Tutorial Requires That You First Create a Personal Account on the NDEx Public Server**\n",
    "\n",
    "\n",
    "## Requirements\n",
    "\n",
    "The **NDEx Python Client 3.0** requires Python 2.7.9 and the latest version of the PIP Python package manager for installation.  [Click here](https://pypi.python.org/pypi/pip) to download the PIP Python package."
   ]
  },
  {
   "cell_type": "markdown",
   "metadata": {
    "collapsed": false
   },
   "source": [
    "\n",
    "## Installing the NDEx Python Client Module\n",
    "\n",
    "The NDEx Python Client is available via the ndex module in the Python Package Index (PyPI).  \n",
    "\n",
    "This tutorial requires the 3.xxx release (or higher) of the ndex module. \n",
    "\n",
    "To install the ndex module to your Python environment using PIP:\n"
   ]
  },
  {
   "cell_type": "markdown",
   "metadata": {},
   "source": [
    "```>>> pip install ndex``` "
   ]
  },
  {
   "cell_type": "markdown",
   "metadata": {},
   "source": [
    "To upgrade the ndex module to the latest version:"
   ]
  },
  {
   "cell_type": "markdown",
   "metadata": {},
   "source": [
    "```>>> pip install ndex --upgrade```"
   ]
  },
  {
   "cell_type": "markdown",
   "metadata": {},
   "source": [
    "The ndex and other modules may then be imported for this tutorial:"
   ]
  },
  {
   "cell_type": "code",
   "execution_count": 2,
   "metadata": {
    "collapsed": true
   },
   "outputs": [],
   "source": [
    "import ndex.client as nc\n",
    "import io\n",
    "import json\n",
    "from IPython.display import HTML\n",
    "from time import sleep"
   ]
  },
  {
   "cell_type": "markdown",
   "metadata": {},
   "source": [
    "## Setting up NDEx Clients"
   ]
  },
  {
   "cell_type": "markdown",
   "metadata": {},
   "source": [
    "In this section you will configure two client objects to access the public NDEx server. \n",
    "\n",
    "The first will enable you to make anonymous requests. \n",
    "\n",
    "The second will enable you to perform operations requiring authentication, such as saving networks to your account."
   ]
  },
  {
   "cell_type": "markdown",
   "metadata": {},
   "source": [
    "### Anonymous Clients"
   ]
  },
  {
   "cell_type": "markdown",
   "metadata": {},
   "source": [
    "The following code creates an NDEx client object to access the NDEx public server anonymously, then tests the client by getting the current server status."
   ]
  },
  {
   "cell_type": "code",
   "execution_count": 3,
   "metadata": {
    "collapsed": false
   },
   "outputs": [
    {
     "name": "stdout",
     "output_type": "stream",
     "text": [
      "anon client: 3097 networks, 672 users, 26 groups\n"
     ]
    }
   ],
   "source": [
    "anon_ndex=nc.Ndex(\"http://public.ndexbio.org\")\n",
    "anon_ndex.update_status()\n",
    "networks = anon_ndex.status.get(\"networkCount\")\n",
    "users = anon_ndex.status.get(\"userCount\")\n",
    "groups = anon_ndex.status.get(\"groupCount\")\n",
    "print(\"anon client: %s networks, %s users, %s groups\" % (networks, users, groups))"
   ]
  },
  {
   "cell_type": "markdown",
   "metadata": {},
   "source": [
    "### Personal Clients"
   ]
  },
  {
   "cell_type": "markdown",
   "metadata": {},
   "source": [
    "A personal client enables you to perform operations requiring authentication, such as saving networks to your account.\n",
    "\n",
    "You must first create an account on the NDEx Public Server to create a personal client object."
   ]
  },
  {
   "cell_type": "markdown",
   "metadata": {},
   "source": [
    "The following code creates an NDEx client object to access your account on the NDEx Public Server, then tests the client by getting the current server status.\n",
    "\n",
    "For convenience and clarity in this example, we use the variables ‘my_account’ and ‘my_password’ to hold the strings for your account name and password. Edit the values for these variables before running the following cell."
   ]
  },
  {
   "cell_type": "code",
   "execution_count": 4,
   "metadata": {
    "collapsed": false
   },
   "outputs": [
    {
     "name": "stdout",
     "output_type": "stream",
     "text": [
      "my_ndex client: 3097 networks, 672 users, 26 groups\n"
     ]
    }
   ],
   "source": [
    "my_account=\"drh\"\n",
    "my_password=\"drh\"\n",
    "my_ndex=nc.Ndex(\"http://public.ndexbio.org\", my_account, my_password)\n",
    "my_ndex.update_status()\n",
    "networks = my_ndex.status.get(\"networkCount\")\n",
    "users = my_ndex.status.get(\"userCount\")\n",
    "groups = my_ndex.status.get(\"groupCount\")\n",
    "print(\"my_ndex client: %s networks, %s users, %s groups\" % (networks, users, groups))"
   ]
  },
  {
   "cell_type": "markdown",
   "metadata": {},
   "source": [
    "## Working with the NDEx Network Using the Anonymous Client"
   ]
  },
  {
   "cell_type": "markdown",
   "metadata": {},
   "source": [
    "### Get Network Information by Accession"
   ]
  },
  {
   "cell_type": "markdown",
   "metadata": {
    "collapsed": false
   },
   "source": [
    "You can access a network by its accession id, which is a universally unique identifier (UUID) assigned to the network by the NDEx server. All networks have a UUID and they are unique across all servers. No two networks will share an UUID.\n",
    "\n",
    "In this step, you will get basic information about the network and retrieve a Network Summary structure. The ‘Metabolism of RNA’ network is in the NDEx Tutorials account on the public NDEx server; its UUID is ‘9ed0cd55-9ac0-11e4-9499-000c29202374’\n"
   ]
  },
  {
   "cell_type": "markdown",
   "metadata": {},
   "source": [
    "\n",
    "anon_ndex will access the network using the **get_network_summary(network_id)** which returns a NetworkSummary as  \n",
    "a dictionary:"
   ]
  },
  {
   "cell_type": "code",
   "execution_count": 5,
   "metadata": {
    "collapsed": false
   },
   "outputs": [
    {
     "data": {
      "text/html": [
       "<table><tr><td>properties</td><td><table><tr><td>ndex:sourceFormat</td><td>SIF</td></tr><tr><td>ORGANISM</td><td>http://identifiers.org/taxonomy/9606</td></tr><tr><td>URI</td><td>http://purl.org/pc2/4/Pathway_098d5b97ab0d39bfcf905771f06d18a5</td></tr><tr><td>Source</td><td>http://purl.org/pc2/4/reactome46_human</td></tr><tr><td>reference</td><td></td></tr></table></td></tr><tr><td>edgeCount</td><td>4344</td></tr><tr><td>name</td><td>Metabolism of RNA</td></tr><tr><td>warnings</td><td>ElementCount missing in Metadata of aspect edgeAttributes<br>Metadata element of aspect edgeAttributes is removed by NDEx because the element count is 0.<br>ElementCount missing in Metadata of aspect edgeCitations<br>ElementCount in Metadata of aspect edgeCitations is set to 591 by NDEx server.<br>ElementCount missing in Metadata of aspect networkAttributes<br>ElementCount in Metadata of aspect networkAttributes is set to 6 by NDEx server.<br>ElementCount missing in Metadata of aspect nodeAttributes<br>ElementCount in Metadata of aspect nodeAttributes is set to 688 by NDEx server.<br>ElementCount missing in Metadata of aspect nodeCitations<br>Metadata element of aspect nodeCitations is removed by NDEx because the element count is 0.<br>ElementCount missing in Metadata of aspect provenanceHistory<br></td></tr><tr><td>isReadOnly</td><td>False</td></tr><tr><td>isValid</td><td>True</td></tr><tr><td>errorMessage</td><td>None</td></tr><tr><td>creationTime</td><td>1421111281685</td></tr><tr><td>uri</td><td>None</td></tr><tr><td>visibility</td><td>PUBLIC</td></tr><tr><td>isShowcase</td><td>True</td></tr><tr><td>owner</td><td>ndextutorials</td></tr><tr><td>subnetworkIds</td><td>[]</td></tr><tr><td>externalId</td><td>9ed0cd55-9ac0-11e4-9499-000c29202374</td></tr><tr><td>version</td><td>1.3</td></tr><tr><td>nodeCount</td><td>361</td></tr><tr><td>modificationTime</td><td>1487110103193</td></tr><tr><td>ownerUUID</td><td>5e63f1cb-9aaf-11e4-8424-000c29202374</td></tr><tr><td>isDeleted</td><td>False</td></tr><tr><td>description</td><td>*** This network is used for tutorial purpose only and will not be updated. ***</td></tr></table>"
      ],
      "text/plain": [
       "<IPython.core.display.HTML object>"
      ]
     },
     "execution_count": 5,
     "metadata": {},
     "output_type": "execute_result"
    }
   ],
   "source": [
    "ns=anon_ndex.get_network_summary('9ed0cd55-9ac0-11e4-9499-000c29202374')\n",
    "def summary2table(object):\n",
    "    table = \"<table>\"\n",
    "    for key, value in object.items():\n",
    "        if key == \"warnings\":\n",
    "            warning_list = \"\" #<ul>\"\n",
    "            for warning in value:\n",
    "                warning_list += \"%s<br>\" % warning\n",
    "                #warning_list += \"<li>%s</li>\" % warning\n",
    "            #warning_list = \"</ul>\"\n",
    "            value = warning_list\n",
    "        if key == \"properties\":\n",
    "            property_table = \"<table>\"\n",
    "            for property in value:\n",
    "                property_table += \"<tr>\" \n",
    "                property_table += \"<td>%s</td><td>%s</td>\" % (property.get(\"predicateString\"), property.get(\"value\"))\n",
    "                property_table += \"</tr>\"\n",
    "            property_table += \"</table>\"\n",
    "            value = property_table\n",
    "                \n",
    "        table += \"<tr>\" \n",
    "        table += \"<td>%s</td><td>%s</td>\" % (key, value)\n",
    "        table += \"</tr>\"\n",
    "    table += \"</table>\"\n",
    "    return table\n",
    "\n",
    "HTML(summary2table(ns))"
   ]
  },
  {
   "cell_type": "markdown",
   "metadata": {},
   "source": [
    "### Find Networks by Search – Simple Search"
   ]
  },
  {
   "cell_type": "markdown",
   "metadata": {
    "collapsed": false
   },
   "source": [
    "\n",
    "You can search for networks by the text in their name and description as well as the names and controlled vocabulary terms associated with their nodes. The input is a search string that conforms to Lucene search string syntax, but in its simplest form is one or more search terms separated by spaces.\n",
    "\n",
    "anon_ndex will perform the network search using the **search_networks(search_string=\"\", account_name=None, start=0, size=100, include_groups=False)** method that returns a list of NetworkSummary dictionaries:\n"
   ]
  },
  {
   "cell_type": "code",
   "execution_count": 6,
   "metadata": {
    "collapsed": false
   },
   "outputs": [
    {
     "name": "stdout",
     "output_type": "stream",
     "text": [
      "68 networks found.\n"
     ]
    }
   ],
   "source": [
    "metabolic_networks=anon_ndex.search_networks('metabo*')\n",
    "print(\"%s networks found.\" % (len(metabolic_networks['networks'])))\n",
    "#print(\"\\nNetworks:\\n\")\n",
    "#for ns in metabolic_networks['networks']: print(\"  %s\" % ns.get('name'))"
   ]
  },
  {
   "cell_type": "markdown",
   "metadata": {},
   "source": [
    "The search can also be limited to a specific account and to a number of search results:\n"
   ]
  },
  {
   "cell_type": "code",
   "execution_count": 7,
   "metadata": {
    "collapsed": false
   },
   "outputs": [
    {
     "name": "stdout",
     "output_type": "stream",
     "text": [
      "2 networks found\n",
      "\n",
      "Networks:\n",
      "\n",
      "  Metabolism\n",
      "  Metabolism of proteins\n"
     ]
    }
   ],
   "source": [
    "metabolic_networks=anon_ndex.search_networks('metabo* userAdmin:ndextutorials', size=2)\n",
    "print(\"%s networks found\" % (len(metabolic_networks['networks'])))\n",
    "print(\"\\nNetworks:\\n\")\n",
    "for ns in metabolic_networks['networks']: print(\"  %s\" % ns.get('name'))"
   ]
  },
  {
   "cell_type": "markdown",
   "metadata": {},
   "source": [
    "### Get a Network"
   ]
  },
  {
   "cell_type": "markdown",
   "metadata": {
    "collapsed": false
   },
   "source": [
    "\n",
    "You can obtain an entire network as a CX stream, which is an NDEx format that is optimized for streaming networks. \n",
    "This is performed as a monolithic operation, so care should be taken when requesting very large networks. Applications\n",
    "can use the **get_network_summary** method to check the node and edge counts for a network before attempting to use \n",
    "**get_complete_network**. The stream is contained in a Response object from the \n",
    "[Python requests library](http://docs.python-requests.org/en/master/).\n"
   ]
  },
  {
   "cell_type": "markdown",
   "metadata": {},
   "source": [
    "anon_ndex will use the **get_complete_network(network_id)** method to get a Response object (from the [Python requests library](http://docs.python-requests.org/en/master/))"
   ]
  },
  {
   "cell_type": "code",
   "execution_count": 8,
   "metadata": {
    "collapsed": false
   },
   "outputs": [
    {
     "name": "stdout",
     "output_type": "stream",
     "text": [
      "Received 665511 characters of CX\n"
     ]
    }
   ],
   "source": [
    "response=anon_ndex.get_network_as_cx_stream('9ed0cd55-9ac0-11e4-9499-000c29202374')\n",
    "print(\"Received %s characters of CX\" % len(response.content))"
   ]
  },
  {
   "cell_type": "markdown",
   "metadata": {},
   "source": [
    "### Query a Network – Neighborhood Query\n"
   ]
  },
  {
   "cell_type": "markdown",
   "metadata": {
    "collapsed": true
   },
   "source": [
    "You can retrieve a ‘neighborhood’ subnetwork of a network as a CX stream. The query finds the subnetwork by first \n",
    "identifying nodes that are associated with identifiers in the search_string, then traversing a specified number of \n",
    "edges starting from those nodes.  The **search_depth** parameter controls the search, defaults to 1 edge and can be no more than 3 edges. "
   ]
  },
  {
   "cell_type": "markdown",
   "metadata": {},
   "source": [
    "The query to anon_ndex will use the **get_neighborhood_as_cx_stream(network_id, search_string, search_depth=1, edge_limit=2500)** method to get a Response object (from the [Python requests library](http://docs.python-requests.org/en/master/))"
   ]
  },
  {
   "cell_type": "code",
   "execution_count": 9,
   "metadata": {
    "collapsed": false
   },
   "outputs": [
    {
     "name": "stdout",
     "output_type": "stream",
     "text": [
      "Query result network contains 20 nodes and 26 edges.\n"
     ]
    }
   ],
   "source": [
    "query_result_cx=anon_ndex.get_neighborhood('9ed0cd55-9ac0-11e4-9499-000c29202374', 'XRN1')\n",
    "\n",
    "def getNumberOfNodesAndEdgesFromCX(cx):\n",
    "    numberOfEdges = numberOfNodes = 0;\n",
    "    for aspect in cx:\n",
    "        if 'metaData' in aspect:\n",
    "            metaData = aspect['metaData']\n",
    "            for element in metaData:\n",
    "                if (('name' in element) and (element['name'] == 'nodes')):\n",
    "                    numberOfNodes = element['elementCount']\n",
    "                if (('name' in element) and (element['name'] == 'edges')):\n",
    "                    numberOfEdges = element['elementCount']\n",
    "            break\n",
    "    return numberOfNodes, numberOfEdges\n",
    "\n",
    "\n",
    "nodes, edges = getNumberOfNodesAndEdgesFromCX(query_result_cx)\n",
    "\n",
    "print(\"Query result network contains {0} nodes and {1} edges.\".format(nodes,edges))\n"
   ]
  },
  {
   "cell_type": "markdown",
   "metadata": {},
   "source": [
    "## Working with the NDEx Network Using Your Personal Client"
   ]
  },
  {
   "cell_type": "markdown",
   "metadata": {},
   "source": [
    "### Create a Network"
   ]
  },
  {
   "cell_type": "markdown",
   "metadata": {
    "collapsed": true
   },
   "source": [
    "You can create a new network on an NDEx server if you have a CX stream. The network is created in the user account associated with the client object. All methods that create or modify content on the NDEx server require authentication, so you will use the my_ndex client object that you set up at the start of the tutorial and will create a network in your account."
   ]
  },
  {
   "cell_type": "markdown",
   "metadata": {},
   "source": [
    "In the previous section, your neighborhood query retrieved a small network which was bound to the variable **query_result_network**.\n",
    "\n",
    "We will now save this network to your account using **save_cx_stream_as_new_network(network)** and receive the URI for the new network. The URI includes the network UUID."
   ]
  },
  {
   "cell_type": "code",
   "execution_count": 10,
   "metadata": {
    "collapsed": false
   },
   "outputs": [
    {
     "ename": "AttributeError",
     "evalue": "'list' object has no attribute 'encode'",
     "output_type": "error",
     "traceback": [
      "\u001b[0;31m---------------------------------------------------------------------------\u001b[0m",
      "\u001b[0;31mAttributeError\u001b[0m                            Traceback (most recent call last)",
      "\u001b[0;32m<ipython-input-10-e7c060c335e8>\u001b[0m in \u001b[0;36m<module>\u001b[0;34m()\u001b[0m\n\u001b[0;32m----> 1\u001b[0;31m \u001b[0muri\u001b[0m \u001b[0;34m=\u001b[0m \u001b[0mmy_ndex\u001b[0m\u001b[0;34m.\u001b[0m\u001b[0msave_cx_stream_as_new_network\u001b[0m\u001b[0;34m(\u001b[0m\u001b[0mquery_result_cx\u001b[0m\u001b[0;34m)\u001b[0m\u001b[0;34m\u001b[0m\u001b[0m\n\u001b[0m\u001b[1;32m      2\u001b[0m \u001b[0muuid\u001b[0m \u001b[0;34m=\u001b[0m \u001b[0muri\u001b[0m\u001b[0;34m.\u001b[0m\u001b[0mrpartition\u001b[0m\u001b[0;34m(\u001b[0m\u001b[0;34m'/'\u001b[0m\u001b[0;34m)\u001b[0m\u001b[0;34m[\u001b[0m\u001b[0;34m-\u001b[0m\u001b[0;36m1\u001b[0m\u001b[0;34m]\u001b[0m\u001b[0;34m\u001b[0m\u001b[0m\n\u001b[1;32m      3\u001b[0m \u001b[0;32mprint\u001b[0m\u001b[0;34m(\u001b[0m\u001b[0;34m\"URI of the newly created network {0} is {1}\"\u001b[0m\u001b[0;34m.\u001b[0m\u001b[0mformat\u001b[0m\u001b[0;34m(\u001b[0m\u001b[0muuid\u001b[0m\u001b[0;34m,\u001b[0m \u001b[0muri\u001b[0m\u001b[0;34m)\u001b[0m\u001b[0;34m)\u001b[0m\u001b[0;34m\u001b[0m\u001b[0m\n\u001b[1;32m      4\u001b[0m \u001b[0;32mfor\u001b[0m \u001b[0mi\u001b[0m \u001b[0;32min\u001b[0m \u001b[0mrange\u001b[0m\u001b[0;34m(\u001b[0m\u001b[0;36m0\u001b[0m\u001b[0;34m,\u001b[0m \u001b[0;36m4\u001b[0m\u001b[0;34m)\u001b[0m\u001b[0;34m:\u001b[0m\u001b[0;34m\u001b[0m\u001b[0m\n\u001b[1;32m      5\u001b[0m     \u001b[0msleep\u001b[0m\u001b[0;34m(\u001b[0m\u001b[0;36m1\u001b[0m\u001b[0;34m)\u001b[0m\u001b[0;34m\u001b[0m\u001b[0m\n",
      "\u001b[0;32m/Users/dexter/anaconda/lib/python2.7/site-packages/ndex/client.pyc\u001b[0m in \u001b[0;36msave_cx_stream_as_new_network\u001b[0;34m(self, cx_stream)\u001b[0m\n\u001b[1;32m    275\u001b[0m             }\n\u001b[1;32m    276\u001b[0m \u001b[0;34m\u001b[0m\u001b[0m\n\u001b[0;32m--> 277\u001b[0;31m         \u001b[0;32mreturn\u001b[0m \u001b[0mself\u001b[0m\u001b[0;34m.\u001b[0m\u001b[0mpost_multipart\u001b[0m\u001b[0;34m(\u001b[0m\u001b[0mroute\u001b[0m\u001b[0;34m,\u001b[0m \u001b[0mfields\u001b[0m\u001b[0;34m)\u001b[0m\u001b[0;34m\u001b[0m\u001b[0m\n\u001b[0m\u001b[1;32m    278\u001b[0m \u001b[0;34m\u001b[0m\u001b[0m\n\u001b[1;32m    279\u001b[0m     \u001b[0;31m# Create a network based on a JSON string or Dict in CX format\u001b[0m\u001b[0;34m\u001b[0m\u001b[0;34m\u001b[0m\u001b[0m\n",
      "\u001b[0;32m/Users/dexter/anaconda/lib/python2.7/site-packages/ndex/client.pyc\u001b[0m in \u001b[0;36mpost_multipart\u001b[0;34m(self, route, fields)\u001b[0m\n\u001b[1;32m    214\u001b[0m     \u001b[0;32mdef\u001b[0m \u001b[0mpost_multipart\u001b[0m\u001b[0;34m(\u001b[0m\u001b[0mself\u001b[0m\u001b[0;34m,\u001b[0m \u001b[0mroute\u001b[0m\u001b[0;34m,\u001b[0m \u001b[0mfields\u001b[0m\u001b[0;34m)\u001b[0m\u001b[0;34m:\u001b[0m\u001b[0;34m\u001b[0m\u001b[0m\n\u001b[1;32m    215\u001b[0m         \u001b[0murl\u001b[0m \u001b[0;34m=\u001b[0m \u001b[0mself\u001b[0m\u001b[0;34m.\u001b[0m\u001b[0mhost\u001b[0m \u001b[0;34m+\u001b[0m \u001b[0mroute\u001b[0m\u001b[0;34m\u001b[0m\u001b[0m\n\u001b[0;32m--> 216\u001b[0;31m         \u001b[0mmultipart_data\u001b[0m \u001b[0;34m=\u001b[0m \u001b[0mMultipartEncoder\u001b[0m\u001b[0;34m(\u001b[0m\u001b[0mfields\u001b[0m\u001b[0;34m=\u001b[0m\u001b[0mfields\u001b[0m\u001b[0;34m)\u001b[0m\u001b[0;34m\u001b[0m\u001b[0m\n\u001b[0m\u001b[1;32m    217\u001b[0m         \u001b[0;32mif\u001b[0m \u001b[0mself\u001b[0m\u001b[0;34m.\u001b[0m\u001b[0mdebug\u001b[0m\u001b[0;34m:\u001b[0m\u001b[0;34m\u001b[0m\u001b[0m\n\u001b[1;32m    218\u001b[0m             \u001b[0;32mprint\u001b[0m\u001b[0;34m(\u001b[0m\u001b[0;34m\"POST route: \"\u001b[0m \u001b[0;34m+\u001b[0m \u001b[0murl\u001b[0m\u001b[0;34m)\u001b[0m\u001b[0;34m\u001b[0m\u001b[0m\n",
      "\u001b[0;32m/Users/dexter/anaconda/lib/python2.7/site-packages/requests_toolbelt/multipart/encoder.pyc\u001b[0m in \u001b[0;36m__init__\u001b[0;34m(self, fields, boundary, encoding)\u001b[0m\n\u001b[1;32m    117\u001b[0m \u001b[0;34m\u001b[0m\u001b[0m\n\u001b[1;32m    118\u001b[0m         \u001b[0;31m# Pre-compute each part's headers\u001b[0m\u001b[0;34m\u001b[0m\u001b[0;34m\u001b[0m\u001b[0m\n\u001b[0;32m--> 119\u001b[0;31m         \u001b[0mself\u001b[0m\u001b[0;34m.\u001b[0m\u001b[0m_prepare_parts\u001b[0m\u001b[0;34m(\u001b[0m\u001b[0;34m)\u001b[0m\u001b[0;34m\u001b[0m\u001b[0m\n\u001b[0m\u001b[1;32m    120\u001b[0m \u001b[0;34m\u001b[0m\u001b[0m\n\u001b[1;32m    121\u001b[0m         \u001b[0;31m# Load boundary into buffer\u001b[0m\u001b[0;34m\u001b[0m\u001b[0;34m\u001b[0m\u001b[0m\n",
      "\u001b[0;32m/Users/dexter/anaconda/lib/python2.7/site-packages/requests_toolbelt/multipart/encoder.pyc\u001b[0m in \u001b[0;36m_prepare_parts\u001b[0;34m(self)\u001b[0m\n\u001b[1;32m    238\u001b[0m         \"\"\"\n\u001b[1;32m    239\u001b[0m         \u001b[0menc\u001b[0m \u001b[0;34m=\u001b[0m \u001b[0mself\u001b[0m\u001b[0;34m.\u001b[0m\u001b[0mencoding\u001b[0m\u001b[0;34m\u001b[0m\u001b[0m\n\u001b[0;32m--> 240\u001b[0;31m         \u001b[0mself\u001b[0m\u001b[0;34m.\u001b[0m\u001b[0mparts\u001b[0m \u001b[0;34m=\u001b[0m \u001b[0;34m[\u001b[0m\u001b[0mPart\u001b[0m\u001b[0;34m.\u001b[0m\u001b[0mfrom_field\u001b[0m\u001b[0;34m(\u001b[0m\u001b[0mf\u001b[0m\u001b[0;34m,\u001b[0m \u001b[0menc\u001b[0m\u001b[0;34m)\u001b[0m \u001b[0;32mfor\u001b[0m \u001b[0mf\u001b[0m \u001b[0;32min\u001b[0m \u001b[0mself\u001b[0m\u001b[0;34m.\u001b[0m\u001b[0m_iter_fields\u001b[0m\u001b[0;34m(\u001b[0m\u001b[0;34m)\u001b[0m\u001b[0;34m]\u001b[0m\u001b[0;34m\u001b[0m\u001b[0m\n\u001b[0m\u001b[1;32m    241\u001b[0m         \u001b[0mself\u001b[0m\u001b[0;34m.\u001b[0m\u001b[0m_iter_parts\u001b[0m \u001b[0;34m=\u001b[0m \u001b[0miter\u001b[0m\u001b[0;34m(\u001b[0m\u001b[0mself\u001b[0m\u001b[0;34m.\u001b[0m\u001b[0mparts\u001b[0m\u001b[0;34m)\u001b[0m\u001b[0;34m\u001b[0m\u001b[0m\n\u001b[1;32m    242\u001b[0m \u001b[0;34m\u001b[0m\u001b[0m\n",
      "\u001b[0;32m/Users/dexter/anaconda/lib/python2.7/site-packages/requests_toolbelt/multipart/encoder.pyc\u001b[0m in \u001b[0;36mfrom_field\u001b[0;34m(cls, field, encoding)\u001b[0m\n\u001b[1;32m    486\u001b[0m         \u001b[0;34m\"\"\"Create a part from a Request Field generated by urllib3.\"\"\"\u001b[0m\u001b[0;34m\u001b[0m\u001b[0m\n\u001b[1;32m    487\u001b[0m         \u001b[0mheaders\u001b[0m \u001b[0;34m=\u001b[0m \u001b[0mencode_with\u001b[0m\u001b[0;34m(\u001b[0m\u001b[0mfield\u001b[0m\u001b[0;34m.\u001b[0m\u001b[0mrender_headers\u001b[0m\u001b[0;34m(\u001b[0m\u001b[0;34m)\u001b[0m\u001b[0;34m,\u001b[0m \u001b[0mencoding\u001b[0m\u001b[0;34m)\u001b[0m\u001b[0;34m\u001b[0m\u001b[0m\n\u001b[0;32m--> 488\u001b[0;31m         \u001b[0mbody\u001b[0m \u001b[0;34m=\u001b[0m \u001b[0mcoerce_data\u001b[0m\u001b[0;34m(\u001b[0m\u001b[0mfield\u001b[0m\u001b[0;34m.\u001b[0m\u001b[0mdata\u001b[0m\u001b[0;34m,\u001b[0m \u001b[0mencoding\u001b[0m\u001b[0;34m)\u001b[0m\u001b[0;34m\u001b[0m\u001b[0m\n\u001b[0m\u001b[1;32m    489\u001b[0m         \u001b[0;32mreturn\u001b[0m \u001b[0mcls\u001b[0m\u001b[0;34m(\u001b[0m\u001b[0mheaders\u001b[0m\u001b[0;34m,\u001b[0m \u001b[0mbody\u001b[0m\u001b[0;34m)\u001b[0m\u001b[0;34m\u001b[0m\u001b[0m\n\u001b[1;32m    490\u001b[0m \u001b[0;34m\u001b[0m\u001b[0m\n",
      "\u001b[0;32m/Users/dexter/anaconda/lib/python2.7/site-packages/requests_toolbelt/multipart/encoder.pyc\u001b[0m in \u001b[0;36mcoerce_data\u001b[0;34m(data, encoding)\u001b[0m\n\u001b[1;32m    464\u001b[0m \u001b[0;34m\u001b[0m\u001b[0m\n\u001b[1;32m    465\u001b[0m         \u001b[0;32mif\u001b[0m \u001b[0;32mnot\u001b[0m \u001b[0mhasattr\u001b[0m\u001b[0;34m(\u001b[0m\u001b[0mdata\u001b[0m\u001b[0;34m,\u001b[0m \u001b[0;34m'read'\u001b[0m\u001b[0;34m)\u001b[0m\u001b[0;34m:\u001b[0m\u001b[0;34m\u001b[0m\u001b[0m\n\u001b[0;32m--> 466\u001b[0;31m             \u001b[0;32mreturn\u001b[0m \u001b[0mCustomBytesIO\u001b[0m\u001b[0;34m(\u001b[0m\u001b[0mdata\u001b[0m\u001b[0;34m,\u001b[0m \u001b[0mencoding\u001b[0m\u001b[0;34m)\u001b[0m\u001b[0;34m\u001b[0m\u001b[0m\n\u001b[0m\u001b[1;32m    467\u001b[0m \u001b[0;34m\u001b[0m\u001b[0m\n\u001b[1;32m    468\u001b[0m     \u001b[0;32mreturn\u001b[0m \u001b[0mdata\u001b[0m\u001b[0;34m\u001b[0m\u001b[0m\n",
      "\u001b[0;32m/Users/dexter/anaconda/lib/python2.7/site-packages/requests_toolbelt/multipart/encoder.pyc\u001b[0m in \u001b[0;36m__init__\u001b[0;34m(self, buffer, encoding)\u001b[0m\n\u001b[1;32m    527\u001b[0m \u001b[0;32mclass\u001b[0m \u001b[0mCustomBytesIO\u001b[0m\u001b[0;34m(\u001b[0m\u001b[0mio\u001b[0m\u001b[0;34m.\u001b[0m\u001b[0mBytesIO\u001b[0m\u001b[0;34m)\u001b[0m\u001b[0;34m:\u001b[0m\u001b[0;34m\u001b[0m\u001b[0m\n\u001b[1;32m    528\u001b[0m     \u001b[0;32mdef\u001b[0m \u001b[0m__init__\u001b[0m\u001b[0;34m(\u001b[0m\u001b[0mself\u001b[0m\u001b[0;34m,\u001b[0m \u001b[0mbuffer\u001b[0m\u001b[0;34m=\u001b[0m\u001b[0mNone\u001b[0m\u001b[0;34m,\u001b[0m \u001b[0mencoding\u001b[0m\u001b[0;34m=\u001b[0m\u001b[0;34m'utf-8'\u001b[0m\u001b[0;34m)\u001b[0m\u001b[0;34m:\u001b[0m\u001b[0;34m\u001b[0m\u001b[0m\n\u001b[0;32m--> 529\u001b[0;31m         \u001b[0mbuffer\u001b[0m \u001b[0;34m=\u001b[0m \u001b[0mencode_with\u001b[0m\u001b[0;34m(\u001b[0m\u001b[0mbuffer\u001b[0m\u001b[0;34m,\u001b[0m \u001b[0mencoding\u001b[0m\u001b[0;34m)\u001b[0m\u001b[0;34m\u001b[0m\u001b[0m\n\u001b[0m\u001b[1;32m    530\u001b[0m         \u001b[0msuper\u001b[0m\u001b[0;34m(\u001b[0m\u001b[0mCustomBytesIO\u001b[0m\u001b[0;34m,\u001b[0m \u001b[0mself\u001b[0m\u001b[0;34m)\u001b[0m\u001b[0;34m.\u001b[0m\u001b[0m__init__\u001b[0m\u001b[0;34m(\u001b[0m\u001b[0mbuffer\u001b[0m\u001b[0;34m)\u001b[0m\u001b[0;34m\u001b[0m\u001b[0m\n\u001b[1;32m    531\u001b[0m \u001b[0;34m\u001b[0m\u001b[0m\n",
      "\u001b[0;32m/Users/dexter/anaconda/lib/python2.7/site-packages/requests_toolbelt/multipart/encoder.pyc\u001b[0m in \u001b[0;36mencode_with\u001b[0;34m(string, encoding)\u001b[0m\n\u001b[1;32m    408\u001b[0m     \"\"\"\n\u001b[1;32m    409\u001b[0m     \u001b[0;32mif\u001b[0m \u001b[0;32mnot\u001b[0m \u001b[0;34m(\u001b[0m\u001b[0mstring\u001b[0m \u001b[0;32mis\u001b[0m \u001b[0mNone\u001b[0m \u001b[0;32mor\u001b[0m \u001b[0misinstance\u001b[0m\u001b[0;34m(\u001b[0m\u001b[0mstring\u001b[0m\u001b[0;34m,\u001b[0m \u001b[0mbytes\u001b[0m\u001b[0;34m)\u001b[0m\u001b[0;34m)\u001b[0m\u001b[0;34m:\u001b[0m\u001b[0;34m\u001b[0m\u001b[0m\n\u001b[0;32m--> 410\u001b[0;31m         \u001b[0;32mreturn\u001b[0m \u001b[0mstring\u001b[0m\u001b[0;34m.\u001b[0m\u001b[0mencode\u001b[0m\u001b[0;34m(\u001b[0m\u001b[0mencoding\u001b[0m\u001b[0;34m)\u001b[0m\u001b[0;34m\u001b[0m\u001b[0m\n\u001b[0m\u001b[1;32m    411\u001b[0m     \u001b[0;32mreturn\u001b[0m \u001b[0mstring\u001b[0m\u001b[0;34m\u001b[0m\u001b[0m\n\u001b[1;32m    412\u001b[0m \u001b[0;34m\u001b[0m\u001b[0m\n",
      "\u001b[0;31mAttributeError\u001b[0m: 'list' object has no attribute 'encode'"
     ]
    }
   ],
   "source": [
    "uri = my_ndex.save_new_network(query_result_cx)\n",
    "uuid = uri.rpartition('/')[-1]\n",
    "print(\"URI of the newly created network {0} is {1}\".format(uuid, uri))\n",
    "for i in range(0, 4):\n",
    "    sleep(1)\n",
    "    new_summary = my_ndex.get_network_summary(uuid)\n",
    "    if new_summary.get(\"isValid\"):\n",
    "        print(\"New network has been validated by the server.\")\n",
    "        break"
   ]
  },
  {
   "cell_type": "markdown",
   "metadata": {},
   "source": [
    "### Update Network Profile"
   ]
  },
  {
   "cell_type": "markdown",
   "metadata": {},
   "source": [
    "With the network UUID, you can update the name, description and version of the new network using the method **update_network_profile(network_id, network_profile)**"
   ]
  },
  {
   "cell_type": "code",
   "execution_count": null,
   "metadata": {
    "collapsed": false
   },
   "outputs": [],
   "source": [
    "#we use ID of the network we created at previous step\n",
    "network_profile={\"name\":\"Renamed Network\", \"description\":\"New Description\", \"version\":\"2.0\"}\n",
    "my_ndex.update_network_profile(uuid, network_profile)\n",
    "new_summary = my_ndex.get_network_summary(uuid)\n",
    "print(\"new name = %s\" % new_summary.get('name'))\n",
    "print(\"new description = %s\" % new_summary.get('description'))\n",
    "print(\"new version = %s\" % new_summary.get('version'))"
   ]
  },
  {
   "cell_type": "markdown",
   "metadata": {},
   "source": [
    "### Set Read-Only"
   ]
  },
  {
   "cell_type": "markdown",
   "metadata": {},
   "source": [
    "The new network can be set to **read-only** using the **set_read_only(network_id, boolean)** method, preventing unintended modification. "
   ]
  },
  {
   "cell_type": "code",
   "execution_count": null,
   "metadata": {
    "collapsed": false
   },
   "outputs": [],
   "source": [
    "#make network read-only\n",
    "my_ndex.set_read_only(uuid, True)\n",
    "new_summary = my_ndex.get_network_summary(uuid)\n",
    "print(\"The read only status is %s\" % new_summary.get('isReadOnly'))"
   ]
  },
  {
   "cell_type": "markdown",
   "metadata": {},
   "source": [
    "The network is then reverted to read-write, enabling modification."
   ]
  },
  {
   "cell_type": "code",
   "execution_count": null,
   "metadata": {
    "collapsed": false
   },
   "outputs": [],
   "source": [
    "#revert network to original state (make it read-write again)\n",
    "my_ndex.set_read_only(uuid, False)\n",
    "new_summary = my_ndex.get_network_summary(uuid)\n",
    "print(\"The read only status has been reverted to %s\" % new_summary.get('isReadOnly'))"
   ]
  },
  {
   "cell_type": "markdown",
   "metadata": {},
   "source": [
    "### Delete a Network"
   ]
  },
  {
   "cell_type": "markdown",
   "metadata": {},
   "source": [
    "Finally, the query result network is deleted using **delete_network(networkId)**.\n",
    "\n",
    "Note that you can only delete networks that you own.\n",
    "\n",
    "Be careful: there is no method to undo a deletion."
   ]
  },
  {
   "cell_type": "code",
   "execution_count": null,
   "metadata": {
    "collapsed": false
   },
   "outputs": [],
   "source": [
    "my_ndex.delete_network(uuid)\n",
    "print(\"Tutorial Complete\")"
   ]
  }
 ],
 "metadata": {
  "anaconda-cloud": {},
  "kernelspec": {
   "display_name": "Python [Root]",
   "language": "python",
   "name": "Python [Root]"
  },
  "language_info": {
   "codemirror_mode": {
    "name": "ipython",
    "version": 2
   },
   "file_extension": ".py",
   "mimetype": "text/x-python",
   "name": "python",
   "nbconvert_exporter": "python",
   "pygments_lexer": "ipython2",
   "version": "2.7.12"
  }
 },
 "nbformat": 4,
 "nbformat_minor": 0
}
