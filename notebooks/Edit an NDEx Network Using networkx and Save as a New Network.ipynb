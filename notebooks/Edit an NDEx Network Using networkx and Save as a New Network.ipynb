{
 "cells": [
  {
   "cell_type": "markdown",
   "metadata": {},
   "source": [
    "# Edit an NDEx network using networkx and save a new copy"
   ]
  },
  {
   "cell_type": "markdown",
   "metadata": {},
   "source": [
    "In this tutorial we will:\n",
    "- download a network from NDEx as a NiceCX network\n",
    "- make a networkx `Graph()` object via the `to_networkx(mode='default')` method\n",
    "- display the networkx network\n",
    "- remove 0 degree nodes\n",
    "- create a new NiceCX network from the modified networkx network\n",
    "- uploading the new network to NDEx. \n",
    "\n",
    "This tutorial requires Python 3.7+ and networkx 2.4+"
   ]
  },
  {
   "cell_type": "markdown",
   "metadata": {},
   "source": [
    "# Import modules\n",
    "\n",
    "Import needed modules. If there is an error with matplotlib run:\n",
    "\n",
    "`conda install -c conda-forge matplotlib`\n",
    "\n",
    "**NOTE:** For better support for Anaconda environments, exit Jupyter and run:\n",
    "          `conda install -c anaconda nb_conda`"
   ]
  },
  {
   "cell_type": "code",
   "execution_count": null,
   "metadata": {},
   "outputs": [],
   "source": [
    "import matplotlib\n",
    "matplotlib.use('Qt4Agg')\n",
    "# this matplotlib inline enables the matplotlib plots to be displayed in the Jupyter notebook\n",
    "%matplotlib inline\n",
    "\n",
    "import matplotlib.pyplot as plt\n",
    "import ndex2\n",
    "import networkx\n",
    "\n",
    "# used to prompt user for NDEx password in this notebook\n",
    "import getpass\n"
   ]
  },
  {
   "cell_type": "markdown",
   "metadata": {},
   "source": [
    "# Download the example network from NDEx\n",
    "\n",
    "Using the `create_nice_cx_from_server()` the following line of code downloads the network from NDEx and creates a `NiceCXNetwork` object named `nice_cx_network`. \n",
    "\n",
    "For help on function names try running `help(nice_cx_network)`"
   ]
  },
  {
   "cell_type": "code",
   "execution_count": null,
   "metadata": {},
   "outputs": [],
   "source": [
    "# EXAMPLE NETWORK FROM NDEx CIViC Variant-Drug Associations\n",
    "# Viewable in a browser here: http://ndexbio.org/#/network/b9705e4f-57ef-11e9-9f06-0ac135e8bacf\n",
    "civic_variant_drug_network_uuid = 'b9705e4f-57ef-11e9-9f06-0ac135e8bacf'\n",
    "\n",
    "nice_cx_network = ndex2.create_nice_cx_from_server('public.ndexbio.org', \n",
    "                                                   uuid=civic_variant_drug_network_uuid)"
   ]
  },
  {
   "cell_type": "markdown",
   "metadata": {},
   "source": [
    "# Make a networkx graph from the NiceCXNetwork\n",
    "\n",
    "This fragment of code uses `to_networkx(mode='default')` to make a networkx `Graph()` object. "
   ]
  },
  {
   "cell_type": "code",
   "execution_count": null,
   "metadata": {},
   "outputs": [],
   "source": [
    "\n",
    "g = nice_cx_network.to_networkx(mode='default')\n",
    "\n",
    "print('NiceCXNetwork number of nodes: ' + str(len(nice_cx_network.get_nodes())) + \n",
    "      ' vs Networkx: ' + str(len(list(g))))\n",
    "print('NiceCXNetwork number of edges: ' + str(len(nice_cx_network.get_edges())) +\n",
    "      ' vs Networkx: ' + str(g.number_of_edges()))\n",
    "\n",
    "# the networkx object has the name and description of the original network\n",
    "if g.graph.get('name'):\n",
    "   print(g.graph)"
   ]
  },
  {
   "cell_type": "markdown",
   "metadata": {},
   "source": [
    "# Plot your network in the notebook\n",
    "\n",
    "If the following fails, the issue might be due to installation of older version of networkx (1.11) \n",
    "\n",
    "To fix this, exit jupyter and run the following in the terminal:\n",
    "\n",
    "`pip install networkx --upgrade`\n",
    "\n",
    "Then restart jupyter notebook (ie `jupyter notebook`) "
   ]
  },
  {
   "cell_type": "code",
   "execution_count": null,
   "metadata": {},
   "outputs": [],
   "source": [
    "print(\"networkx version: \" + networkx.__version__)\n",
    "print(\"starting...\")\n",
    "plt.rcParams['figure.dpi'] = 200\n",
    "networkx.draw_networkx(g, pos=g.pos, node_size=5, with_labels=False, width=0.2)"
   ]
  },
  {
   "cell_type": "markdown",
   "metadata": {},
   "source": [
    "# Get a list of the zero degree nodes\n",
    "\n",
    "We use the networkx method `isolates()` to get a list of all zero degree nodes and then store them in the variable `isolatelist`"
   ]
  },
  {
   "cell_type": "code",
   "execution_count": null,
   "metadata": {},
   "outputs": [],
   "source": [
    "isolatelist = list(networkx.isolates(g))\n",
    "print('Number of zero degree nodes: ' + str(len(isolatelist)))"
   ]
  },
  {
   "cell_type": "markdown",
   "metadata": {},
   "source": [
    "# Remove the zero degree nodes and their positions\n",
    "\n",
    "We will now remove the zero degree nodes by their ids on the `isolatelist`\n",
    "\n",
    "We also need to remove the node _positions_ of the removed nodes because networkx doesn't do this automatically. If the positions of deleted nodes are not removed the network will be flagged as invalid when it is written to NDEx."
   ]
  },
  {
   "cell_type": "code",
   "execution_count": null,
   "metadata": {},
   "outputs": [],
   "source": [
    "print('Number of nodes before removal: ' + str(len(list(g))))\n",
    "# the nodes in the networkx graph are the node ids from the NiceCX network\n",
    "\n",
    "g.remove_nodes_from(isolatelist)\n",
    "\n",
    "# we will now remove the node positions of the removed nodes from g.pos \n",
    "new_pos = {}\n",
    "for node_id, coordinate in g.pos.items():\n",
    "    if node_id not in isolatelist:\n",
    "        new_pos[node_id] = coordinate\n",
    "\n",
    "g.pos = new_pos\n",
    "\n",
    "print('Number of nodes after removal: ' + str(len(list(g))))\n",
    "print('Number of node positions after removal ', len(g.pos))"
   ]
  },
  {
   "cell_type": "markdown",
   "metadata": {},
   "source": [
    "# Convert the networkx object back to a NiceCXNetwork object\n",
    "\n",
    "The following code converts the networkx graph object `g` back to a \n",
    "`NiceCXNetwork` object using `create_nice_cx_from_networkx()`\n",
    "\n",
    "Additional calls below set the name of the network as well as the description. \n",
    "\n",
    "Finally, for debugging puposes, the number of nodes and edges is output for both objects"
   ]
  },
  {
   "cell_type": "code",
   "execution_count": null,
   "metadata": {},
   "outputs": [],
   "source": [
    "# we use the networkx object, g, to create a NiceCXNetwork object\n",
    "newnetwork = ndex2.create_nice_cx_from_networkx(g)\n",
    "\n",
    "# we demonstrate that the new NiceCXNetwork object has the same number of nodes and edges as the networkx object\n",
    "print('NiceCXNetwork from networkx number of nodes: ' + str(len(newnetwork.get_nodes())) + \n",
    "      ' vs Networkx: ' + str(len(g)))\n",
    "print('NiceCXNetwork from networkx number of edges: ' + str(len(newnetwork.get_edges())) +\n",
    "      ' vs Networkx: ' + str(g.number_of_edges()))\n",
    "\n",
    "# we will set the name of the new network to be a modification of the original network\n",
    "newnetwork.set_name(nice_cx_network.get_name() + ' 0 degree nodes removed')\n",
    "\n",
    "# and also set a description for the network\n",
    "newnetwork.set_network_attribute('description', values='my network with 0 degree nodes removed')\n"
   ]
  },
  {
   "cell_type": "markdown",
   "metadata": {},
   "source": [
    "# Handle errors in conversion from networkx to CX\n",
    "There are a couple bugs in `ndex2.create_nice_cx_from_networkx()` method. The big ones being\n",
    "incorrect addition of node attributes `represents` and `name` The other ones involve incorrectly\n",
    "guessing data types of data. The code block below handles this in a naive way be converting\n",
    "all data values to a string and the data type to string for ndoes and edge attributes.\n",
    "\n",
    "**NOTE:** This occurs in versions of ndex2 client version 3.4.0 and earlier"
   ]
  },
  {
   "cell_type": "code",
   "execution_count": 8,
   "metadata": {},
   "outputs": [],
   "source": [
    "for node_id, node_obj in newnetwork.get_nodes():\n",
    "    newnetwork.remove_node_attribute(node_id, 'represents')\n",
    "    newnetwork.remove_node_attribute(node_id, 'name')\n",
    "    for n_attr in newnetwork.get_node_attributes(node_id):\n",
    "        n_attr['v'] = str(n_attr['v'])\n",
    "        n_attr['d'] = 'string'\n",
    "        \n",
    "for edge_id, edge_obj in newnetwork.get_edges():\n",
    "    for e_attr in newnetwork.get_edge_attributes(edge_id):\n",
    "        e_attr['d'] = 'string'\n",
    "        e_attr['v'] = str(e_attr['v'])\n"
   ]
  },
  {
   "cell_type": "markdown",
   "metadata": {},
   "source": [
    "# Enter your NDEx username \n",
    "\n",
    "Be sure to hit enter in the field to set the value!!"
   ]
  },
  {
   "cell_type": "code",
   "execution_count": null,
   "metadata": {},
   "outputs": [],
   "source": [
    "ndexuser = getpass.getpass()"
   ]
  },
  {
   "cell_type": "markdown",
   "metadata": {},
   "source": [
    "# Enter your NDEx password \n",
    "\n",
    "Be sure to hit enter in the field to set the value!!"
   ]
  },
  {
   "cell_type": "code",
   "execution_count": null,
   "metadata": {},
   "outputs": [],
   "source": [
    "ndexpassword = getpass.getpass()"
   ]
  },
  {
   "cell_type": "markdown",
   "metadata": {},
   "source": [
    "# Upload your network to NDEx"
   ]
  },
  {
   "cell_type": "code",
   "execution_count": null,
   "metadata": {},
   "outputs": [],
   "source": [
    "res = newnetwork.upload_to('www.ndexbio.org', ndexuser, ndexpassword)\n",
    "\n",
    "print('URL returned by upload_to call: ' + res)\n",
    "newnetwork_uuid = res.split('/')[-1]\n",
    "\n",
    "print('Network UUID: ' + newnetwork_uuid)"
   ]
  },
  {
   "cell_type": "markdown",
   "metadata": {},
   "source": [
    "# Apply the style from the original network to your network\n",
    "\n",
    "When converting to/from networkx Graph() the style on the original network is lost. To recover that style, we will use get the style from the original network using the `apply_template()` method. \n",
    "`apply_template()` retrieves the style from a network in NDEx and applies it to the current network. "
   ]
  },
  {
   "cell_type": "code",
   "execution_count": null,
   "metadata": {},
   "outputs": [],
   "source": [
    "newnetwork.apply_template('public.ndexbio.org', civic_variant_drug_network_uuid)"
   ]
  },
  {
   "cell_type": "markdown",
   "metadata": {},
   "source": [
    "# Update our network on NDEx\n",
    "\n",
    "Rather then uploading an additional network to NDEx, we will update the one we just wrote using the `update_to()` method. This method requires the network's UUID as the first argument."
   ]
  },
  {
   "cell_type": "code",
   "execution_count": null,
   "metadata": {},
   "outputs": [],
   "source": [
    "newnetwork.update_to(newnetwork_uuid, 'public.ndexbio.org', ndexuser, ndexpassword)"
   ]
  },
  {
   "cell_type": "code",
   "execution_count": null,
   "metadata": {},
   "outputs": [],
   "source": []
  }
 ],
 "metadata": {
  "kernelspec": {
   "display_name": "Python 3",
   "language": "python",
   "name": "python3"
  },
  "language_info": {
   "codemirror_mode": {
    "name": "ipython",
    "version": 3
   },
   "file_extension": ".py",
   "mimetype": "text/x-python",
   "name": "python",
   "nbconvert_exporter": "python",
   "pygments_lexer": "ipython3",
   "version": "3.7.4"
  }
 },
 "nbformat": 4,
 "nbformat_minor": 2
}
