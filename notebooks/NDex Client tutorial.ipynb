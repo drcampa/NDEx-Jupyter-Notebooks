{
 "cells": [
  {
   "cell_type": "code",
   "execution_count": null,
   "metadata": {
    "collapsed": false
   },
   "outputs": [],
   "source": [
    "''''\n",
    "The NDEx Python Client is a module that simplifies access to the NDEx Server API and provides convenience methods \n",
    "for common operations on networks. Detailed technical info about the Python Client is available in the relevant \n",
    "section of our NDEx v1.3 Technical Design Document.\n",
    "''''"
   ]
  },
  {
   "cell_type": "code",
   "execution_count": null,
   "metadata": {
    "collapsed": false
   },
   "outputs": [],
   "source": [
    "''''\n",
    "In this tutorial, we will first show you how to install the NDEx Python Client module and use it for basic operations on\n",
    "networks stored on an NDEx server. The NDEx Python Client 2.0 requires Python 2.7.9 and the latest version of the PIP \n",
    "Python package manager for installation.\n",
    "''''"
   ]
  },
  {
   "cell_type": "code",
   "execution_count": null,
   "metadata": {
    "collapsed": false
   },
   "outputs": [],
   "source": [
    "''''\n",
    "The Python Client is available as a development release of the ndex module in the Python Package Index (PyPI) as of \n",
    "June 2015.  This tutorial was composed using the 2.0 release of the ndex module. To install this module to your computer\n",
    "using PIP:\n",
    "        >>> pip install ndex\n",
    "or\n",
    "        >>> pip install ndex\n",
    "If you have an older version of this module already installed. \n",
    "''''"
   ]
  },
  {
   "cell_type": "code",
   "execution_count": null,
   "metadata": {
    "collapsed": false
   },
   "outputs": [],
   "source": [
    "#With the ndex module installed, start Python and import ndex.client and the io module for python:\n",
    "import ndex.client as nc\n",
    "import io"
   ]
  },
  {
   "cell_type": "code",
   "execution_count": null,
   "metadata": {
    "collapsed": true
   },
   "outputs": [],
   "source": [
    "#In this section you will configure two client objects to access the public NDEx server. \n",
    "#The first(shown as \"anon_ndex\" below) will let you make anonymous requests and the second(shown as \"my_ndex\")\n",
    "#will let you perform operations requiring authentication, such as saving networks\n",
    "#to your account.\n",
    "\n",
    "anon_ndex=nc.Ndex(\"http://public.ndexbio.org\")\n",
    "\n",
    "#For convenience and clarity in this example, we set the variables ‘my_account’ and ‘my_password’ to hold the strings\n",
    "#for your account name and password:\n",
    "my_account=\"(your username here)\"\n",
    "my_password=\"piggyzhang\"\n",
    "my_ndex=nc.Ndex(\"http://public.ndexbio.org\",my_account,my_password)\n"
   ]
  },
  {
   "cell_type": "code",
   "execution_count": null,
   "metadata": {
    "collapsed": false
   },
   "outputs": [],
   "source": [
    "''''You can access a network by its accession id – which is a universally unique identifier(UUID) assigned to the network \n",
    "by the NDEx server. All networks have a UUID and they are unique across all servers – no two networks will share a UUID.\n",
    "\n",
    "In this step, you will get basic information about the network, retrieving a Network Summary structure. The ‘Metabolism \n",
    "of RNA’ network is in the NDEx Tutorials account on the public NDEx server; its UUID is ‘9ed0cd55-9ac0-11e4-9499-000c29202374’\n",
    "''''"
   ]
  },
  {
   "cell_type": "code",
   "execution_count": null,
   "metadata": {
    "collapsed": false
   },
   "outputs": [],
   "source": [
    "#anon_ndex will access the network using the method 'get_network_summary(network_id)' which will return a list of \n",
    "#Network Summary dictionaries. You can access the information by using get methods. \n",
    "ns=anon_ndex.get_network_summary('9ed0cd55-9ac0-11e4-9499-000c29202374')\n",
    "print ns.get('name')\n",
    "print ns.get('edgeCount')\n",
    "print ns.get('nodeCount')"
   ]
  },
  {
   "cell_type": "code",
   "execution_count": null,
   "metadata": {
    "collapsed": true
   },
   "outputs": [],
   "source": [
    "''''\n",
    "You can search for networks by the text in their name and description as well as the names and controlled vocabulary \n",
    "terms associated with their nodes. The input is a search string that conforms to Lucene search string syntax, but in its \n",
    "simplest form is one or more search terms separated by spaces.\n",
    "''''"
   ]
  },
  {
   "cell_type": "code",
   "execution_count": null,
   "metadata": {
    "collapsed": true
   },
   "outputs": [],
   "source": [
    "#anon_ndex will use the method 'search_networks(search_string=””, account_name=None, skip_blocks=0, block_size=100)'\n",
    "#to search for networks. It will return a list of Network Summary dictionaries. You can access the information by \n",
    "#using get methods.\n",
    "\n",
    "#You can do a simple search just by name:\n",
    "metabolic_networks = anon_ndex.search_networks('metabo*')\n",
    "print len(metabolic_networks)\n",
    "for ns in metabolic_networks: print ns.get('name')"
   ]
  },
  {
   "cell_type": "code",
   "execution_count": null,
   "metadata": {
    "collapsed": false
   },
   "outputs": [],
   "source": [
    "#Or you can create limits to a specific account and a number of search results:\n",
    "metabolic_networks = anon_ndex.search_networks('metabo*','ndextutorials', block_size=2)\n",
    "print len(metabolic_networks)\n",
    "for ns in metabolic_networks: print ns.get('name')"
   ]
  },
  {
   "cell_type": "code",
   "execution_count": null,
   "metadata": {
    "collapsed": true
   },
   "outputs": [],
   "source": [
    "''''\n",
    "You can obtain an entire network as a CX stream, which is an NDEx format that is optimized for streaming networks. \n",
    "This is performed as a monolithic operation, so care should be taken when requesting very large networks. Applications\n",
    "can use the get_network_summary method to check the node and edge counts for a network before attempting to use \n",
    "get_complete_network. The stream is contained in a Response object from the Python requests library \n",
    "(http://docs.python-requests.org/en/master/).\n",
    "''''"
   ]
  },
  {
   "cell_type": "code",
   "execution_count": null,
   "metadata": {
    "collapsed": false
   },
   "outputs": [],
   "source": [
    "#anon_ndex will use the method 'get_complete_network(network_id)' to get a Response object (from Python requests library)\n",
    "response =  anon_ndex.get_network_as_cx_stream('9ed0cd55-9ac0-11e4-9499-000c29202374')\n",
    "print len(response.json())"
   ]
  },
  {
   "cell_type": "code",
   "execution_count": null,
   "metadata": {
    "collapsed": true
   },
   "outputs": [],
   "source": [
    "''''\n",
    "You can retrieve a ‘neighborhood’ subnetwork of a network as CX stream. The query finds the subnetwork by first \n",
    "identifying nodes that are associated with identifiers in the search_string, then traversing search_depth number of \n",
    "steps from those nodes.  The search_depth is limited to 3 steps and the following example shows a query using the \n",
    "default 1-step limit. Once against, the stream is contained in a Response object from the Python requests library \n",
    "(http://docs.python-requests.org/en/master/).\n",
    "''''"
   ]
  },
  {
   "cell_type": "code",
   "execution_count": null,
   "metadata": {
    "collapsed": false,
    "scrolled": true
   },
   "outputs": [],
   "source": [
    "# anon_ndex will use the method 'get_neighborhood_as_cx (network_id, search_string, search_depth=1)' \n",
    "#to get a Response object (from Python requests library)\n",
    "response= anon_ndex.get_neighborhood_as_cx_stream('9ed0cd55-9ac0-11e4-9499-000c29202374', 'XRN1')\n",
    "print len(response.json())"
   ]
  },
  {
   "cell_type": "code",
   "execution_count": null,
   "metadata": {
    "collapsed": true
   },
   "outputs": [],
   "source": [
    "''''\n",
    "You can create a new network on an NDEx server if you have a CX stream. The network is created in the user account \n",
    "associated with the client object. All methods that create or modify content on the NDEx server require authentication,\n",
    "so you will use the my_ndex client object that you set up at the start of the tutorial and to create a network in \n",
    "your account.\n",
    "An error is returned if the CX stream is larger than a maximum size for network creation set in the NDEx server \n",
    "configuration.\n",
    "''''"
   ]
  },
  {
   "cell_type": "code",
   "execution_count": null,
   "metadata": {
    "collapsed": false
   },
   "outputs": [],
   "source": [
    "#First convert the Response object from a bytes-like objects into bytes objects.Then use \n",
    "#'save_cx_stream_as_new_network(network)' that will return the ID of the network as an integer.\n",
    "\n",
    "#The small network that you obtained based on a query for 10 edges (in the previous section) will be saved to your \n",
    "#account in this example. A Network Summary dictonary for the new network is returned so that you can obtain the \n",
    "#UUID assigned to the network.\n",
    "cx_stream = io.BytesIO(response.content)\n",
    "new_network_id = my_ndex.save_cx_stream_as_new_network(cx_stream)\n",
    "print new_network_id"
   ]
  },
  {
   "cell_type": "code",
   "execution_count": null,
   "metadata": {
    "collapsed": true
   },
   "outputs": [],
   "source": [
    "#You can also update (overwrite, replace) a network on an NDEx server based on a network CX stream. The updated network\n",
    "#must be owned by the user account associated with the client object. Use the method \n",
    "#\"update_cx_network(self, cx_stream, network_id, provenance=None)\" which will return the ID of network modified \n",
    "#(same as network_id)"
   ]
  },
  {
   "cell_type": "code",
   "execution_count": null,
   "metadata": {
    "collapsed": false
   },
   "outputs": [],
   "source": [
    "#You can also update just the network profile (defined as the name, description, version, and visibility of a network) \n",
    "#on an NDEx server based on the network UUID. You use the method \"update_network_profile(network_id, network_profile)\" \n",
    "#which does not return anything.\n",
    "network_profile = {\"name\":\"Renamed Network\",\"description\":\"New Description\",\"version\":\"2.0\",\"visibility\":\"PUBLIC\"}\n",
    "my_ndex.update_network_profile(new_network_id,network_profile)"
   ]
  },
  {
   "cell_type": "code",
   "execution_count": null,
   "metadata": {
    "collapsed": false
   },
   "outputs": [],
   "source": [
    "#You can also set a network to be read only using \"set_read_only(network_id, boolean)\" so that it can be retrieved more\n",
    "#quickly by others. The method does not return anything.Please note that a read only network cannot be edited or \n",
    "#deleted, so you will need to revert it to its original state  prior to proceeding with the next step in this tutorial. \n",
    "\n",
    "my_ndex.set_read_only(new_network_id,True)\n",
    "\n",
    "#To revert to its original state:\n",
    "\n",
    "my_ndex.set_read_only(new_network_id,False)"
   ]
  },
  {
   "cell_type": "code",
   "execution_count": null,
   "metadata": {
    "collapsed": true
   },
   "outputs": [],
   "source": [
    "#Finally, you can delete a network using \"delete_network(networkId)\" that you own by its UUID. The method does not \n",
    "#return anything. Be careful: there \n",
    "#is no method to undo a deletion.\n",
    "my_ndex.delete_network(new_network_id)"
   ]
  }
 ],
 "metadata": {
  "kernelspec": {
   "display_name": "Python 2",
   "language": "python",
   "name": "python2"
  },
  "language_info": {
   "codemirror_mode": {
    "name": "ipython",
    "version": 2
   },
   "file_extension": ".py",
   "mimetype": "text/x-python",
   "name": "python",
   "nbconvert_exporter": "python",
   "pygments_lexer": "ipython2",
   "version": "2.7.11"
  }
 },
 "nbformat": 4,
 "nbformat_minor": 0
}
