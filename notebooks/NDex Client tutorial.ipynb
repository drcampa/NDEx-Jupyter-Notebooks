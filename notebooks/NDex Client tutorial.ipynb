{
 "cells": [
  {
   "cell_type": "markdown",
   "metadata": {},
   "source": [
    "# NDex Client Tutorial"
   ]
  },
  {
   "cell_type": "markdown",
   "metadata": {},
   "source": [
    "The NDEx Python Client is a module that simplifies access to the NDEx Server API and provides convenience methods \n",
    "for common operations on networks. Detailed technical info about the Python Client is available in the relevant \n",
    "section of our NDEx v1.3 Technical Design Document."
   ]
  },
  {
   "cell_type": "markdown",
   "metadata": {
    "collapsed": false
   },
   "source": [
    "\n",
    "In this tutorial, we will first show you how to install the NDEx Python Client module and use it for basic operations on networks stored on an NDEx server. The NDEx Python Client 2.0 requires Python 2.7.9 and the latest version of the PIP Python package manager for installation.\n"
   ]
  },
  {
   "cell_type": "markdown",
   "metadata": {
    "collapsed": false
   },
   "source": [
    "\n",
    "The Python Client is available as a development release of the ndex module in the Python Package Index (PyPI) as of \n",
    "June 2015.  This tutorial was composed using the 2.0 release of the ndex module. To install this module to your computer using PIP:\n",
    "        >>> pip install ndex\n",
    "or\n",
    "        >>> pip install ndex\n",
    "        \n",
    "if you have an older version of this module already installed. \n"
   ]
  },
  {
   "cell_type": "markdown",
   "metadata": {},
   "source": [
    "## Setting up an NDEx Client"
   ]
  },
  {
   "cell_type": "markdown",
   "metadata": {},
   "source": [
    "With the ndex module installed, start Python and import ndex.client and the io module for python:"
   ]
  },
  {
   "cell_type": "code",
   "execution_count": 1,
   "metadata": {
    "collapsed": false
   },
   "outputs": [],
   "source": [
    "import ndex.client as nc\n",
    "import io"
   ]
  },
  {
   "cell_type": "markdown",
   "metadata": {},
   "source": [
    "In this section you will configure two client objects to access the public NDEx server. The first (shown as \"anon_ndex\" below) will let you make anonymous requests and the second (shown as \"my_ndex\")will let you perform operations requiring authentication, such as saving networks to your account."
   ]
  },
  {
   "cell_type": "code",
   "execution_count": 2,
   "metadata": {
    "collapsed": true
   },
   "outputs": [],
   "source": [
    "\n",
    "anon_ndex=nc.Ndex(\"http://public.ndexbio.org\")\n",
    "\n",
    "#For convenience and clarity in this example, we set the variables ‘my_account’ and ‘my_password’ to hold the strings\n",
    "#for your account name and password:                 \n",
    "my_account=\"(your username here)\"\n",
    "my_password=\"(your password here)\"\n",
    "my_ndex=nc.Ndex(\"http://public.ndexbio.org\",my_account,my_password)\n"
   ]
  },
  {
   "cell_type": "markdown",
   "metadata": {},
   "source": [
    "## Working with NDEx Network Using the Client"
   ]
  },
  {
   "cell_type": "markdown",
   "metadata": {},
   "source": [
    "### Get Network Information by Accession"
   ]
  },
  {
   "cell_type": "markdown",
   "metadata": {
    "collapsed": false
   },
   "source": [
    "You can access a network by its accession id, which is an universally unique identifier(UUID) assigned to the network by the NDEx server. All networks have a UUID and they are unique across all servers. No two networks will share an UUID.\n",
    "\n",
    "In this step, you will get basic information about the network and retrieve a Network Summary structure. The ‘Metabolism of RNA’ network is in the NDEx Tutorials account on the public NDEx server; its UUID is ‘9ed0cd55-9ac0-11e4-9499-000c29202374’\n"
   ]
  },
  {
   "cell_type": "markdown",
   "metadata": {},
   "source": [
    "anon_ndex will access the network using the method 'get_network_summary(network_id)' which will return a list of \n",
    "Network Summary dictionaries. "
   ]
  },
  {
   "cell_type": "code",
   "execution_count": 3,
   "metadata": {
    "collapsed": false
   },
   "outputs": [
    {
     "name": "stdout",
     "output_type": "stream",
     "text": [
      "Metabolism of RNA\n",
      "4344\n",
      "361\n"
     ]
    }
   ],
   "source": [
    "\n",
    "ns=anon_ndex.get_network_summary('9ed0cd55-9ac0-11e4-9499-000c29202374')\n",
    "print ns.get('name')\n",
    "print ns.get('edgeCount')\n",
    "print ns.get('nodeCount')"
   ]
  },
  {
   "cell_type": "markdown",
   "metadata": {},
   "source": [
    "### Find Networks by Search – Simple Search"
   ]
  },
  {
   "cell_type": "markdown",
   "metadata": {
    "collapsed": false
   },
   "source": [
    "\n",
    "You can search for networks by the text in their name and description as well as the names and controlled vocabulary terms associated with their nodes. The input is a search string that conforms to Lucene search string syntax, but in its simplest form is one or more search terms separated by spaces.\n"
   ]
  },
  {
   "cell_type": "code",
   "execution_count": 4,
   "metadata": {
    "collapsed": false
   },
   "outputs": [
    {
     "name": "stdout",
     "output_type": "stream",
     "text": [
      "2\n",
      "Metabolism\n",
      "Metabolism of proteins\n"
     ]
    }
   ],
   "source": [
    "\n",
    "metabolic_networks = anon_ndex.search_networks('metabo*','ndextutorials', block_size=2)\n",
    "print len(metabolic_networks)\n",
    "for ns in metabolic_networks: print ns.get('name')"
   ]
  },
  {
   "cell_type": "markdown",
   "metadata": {},
   "source": [
    "### Get a Network"
   ]
  },
  {
   "cell_type": "markdown",
   "metadata": {
    "collapsed": false
   },
   "source": [
    "\n",
    "You can obtain an entire network as a CX stream, which is an NDEx format that is optimized for streaming networks. \n",
    "This is performed as a monolithic operation, so care should be taken when requesting very large networks. Applications\n",
    "can use the get_network_summary method to check the node and edge counts for a network before attempting to use \n",
    "get_complete_network. The stream is contained in a Response object from the Python requests library \n",
    "(http://docs.python-requests.org/en/master/).\n"
   ]
  },
  {
   "cell_type": "markdown",
   "metadata": {},
   "source": [
    "anon_ndex will use the method 'get_complete_network(network_id)' to get a Response object (from Python requests library)"
   ]
  },
  {
   "cell_type": "code",
   "execution_count": 5,
   "metadata": {
    "collapsed": false
   },
   "outputs": [
    {
     "name": "stdout",
     "output_type": "stream",
     "text": [
      "6166\n"
     ]
    }
   ],
   "source": [
    "\n",
    "response =  anon_ndex.get_network_as_cx_stream('9ed0cd55-9ac0-11e4-9499-000c29202374')\n",
    "print len(response.json())"
   ]
  },
  {
   "cell_type": "markdown",
   "metadata": {},
   "source": [
    "### Query a Network – Neighborhood Query\n"
   ]
  },
  {
   "cell_type": "markdown",
   "metadata": {
    "collapsed": true
   },
   "source": [
    "\n",
    "You can retrieve a ‘neighborhood’ subnetwork of a network as CX stream. The query finds the subnetwork by first \n",
    "identifying nodes that are associated with identifiers in the search_string, then traversing search_depth number of \n",
    "steps from those nodes.  The search_depth is limited to 3 steps and the following example shows a query using the \n",
    "default 1-step limit. Once against, the stream is contained in a Response object from the Python requests library \n",
    "(http://docs.python-requests.org/en/master/).\n"
   ]
  },
  {
   "cell_type": "markdown",
   "metadata": {},
   "source": [
    "anon_ndex will use the method 'get_neighborhood_as_cx (network_id, search_string, search_depth=1)' \n",
    "to get a Response object (from Python requests library)"
   ]
  },
  {
   "cell_type": "code",
   "execution_count": 6,
   "metadata": {
    "collapsed": false,
    "scrolled": true
   },
   "outputs": [
    {
     "name": "stdout",
     "output_type": "stream",
     "text": [
      "50\n"
     ]
    }
   ],
   "source": [
    "\n",
    "response= anon_ndex.get_neighborhood_as_cx_stream('9ed0cd55-9ac0-11e4-9499-000c29202374', 'XRN1')\n",
    "print len(response.json())"
   ]
  },
  {
   "cell_type": "markdown",
   "metadata": {},
   "source": [
    "## Create a Network"
   ]
  },
  {
   "cell_type": "markdown",
   "metadata": {
    "collapsed": true
   },
   "source": [
    "\n",
    "You can create a new network on an NDEx server if you have a CX stream. The network is created in the user account \n",
    "associated with the client object. All methods that create or modify content on the NDEx server require authentication,\n",
    "so you will use the my_ndex client object that you set up at the start of the tutorial and to create a network in \n",
    "your account.\n",
    "An error is returned if the CX stream is larger than a maximum size for network creation set in the NDEx server \n",
    "configuration.\n"
   ]
  },
  {
   "cell_type": "markdown",
   "metadata": {},
   "source": [
    "First convert the Response object from a bytes-like objects into bytes objects.Then use \n",
    "'save_cx_stream_as_new_network(network)' that will return the ID of the network as an integer.\n",
    "\n",
    "The small network that you obtained based on a query for 10 edges (in the previous section) will be saved to your \n",
    "account in this example. A Network Summary dictonary for the new network is returned so that you can obtain the \n",
    "UUID assigned to the network."
   ]
  },
  {
   "cell_type": "code",
   "execution_count": 7,
   "metadata": {
    "collapsed": false
   },
   "outputs": [
    {
     "name": "stdout",
     "output_type": "stream",
     "text": [
      "2e4bc25c-3e3e-11e6-a5c7-06603eb7f303\n"
     ]
    }
   ],
   "source": [
    "\n",
    "cx_stream = io.BytesIO(response.content)\n",
    "new_network_id = my_ndex.save_cx_stream_as_new_network(cx_stream)\n",
    "print new_network_id"
   ]
  },
  {
   "cell_type": "markdown",
   "metadata": {},
   "source": [
    "## Updating"
   ]
  },
  {
   "cell_type": "markdown",
   "metadata": {},
   "source": [
    "### Update a Network"
   ]
  },
  {
   "cell_type": "markdown",
   "metadata": {
    "collapsed": true
   },
   "source": [
    "You can also update (overwrite, replace) a network on an NDEx server based on a network CX stream. The updated network\n",
    "must be owned by the user account associated with the client object. Use the method \n",
    "\"update_cx_network(self, cx_stream, network_id, provenance=None)\" which will return the ID of network modified \n",
    "(same as network_id)"
   ]
  },
  {
   "cell_type": "markdown",
   "metadata": {},
   "source": [
    "### Update Network Profile"
   ]
  },
  {
   "cell_type": "markdown",
   "metadata": {},
   "source": [
    "You can also update just the network profile (defined as the name, description, version, and visibility of a network) \n",
    "on an NDEx server based on the network UUID. You use the method \"update_network_profile(network_id, network_profile)\" \n",
    "which does not return anything."
   ]
  },
  {
   "cell_type": "code",
   "execution_count": 8,
   "metadata": {
    "collapsed": false
   },
   "outputs": [
    {
     "data": {
      "text/plain": [
       "''"
      ]
     },
     "execution_count": 8,
     "metadata": {},
     "output_type": "execute_result"
    }
   ],
   "source": [
    "\n",
    "network_profile = {\"name\":\"Renamed Network\",\"description\":\"New Description\",\"version\":\"2.0\",\"visibility\":\"PUBLIC\"}\n",
    "my_ndex.update_network_profile(new_network_id,network_profile)"
   ]
  },
  {
   "cell_type": "markdown",
   "metadata": {},
   "source": [
    "### Set Read-Only"
   ]
  },
  {
   "cell_type": "markdown",
   "metadata": {},
   "source": [
    "You can also set a network to be read only using \"set_read_only(network_id, boolean)\" so that it can be retrieved more\n",
    "quickly by others. The method does not return anything.Please note that a read only network cannot be edited or \n",
    "deleted, so you will need to revert it to its original state  prior to proceeding with the next step in this tutorial. "
   ]
  },
  {
   "cell_type": "code",
   "execution_count": 9,
   "metadata": {
    "collapsed": false
   },
   "outputs": [
    {
     "data": {
      "text/plain": [
       "1467143408395L"
      ]
     },
     "execution_count": 9,
     "metadata": {},
     "output_type": "execute_result"
    }
   ],
   "source": [
    "\n",
    "\n",
    "my_ndex.set_read_only(new_network_id,True)\n",
    "\n",
    "#To revert to its original state:\n",
    "\n",
    "my_ndex.set_read_only(new_network_id,False)"
   ]
  },
  {
   "cell_type": "markdown",
   "metadata": {},
   "source": [
    "### Delete a Network"
   ]
  },
  {
   "cell_type": "markdown",
   "metadata": {},
   "source": [
    "Finally, you can delete a network using \"delete_network(networkId)\" that you own by its UUID. The method does not \n",
    "return anything. Be careful: there is no method to undo a deletion."
   ]
  },
  {
   "cell_type": "code",
   "execution_count": 10,
   "metadata": {
    "collapsed": true
   },
   "outputs": [],
   "source": [
    "\n",
    "my_ndex.delete_network(new_network_id)"
   ]
  },
  {
   "cell_type": "markdown",
   "metadata": {},
   "source": [
    "## Search for Networks By Network Properties"
   ]
  },
  {
   "cell_type": "markdown",
   "metadata": {},
   "source": [
    "You can get a list of networks who have certain properties with a given value. For example, the following query finds all networks on public with a format of Cytoscape-XGMML."
   ]
  },
  {
   "cell_type": "code",
   "execution_count": 11,
   "metadata": {
    "collapsed": false
   },
   "outputs": [
    {
     "name": "stdout",
     "output_type": "stream",
     "text": [
      "Network: Metabolism of RNA\n",
      "Properties: \n",
      "  ORGANISM : http://identifiers.org/taxonomy/9606\n",
      "  URI : http://purl.org/pc2/4/Pathway_098d5b97ab0d39bfcf905771f06d18a5\n",
      "  Source : http://purl.org/pc2/4/reactome46_human\n",
      "  sourceFormat : SIF\n"
     ]
    }
   ],
   "source": [
    "query = {\"properties\":[{\"name\":\"ORGANISM\",\"value\":\"http://identifiers.org/taxonomy/9606\"}]}\n",
    "networks = my_ndex.search_networks_by_property_filter(query,account_name='ndextutorials')\n",
    "for network in networks:\n",
    "    print \"Network: \" + network.get(\"name\")\n",
    "    print \"Properties: \"\n",
    "    for prop in network.get(\"properties\"):\n",
    "        print \"  \" + prop.get(\"predicateString\") + \" : \" + prop.get(\"value\")"
   ]
  }
 ],
 "metadata": {
  "kernelspec": {
   "display_name": "Python 2",
   "language": "python",
   "name": "python2"
  },
  "language_info": {
   "codemirror_mode": {
    "name": "ipython",
    "version": 2
   },
   "file_extension": ".py",
   "mimetype": "text/x-python",
   "name": "python",
   "nbconvert_exporter": "python",
   "pygments_lexer": "ipython2",
   "version": "2.7.11"
  }
 },
 "nbformat": 4,
 "nbformat_minor": 0
}
