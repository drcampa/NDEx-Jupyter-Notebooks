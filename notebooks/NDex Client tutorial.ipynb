{
 "cells": [
  {
   "cell_type": "markdown",
   "metadata": {},
   "source": [
    "# NDEx Client Tutorial v3.0"
   ]
  },
  {
   "cell_type": "markdown",
   "metadata": {
    "collapsed": false
   },
   "source": [
    "\n",
    "## Overview\n",
    "\n",
    "The NDEx Python Client is a module that simplifies access to the NDEx Server API and provides convenience methods for common operations on networks.\n",
    "\n",
    "In this tutorial, we will first show how to install the NDEx Python Client module and use it for basic operations on networks stored on an NDEx server.\n",
    "\n",
    "The NDEx Python Client provides an interface to an NDEx server that is managed via a client object class.  For each NDEx server and user account that you want to use in your script or application, you create an instance of the NDEx Client. An NDEx Client object can be used to access an NDEx server either anonymously or using a specific user account.\n",
    "\n",
    "\n",
    "## Requirements\n",
    "\n",
    "The **NDEx Python Client 3.0** requires Python 2.7.9 and the latest version of the PIP Python package manager for installation.  [Click here](https://pypi.python.org/pypi/pip) to download the PIP Python package."
   ]
  },
  {
   "cell_type": "markdown",
   "metadata": {
    "collapsed": false
   },
   "source": [
    "\n",
    "## Installing the NDEx Python Client Module\n",
    "\n",
    "The Python Client is available as a development release of the ndex module in the Python Package Index (PyPI) as of February 2017.  This tutorial was composed using the 2.0 release of the ndex module. To install this module to your computer using PIP:\n",
    "        >>> pip install ndex \n",
    "or\n",
    "        >>> pip install ndex --upgrade \n",
    "        \n",
    "if you have an older version of this module already installed. \n"
   ]
  },
  {
   "cell_type": "markdown",
   "metadata": {},
   "source": [
    "## Setting up NDEx Clients"
   ]
  },
  {
   "cell_type": "markdown",
   "metadata": {},
   "source": [
    "In this section you will configure two client objects to access the public NDEx server. The first will let you make anonymous requests and the second will let you perform operations requiring authentication, such as saving networks to your account.<br>\n",
    "With the ndex module installed, start Python and import ndex.client:\n"
   ]
  },
  {
   "cell_type": "code",
   "execution_count": 1,
   "metadata": {
    "collapsed": true
   },
   "outputs": [],
   "source": [
    "import ndex.client as nc\n",
    "import io\n",
    "import json"
   ]
  },
  {
   "cell_type": "markdown",
   "metadata": {},
   "source": [
    "### Anonymous Clients"
   ]
  },
  {
   "cell_type": "markdown",
   "metadata": {},
   "source": [
    "Create a NDEx client object to access the NDEx public server anonymously:"
   ]
  },
  {
   "cell_type": "code",
   "execution_count": 3,
   "metadata": {
    "collapsed": false
   },
   "outputs": [],
   "source": [
    "anon_ndex=nc.Ndex(\"http://public.ndexbio.org\")"
   ]
  },
  {
   "cell_type": "markdown",
   "metadata": {},
   "source": [
    "### Personal Clients"
   ]
  },
  {
   "cell_type": "markdown",
   "metadata": {},
   "source": [
    "This kind of clients allows you to perform operations requiring authentication, such as saving networks to your account.<br>\n",
    "Create a second client object to access the same server with your account. For convenience and clarity in this example, we set the variables ‘my_account’ and ‘my_password’ to hold the strings for your account name and password:\n"
   ]
  },
  {
   "cell_type": "code",
   "execution_count": 2,
   "metadata": {
    "collapsed": true
   },
   "outputs": [],
   "source": [
    "my_account=\"your username\"\n",
    "my_password=\"your password\"\n",
    "my_ndex=nc.Ndex(\"http://public.ndexbio.org\",my_account,my_password)"
   ]
  },
  {
   "cell_type": "markdown",
   "metadata": {},
   "source": [
    "## Working with the NDEx Network Using the Anonymous Client"
   ]
  },
  {
   "cell_type": "markdown",
   "metadata": {},
   "source": [
    "### Get Network Information by Accession"
   ]
  },
  {
   "cell_type": "markdown",
   "metadata": {
    "collapsed": false
   },
   "source": [
    "You can access a network by its accession id, which is an universally unique identifier (UUID) assigned to the network by the NDEx server. All networks have a UUID and they are unique across all servers. No two networks will share an UUID.\n",
    "\n",
    "In this step, you will get basic information about the network and retrieve a Network Summary structure. The ‘Metabolism of RNA’ network is in the NDEx Tutorials account on the public NDEx server; its UUID is ‘9ed0cd55-9ac0-11e4-9499-000c29202374’\n"
   ]
  },
  {
   "cell_type": "markdown",
   "metadata": {},
   "source": [
    "\n",
    "anon_ndex will access the network using the **get_network_summary(network_id)** which returns a NetworkSummary as  \n",
    "a dictionary:"
   ]
  },
  {
   "cell_type": "code",
   "execution_count": 4,
   "metadata": {
    "collapsed": false
   },
   "outputs": [
    {
     "name": "stdout",
     "output_type": "stream",
     "text": [
      "Metabolism of RNA\n",
      "4344\n",
      "361\n"
     ]
    }
   ],
   "source": [
    "ns=anon_ndex.get_network_summary('9ed0cd55-9ac0-11e4-9499-000c29202374')\n",
    "print ns.get('name')\n",
    "print ns.get('edgeCount')\n",
    "print ns.get('nodeCount')"
   ]
  },
  {
   "cell_type": "markdown",
   "metadata": {},
   "source": [
    "### Find Networks by Search – Simple Search"
   ]
  },
  {
   "cell_type": "markdown",
   "metadata": {
    "collapsed": false
   },
   "source": [
    "\n",
    "You can search for networks by the text in their name and description as well as the names and controlled vocabulary terms associated with their nodes. The input is a search string that conforms to Lucene search string syntax, but in its simplest form is one or more search terms separated by spaces.\n",
    "\n",
    "anon_ndex will perform the network search using the **search_networks(search_string=\"\", account_name=None, start=0, size=100, include_groups=False)** method that returns a list of NetworkSummary dictionaries:\n"
   ]
  },
  {
   "cell_type": "code",
   "execution_count": 6,
   "metadata": {
    "collapsed": false
   },
   "outputs": [
    {
     "name": "stdout",
     "output_type": "stream",
     "text": [
      "68\n",
      "humanCyc metabolic Pathways - PC2 v.7 - BioPAX3\n",
      "Signaling Pathways Subnetwork - 10/10/2014 11:07:44 AM\n",
      "Metabolism of RNA Subnetwork - 2/13/2015 9:49:09 AM\n",
      "HumanCyc metabolic pathways\n",
      "BEL Framework Large Corpus Document\n",
      "Reconstruction of the human genome\n",
      "Reconstruction of the human genome - BioPAX3\n",
      "Kegg Pathways (Human only) - BioPAX3\n",
      "CTD - Comparative Toxicogenomics Database (Human only) - PC2 v.7\n",
      "HumanCyc metabolic pathways - PC2 v.7\n",
      "CTD - Comparative Toxicogenomics Database - XBEL\n",
      "Prolactin Signalling Pathway\n",
      "Amine compound SLC transporters\n",
      "PLC-mediated hydrolysis of PIP2\n",
      "Steroid hormones\n",
      "Pathways Affected by Melanoma Genes\n",
      "RiceCyc v3.3\n",
      "MaizeCyc v2.0.2\n",
      "CELL 2015 - Ipilimumab network\n",
      "CELL 2015 - Ivacaftor network\n",
      "Signaling Pathways\n",
      "Transmembrane transport of small molecules\n",
      "ChEMBL - Medium affinty compounds vs human targets\n",
      "Metabolism of RNA\n",
      "TTD - Drug-Disease Associations\n",
      "BDNF Signaling Pathway\n",
      "TTD - Target-Disease Associations (Discontinued Targets)\n",
      "insulin_secretion\n",
      "ChEMBL - All compounds vs mouse targets\n",
      "ChEMBL - High Affinity Compounds vs human targets (Commercially available)\n",
      "BindingDB - All compounds vs human targets\n",
      "Disease\n",
      "Metabolism\n",
      "Immune System\n",
      "Developmental Biology\n",
      "Metabolism of proteins\n",
      "Hemostasis\n",
      "Gene Expression\n",
      "Metabolism\n",
      "Metabolism of proteins\n",
      "Metabolism of RNA\n",
      "CTD: Genes-Pathways Associations\n",
      "CTD: GO (Biological Process) - Disease Gene Inference Network\n",
      "CTD: GO (Molecular Function) - Disease Gene Inference Network\n",
      "apoptosis_genes\n",
      "NFkB knowledge base\n",
      "Cardiac toxicity network\n",
      "DrugBank - Target-targeting drugs\n",
      "Neuronal System\n",
      "CTD: Diseases-Pathways Associations\n",
      "CL_devel\n",
      "KEGG Global Map: Metabolic pathways [hsa01100]\n",
      "CTD: Chemicals-Pathways Enriched Associations\n",
      "TTD - Target-Disease Associations (All Targets)\n",
      "TTD - Target-Disease Associations (Clinical Trial Targets)\n",
      "TTD - Target-Disease Associations (Research Targets)\n",
      "TTD - Target-Disease Associations (Succesful Targets)\n",
      "CTD: GO (Cellular Component) - Disease Gene Inference Network\n",
      "NCI Pathway Interaction Database - Final Revision - BioPAX 3\n",
      "S1P1 pathway\n",
      "S1P5 pathway\n",
      "LKB1 signaling events\n",
      "Signaling events mediated by VEGFR1 and VEGFR2\n",
      "Metabolism\n",
      "Metabolism of proteins\n",
      "Metabolism of RNA\n",
      "None\n",
      "The RAS Machine\n"
     ]
    }
   ],
   "source": [
    "metabolic_networks=anon_ndex.search_networks('metabo*')\n",
    "print len(metabolic_networks['networks'])\n",
    "for ns in metabolic_networks['networks']: print ns.get('name')"
   ]
  },
  {
   "cell_type": "markdown",
   "metadata": {},
   "source": [
    "The search can also be limited to a specific account and to a number of search results:\n"
   ]
  },
  {
   "cell_type": "code",
   "execution_count": 7,
   "metadata": {
    "collapsed": false
   },
   "outputs": [
    {
     "name": "stdout",
     "output_type": "stream",
     "text": [
      "2\n",
      "Metabolism\n",
      "Metabolism of proteins\n"
     ]
    }
   ],
   "source": [
    "metabolic_networks=anon_ndex.search_networks('metabo*', 'ndextutorials', size=2)\n",
    "print len(metabolic_networks['networks'])\n",
    "for ns in metabolic_networks['networks']: print ns.get('name')"
   ]
  },
  {
   "cell_type": "markdown",
   "metadata": {},
   "source": [
    "### Get a Network"
   ]
  },
  {
   "cell_type": "markdown",
   "metadata": {
    "collapsed": false
   },
   "source": [
    "\n",
    "You can obtain an entire network as a CX stream, which is an NDEx format that is optimized for streaming networks. \n",
    "This is performed as a monolithic operation, so care should be taken when requesting very large networks. Applications\n",
    "can use the **get_network_summary** method to check the node and edge counts for a network before attempting to use \n",
    "**get_complete_network**. The stream is contained in a Response object from the \n",
    "[Python requests library](http://docs.python-requests.org/en/master/).\n"
   ]
  },
  {
   "cell_type": "markdown",
   "metadata": {},
   "source": [
    "anon_ndex will use the **get_complete_network(network_id)** method to get a Response object (from the [Python requests library](http://docs.python-requests.org/en/master/))"
   ]
  },
  {
   "cell_type": "code",
   "execution_count": 15,
   "metadata": {
    "collapsed": false
   },
   "outputs": [
    {
     "name": "stdout",
     "output_type": "stream",
     "text": [
      "665511\n"
     ]
    }
   ],
   "source": [
    "response=anon_ndex.get_network_as_cx_stream('9ed0cd55-9ac0-11e4-9499-000c29202374')\n",
    "print len(response.text)"
   ]
  },
  {
   "cell_type": "markdown",
   "metadata": {},
   "source": [
    "### Query a Network – Neighborhood Query\n"
   ]
  },
  {
   "cell_type": "markdown",
   "metadata": {
    "collapsed": true
   },
   "source": [
    "\n",
    "You can retrieve a ‘neighborhood’ subnetwork of a network as CX stream. The query finds the subnetwork by first \n",
    "identifying nodes that are associated with identifiers in the search_string, then traversing search_depth number of \n",
    "steps from those nodes.  The search_depth is limited to 3 steps and the following example shows a query using the \n",
    "default 1-step limit. Once against, the stream is contained in a Response object from the \n",
    "[Python requests library](http://docs.python-requests.org/en/master/).\n"
   ]
  },
  {
   "cell_type": "markdown",
   "metadata": {},
   "source": [
    "anon_ndex will use the **get_neighborhood_as_cx_stream(network_id, search_string, search_depth=1, edge_limit=2500)** method to get a Response object (from the [Python requests library](http://docs.python-requests.org/en/master/))"
   ]
  },
  {
   "cell_type": "code",
   "execution_count": 21,
   "metadata": {
    "collapsed": false,
    "scrolled": true
   },
   "outputs": [
    {
     "name": "stdout",
     "output_type": "stream",
     "text": [
      "nodes= 20   edges= 26\n"
     ]
    }
   ],
   "source": [
    "response=anon_ndex.get_neighborhood_as_cx_stream('9ed0cd55-9ac0-11e4-9499-000c29202374', 'XRN1')\n",
    "network=json.loads(response.text)\n",
    "\n",
    "def getNumberOfNodesAndEdgesFromCX(network):\n",
    "    numberOfEdges = numberOfNodes = 0;\n",
    "    for aspect in network:\n",
    "        if 'metaData' in aspect:\n",
    "            metaData = aspect['metaData']\n",
    "            for element in metaData:\n",
    "                if (('name' in element) and (element['name'] == 'nodes')):\n",
    "                    numberOfNodes = element['elementCount']\n",
    "                if (('name' in element) and (element['name'] == 'edges')):\n",
    "                    numberOfEdges = element['elementCount']\n",
    "            break\n",
    "    return numberOfNodes, numberOfEdges\n",
    "\n",
    "\n",
    "nodes, edges = getNumberOfNodesAndEdgesFromCX(network['data'])\n",
    "\n",
    "print 'nodes=', nodes, '  edges=', edges\n",
    "\n"
   ]
  },
  {
   "cell_type": "markdown",
   "metadata": {},
   "source": [
    "## Working with the NDEx Network Using Your Personal Client"
   ]
  },
  {
   "cell_type": "markdown",
   "metadata": {},
   "source": [
    "### Create a Network"
   ]
  },
  {
   "cell_type": "markdown",
   "metadata": {
    "collapsed": true
   },
   "source": [
    "You can create a new network on an NDEx server if you have a CX stream. The network is created in the user account associated with the client object. All methods that create or modify content on the NDEx server require authentication, so you will use the my_ndex client object that you set up at the start of the tutorial and will create a network in your account.<br>\n",
    "An error is returned if the CX stream is larger than a maximum size for network creation set in the NDEx server configuration.\n"
   ]
  },
  {
   "cell_type": "markdown",
   "metadata": {},
   "source": [
    "The small network that you obtained based on a query for 26 edges (in the previous section) will be saved to your account in this example. <br>\n",
    "\n",
    "my_ndex client will use **save_cx_stream_as_new_network(network)** to do that; a URI of the newly-created networkd will be returned to the caller:"
   ]
  },
  {
   "cell_type": "code",
   "execution_count": 26,
   "metadata": {
    "collapsed": false
   },
   "outputs": [
    {
     "name": "stdout",
     "output_type": "stream",
     "text": [
      "uri of newly creared network is  http://public.ndexbio.org/v2/network/2ba22825-feb2-11e6-aba2-0ac135e8bacf\n"
     ]
    }
   ],
   "source": [
    "cx_stream = json.dumps(network['data'])\n",
    "uri = my_ndex.save_cx_stream_as_new_network(cx_stream)\n",
    "print \"uri of newly creared network is \", uri"
   ]
  },
  {
   "cell_type": "markdown",
   "metadata": {},
   "source": [
    "### Update Network Profile"
   ]
  },
  {
   "cell_type": "markdown",
   "metadata": {},
   "source": [
    "You can also update just the network profile (defined as the name, description and version of a network) \n",
    "on an NDEx server based on the network UUID. You use the method **update_network_profile(network_id, network_profile)**\n",
    "which does not return anything."
   ]
  },
  {
   "cell_type": "code",
   "execution_count": 3,
   "metadata": {
    "collapsed": false
   },
   "outputs": [
    {
     "data": {
      "text/plain": [
       "''"
      ]
     },
     "execution_count": 3,
     "metadata": {},
     "output_type": "execute_result"
    }
   ],
   "source": [
    "#we use ID of the network we created at previous step; it will be different in your case since network UUIDs are unique\n",
    "networkId=\"2ba22825-feb2-11e6-aba2-0ac135e8bacf\" \n",
    "network_profile={\"name\":\"Renamed Network\", \"description\":\"New Description\", \"version\":\"2.0\"}\n",
    "my_ndex.update_network_profile(networkId, network_profile)"
   ]
  },
  {
   "cell_type": "markdown",
   "metadata": {},
   "source": [
    "### Set Read-Only"
   ]
  },
  {
   "cell_type": "markdown",
   "metadata": {},
   "source": [
    "You can also set a network to be read-only using **set_read_only(network_id, boolean)** so that it can be retrieved more quickly by others. The method does not return anything. Please note that a read-only network cannot be edited or \n",
    "deleted, so you will need to revert it to its original state  prior to proceeding with the next step in this tutorial. "
   ]
  },
  {
   "cell_type": "code",
   "execution_count": 4,
   "metadata": {
    "collapsed": false
   },
   "outputs": [
    {
     "data": {
      "text/plain": [
       "''"
      ]
     },
     "execution_count": 4,
     "metadata": {},
     "output_type": "execute_result"
    }
   ],
   "source": [
    "networkId=\"2ba22825-feb2-11e6-aba2-0ac135e8bacf\" \n",
    "#make network read-only\n",
    "my_ndex.set_read_only(networkId, True)"
   ]
  },
  {
   "cell_type": "code",
   "execution_count": 5,
   "metadata": {
    "collapsed": false
   },
   "outputs": [
    {
     "data": {
      "text/plain": [
       "''"
      ]
     },
     "execution_count": 5,
     "metadata": {},
     "output_type": "execute_result"
    }
   ],
   "source": [
    "networkId=\"2ba22825-feb2-11e6-aba2-0ac135e8bacf\" \n",
    "#revert network to original state (make it read-write again)\n",
    "my_ndex.set_read_only(networkId, False)"
   ]
  },
  {
   "cell_type": "markdown",
   "metadata": {},
   "source": [
    "### Delete a Network"
   ]
  },
  {
   "cell_type": "markdown",
   "metadata": {},
   "source": [
    "Finally, you can delete a network using **delete_network(networkId)** that you own by its UUID. The method does not \n",
    "return anything. Be careful: there is no method to undo a deletion."
   ]
  },
  {
   "cell_type": "code",
   "execution_count": 7,
   "metadata": {
    "collapsed": false
   },
   "outputs": [
    {
     "data": {
      "text/plain": [
       "''"
      ]
     },
     "execution_count": 7,
     "metadata": {},
     "output_type": "execute_result"
    }
   ],
   "source": [
    "networkId=\"2ba22825-feb2-11e6-aba2-0ac135e8bacf\" \n",
    "my_ndex.delete_network(networkId)"
   ]
  },
  {
   "cell_type": "code",
   "execution_count": null,
   "metadata": {
    "collapsed": true
   },
   "outputs": [],
   "source": []
  }
 ],
 "metadata": {
  "anaconda-cloud": {},
  "kernelspec": {
   "display_name": "Python [Root]",
   "language": "python",
   "name": "Python [Root]"
  },
  "language_info": {
   "codemirror_mode": {
    "name": "ipython",
    "version": 2
   },
   "file_extension": ".py",
   "mimetype": "text/x-python",
   "name": "python",
   "nbconvert_exporter": "python",
   "pygments_lexer": "ipython2",
   "version": "2.7.12"
  }
 },
 "nbformat": 4,
 "nbformat_minor": 0
}
