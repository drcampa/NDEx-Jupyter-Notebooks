{
 "cells": [
  {
   "cell_type": "markdown",
   "metadata": {},
   "source": [
    "# NDEx Query Tutorial"
   ]
  },
  {
   "cell_type": "markdown",
   "metadata": {},
   "source": [
    "In this tutorial you will learn to use the NDEx Client v2.0. The NDEx client is a module that simplifies access to the NDEx Server API and provides convenience methods for common operations on networks. \n",
    "\n",
    "This tutorial requires Python 3.6+ and the ndex2 module. \n",
    "\n",
    "See [the NDEx2 Client](https://github.com/ndexbio/ndex2-client) for installation instructions."
   ]
  },
  {
   "cell_type": "markdown",
   "metadata": {},
   "source": [
    "## Modules Required for this Tutorial"
   ]
  },
  {
   "cell_type": "code",
   "execution_count": 39,
   "metadata": {},
   "outputs": [],
   "source": [
    "import ndex2.client as nc\n",
    "import ndex2\n",
    "import io\n",
    "import json\n",
    "from IPython.display import HTML\n",
    "from time import sleep"
   ]
  },
  {
   "cell_type": "markdown",
   "metadata": {},
   "source": [
    "## Setting up NDEx Clients"
   ]
  },
  {
   "cell_type": "markdown",
   "metadata": {},
   "source": [
    "In this section you will configure two client objects to access the public NDEx server. \n",
    "\n",
    "The first will enable you to make anonymous requests. \n",
    "\n",
    "The second will enable you to perform operations requiring authentication, such as saving networks to your account."
   ]
  },
  {
   "cell_type": "markdown",
   "metadata": {},
   "source": [
    "### Anonymous Clients"
   ]
  },
  {
   "cell_type": "markdown",
   "metadata": {},
   "source": [
    "The following code creates an NDEx client object to access the NDEx public server anonymously, then tests the client by getting the current server status."
   ]
  },
  {
   "cell_type": "code",
   "execution_count": 40,
   "metadata": {},
   "outputs": [
    {
     "name": "stdout",
     "output_type": "stream",
     "text": [
      "anon client: 51799 networks, 1353 users, 124 groups\n"
     ]
    }
   ],
   "source": [
    "anon_ndex=nc.Ndex2(\"http://public.ndexbio.org\")\n",
    "anon_ndex.update_status()\n",
    "networks = anon_ndex.status.get(\"networkCount\")\n",
    "users = anon_ndex.status.get(\"userCount\")\n",
    "groups = anon_ndex.status.get(\"groupCount\")\n",
    "print(\"anon client: %s networks, %s users, %s groups\" % (networks, users, groups))"
   ]
  },
  {
   "cell_type": "markdown",
   "metadata": {},
   "source": [
    "## Working with the NDEx Network Using the Anonymous Client"
   ]
  },
  {
   "cell_type": "markdown",
   "metadata": {},
   "source": [
    "### Query STRING using a gene list"
   ]
  },
  {
   "cell_type": "markdown",
   "metadata": {},
   "source": [
    "Find the reference network I want to use."
   ]
  },
  {
   "cell_type": "code",
   "execution_count": 42,
   "metadata": {},
   "outputs": [
    {
     "name": "stdout",
     "output_type": "stream",
     "text": [
      "2 networks found\n",
      "\n",
      "Networks:\n",
      "\n",
      "  d14db454-3d18-11e8-a935-0ac135e8bacf \t STRING-Human Protein Links \t string\n",
      "  275bd84e-3d18-11e8-a935-0ac135e8bacf \t STRING - Human Protein Links - High Confidence (Score > 0.7) \t string\n"
     ]
    }
   ],
   "source": [
    "result_networks=anon_ndex.search_networks(search_string='STRING AND owner:\"string\"', size=10)\n",
    "print(\"%s networks found\" % (len(result_networks.get('networks'))))\n",
    "print(\"\\nNetworks:\\n\")\n",
    "for ns in result_networks.get('networks'): print(\"  %s \\t %s \\t %s\" % (ns.get('externalId'),ns.get('name'), ns.get('owner')) )"
   ]
  },
  {
   "cell_type": "markdown",
   "metadata": {},
   "source": [
    "### Query a Network – Neighborhood Query\n"
   ]
  },
  {
   "cell_type": "markdown",
   "metadata": {
    "collapsed": true
   },
   "source": [
    "You can retrieve a ‘neighborhood’ subnetwork of a network as a CX stream. The query finds the subnetwork by first \n",
    "identifying nodes that are associated with identifiers in the search_string, then traversing a specified number of \n",
    "edges starting from those nodes.  The **search_depth** parameter controls the search, defaults to 1 edge and can be no more than 3 edges. "
   ]
  },
  {
   "cell_type": "markdown",
   "metadata": {},
   "source": [
    "The query to anon_ndex will use the **get_neighborhood(network_id, search_string, search_depth=1, edge_limit=2500)** method to get a CX object. \n"
   ]
  },
  {
   "cell_type": "code",
   "execution_count": 43,
   "metadata": {},
   "outputs": [],
   "source": [
    "#!pip uninstall ndex2 -y\n",
    "#!pip install ndex2 --no-cache-dir"
   ]
  },
  {
   "cell_type": "markdown",
   "metadata": {},
   "source": [
    "Run neighborhood query on the [STRING - Human Protein Links - High Confidence (Score > 0.7)](http://public.ndexbio.org/#/network/275bd84e-3d18-11e8-a935-0ac135e8bacf) network"
   ]
  },
  {
   "cell_type": "code",
   "execution_count": 44,
   "metadata": {},
   "outputs": [
    {
     "name": "stdout",
     "output_type": "stream",
     "text": [
      "Query result network contains 56 nodes and 317 edges.\n"
     ]
    }
   ],
   "source": [
    "query_result_cx=anon_ndex.get_neighborhood('275bd84e-3d18-11e8-a935-0ac135e8bacf', 'XRN1',1, 6000)\n",
    "\n",
    "for aspect in query_result_cx:\n",
    "    if 'nodes' in aspect:\n",
    "        number_of_nodes = len(aspect['nodes'])\n",
    "    if 'edges' in aspect:\n",
    "        number_of_edges = len(aspect['edges'])\n",
    "\n",
    "print(\"Query result network contains %s nodes and %s edges.\" % (number_of_nodes, number_of_edges))\n"
   ]
  },
  {
   "cell_type": "code",
   "execution_count": 19,
   "metadata": {},
   "outputs": [
    {
     "name": "stdout",
     "output_type": "stream",
     "text": [
      "Query result has 11 aspects\n"
     ]
    }
   ],
   "source": [
    "niceCX=ndex2.create_nice_cx_from_raw_cx(query_result_cx)\n",
    "print (\"Query result has %s aspects\" % (len(query_result_cx))) "
   ]
  },
  {
   "cell_type": "markdown",
   "metadata": {},
   "source": [
    "Use the niceCX data object in your analysis pipeline. For example,"
   ]
  },
  {
   "cell_type": "code",
   "execution_count": 45,
   "metadata": {},
   "outputs": [
    {
     "data": {
      "text/html": [
       "<div>\n",
       "<style scoped>\n",
       "    .dataframe tbody tr th:only-of-type {\n",
       "        vertical-align: middle;\n",
       "    }\n",
       "\n",
       "    .dataframe tbody tr th {\n",
       "        vertical-align: top;\n",
       "    }\n",
       "\n",
       "    .dataframe thead th {\n",
       "        text-align: right;\n",
       "    }\n",
       "</style>\n",
       "<table border=\"1\" class=\"dataframe\">\n",
       "  <thead>\n",
       "    <tr style=\"text-align: right;\">\n",
       "      <th></th>\n",
       "      <th>source</th>\n",
       "      <th>interaction</th>\n",
       "      <th>target</th>\n",
       "    </tr>\n",
       "  </thead>\n",
       "  <tbody>\n",
       "    <tr>\n",
       "      <th>0</th>\n",
       "      <td>YTHDC2</td>\n",
       "      <td>interacts with</td>\n",
       "      <td>XRN1</td>\n",
       "    </tr>\n",
       "    <tr>\n",
       "      <th>1</th>\n",
       "      <td>EXOSC5</td>\n",
       "      <td>interacts with</td>\n",
       "      <td>XRN1</td>\n",
       "    </tr>\n",
       "    <tr>\n",
       "      <th>2</th>\n",
       "      <td>SKIV2L2</td>\n",
       "      <td>interacts with</td>\n",
       "      <td>XRN1</td>\n",
       "    </tr>\n",
       "    <tr>\n",
       "      <th>3</th>\n",
       "      <td>ZFP36</td>\n",
       "      <td>interacts with</td>\n",
       "      <td>XRN1</td>\n",
       "    </tr>\n",
       "    <tr>\n",
       "      <th>4</th>\n",
       "      <td>NAA38</td>\n",
       "      <td>interacts with</td>\n",
       "      <td>XRN1</td>\n",
       "    </tr>\n",
       "    <tr>\n",
       "      <th>5</th>\n",
       "      <td>ERI1</td>\n",
       "      <td>interacts with</td>\n",
       "      <td>XRN1</td>\n",
       "    </tr>\n",
       "    <tr>\n",
       "      <th>6</th>\n",
       "      <td>LSM7</td>\n",
       "      <td>interacts with</td>\n",
       "      <td>XRN1</td>\n",
       "    </tr>\n",
       "    <tr>\n",
       "      <th>7</th>\n",
       "      <td>DDX60L</td>\n",
       "      <td>interacts with</td>\n",
       "      <td>XRN1</td>\n",
       "    </tr>\n",
       "    <tr>\n",
       "      <th>8</th>\n",
       "      <td>UPF1</td>\n",
       "      <td>interacts with</td>\n",
       "      <td>XRN1</td>\n",
       "    </tr>\n",
       "    <tr>\n",
       "      <th>9</th>\n",
       "      <td>SMG6</td>\n",
       "      <td>interacts with</td>\n",
       "      <td>XRN1</td>\n",
       "    </tr>\n",
       "    <tr>\n",
       "      <th>10</th>\n",
       "      <td>DCPS</td>\n",
       "      <td>interacts with</td>\n",
       "      <td>XRN1</td>\n",
       "    </tr>\n",
       "    <tr>\n",
       "      <th>11</th>\n",
       "      <td>DDX6</td>\n",
       "      <td>interacts with</td>\n",
       "      <td>XRN1</td>\n",
       "    </tr>\n",
       "    <tr>\n",
       "      <th>12</th>\n",
       "      <td>XRN1</td>\n",
       "      <td>interacts with</td>\n",
       "      <td>EIF4G1</td>\n",
       "    </tr>\n",
       "    <tr>\n",
       "      <th>13</th>\n",
       "      <td>XRN1</td>\n",
       "      <td>interacts with</td>\n",
       "      <td>EXOSC7</td>\n",
       "    </tr>\n",
       "    <tr>\n",
       "      <th>14</th>\n",
       "      <td>XRN1</td>\n",
       "      <td>interacts with</td>\n",
       "      <td>HELZ2</td>\n",
       "    </tr>\n",
       "    <tr>\n",
       "      <th>15</th>\n",
       "      <td>XRN1</td>\n",
       "      <td>interacts with</td>\n",
       "      <td>EDC3</td>\n",
       "    </tr>\n",
       "    <tr>\n",
       "      <th>16</th>\n",
       "      <td>XRN1</td>\n",
       "      <td>interacts with</td>\n",
       "      <td>TIAL1</td>\n",
       "    </tr>\n",
       "    <tr>\n",
       "      <th>17</th>\n",
       "      <td>XRN1</td>\n",
       "      <td>interacts with</td>\n",
       "      <td>DOM3Z</td>\n",
       "    </tr>\n",
       "    <tr>\n",
       "      <th>18</th>\n",
       "      <td>XRN1</td>\n",
       "      <td>interacts with</td>\n",
       "      <td>LSM3</td>\n",
       "    </tr>\n",
       "    <tr>\n",
       "      <th>19</th>\n",
       "      <td>XRN1</td>\n",
       "      <td>interacts with</td>\n",
       "      <td>DIS3L</td>\n",
       "    </tr>\n",
       "    <tr>\n",
       "      <th>20</th>\n",
       "      <td>XRN1</td>\n",
       "      <td>interacts with</td>\n",
       "      <td>EXOSC1</td>\n",
       "    </tr>\n",
       "    <tr>\n",
       "      <th>21</th>\n",
       "      <td>XRN1</td>\n",
       "      <td>interacts with</td>\n",
       "      <td>LSM2</td>\n",
       "    </tr>\n",
       "    <tr>\n",
       "      <th>22</th>\n",
       "      <td>XRN1</td>\n",
       "      <td>interacts with</td>\n",
       "      <td>UPF3A</td>\n",
       "    </tr>\n",
       "    <tr>\n",
       "      <th>23</th>\n",
       "      <td>XRN1</td>\n",
       "      <td>interacts with</td>\n",
       "      <td>XRN2</td>\n",
       "    </tr>\n",
       "    <tr>\n",
       "      <th>24</th>\n",
       "      <td>XRN1</td>\n",
       "      <td>interacts with</td>\n",
       "      <td>PGK1</td>\n",
       "    </tr>\n",
       "    <tr>\n",
       "      <th>25</th>\n",
       "      <td>XRN1</td>\n",
       "      <td>interacts with</td>\n",
       "      <td>EXOSC8</td>\n",
       "    </tr>\n",
       "    <tr>\n",
       "      <th>26</th>\n",
       "      <td>XRN1</td>\n",
       "      <td>interacts with</td>\n",
       "      <td>TIA1</td>\n",
       "    </tr>\n",
       "    <tr>\n",
       "      <th>27</th>\n",
       "      <td>XRN1</td>\n",
       "      <td>interacts with</td>\n",
       "      <td>EDC4</td>\n",
       "    </tr>\n",
       "    <tr>\n",
       "      <th>28</th>\n",
       "      <td>XRN1</td>\n",
       "      <td>interacts with</td>\n",
       "      <td>LSM4</td>\n",
       "    </tr>\n",
       "    <tr>\n",
       "      <th>29</th>\n",
       "      <td>XRN1</td>\n",
       "      <td>interacts with</td>\n",
       "      <td>LSM14A</td>\n",
       "    </tr>\n",
       "    <tr>\n",
       "      <th>...</th>\n",
       "      <td>...</td>\n",
       "      <td>...</td>\n",
       "      <td>...</td>\n",
       "    </tr>\n",
       "    <tr>\n",
       "      <th>342</th>\n",
       "      <td>LSM2</td>\n",
       "      <td>interacts with</td>\n",
       "      <td>DCP2</td>\n",
       "    </tr>\n",
       "    <tr>\n",
       "      <th>343</th>\n",
       "      <td>EXOSC10</td>\n",
       "      <td>interacts with</td>\n",
       "      <td>XRN2</td>\n",
       "    </tr>\n",
       "    <tr>\n",
       "      <th>344</th>\n",
       "      <td>EXOSC10</td>\n",
       "      <td>interacts with</td>\n",
       "      <td>DIS3</td>\n",
       "    </tr>\n",
       "    <tr>\n",
       "      <th>345</th>\n",
       "      <td>EXOSC10</td>\n",
       "      <td>interacts with</td>\n",
       "      <td>HELZ2</td>\n",
       "    </tr>\n",
       "    <tr>\n",
       "      <th>346</th>\n",
       "      <td>EXOSC10</td>\n",
       "      <td>interacts with</td>\n",
       "      <td>EXOSC6</td>\n",
       "    </tr>\n",
       "    <tr>\n",
       "      <th>347</th>\n",
       "      <td>EXOSC10</td>\n",
       "      <td>interacts with</td>\n",
       "      <td>EXOSC9</td>\n",
       "    </tr>\n",
       "    <tr>\n",
       "      <th>348</th>\n",
       "      <td>EXOSC10</td>\n",
       "      <td>interacts with</td>\n",
       "      <td>EXOSC8</td>\n",
       "    </tr>\n",
       "    <tr>\n",
       "      <th>349</th>\n",
       "      <td>XRN2</td>\n",
       "      <td>interacts with</td>\n",
       "      <td>HELZ2</td>\n",
       "    </tr>\n",
       "    <tr>\n",
       "      <th>350</th>\n",
       "      <td>XRN2</td>\n",
       "      <td>interacts with</td>\n",
       "      <td>EIF4E</td>\n",
       "    </tr>\n",
       "    <tr>\n",
       "      <th>351</th>\n",
       "      <td>XRN2</td>\n",
       "      <td>interacts with</td>\n",
       "      <td>DCP2</td>\n",
       "    </tr>\n",
       "    <tr>\n",
       "      <th>352</th>\n",
       "      <td>DIS3</td>\n",
       "      <td>interacts with</td>\n",
       "      <td>EXOSC9</td>\n",
       "    </tr>\n",
       "    <tr>\n",
       "      <th>353</th>\n",
       "      <td>DIS3</td>\n",
       "      <td>interacts with</td>\n",
       "      <td>EXOSC8</td>\n",
       "    </tr>\n",
       "    <tr>\n",
       "      <th>354</th>\n",
       "      <td>DIS3</td>\n",
       "      <td>interacts with</td>\n",
       "      <td>EXOSC6</td>\n",
       "    </tr>\n",
       "    <tr>\n",
       "      <th>355</th>\n",
       "      <td>DIS3</td>\n",
       "      <td>interacts with</td>\n",
       "      <td>DCP2</td>\n",
       "    </tr>\n",
       "    <tr>\n",
       "      <th>356</th>\n",
       "      <td>EXOSC9</td>\n",
       "      <td>interacts with</td>\n",
       "      <td>HELZ2</td>\n",
       "    </tr>\n",
       "    <tr>\n",
       "      <th>357</th>\n",
       "      <td>EXOSC9</td>\n",
       "      <td>interacts with</td>\n",
       "      <td>EXOSC8</td>\n",
       "    </tr>\n",
       "    <tr>\n",
       "      <th>358</th>\n",
       "      <td>EXOSC9</td>\n",
       "      <td>interacts with</td>\n",
       "      <td>EXOSC6</td>\n",
       "    </tr>\n",
       "    <tr>\n",
       "      <th>359</th>\n",
       "      <td>EXOSC9</td>\n",
       "      <td>interacts with</td>\n",
       "      <td>DCP2</td>\n",
       "    </tr>\n",
       "    <tr>\n",
       "      <th>360</th>\n",
       "      <td>DCP2</td>\n",
       "      <td>interacts with</td>\n",
       "      <td>EXOSC8</td>\n",
       "    </tr>\n",
       "    <tr>\n",
       "      <th>361</th>\n",
       "      <td>DCP2</td>\n",
       "      <td>interacts with</td>\n",
       "      <td>LSM14A</td>\n",
       "    </tr>\n",
       "    <tr>\n",
       "      <th>362</th>\n",
       "      <td>DCP2</td>\n",
       "      <td>interacts with</td>\n",
       "      <td>LSM5</td>\n",
       "    </tr>\n",
       "    <tr>\n",
       "      <th>363</th>\n",
       "      <td>DCP2</td>\n",
       "      <td>interacts with</td>\n",
       "      <td>EXOSC6</td>\n",
       "    </tr>\n",
       "    <tr>\n",
       "      <th>364</th>\n",
       "      <td>DCP2</td>\n",
       "      <td>interacts with</td>\n",
       "      <td>EIF4E</td>\n",
       "    </tr>\n",
       "    <tr>\n",
       "      <th>365</th>\n",
       "      <td>DCP2</td>\n",
       "      <td>interacts with</td>\n",
       "      <td>LSM4</td>\n",
       "    </tr>\n",
       "    <tr>\n",
       "      <th>366</th>\n",
       "      <td>DCP2</td>\n",
       "      <td>interacts with</td>\n",
       "      <td>TNRC6A</td>\n",
       "    </tr>\n",
       "    <tr>\n",
       "      <th>367</th>\n",
       "      <td>EXOSC8</td>\n",
       "      <td>interacts with</td>\n",
       "      <td>HELZ2</td>\n",
       "    </tr>\n",
       "    <tr>\n",
       "      <th>368</th>\n",
       "      <td>EXOSC8</td>\n",
       "      <td>interacts with</td>\n",
       "      <td>EXOSC6</td>\n",
       "    </tr>\n",
       "    <tr>\n",
       "      <th>369</th>\n",
       "      <td>EXOSC6</td>\n",
       "      <td>interacts with</td>\n",
       "      <td>HELZ2</td>\n",
       "    </tr>\n",
       "    <tr>\n",
       "      <th>370</th>\n",
       "      <td>LSM5</td>\n",
       "      <td>interacts with</td>\n",
       "      <td>LSM4</td>\n",
       "    </tr>\n",
       "    <tr>\n",
       "      <th>371</th>\n",
       "      <td>LSM14A</td>\n",
       "      <td>interacts with</td>\n",
       "      <td>EIF4E</td>\n",
       "    </tr>\n",
       "  </tbody>\n",
       "</table>\n",
       "<p>372 rows × 3 columns</p>\n",
       "</div>"
      ],
      "text/plain": [
       "      source     interaction  target\n",
       "0     YTHDC2  interacts with    XRN1\n",
       "1     EXOSC5  interacts with    XRN1\n",
       "2    SKIV2L2  interacts with    XRN1\n",
       "3      ZFP36  interacts with    XRN1\n",
       "4      NAA38  interacts with    XRN1\n",
       "5       ERI1  interacts with    XRN1\n",
       "6       LSM7  interacts with    XRN1\n",
       "7     DDX60L  interacts with    XRN1\n",
       "8       UPF1  interacts with    XRN1\n",
       "9       SMG6  interacts with    XRN1\n",
       "10      DCPS  interacts with    XRN1\n",
       "11      DDX6  interacts with    XRN1\n",
       "12      XRN1  interacts with  EIF4G1\n",
       "13      XRN1  interacts with  EXOSC7\n",
       "14      XRN1  interacts with   HELZ2\n",
       "15      XRN1  interacts with    EDC3\n",
       "16      XRN1  interacts with   TIAL1\n",
       "17      XRN1  interacts with   DOM3Z\n",
       "18      XRN1  interacts with    LSM3\n",
       "19      XRN1  interacts with   DIS3L\n",
       "20      XRN1  interacts with  EXOSC1\n",
       "21      XRN1  interacts with    LSM2\n",
       "22      XRN1  interacts with   UPF3A\n",
       "23      XRN1  interacts with    XRN2\n",
       "24      XRN1  interacts with    PGK1\n",
       "25      XRN1  interacts with  EXOSC8\n",
       "26      XRN1  interacts with    TIA1\n",
       "27      XRN1  interacts with    EDC4\n",
       "28      XRN1  interacts with    LSM4\n",
       "29      XRN1  interacts with  LSM14A\n",
       "..       ...             ...     ...\n",
       "342     LSM2  interacts with    DCP2\n",
       "343  EXOSC10  interacts with    XRN2\n",
       "344  EXOSC10  interacts with    DIS3\n",
       "345  EXOSC10  interacts with   HELZ2\n",
       "346  EXOSC10  interacts with  EXOSC6\n",
       "347  EXOSC10  interacts with  EXOSC9\n",
       "348  EXOSC10  interacts with  EXOSC8\n",
       "349     XRN2  interacts with   HELZ2\n",
       "350     XRN2  interacts with   EIF4E\n",
       "351     XRN2  interacts with    DCP2\n",
       "352     DIS3  interacts with  EXOSC9\n",
       "353     DIS3  interacts with  EXOSC8\n",
       "354     DIS3  interacts with  EXOSC6\n",
       "355     DIS3  interacts with    DCP2\n",
       "356   EXOSC9  interacts with   HELZ2\n",
       "357   EXOSC9  interacts with  EXOSC8\n",
       "358   EXOSC9  interacts with  EXOSC6\n",
       "359   EXOSC9  interacts with    DCP2\n",
       "360     DCP2  interacts with  EXOSC8\n",
       "361     DCP2  interacts with  LSM14A\n",
       "362     DCP2  interacts with    LSM5\n",
       "363     DCP2  interacts with  EXOSC6\n",
       "364     DCP2  interacts with   EIF4E\n",
       "365     DCP2  interacts with    LSM4\n",
       "366     DCP2  interacts with  TNRC6A\n",
       "367   EXOSC8  interacts with   HELZ2\n",
       "368   EXOSC8  interacts with  EXOSC6\n",
       "369   EXOSC6  interacts with   HELZ2\n",
       "370     LSM5  interacts with    LSM4\n",
       "371   LSM14A  interacts with   EIF4E\n",
       "\n",
       "[372 rows x 3 columns]"
      ]
     },
     "execution_count": 45,
     "metadata": {},
     "output_type": "execute_result"
    }
   ],
   "source": [
    "niceCX.to_pandas_dataframe()"
   ]
  },
  {
   "cell_type": "markdown",
   "metadata": {},
   "source": [
    "Display the search result as a network graph. See [Cytoscape-jupyter-widget](https://github.com/cytoscape/cytoscape-jupyter-widget/blob/develop/examples/WidgetDemo1.ipynb) for installation instructions.\n",
    "\n",
    "Note: you don't have to convert the result to niceCX to render it."
   ]
  },
  {
   "cell_type": "code",
   "execution_count": 46,
   "metadata": {},
   "outputs": [
    {
     "data": {
      "application/vnd.jupyter.widget-view+json": {
       "model_id": "c36880f2b6e845b69c896030344bcf63",
       "version_major": 2,
       "version_minor": 0
      },
      "text/plain": [
       "Cytoscape(data=[{'numberVerification': [{'longNumber': 281474976710655}]}, {'metaData': [{'name': '@context', …"
      ]
     },
     "metadata": {},
     "output_type": "display_data"
    }
   ],
   "source": [
    "from cyjupyter import Cytoscape\n",
    "Cytoscape(data=query_result_cx, format='cx')"
   ]
  },
  {
   "cell_type": "markdown",
   "metadata": {},
   "source": [
    "Run other type of queries. For example, Interconnect query. The interconnect query is only availabe in NDEx2 client version 3.2.0 and above."
   ]
  },
  {
   "cell_type": "code",
   "execution_count": 47,
   "metadata": {},
   "outputs": [
    {
     "name": "stdout",
     "output_type": "stream",
     "text": [
      "Query result network contains 22 nodes and 44 edges.\n"
     ]
    }
   ],
   "source": [
    "interconnectquery_result=anon_ndex.get_interconnectquery('275bd84e-3d18-11e8-a935-0ac135e8bacf', \n",
    "                                                         'XRN1 FOXO* M6PR ARF* BRCA* TP53',1, 6000)\n",
    "\n",
    "for aspect in interconnectquery_result:\n",
    "    if 'nodes' in aspect:\n",
    "        number_of_nodes = len(aspect['nodes'])\n",
    "    if 'edges' in aspect:\n",
    "        number_of_edges = len(aspect['edges'])\n",
    "\n",
    "print(\"Query result network contains %s nodes and %s edges.\" % (number_of_nodes, number_of_edges))\n",
    "\n"
   ]
  },
  {
   "cell_type": "markdown",
   "metadata": {},
   "source": [
    "Display result:"
   ]
  },
  {
   "cell_type": "code",
   "execution_count": 48,
   "metadata": {
    "scrolled": true
   },
   "outputs": [
    {
     "data": {
      "application/vnd.jupyter.widget-view+json": {
       "model_id": "3457b1ce682b42f8b345353d8cd95c91",
       "version_major": 2,
       "version_minor": 0
      },
      "text/plain": [
       "Cytoscape(data=[{'numberVerification': [{'longNumber': 281474976710655}]}, {'metaData': [{'name': '@context', …"
      ]
     },
     "metadata": {},
     "output_type": "display_data"
    }
   ],
   "source": [
    "from cyjupyter import Cytoscape\n",
    "Cytoscape(data=interconnectquery_result, format='cx')"
   ]
  },
  {
   "cell_type": "code",
   "execution_count": null,
   "metadata": {},
   "outputs": [],
   "source": []
  }
 ],
 "metadata": {
  "anaconda-cloud": {},
  "kernelspec": {
   "display_name": "Python 3",
   "language": "python",
   "name": "python3"
  },
  "language_info": {
   "codemirror_mode": {
    "name": "ipython",
    "version": 3
   },
   "file_extension": ".py",
   "mimetype": "text/x-python",
   "name": "python",
   "nbconvert_exporter": "python",
   "pygments_lexer": "ipython3",
   "version": "3.7.3"
  }
 },
 "nbformat": 4,
 "nbformat_minor": 1
}
