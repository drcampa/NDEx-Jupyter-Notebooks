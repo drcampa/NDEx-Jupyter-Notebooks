{
 "cells": [
  {
   "cell_type": "markdown",
   "metadata": {},
   "source": [
    "# NiceCX v2.0 Tutorial"
   ]
  },
  {
   "cell_type": "markdown",
   "metadata": {},
   "source": [
    "In this tutorial you will learn to use NiceCX, a simple data model that is part of the ndex2 NDEx Client module.\n",
    "NiceCX facilitates creating and working with networks, including interfaces to NetworkX and Pandas.\n",
    "This tutorial requires Python 3.6+ and the ndex2 module, see the NDEx Client Tutorial for installation instructions."
   ]
  },
  {
   "cell_type": "markdown",
   "metadata": {},
   "source": [
    "### Import Packages Required for this Tutorial"
   ]
  },
  {
   "cell_type": "code",
   "execution_count": 1,
   "metadata": {
    "collapsed": false
   },
   "outputs": [
    {
     "name": "stdout",
     "output_type": "stream",
     "text": [
      "\u001b[31mDEPRECATION: The default format will switch to columns in the future. You can use --format=(legacy|columns) (or define a format=(legacy|columns) in your pip.conf under the [list] section) to disable this warning.\u001b[0m\n",
      "abstract-rendering (0.5.1)\n",
      "ansicolors (1.1.8)\n",
      "ansiwrap (0.8.3)\n",
      "apiclient (1.0.2)\n",
      "appdirs (1.4.0)\n",
      "appscript (1.0.1)\n",
      "argcomplete (0.8.4)\n",
      "args (0.1.0)\n",
      "astropy (1.0.1)\n",
      "awscli (1.11.11)\n",
      "backports.ssl-match-hostname (3.4.0.2)\n",
      "bcolz (0.8.1)\n",
      "bcrypt (2.0.0)\n",
      "beautifulsoup4 (4.5.0)\n",
      "binstar (0.10.1)\n",
      "bio2bel (0.1.0)\n",
      "bio2bel-hgnc (0.0.8)\n",
      "bio2bel-wikipathways (0.0.12)\n",
      "biomart (0.8.0)\n",
      "biopython (1.66)\n",
      "bioservices (1.4.12)\n",
      "bitarray (0.8.1)\n",
      "bitstring (3.1.5)\n",
      "blaze (0.7.3)\n",
      "blz (0.6.2)\n",
      "bokeh (0.8.1)\n",
      "boto (2.36.0)\n",
      "botocore (1.4.68)\n",
      "bottle (0.12.8)\n",
      "bottle-session (0.5)\n",
      "bson (0.4.3)\n",
      "cdecimal (2.3)\n",
      "Cerberus (0.9.2)\n",
      "certifi (2018.4.16)\n",
      "cffi (1.5.2)\n",
      "chainmap (1.0.2)\n",
      "chardet (3.0.4)\n",
      "click (6.7)\n",
      "clint (0.5.1)\n",
      "clyent (0.3.4)\n",
      "colorama (0.3.7)\n",
      "colorlover (0.2.1)\n",
      "combomethod (1.0.10)\n",
      "compath-utils (0.0.8)\n",
      "conda (4.3.29)\n",
      "conda-build (1.11.0)\n",
      "configobj (5.0.6)\n",
      "configparser (3.5.0b2)\n",
      "cryptography (1.5.2)\n",
      "cxmate (0.15.0)\n",
      "cycler (0.10.0)\n",
      "Cython (0.22)\n",
      "cytoolz (0.7.2)\n",
      "DataShape (0.4.4)\n",
      "ddot (0.2rc1)\n",
      "decorator (4.3.0)\n",
      "docutils (0.12)\n",
      "easydev (0.9.25)\n",
      "elasticsearch (2.3.0)\n",
      "elasticsearch-dsl (2.0.0)\n",
      "enum (0.4.6)\n",
      "enum34 (1.1.6)\n",
      "Eve (0.6.1)\n",
      "Events (0.2.1)\n",
      "fastcache (1.0.2)\n",
      "fix-osx-virtualenv (0.1)\n",
      "flasgger (0.9.0)\n",
      "Flask (0.10.1)\n",
      "Flask-Cors (3.0.6)\n",
      "Flask-PyMongo (0.3.1)\n",
      "funcsigs (0.4)\n",
      "functools32 (3.2.3.post2)\n",
      "future (0.16.0)\n",
      "futures (3.2.0)\n",
      "gevent (1.1.2)\n",
      "gevent-websocket (0.9.3)\n",
      "google-api-python-client (1.4.2)\n",
      "graphviz (0.4.10)\n",
      "greenlet (0.4.10)\n",
      "grequests (0.3.0)\n",
      "grin (1.2.1)\n",
      "grpc (0.3.post19)\n",
      "grpcio (1.12.0)\n",
      "gseapy (0.4.3)\n",
      "gspread (0.6.2)\n",
      "h5py (2.4.0)\n",
      "html5lib (0.999999999)\n",
      "httplib2 (0.9.2)\n",
      "idna (2.6)\n",
      "ijson (2.3)\n",
      "indra (1.3.0)\n",
      "ipaddress (1.0.18)\n",
      "iptools (0.6.1)\n",
      "ipykernel (4.3.1)\n",
      "ipython (4.0.0)\n",
      "ipython-genutils (0.1.0)\n",
      "ipywidgets (4.1.1)\n",
      "iso8601 (0.1.11)\n",
      "isodate (0.5.4)\n",
      "iteration-utilities (0.6.1)\n",
      "itsdangerous (0.24)\n",
      "jdcal (1.0)\n",
      "jedi (0.8.1)\n",
      "Jinja2 (2.9.6)\n",
      "jmespath (0.9.0)\n",
      "jsonpickle (0.9.4)\n",
      "jsonschema (2.6.0)\n",
      "jupyter (1.0.0)\n",
      "jupyter-client (4.2.2)\n",
      "jupyter-console (4.1.1)\n",
      "jupyter-contrib-core (0.3.3)\n",
      "jupyter-core (4.1.0)\n",
      "jupyter-nbextensions-configurator (0.2.8)\n",
      "line-profiler (2.1.2)\n",
      "llvmlite (0.2.2-1-gbcb15be)\n",
      "lxml (3.4.2)\n",
      "MarkupSafe (0.23)\n",
      "matplotlib (1.5.1)\n",
      "mementos (1.2.8)\n",
      "memory-profiler (0.47)\n",
      "mistune (0.5.1)\n",
      "mock (1.0.1)\n",
      "msgpack-python (0.4.8)\n",
      "multipledispatch (0.4.7)\n",
      "mygene (2.3.0, /Users/aarongary/anaconda/lib/python2.7/site-packages)\n",
      "myvariant (0.2.0)\n",
      "nbconvert (4.2.0)\n",
      "nbformat (4.0.1)\n",
      "ndex-dev (3.0.11.41)\n",
      "ndex-enrich (1.2.5)\n",
      "ndex-util (0.0.3)\n",
      "ndex-utils-dev (3.0.11.8)\n",
      "ndex2-performance (0.2.0.100)\n",
      "ndexutil (0.0.13)\n",
      "neo4j-driver (1.5.3)\n",
      "neo4jrestclient (2.1.1)\n",
      "networkx (1.11)\n",
      "nicecx-dev (0.0.1b6)\n",
      "nltk (3.2.4)\n",
      "nose (1.3.4)\n",
      "notebook (4.2.0)\n",
      "nulltype (2.2.11)\n",
      "numba (0.17.0)\n",
      "numexpr (2.5.1)\n",
      "numpy (1.14.3)\n",
      "oauth2client (1.5.2)\n",
      "objectpath (0.5)\n",
      "odo (0.3.1)\n",
      "openpyxl (1.8.5)\n",
      "optcomplete (1.2-devel)\n",
      "options (1.4.8)\n",
      "Owlready2 (0.9)\n",
      "pandas (0.23.0)\n",
      "paramiko (2.0.2)\n",
      "passlib (1.7.1)\n",
      "path.py (0.0.0)\n",
      "patsy (0.3.0)\n",
      "pep8 (1.6.2)\n",
      "pexpect (4.2.0)\n",
      "pickleshare (0.5)\n",
      "Pillow (2.7.0)\n",
      "pip (9.0.1)\n",
      "pkginfo (1.4.1)\n",
      "plotly (1.9.6)\n",
      "ply (3.4)\n",
      "pronto (0.10.1)\n",
      "protobuf (3.5.0.post1)\n",
      "psutil (2.2.1)\n",
      "ptyprocess (0.5.1)\n",
      "py (1.4.26)\n",
      "py2neo (3.1.2)\n",
      "pyasn1 (0.1.9)\n",
      "pyasn1-modules (0.0.8)\n",
      "PyAudio (0.2.7)\n",
      "PyBEL (0.11.10)\n",
      "pycosat (0.6.1)\n",
      "pycparser (2.10)\n",
      "pycrypto (2.6.1)\n",
      "pycurl (7.19.5.1)\n",
      "pydot (1.2.2)\n",
      "pyes (0.99.6)\n",
      "pyflakes (0.8.1)\n",
      "Pygments (2.2.0)\n",
      "PyHGNC (0.2.4)\n",
      "pykqml (0.1)\n",
      "pylisp (0.4.2)\n",
      "pymongo (3.3.0)\n",
      "PyMySQL (0.9.2)\n",
      "pyOpenSSL (16.2.0)\n",
      "pyparsing (2.1.8)\n",
      "pysb (1.2.2)\n",
      "pysolr (3.7.0)\n",
      "pytest (2.6.4)\n",
      "python-dateutil (2.7.3)\n",
      "python-igraph (0.7.1.post6)\n",
      "python-louvain (0.4)\n",
      "pytz (2018.4)\n",
      "PyYAML (3.11)\n",
      "pyzmq (14.5.0)\n",
      "qtconsole (4.0.1)\n",
      "rdflib (4.2.1)\n",
      "readline (6.2.4.1)\n",
      "redis (2.10.3)\n",
      "requests (2.18.4)\n",
      "requests-cache (0.4.12)\n",
      "requests-file (1.4.3)\n",
      "requests-toolbelt (0.8.0)\n",
      "rope (0.9.4)\n",
      "rsa (3.2.3)\n",
      "runipy (0.1.3)\n",
      "s3transfer (0.1.9)\n",
      "say (1.6.4)\n",
      "scikit-image (0.11.2)\n",
      "scikit-learn (0.17.1)\n",
      "scipy (1.1.0)\n",
      "scp (0.10.2)\n",
      "seaborn (0.7.0)\n",
      "setuptools (38.5.1)\n",
      "show (1.6.0)\n",
      "simplegeneric (0.8.1)\n",
      "simplejson (3.8.1)\n",
      "simplere (1.2.13)\n",
      "six (1.11.0)\n",
      "sklearn (0.0)\n",
      "sockjs-tornado (1.0.1)\n",
      "SPARQLWrapper (1.8.0)\n",
      "Sphinx (1.2.3)\n",
      "sphinx-rtd-theme (0.4.1)\n",
      "spyder (2.3.4)\n",
      "SQLAlchemy (0.9.9)\n",
      "StarCluster (0.95.6)\n",
      "statsmodels (0.6.1)\n",
      "suds-jurko (0.6)\n",
      "sympy (0.7.6)\n",
      "tables (3.1.1)\n",
      "tabulate (0.7.7)\n",
      "terminado (0.5)\n",
      "textblob (0.12.0)\n",
      "textdata (1.7.2)\n",
      "textwrap3 (0.9.1)\n",
      "toolz (0.7.1)\n",
      "tornado (4.1)\n",
      "tqdm (4.14.0)\n",
      "traitlets (4.2.1)\n",
      "tulip-python (5.1.0)\n",
      "twine (1.9.1)\n",
      "ujson (1.33)\n",
      "unicodecsv (0.9.4)\n",
      "uritemplate (0.6)\n",
      "urllib3 (1.22)\n",
      "variantannotation (0.13)\n",
      "virtualenv (15.1.0)\n",
      "webencodings (0.5)\n",
      "Werkzeug (0.10.1)\n",
      "wheel (0.29.0)\n",
      "workerpool (0.9.4)\n",
      "wrapt (1.10.8)\n",
      "WTForms (2.2.1)\n",
      "xlrd (0.9.3)\n",
      "XlsxWriter (0.6.7)\n",
      "xlwings (0.3.4)\n",
      "xlwt (0.7.5)\n",
      "xmltodict (0.10.2)\n",
      "\u001b[33mYou are using pip version 9.0.1, however version 18.0 is available.\n",
      "You should consider upgrading via the 'pip install --upgrade pip' command.\u001b[0m\n"
     ]
    }
   ],
   "source": [
    "#import sys\n",
    "#print(sys.executable)\n",
    "#!pip list\n",
    "#!pip uninstall ndex2-performance -y\n",
    "#!pip install ndex2-performance --no-cache-dir\n",
    "\n"
   ]
  },
  {
   "cell_type": "code",
   "execution_count": 2,
   "metadata": {
    "collapsed": false
   },
   "outputs": [],
   "source": [
    "from ndex2.NiceCXNetwork import NiceCXNetwork\n",
    "import ndex2.client as nc\n",
    "import ndex2\n",
    "import networkx as nx\n",
    "import pandas as pd\n",
    "import os"
   ]
  },
  {
   "cell_type": "markdown",
   "metadata": {},
   "source": [
    "# Five Ways to Work with NiceCX networks:"
   ]
  },
  {
   "cell_type": "markdown",
   "metadata": {},
   "source": [
    "- Starting with an Empty Network\n",
    "- CX Files\n",
    "- NDEx Networks\n",
    "- NetworkX Networks\n",
    "- Pandas DataFrames"
   ]
  },
  {
   "cell_type": "markdown",
   "metadata": {},
   "source": [
    "## Starting with an Empty Network"
   ]
  },
  {
   "cell_type": "markdown",
   "metadata": {},
   "source": [
    "**Create an empty niceCx network**"
   ]
  },
  {
   "cell_type": "code",
   "execution_count": 3,
   "metadata": {
    "collapsed": true
   },
   "outputs": [],
   "source": [
    "niceCx_creatures = NiceCXNetwork()"
   ]
  },
  {
   "cell_type": "markdown",
   "metadata": {},
   "source": [
    "**Name the Network**"
   ]
  },
  {
   "cell_type": "markdown",
   "metadata": {},
   "source": [
    "The _niceCx_creatures_ will now be populated with data in which each node represents a species and has a color attribute. Each edge will specify a relationship between the two species. First, we will set the name of the network:  "
   ]
  },
  {
   "cell_type": "code",
   "execution_count": 4,
   "metadata": {
    "collapsed": true
   },
   "outputs": [],
   "source": [
    "niceCx_creatures.set_name(\"Food Web\")"
   ]
  },
  {
   "cell_type": "markdown",
   "metadata": {},
   "source": [
    "**Add Nodes and Edges**"
   ]
  },
  {
   "cell_type": "code",
   "execution_count": 5,
   "metadata": {
    "collapsed": false
   },
   "outputs": [
    {
     "name": "stdout",
     "output_type": "stream",
     "text": [
      "0\n"
     ]
    }
   ],
   "source": [
    "fox_node = niceCx_creatures.create_node(node_name='Fox')\n",
    "mouse_node = niceCx_creatures.create_node(node_name='Mouse')\n",
    "bird_node = niceCx_creatures.create_node(node_name='Bird')\n",
    "print(fox_node)\n",
    "fox_bird_edge = niceCx_creatures.create_edge(edge_source=fox_node, edge_target=bird_node, edge_interaction='interacts-with')\n",
    "\n",
    "fox_mouse_edge = niceCx_creatures.create_edge(edge_source=fox_node, edge_target=mouse_node, edge_interaction='interacts-with')\n"
   ]
  },
  {
   "cell_type": "markdown",
   "metadata": {},
   "source": [
    "The addNode and addEdge methods return the unique ID assigned to the new node or edge. In CX, IDs are always assigned in an ascending order, although they may not always be sequential In this case, the node with the name \"Fox\" will have an ID of 0, \"Mouse\" will have 1, and so on. The edge between \"Fox\" and \"Bird\" will have the ID of 0, the next will be 1, and so on. "
   ]
  },
  {
   "cell_type": "markdown",
   "metadata": {},
   "source": [
    "**Add Attributes**"
   ]
  },
  {
   "cell_type": "markdown",
   "metadata": {},
   "source": [
    "The addNodeAttribute and addEdgeAttribute require the ID in the \"property_of\" field and the property \"name\" and \"values\" in their respective fields."
   ]
  },
  {
   "cell_type": "code",
   "execution_count": 6,
   "metadata": {
    "collapsed": false
   },
   "outputs": [
    {
     "name": "stdout",
     "output_type": "stream",
     "text": [
      "nodes: 3 \n",
      " edges: 2\n"
     ]
    }
   ],
   "source": [
    "print(niceCx_creatures)\n",
    "niceCx_creatures.add_node_attribute(property_of=fox_node, name='Color', values='Red')\n",
    "\n",
    "niceCx_creatures.add_node_attribute(property_of=mouse_node, name='Color', values='Gray')\n",
    "\n",
    "niceCx_creatures.add_node_attribute(property_of=bird_node, name='Color', values='Blue')"
   ]
  },
  {
   "cell_type": "code",
   "execution_count": 7,
   "metadata": {
    "collapsed": true
   },
   "outputs": [],
   "source": [
    "niceCx_creatures.add_edge_attribute(property_of=fox_mouse_edge, name='Hunted', values='On the ground')"
   ]
  },
  {
   "cell_type": "markdown",
   "metadata": {},
   "source": [
    "We can now print a summary of niceCX_creatures. The returned value of the getSummary() method is structured in the same format as NetworkSummary objects returned by NDEx network search methods."
   ]
  },
  {
   "cell_type": "code",
   "execution_count": 8,
   "metadata": {
    "collapsed": false
   },
   "outputs": [
    {
     "name": "stdout",
     "output_type": "stream",
     "text": [
      "Name: Food Web\n",
      "Nodes: 3\n",
      "Edges: 2\n",
      "Node Attributes: 3\n",
      "Edge Attributes: 1\n",
      "\n"
     ]
    }
   ],
   "source": [
    "niceCx_creatures.print_summary()"
   ]
  },
  {
   "cell_type": "markdown",
   "metadata": {},
   "source": [
    "## CX Files"
   ]
  },
  {
   "cell_type": "code",
   "execution_count": 9,
   "metadata": {
    "collapsed": false
   },
   "outputs": [
    {
     "name": "stdout",
     "output_type": "stream",
     "text": [
      "Name: Untitled\n",
      "Nodes: 2\n",
      "Edges: 1\n",
      "Node Attributes: 0\n",
      "Edge Attributes: 0\n",
      "\n"
     ]
    }
   ],
   "source": [
    "niceCx_from_cx_file = ndex2.create_nice_cx_from_file('SimpleNetwork.cx')\n",
    "\n",
    "niceCx_from_cx_file.print_summary()"
   ]
  },
  {
   "cell_type": "markdown",
   "metadata": {},
   "source": [
    "## NDEx Networks"
   ]
  },
  {
   "cell_type": "code",
   "execution_count": 10,
   "metadata": {
    "collapsed": false
   },
   "outputs": [
    {
     "name": "stdout",
     "output_type": "stream",
     "text": [
      "Name: CoCaNet2\n",
      "Nodes: 36\n",
      "Edges: 37\n",
      "Node Attributes: 706\n",
      "Edge Attributes: 517\n",
      "\n"
     ]
    }
   ],
   "source": [
    "niceCx_from_server = ndex2.create_nice_cx_from_server(server='public.ndexbio.org', uuid='f1dd6cc3-0007-11e6-b550-06603eb7f303')\n",
    "\n",
    "niceCx_from_server.print_summary()"
   ]
  },
  {
   "cell_type": "markdown",
   "metadata": {},
   "source": [
    "## NetworkX Networks"
   ]
  },
  {
   "cell_type": "markdown",
   "metadata": {},
   "source": [
    "Networks can be manipulated using NetworkX facilities and then used to create a NiceCx network. Here we create a NetworkX network from scratch:"
   ]
  },
  {
   "cell_type": "code",
   "execution_count": 11,
   "metadata": {
    "collapsed": true,
    "scrolled": true
   },
   "outputs": [],
   "source": [
    "G = nx.Graph()\n",
    "G.add_node('ABC')\n",
    "G.add_node('DEF')\n",
    "G.add_node('GHI')\n",
    "G.add_node('JKL')\n",
    "G.add_node('MNO')\n",
    "G.add_node('PQR')\n",
    "G.add_node('XYZ')\n",
    "G.add_edges_from([('ABC','DEF'), ('DEF', 'GHI'),('GHI', 'JKL'), \n",
    "                  ('DEF', 'JKL'), ('JKL', 'MNO'), ('DEF', 'MNO'),\n",
    "                 ('MNO', 'XYZ'), ('DEF', 'PQR')])"
   ]
  },
  {
   "cell_type": "markdown",
   "metadata": {},
   "source": [
    "We now use NetworkX to find the shortest path between nodes ABC and MNO and then create a subgraph from that path."
   ]
  },
  {
   "cell_type": "code",
   "execution_count": 12,
   "metadata": {
    "collapsed": true
   },
   "outputs": [],
   "source": [
    "short_path = nx.shortest_path(G,source='ABC',target=\"MNO\")\n",
    "\n",
    "path_subgraph = G.subgraph(short_path)"
   ]
  },
  {
   "cell_type": "markdown",
   "metadata": {},
   "source": [
    "Finally, NiceCx objects are created from both *G* and *path_subgraph*."
   ]
  },
  {
   "cell_type": "code",
   "execution_count": 13,
   "metadata": {
    "collapsed": false
   },
   "outputs": [
    {
     "name": "stdout",
     "output_type": "stream",
     "text": [
      "Name: Untitled\n",
      "Nodes: 7\n",
      "Edges: 8\n",
      "Node Attributes: 0\n",
      "Edge Attributes: 0\n",
      "\n",
      "[('ABC', 'DEF'), ('DEF', 'GHI'), ('DEF', 'JKL'), ('DEF', 'MNO'), ('DEF', 'PQR'), ('GHI', 'JKL'), ('JKL', 'MNO'), ('MNO', 'XYZ')]\n",
      "\n",
      "Name: Untitled\n",
      "Nodes: 3\n",
      "Edges: 2\n",
      "Node Attributes: 0\n",
      "Edge Attributes: 0\n",
      "\n",
      "[('ABC', 'DEF'), ('DEF', 'MNO')]\n"
     ]
    }
   ],
   "source": [
    "G.name = 'Created from NetworkX (full)'\n",
    "niceCx_full = ndex2.create_nice_cx_from_networkx(G)\n",
    "\n",
    "G.name = 'Created from NetworkX (shortest path)'\n",
    "niceCx_short = ndex2.create_nice_cx_from_networkx(path_subgraph)\n",
    "                       \n",
    "niceCx_full.print_summary()\n",
    "print(G.edges())\n",
    "print('')\n",
    "\n",
    "niceCx_short.print_summary()\n",
    "print(path_subgraph.edges())"
   ]
  },
  {
   "cell_type": "markdown",
   "metadata": {},
   "source": [
    "## Pandas DataFrames"
   ]
  },
  {
   "cell_type": "markdown",
   "metadata": {},
   "source": [
    "### 2 Column DataFrame with No Headers:"
   ]
  },
  {
   "cell_type": "code",
   "execution_count": 14,
   "metadata": {
    "collapsed": false
   },
   "outputs": [
    {
     "name": "stdout",
     "output_type": "stream",
     "text": [
      "Name: Untitled\n",
      "Nodes: 3\n",
      "Edges: 2\n",
      "Node Attributes: 0\n",
      "Edge Attributes: 0\n",
      "\n",
      "  source     interaction target\n",
      "0    ABC  interacts-with    DEF\n",
      "1    DEF  interacts-with    XYZ\n"
     ]
    }
   ],
   "source": [
    "data = [('ABC', 'DEF'), ('DEF', 'XYZ')]\n",
    "\n",
    "df = pd.DataFrame.from_records(data)\n",
    "\n",
    "niceCx_df_2_column = ndex2.create_nice_cx_from_pandas(df)\n",
    "\n",
    "niceCx_df_2_column.print_summary()\n",
    "\n",
    "#===========================\n",
    "# CONVERT BACK TO DATAFRAME\n",
    "#===========================\n",
    "df_2_col_from_niceCx = niceCx_df_2_column.to_pandas_dataframe()\n",
    "print(df_2_col_from_niceCx)"
   ]
  },
  {
   "cell_type": "markdown",
   "metadata": {},
   "source": [
    "### 3 Column DataFrame with No Headers:"
   ]
  },
  {
   "cell_type": "code",
   "execution_count": 15,
   "metadata": {
    "collapsed": false
   },
   "outputs": [
    {
     "name": "stdout",
     "output_type": "stream",
     "text": [
      "Name: Untitled\n",
      "Nodes: 3\n",
      "Edges: 2\n",
      "Node Attributes: 0\n",
      "Edge Attributes: 0\n",
      "\n",
      "  source     interaction target\n",
      "0    ABC  interacts-with    DEF\n",
      "1    DEF     neighbor-of    XYZ\n"
     ]
    }
   ],
   "source": [
    "data = [('ABC', 'DEF', 'interacts-with'), ('DEF', 'XYZ', 'neighbor-of')]\n",
    "\n",
    "df = pd.DataFrame.from_records(data)\n",
    "\n",
    "niceCx_df_3_column = ndex2.create_nice_cx_from_pandas(df)\n",
    "\n",
    "niceCx_df_3_column.print_summary()\n",
    "\n",
    "#===========================\n",
    "# CONVERT BACK TO DATAFRAME\n",
    "#===========================\n",
    "df_3_col_from_niceCx = niceCx_df_3_column.to_pandas_dataframe()\n",
    "print(df_3_col_from_niceCx)"
   ]
  },
  {
   "cell_type": "markdown",
   "metadata": {},
   "source": [
    "### 3+ Column DataFrame with Headers to Specify Attribute Columns"
   ]
  },
  {
   "cell_type": "code",
   "execution_count": 16,
   "metadata": {
    "collapsed": false
   },
   "outputs": [
    {
     "name": "stdout",
     "output_type": "stream",
     "text": [
      "0\n",
      "Name: Untitled\n",
      "Nodes: 3\n",
      "Edges: 2\n",
      "Node Attributes: 0\n",
      "Edge Attributes: 2\n",
      "\n",
      "  source     interaction target\n",
      "0    ABC  interacts-with    DEF\n",
      "1    DEF     neighbor-of    XYZ\n"
     ]
    }
   ],
   "source": [
    "df = pd.DataFrame.from_items([('Source', ['ABC', 'DEF']),\n",
    "                              ('Target', ['DEF', 'XYZ']),\n",
    "                              ('Interaction', ['interacts-with', 'neighbor-of']),\n",
    "                              ('EdgeProp', ['Edge property 1', 'Edge property 2'])])\n",
    "\n",
    "niceCx_df_with_headers = ndex2.create_nice_cx_from_pandas(df, source_field='Source', target_field='Target', \n",
    "                          edge_attr=['EdgeProp'], edge_interaction='Interaction')\n",
    "\n",
    "niceCx_df_with_headers.print_summary()\n",
    "\n",
    "#===========================\n",
    "# CONVERT BACK TO DATAFRAME\n",
    "#===========================\n",
    "df_headers_from_niceCx = niceCx_df_with_headers.to_pandas_dataframe()\n",
    "print(df_headers_from_niceCx)"
   ]
  },
  {
   "cell_type": "markdown",
   "metadata": {
    "collapsed": true
   },
   "source": [
    "### Exporting a Larger and More Complex Network"
   ]
  },
  {
   "cell_type": "markdown",
   "metadata": {
    "collapsed": true
   },
   "source": [
    "More complex networks can be output to a Pandas DataFrame as well. In the following example we convert the example network we loaded from the server."
   ]
  },
  {
   "cell_type": "code",
   "execution_count": 17,
   "metadata": {
    "collapsed": false
   },
   "outputs": [
    {
     "name": "stdout",
     "output_type": "stream",
     "text": [
      "       source interaction  target\n",
      "0   druggable          pp      TS\n",
      "1        DHFR          pp   MAPK1\n",
      "2       CHEK1          pp     BLM\n",
      "3      IMPDH1          pp   MTIF2\n",
      "4      IMPDH1          pp    ING5\n",
      "5      IMPDH1          pp    ING4\n",
      "6       MAPK1          pp     NF1\n",
      "7       HDAC2          pp    WEE1\n",
      "8       HDAC1          pp    WEE1\n",
      "9     CSNK1G1          pp  SH3GL1\n",
      "10    CSNK1G1          pp    FZR1\n",
      "11     MAP2K1          pp   MAPK1\n",
      "12     MAP2K1          pp   RAD52\n",
      "13      HDAC6          pp   XRCC3\n",
      "14      HDAC6          pp   TCEA1\n",
      "15     TUBA1A          pp    ING5\n",
      "16     TUBA1A          pp    ING4\n",
      "17     TUBA1A          pp    BRD4\n",
      "18        ADA          pp    BRD4\n",
      "19      TOP3A          pp  MAP3K4\n",
      "20      TOP3A          pp    FZR1\n",
      "21    RABGGTB          pp  PPP2CB\n",
      "22    RABGGTB          pp   XRCC3\n",
      "23    RABGGTB          pp  RAD23B\n",
      "24    RABGGTB          pp    BRD4\n",
      "25    RABGGTB          pp     BLM\n",
      "26       TOP1          pp  SH3GL1\n",
      "27       TOP1          pp   LLGL1\n",
      "28       TOP1          pp   RAD17\n",
      "29       WEE1          pp    ING4\n",
      "30       WEE1          pp    FZR1\n",
      "31      CHEK2          pp   RPS10\n",
      "32      CHEK2          pp    FZR1\n",
      "33      CHEK2          pp    WEE1\n",
      "34      CHEK2          pp     WRN\n",
      "35      CHEK2          pp     BLM\n",
      "36      CHEK2          pp   RAD17\n"
     ]
    }
   ],
   "source": [
    "#======================\n",
    "# CONVERT TO DATAFRAME\n",
    "#======================\n",
    "niceCx_from_server_df = niceCx_from_server.to_pandas_dataframe()\n",
    "print(niceCx_from_server_df)"
   ]
  },
  {
   "cell_type": "markdown",
   "metadata": {},
   "source": [
    "Likewise, networks can be output as a networkx graph."
   ]
  },
  {
   "cell_type": "code",
   "execution_count": 18,
   "metadata": {
    "collapsed": false
   },
   "outputs": [
    {
     "name": "stdout",
     "output_type": "stream",
     "text": [
      "networkx version 1.11\n",
      "CoCaNet2\n"
     ]
    }
   ],
   "source": [
    "#=====================\n",
    "# CONVERT TO NETWORKX\n",
    "#=====================\n",
    "niceCx_from_server_to_netx = niceCx_from_server.to_networkx()\n",
    "\n",
    "print(niceCx_from_server_to_netx)"
   ]
  },
  {
   "cell_type": "markdown",
   "metadata": {},
   "source": [
    "**To continue with the tutorial, you must edit the following cell to replace the values of the ‘my_account’ and ‘my_password’ variables with a real NDEx account name and password.**"
   ]
  },
  {
   "cell_type": "code",
   "execution_count": 22,
   "metadata": {
    "collapsed": false
   },
   "outputs": [
    {
     "name": "stdout",
     "output_type": "stream",
     "text": [
      "Please change the username and password before proceeding\n"
     ]
    }
   ],
   "source": [
    "my_account=\"enter your username here\"\n",
    "my_password=\"enter your password here\"\n",
    "my_server=\"http://public.ndexbio.org\"\n",
    "\n",
    "if my_account == 'enter your username here':\n",
    "    print('Please change the username and password before proceeding')\n",
    "else:\n",
    "    try:\n",
    "        my_ndex=nc.Ndex2(my_server, my_account, my_password)\n",
    "        my_ndex.update_status()\n",
    "        print(\"Success.  Please continue.\")\n",
    "    except Exception as inst:\n",
    "        print(\"Could not access account %s with password %s\" % (my_account, my_password))\n",
    "        print(inst.args)"
   ]
  },
  {
   "cell_type": "markdown",
   "metadata": {},
   "source": [
    "NiceCx networks can be saved to the NDEx server by calling **upload_to()**"
   ]
  },
  {
   "cell_type": "code",
   "execution_count": 20,
   "metadata": {
    "collapsed": false
   },
   "outputs": [
    {
     "name": "stdout",
     "output_type": "stream",
     "text": [
      "Generating CX\n",
      "http://public.ndexbio.org/v2/network/7b48c493-c597-11e8-aaa6-0ac135e8bacf\n"
     ]
    }
   ],
   "source": [
    "upload_message = niceCx_df_with_headers.upload_to(my_server, my_account, my_password)\n",
    "print(upload_message)"
   ]
  },
  {
   "cell_type": "code",
   "execution_count": null,
   "metadata": {
    "collapsed": true
   },
   "outputs": [],
   "source": []
  }
 ],
 "metadata": {
  "anaconda-cloud": {},
  "kernelspec": {
   "display_name": "vpy36",
   "language": "python",
   "name": "vpy36"
  },
  "language_info": {
   "codemirror_mode": {
    "name": "ipython",
    "version": 3
   },
   "file_extension": ".py",
   "mimetype": "text/x-python",
   "name": "python",
   "nbconvert_exporter": "python",
   "pygments_lexer": "ipython3",
   "version": "3.6.4"
  }
 },
 "nbformat": 4,
 "nbformat_minor": 1
}
