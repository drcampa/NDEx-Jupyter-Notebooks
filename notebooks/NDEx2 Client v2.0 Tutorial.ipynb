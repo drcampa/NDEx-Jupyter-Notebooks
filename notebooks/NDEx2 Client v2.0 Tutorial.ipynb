{
 "cells": [
  {
   "cell_type": "markdown",
   "metadata": {},
   "source": [
    "# NDEx2 Client v2.0 Tutorial"
   ]
  },
  {
   "cell_type": "markdown",
   "metadata": {},
   "source": [
    "In this tutorial you will learn to use the NDEx Client v2.0. The NDEx client is a module that simplifies access to the NDEx Server API and provides convenience methods for common operations on networks. \n",
    "\n",
    "This tutorial requires Python 3.6+ and the ndex2 module. \n",
    "\n",
    "See [the NDEx2 Client](https://github.com/ndexbio/ndex2-client) for installation instructions."
   ]
  },
  {
   "cell_type": "markdown",
   "metadata": {},
   "source": [
    "## Modules Required for this Tutorial"
   ]
  },
  {
   "cell_type": "code",
   "execution_count": 1,
   "metadata": {},
   "outputs": [],
   "source": [
    "import ndex2.client as nc\n",
    "import io\n",
    "import json\n",
    "from IPython.display import HTML\n",
    "from time import sleep"
   ]
  },
  {
   "cell_type": "markdown",
   "metadata": {},
   "source": [
    "## Setting up NDEx Clients"
   ]
  },
  {
   "cell_type": "markdown",
   "metadata": {},
   "source": [
    "In this section you will configure two client objects to access the public NDEx server. \n",
    "\n",
    "The first will enable you to make anonymous requests. \n",
    "\n",
    "The second will enable you to perform operations requiring authentication, such as saving networks to your account."
   ]
  },
  {
   "cell_type": "markdown",
   "metadata": {},
   "source": [
    "### Anonymous Clients"
   ]
  },
  {
   "cell_type": "markdown",
   "metadata": {},
   "source": [
    "The following code creates an NDEx client object to access the NDEx public server anonymously, then tests the client by getting the current server status."
   ]
  },
  {
   "cell_type": "code",
   "execution_count": 2,
   "metadata": {},
   "outputs": [
    {
     "name": "stdout",
     "output_type": "stream",
     "text": [
      "anon client: 24182 networks, 1131 users, 90 groups\n"
     ]
    }
   ],
   "source": [
    "anon_ndex=nc.Ndex2(\"http://public.ndexbio.org\")\n",
    "anon_ndex.update_status()\n",
    "networks = anon_ndex.status.get(\"networkCount\")\n",
    "users = anon_ndex.status.get(\"userCount\")\n",
    "groups = anon_ndex.status.get(\"groupCount\")\n",
    "print(\"anon client: %s networks, %s users, %s groups\" % (networks, users, groups))"
   ]
  },
  {
   "cell_type": "markdown",
   "metadata": {},
   "source": [
    "### Personal Clients"
   ]
  },
  {
   "cell_type": "markdown",
   "metadata": {},
   "source": [
    "A personal client enables you to perform operations requiring authentication, such as saving networks to your account.\n",
    "\n",
    "You must first create an account on the NDEx Public Server to create a personal client object."
   ]
  },
  {
   "cell_type": "markdown",
   "metadata": {},
   "source": [
    "The following code creates an NDEx client object to access your account on the NDEx Public Server, then tests the client by getting the current server status.\n",
    "\n",
    "**To continue with the tutorial, you must edit the following cell to replace the values of the ‘my_account’ and ‘my_password’ variables with a real NDEx account name and password.**"
   ]
  },
  {
   "cell_type": "code",
   "execution_count": 3,
   "metadata": {},
   "outputs": [
    {
     "name": "stdout",
     "output_type": "stream",
     "text": [
      "my_ndex client: 24182 networks, 1131 users, 90 groups\n"
     ]
    }
   ],
   "source": [
    "my_account=\"enter your username here\"\n",
    "my_password=\"enter your password here\"\n",
    "\n",
    "if my_account == 'enter your username here':\n",
    "    print('Please change the username and password before proceeding')\n",
    "else:\n",
    "    try:\n",
    "        my_ndex=nc.Ndex2(\"http://public.ndexbio.org\", my_account, my_password)\n",
    "        my_ndex.update_status()\n",
    "        networks = my_ndex.status.get(\"networkCount\")\n",
    "        users = my_ndex.status.get(\"userCount\")\n",
    "        groups = my_ndex.status.get(\"groupCount\")\n",
    "        print(\"my_ndex client: %s networks, %s users, %s groups\" % (networks, users, groups))\n",
    "    except Exception as inst:\n",
    "        print(\"Could not access account %s with password %s\" % (my_account, my_password))\n",
    "        print(inst.args)"
   ]
  },
  {
   "cell_type": "markdown",
   "metadata": {},
   "source": [
    "## Working with the NDEx Network Using the Anonymous Client"
   ]
  },
  {
   "cell_type": "markdown",
   "metadata": {},
   "source": [
    "### Get Network Information by Accession"
   ]
  },
  {
   "cell_type": "markdown",
   "metadata": {},
   "source": [
    "You can access a network by its accession id, which is a universally unique identifier (UUID) assigned to the network by the NDEx server. All networks have a UUID and they are unique across all servers. No two networks will share an UUID.\n",
    "\n",
    "In this step, you will get basic information about the network and retrieve a Network Summary structure. The ‘Metabolism of RNA’ network is in the NDEx Tutorials account on the public NDEx server; its UUID is ‘c9243cce-2d32-11e8-b939-0ac135e8bacf’\n"
   ]
  },
  {
   "cell_type": "markdown",
   "metadata": {},
   "source": [
    "\n",
    "anon_ndex will access the network using the **get_network_summary(network_id)** which returns a NetworkSummary as  \n",
    "a dictionary:"
   ]
  },
  {
   "cell_type": "code",
   "execution_count": 4,
   "metadata": {},
   "outputs": [
    {
     "data": {
      "text/html": [
       "<table><tr><td>ownerUUID</td><td>5e63f1cb-9aaf-11e4-8424-000c29202374</td></tr><tr><td>isReadOnly</td><td>False</td></tr><tr><td>subnetworkIds</td><td>[]</td></tr><tr><td>isValid</td><td>True</td></tr><tr><td>warnings</td><td></td></tr><tr><td>isShowcase</td><td>True</td></tr><tr><td>isCertified</td><td>False</td></tr><tr><td>indexLevel</td><td>ALL</td></tr><tr><td>hasLayout</td><td>False</td></tr><tr><td>hasSample</td><td>True</td></tr><tr><td>visibility</td><td>PUBLIC</td></tr><tr><td>completed</td><td>True</td></tr><tr><td>edgeCount</td><td>17458</td></tr><tr><td>nodeCount</td><td>276</td></tr><tr><td>version</td><td>OFFICIAL</td></tr><tr><td>owner</td><td>ndextutorials</td></tr><tr><td>description</td><td><div><span style=\"font-size: 13.86px;float: none;\">*** This network is used for tutorial purpose only and will not be updated. ***</span><br/></div></td></tr><tr><td>name</td><td>Metabolism of RNA</td></tr><tr><td>properties</td><td><table><tr><td>ndex:sourceFormat</td><td>SIF</td></tr></table></td></tr><tr><td>externalId</td><td>c9243cce-2d32-11e8-b939-0ac135e8bacf</td></tr><tr><td>isDeleted</td><td>False</td></tr><tr><td>modificationTime</td><td>1521655783141</td></tr><tr><td>creationTime</td><td>1521655678108</td></tr></table>"
      ],
      "text/plain": [
       "<IPython.core.display.HTML object>"
      ]
     },
     "execution_count": 4,
     "metadata": {},
     "output_type": "execute_result"
    }
   ],
   "source": [
    "ns=anon_ndex.get_network_summary('c9243cce-2d32-11e8-b939-0ac135e8bacf')\n",
    "def summary2table(object):\n",
    "    table = \"<table>\"\n",
    "    for key, value in object.items():\n",
    "        if key == \"warnings\":\n",
    "            warning_list = \"\"\n",
    "            for warning in value:\n",
    "                warning_list += \"%s<br>\" % warning\n",
    "            value = warning_list\n",
    "        if key == \"properties\":\n",
    "            property_table = \"<table>\"\n",
    "            for property in value:\n",
    "                property_table += \"<tr>\" \n",
    "                property_table += \"<td>%s</td><td>%s</td>\" % (property.get(\"predicateString\"), property.get(\"value\"))\n",
    "                property_table += \"</tr>\"\n",
    "            property_table += \"</table>\"\n",
    "            value = property_table\n",
    "                \n",
    "        table += \"<tr>\" \n",
    "        table += \"<td>%s</td><td>%s</td>\" % (key, value)\n",
    "        table += \"</tr>\"\n",
    "    table += \"</table>\"\n",
    "    return table\n",
    "\n",
    "HTML(summary2table(ns))"
   ]
  },
  {
   "cell_type": "markdown",
   "metadata": {},
   "source": [
    "### Find Networks by Search – Simple Search"
   ]
  },
  {
   "cell_type": "markdown",
   "metadata": {},
   "source": [
    "\n",
    "You can search for networks by the text in their name and description as well as the names and controlled vocabulary terms associated with their nodes. The input is a search string that conforms to Lucene search string syntax, but in its simplest form is one or more search terms separated by spaces.\n",
    "\n",
    "anon_ndex will perform the network search using the **search_networks(search_string=\"\", account_name=None, start=0, size=100, include_groups=False)** method that returns a list of NetworkSummary dictionaries:\n"
   ]
  },
  {
   "cell_type": "code",
   "execution_count": 5,
   "metadata": {},
   "outputs": [
    {
     "name": "stdout",
     "output_type": "stream",
     "text": [
      "3 networks found.\n"
     ]
    }
   ],
   "source": [
    "metabolic_networks=anon_ndex.search_networks('metabo*')\n",
    "print(\"%s networks found.\" % (len(metabolic_networks)))"
   ]
  },
  {
   "cell_type": "markdown",
   "metadata": {},
   "source": [
    "The search can also be limited to a specific account and to a number of search results:\n"
   ]
  },
  {
   "cell_type": "code",
   "execution_count": 6,
   "metadata": {},
   "outputs": [
    {
     "name": "stdout",
     "output_type": "stream",
     "text": [
      "2 networks found\n",
      "\n",
      "Networks:\n",
      "\n",
      "  Metabolism of proteins\n",
      "  Metabolism\n"
     ]
    }
   ],
   "source": [
    "metabolic_networks=anon_ndex.search_networks(search_string='metabo* owner:ndextutorials', size=2)\n",
    "print(\"%s networks found\" % (len(metabolic_networks.get('networks'))))\n",
    "print(\"\\nNetworks:\\n\")\n",
    "for ns in metabolic_networks.get('networks'): print(\"  %s\" % ns.get('name'))"
   ]
  },
  {
   "cell_type": "markdown",
   "metadata": {},
   "source": [
    "### Accessing Networks as CX Streams"
   ]
  },
  {
   "cell_type": "markdown",
   "metadata": {},
   "source": [
    "Networks are retrieved from and loaded to an NDEx Server in the CX format. The CX format is intended for data exchange, but not for most application use. In this section, we show two examples of working with raw CX from the server. \n",
    "\n",
    "Most developers should use the **NiceCX** object class for retrieving and loading networks. NiceCX is a simple network object intended for application development. Its use is described in the next tutorial [NiceCX v1.0 Tutorial](https://github.com/ndexbio/ndex-jupyter-notebooks/blob/master/notebooks/NiceCX%20v1.0%20Tutorial.ipynb)\n",
    "\n",
    "CX is intended for streaming access and a stream can be obtained by **get_network_as_cx_stream**. This method returns a Response object from the [Python requests library](http://docs.python-requests.org/en/master/).\n",
    "\n",
    "In the example below, the raw CX structure is obtained from the Response. We define a custom function to traverse the CX and find the metadata giving the counts of nodes and edges. (Again, NiceCX should be used for most purposes, avoiding awkward functions like this)\n"
   ]
  },
  {
   "cell_type": "code",
   "execution_count": 7,
   "metadata": {},
   "outputs": [
    {
     "name": "stdout",
     "output_type": "stream",
     "text": [
      "Received 5535271 characters of CX\n",
      "network contains 276 nodes and 17458 edges.\n"
     ]
    }
   ],
   "source": [
    "import json\n",
    "response=anon_ndex.get_network_as_cx_stream('c9243cce-2d32-11e8-b939-0ac135e8bacf')\n",
    "print(\"Received %s characters of CX\" % len(response.content))\n",
    "raw_cx = response.json()\n",
    "#print(json.dumps(raw_cx))\n",
    "def getNumberOfNodesAndEdgesFromCX(cx):\n",
    "    numberOfEdges = numberOfNodes = 0;\n",
    "    for aspect in cx:\n",
    "        #print('key')\n",
    "        if 'nodes' in aspect:\n",
    "            numberOfNodes = len(aspect['nodes'])\n",
    "        if 'metaData' in aspect:\n",
    "            metaData = aspect['metaData']\n",
    "            for element in metaData:\n",
    "                if (('name' in element) and (element['name'] == 'nodes')):\n",
    "                    numberOfNodes = element.get('elementCount')\n",
    "                if (('name' in element) and (element['name'] == 'edges')):\n",
    "                    numberOfEdges = element.get('elementCount')\n",
    "            break\n",
    "    return numberOfNodes, numberOfEdges\n",
    "\n",
    "nodes, edges = getNumberOfNodesAndEdgesFromCX(raw_cx)\n",
    "print(\"network contains %s nodes and %s edges.\" % (nodes, edges))"
   ]
  },
  {
   "cell_type": "markdown",
   "metadata": {},
   "source": [
    "Also note that while in this example we demonstrated that the network had been downloaded by counting nodes and edges, applications can use the **get_network_summary** method to check the node and edge counts for a network *before* downloading.\n"
   ]
  },
  {
   "cell_type": "markdown",
   "metadata": {},
   "source": [
    "### Query a Network – Neighborhood Query\n"
   ]
  },
  {
   "cell_type": "markdown",
   "metadata": {
    "collapsed": true
   },
   "source": [
    "You can retrieve a ‘neighborhood’ subnetwork of a network as a CX stream. The query finds the subnetwork by first \n",
    "identifying nodes that are associated with identifiers in the search_string, then traversing a specified number of \n",
    "edges starting from those nodes.  The **search_depth** parameter controls the search, defaults to 1 edge and can be no more than 3 edges. "
   ]
  },
  {
   "cell_type": "markdown",
   "metadata": {},
   "source": [
    "The query to anon_ndex will use the **get_neighborhood(network_id, search_string, search_depth=1, edge_limit=2500)** method to get a CX object. \n"
   ]
  },
  {
   "cell_type": "code",
   "execution_count": 8,
   "metadata": {},
   "outputs": [],
   "source": [
    "#!pip uninstall ndex2 -y\n",
    "#!pip install ndex2 --no-cache-dir"
   ]
  },
  {
   "cell_type": "code",
   "execution_count": 9,
   "metadata": {},
   "outputs": [
    {
     "name": "stdout",
     "output_type": "stream",
     "text": [
      "Query result network contains 26 nodes and 48 edges.\n"
     ]
    }
   ],
   "source": [
    "query_result_cx=anon_ndex.get_neighborhood('c9243cce-2d32-11e8-b939-0ac135e8bacf', 'XRN1')\n",
    "\n",
    "for aspect in query_result_cx:\n",
    "    if 'nodes' in aspect:\n",
    "        number_of_nodes = len(aspect['nodes'])\n",
    "    if 'edges' in aspect:\n",
    "        number_of_edges = len(aspect['edges'])\n",
    "\n",
    "print(\"Query result network contains %s nodes and %s edges.\" % (number_of_nodes, number_of_edges))\n"
   ]
  },
  {
   "cell_type": "markdown",
   "metadata": {},
   "source": [
    "## Working with the NDEx Network Using Your Personal Client"
   ]
  },
  {
   "cell_type": "markdown",
   "metadata": {},
   "source": [
    "### Create a Network"
   ]
  },
  {
   "cell_type": "markdown",
   "metadata": {
    "collapsed": true
   },
   "source": [
    "You can create a new network on an NDEx server if you have a CX stream. The network is created in the user account associated with the client object. All methods that create or modify content on the NDEx server require authentication, so you will use the my_ndex client object that you set up at the start of the tutorial and will create a network in your account."
   ]
  },
  {
   "cell_type": "markdown",
   "metadata": {},
   "source": [
    "In the previous section, your neighborhood query retrieved a small network which was bound to the variable **query_result_cx**.\n",
    "\n",
    "We will now save this network to your account using **save_new_network(network)** and receive the URI for the new network. The URI includes the network UUID."
   ]
  },
  {
   "cell_type": "code",
   "execution_count": 10,
   "metadata": {},
   "outputs": [
    {
     "name": "stdout",
     "output_type": "stream",
     "text": [
      "URI of the newly created network d666e6c6-b6d4-11e8-9520-0ac135e8bacf is http://public.ndexbio.org/v2/network/d666e6c6-b6d4-11e8-9520-0ac135e8bacf\n",
      "New network has been validated by the server.\n"
     ]
    }
   ],
   "source": [
    "uri = my_ndex.save_new_network(query_result_cx)\n",
    "uuid = uri.rpartition('/')[-1]\n",
    "print(\"URI of the newly created network %s is %s\" % (uuid, uri))\n",
    "for i in range(0, 4):\n",
    "    sleep(1)\n",
    "    new_summary = my_ndex.get_network_summary(uuid)\n",
    "    if new_summary.get(\"isValid\"):\n",
    "        print(\"New network has been validated by the server.\")\n",
    "        break"
   ]
  },
  {
   "cell_type": "markdown",
   "metadata": {},
   "source": [
    "### Update Network Profile"
   ]
  },
  {
   "cell_type": "markdown",
   "metadata": {},
   "source": [
    "With the network UUID, you can update the name, description and version of the new network using the method **update_network_profile(network_id, network_profile)**"
   ]
  },
  {
   "cell_type": "code",
   "execution_count": 11,
   "metadata": {},
   "outputs": [
    {
     "name": "stdout",
     "output_type": "stream",
     "text": [
      "new name = Renamed Network\n",
      "new description = New Description\n",
      "new version = 2.0\n"
     ]
    }
   ],
   "source": [
    "#we use ID of the network we created at previous step\n",
    "network_profile={\"name\":\"Renamed Network\", \"description\":\"New Description\", \"version\":\"2.0\"}\n",
    "my_ndex.update_network_profile(uuid, network_profile)    \n",
    "new_summary = my_ndex.get_network_summary(uuid)\n",
    "print(\"new name = %s\" % new_summary.get('name'))\n",
    "print(\"new description = %s\" % new_summary.get('description'))\n",
    "print(\"new version = %s\" % new_summary.get('version'))"
   ]
  },
  {
   "cell_type": "markdown",
   "metadata": {},
   "source": [
    "### Set Read-Only"
   ]
  },
  {
   "cell_type": "markdown",
   "metadata": {},
   "source": [
    "The new network can be set to **read-only** using the **set_read_only(network_id, boolean)** method, preventing unintended modification. "
   ]
  },
  {
   "cell_type": "code",
   "execution_count": 12,
   "metadata": {},
   "outputs": [
    {
     "name": "stdout",
     "output_type": "stream",
     "text": [
      "The read only status is True\n"
     ]
    }
   ],
   "source": [
    "#make network read-only\n",
    "my_ndex.set_read_only(uuid, True)\n",
    "new_summary = my_ndex.get_network_summary(uuid)\n",
    "print(\"The read only status is %s\" % new_summary.get('isReadOnly'))"
   ]
  },
  {
   "cell_type": "markdown",
   "metadata": {},
   "source": [
    "The network is then reverted to read-write, enabling modification."
   ]
  },
  {
   "cell_type": "code",
   "execution_count": 13,
   "metadata": {},
   "outputs": [
    {
     "name": "stdout",
     "output_type": "stream",
     "text": [
      "The read only status has been reverted to False\n"
     ]
    }
   ],
   "source": [
    "#revert network to original state (make it read-write again)\n",
    "my_ndex.set_read_only(uuid, False)\n",
    "new_summary = my_ndex.get_network_summary(uuid)\n",
    "print(\"The read only status has been reverted to %s\" % new_summary.get('isReadOnly'))"
   ]
  },
  {
   "cell_type": "markdown",
   "metadata": {},
   "source": [
    "### Delete a Network"
   ]
  },
  {
   "cell_type": "markdown",
   "metadata": {},
   "source": [
    "Finally, the query result network is deleted using **delete_network(networkId)**.\n",
    "\n",
    "Note that you can only delete networks that you own.\n",
    "\n",
    "Be careful: there is no method to undo a deletion."
   ]
  },
  {
   "cell_type": "code",
   "execution_count": 14,
   "metadata": {},
   "outputs": [
    {
     "name": "stdout",
     "output_type": "stream",
     "text": [
      "Tutorial Complete\n"
     ]
    }
   ],
   "source": [
    "my_ndex.delete_network(uuid)\n",
    "print(\"Tutorial Complete\")"
   ]
  },
  {
   "cell_type": "code",
   "execution_count": null,
   "metadata": {
    "collapsed": true
   },
   "outputs": [],
   "source": []
  }
 ],
 "metadata": {
  "anaconda-cloud": {},
  "kernelspec": {
   "display_name": "Python 3",
   "language": "python",
   "name": "python3"
  },
  "language_info": {
   "codemirror_mode": {
    "name": "ipython",
    "version": 3
   },
   "file_extension": ".py",
   "mimetype": "text/x-python",
   "name": "python",
   "nbconvert_exporter": "python",
   "pygments_lexer": "ipython3",
   "version": "3.7.4"
  }
 },
 "nbformat": 4,
 "nbformat_minor": 1
}
